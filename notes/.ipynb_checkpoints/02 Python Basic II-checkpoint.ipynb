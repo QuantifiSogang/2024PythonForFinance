{
 "cells": [
  {
   "cell_type": "markdown",
   "id": "41d38984",
   "metadata": {},
   "source": [
    "## Python Basic II\n",
    "\n",
    "### String Method II\n",
    "\n",
    "- 출력되는 결과값이 Boolean 형태이다. 조건문에서 filtering을 할 때 유용하게 쓰인다.\n",
    "\n",
    "|method|description|\n",
    "|:---:|:---|\n",
    "|islower()|문자열 내의 모든 문자들이 소문자이면, True를 반환|\n",
    "|isupper()|문자열 내의 모든 문자들이 대문자이면, True를 반환|\n",
    "|isalpha()|문자열이 알파벳(영문, 한글등)으로만 구성되어 있으면 True를 반환|\n",
    "|isnumeric()|문자열이 숫자로만 구성되어 있으면 True 반환|\n",
    "|isdigit()|문자열이 숫자로만 구성되어 있으면 True 반환|\n",
    "|isalnum()|문자열이 알파벳과 숫자로만 구성되어 있으면 True 반환|\n",
    "|isascii()|문자열이 아스키코드로 표현 가능한 문자로만 구성되어 있으면 True 반환|\n",
    "|startswith()|문자열이 인자로 들어간 문자로 시작하면 True 반환|\n",
    "|endswith()|문자열이 인자로 들어간 문자로 끝나면 True 반환|"
   ]
  },
  {
   "cell_type": "code",
   "execution_count": 11,
   "id": "5d9f32a9",
   "metadata": {
    "ExecuteTime": {
     "end_time": "2024-02-06T08:57:20.787836Z",
     "start_time": "2024-02-06T08:57:20.773613Z"
    }
   },
   "outputs": [],
   "source": [
    "sample1 = 'sogang'\n",
    "sample2 = 'SOGANG'\n",
    "sample3 = 's0gang'\n",
    "sample4 = '서강university.'\n",
    "sample5 = '12345'"
   ]
  },
  {
   "cell_type": "code",
   "execution_count": 2,
   "id": "f7b23b23",
   "metadata": {
    "ExecuteTime": {
     "end_time": "2024-02-06T08:49:39.236457Z",
     "start_time": "2024-02-06T08:49:39.186532Z"
    }
   },
   "outputs": [
    {
     "data": {
      "text/plain": "True"
     },
     "execution_count": 2,
     "metadata": {},
     "output_type": "execute_result"
    }
   ],
   "source": [
    "sample1.islower() # 모든 문자가 소문자이므로 True 반환"
   ]
  },
  {
   "cell_type": "code",
   "execution_count": 3,
   "id": "d2c734a9",
   "metadata": {
    "ExecuteTime": {
     "end_time": "2024-02-06T08:49:40.565692Z",
     "start_time": "2024-02-06T08:49:40.540577Z"
    }
   },
   "outputs": [
    {
     "data": {
      "text/plain": "True"
     },
     "execution_count": 3,
     "metadata": {},
     "output_type": "execute_result"
    }
   ],
   "source": [
    "sample2.isupper() # 모든 문자가 대문자이므로 True 반환"
   ]
  },
  {
   "cell_type": "code",
   "execution_count": 4,
   "id": "50515172",
   "metadata": {
    "ExecuteTime": {
     "end_time": "2024-02-06T08:49:41.216509Z",
     "start_time": "2024-02-06T08:49:41.197416Z"
    }
   },
   "outputs": [
    {
     "data": {
      "text/plain": "True"
     },
     "execution_count": 4,
     "metadata": {},
     "output_type": "execute_result"
    }
   ],
   "source": [
    "sample3.isalnum() # 알파벳과 숫자로만 구성되어 있으므로 True 반환"
   ]
  },
  {
   "cell_type": "code",
   "execution_count": 12,
   "id": "a4e238ca",
   "metadata": {
    "ExecuteTime": {
     "end_time": "2024-02-06T08:57:22.147740Z",
     "start_time": "2024-02-06T08:57:22.134994Z"
    }
   },
   "outputs": [
    {
     "data": {
      "text/plain": "False"
     },
     "execution_count": 12,
     "metadata": {},
     "output_type": "execute_result"
    }
   ],
   "source": [
    "sample4.isalnum() # 알파벳과 숫자로만 구성되어 있지 않으므로 False 반환"
   ]
  },
  {
   "cell_type": "code",
   "execution_count": 6,
   "id": "2f69e492",
   "metadata": {
    "ExecuteTime": {
     "end_time": "2024-02-06T08:49:42.169799Z",
     "start_time": "2024-02-06T08:49:42.156852Z"
    }
   },
   "outputs": [
    {
     "data": {
      "text/plain": "False"
     },
     "execution_count": 6,
     "metadata": {},
     "output_type": "execute_result"
    }
   ],
   "source": [
    "sample4.isascii() # 한글이 포함되어 있으므로 False 반환"
   ]
  },
  {
   "cell_type": "code",
   "execution_count": 7,
   "id": "77d07f7e",
   "metadata": {
    "ExecuteTime": {
     "end_time": "2024-02-06T08:49:42.493695Z",
     "start_time": "2024-02-06T08:49:42.481724Z"
    }
   },
   "outputs": [
    {
     "data": {
      "text/plain": "True"
     },
     "execution_count": 7,
     "metadata": {},
     "output_type": "execute_result"
    }
   ],
   "source": [
    "sample5.isnumeric() # 모든 문자가 숫자이므로 True 반환"
   ]
  },
  {
   "cell_type": "code",
   "execution_count": 13,
   "id": "25328cfd",
   "metadata": {
    "ExecuteTime": {
     "end_time": "2024-02-06T08:57:54.935490Z",
     "start_time": "2024-02-06T08:57:54.921437Z"
    }
   },
   "outputs": [
    {
     "data": {
      "text/plain": "True"
     },
     "execution_count": 13,
     "metadata": {},
     "output_type": "execute_result"
    }
   ],
   "source": [
    "sample1.startswith('s') # 문자열이 's'로 시작하므로 True 반환"
   ]
  },
  {
   "cell_type": "code",
   "execution_count": 14,
   "id": "4de5bca9",
   "metadata": {
    "ExecuteTime": {
     "end_time": "2024-02-06T08:58:11.379066Z",
     "start_time": "2024-02-06T08:58:11.361550Z"
    }
   },
   "outputs": [
    {
     "data": {
      "text/plain": "True"
     },
     "execution_count": 14,
     "metadata": {},
     "output_type": "execute_result"
    }
   ],
   "source": [
    "sample1.endswith('g') # 문자열이 'g'로 끝나므로 True 반환"
   ]
  },
  {
   "cell_type": "code",
   "execution_count": 10,
   "id": "4ec74a06",
   "metadata": {
    "ExecuteTime": {
     "end_time": "2024-02-06T08:56:39.575125Z",
     "start_time": "2024-02-06T08:56:39.533386Z"
    }
   },
   "outputs": [
    {
     "data": {
      "text/plain": "False"
     },
     "execution_count": 10,
     "metadata": {},
     "output_type": "execute_result"
    }
   ],
   "source": [
    "':'.isalnum() # string method이므로, string객체에 바로 method를 사용 가능하다"
   ]
  },
  {
   "cell_type": "markdown",
   "id": "b49f5a15",
   "metadata": {},
   "source": [
    "### Exercise 1.\n",
    "- 다음 문자열 중 isascii() method와 isalnum()을 모두 충족하는 문자열은 무엇인지 확인해보자\n",
    "\n",
    "<br>\n",
    "<center><b>'python','Sogang-University','서강sogang','[123python!]'</b></center>\n",
    "<br>"
   ]
  },
  {
   "cell_type": "code",
   "execution_count": 15,
   "id": "f100c412",
   "metadata": {
    "ExecuteTime": {
     "end_time": "2024-02-06T08:59:59.141118Z",
     "start_time": "2024-02-06T08:59:59.107703Z"
    }
   },
   "outputs": [
    {
     "data": {
      "text/plain": "True"
     },
     "execution_count": 15,
     "metadata": {},
     "output_type": "execute_result"
    }
   ],
   "source": [
    "'python'.isalnum() and 'python'.isascii() # 둘 다 충족하므로 True 반환"
   ]
  },
  {
   "cell_type": "code",
   "execution_count": 16,
   "id": "c52a7e0d",
   "metadata": {
    "ExecuteTime": {
     "end_time": "2024-02-06T08:59:59.614399Z",
     "start_time": "2024-02-06T08:59:59.605354Z"
    }
   },
   "outputs": [
    {
     "data": {
      "text/plain": "False"
     },
     "execution_count": 16,
     "metadata": {},
     "output_type": "execute_result"
    }
   ],
   "source": [
    "'Sogang-University'.isalnum() and 'Sogang-University'.isascii() "
   ]
  },
  {
   "cell_type": "code",
   "execution_count": 17,
   "id": "02770b09",
   "metadata": {
    "ExecuteTime": {
     "end_time": "2024-02-06T09:00:00.154730Z",
     "start_time": "2024-02-06T09:00:00.145431Z"
    }
   },
   "outputs": [
    {
     "data": {
      "text/plain": "True"
     },
     "execution_count": 17,
     "metadata": {},
     "output_type": "execute_result"
    }
   ],
   "source": [
    "'Sogang-University'.isascii() # ascii code로 표현 가능하므로 True 반환"
   ]
  },
  {
   "cell_type": "code",
   "execution_count": 18,
   "id": "6f434c0f",
   "metadata": {
    "ExecuteTime": {
     "end_time": "2024-02-06T09:00:00.906051Z",
     "start_time": "2024-02-06T09:00:00.866894Z"
    }
   },
   "outputs": [
    {
     "data": {
      "text/plain": "True"
     },
     "execution_count": 18,
     "metadata": {},
     "output_type": "execute_result"
    }
   ],
   "source": [
    "'[123python!]'.isascii() # ascii code로 표현 가능하므로 True 반환"
   ]
  },
  {
   "cell_type": "markdown",
   "id": "305be44e",
   "metadata": {},
   "source": [
    "### Shell 입력\n",
    "- input()함수를 이용해 키보드로부터 문자열을 입력받을 수 있다\n",
    "<br>\n",
    "<br>\n",
    "<center><span style=\"color:#00008b\"><b>variable_name = input(“Prompt string”)</b></span></center>\n",
    "<br>\n",
    "\n",
    "1. input() 함수의 인수로 주어진 문자열(prompt)이 출력\n",
    "2. 그 문자열 뒤에 커서가 깜박이며 사용자가 데이터를 입력하길 기다림 \n",
    "3. 사용자가 키보드로 데이터를 입력하고 Enter 키 입력\n",
    "4. 입력한 데이터들이 문자열 형태로 input() 함수의 반환 값이 됨\n",
    "5. 반환된 값은 variable_name에 할당되어 사용함\n",
    "6. 반환된 값의 데이터 자료형은 무조건 string"
   ]
  },
  {
   "cell_type": "code",
   "execution_count": 19,
   "id": "67707424",
   "metadata": {
    "ExecuteTime": {
     "end_time": "2024-02-06T09:01:00.849731Z",
     "start_time": "2024-02-06T09:00:57.741755Z"
    }
   },
   "outputs": [
    {
     "name": "stdout",
     "output_type": "stream",
     "text": [
      "test\n"
     ]
    }
   ],
   "source": [
    "input_data = input('enter the string : ') # input의 인자는 promt 창에 출력되는 내용이다\n",
    "print(input_data)"
   ]
  },
  {
   "cell_type": "code",
   "execution_count": 20,
   "id": "bdb82801",
   "metadata": {
    "ExecuteTime": {
     "end_time": "2024-02-06T09:01:02.066154Z",
     "start_time": "2024-02-06T09:01:02.024978Z"
    }
   },
   "outputs": [
    {
     "data": {
      "text/plain": "'test'"
     },
     "execution_count": 20,
     "metadata": {},
     "output_type": "execute_result"
    }
   ],
   "source": [
    "input_data"
   ]
  },
  {
   "cell_type": "markdown",
   "id": "c1224215",
   "metadata": {},
   "source": [
    "### List\n",
    "- 같은 의미의 많은 데이터를 하나의 변수명으로 '순서대로' 저장하고 관리해야 할 때 사용한다\n",
    "    - 순서 있는 데이터(sequence data)를 저장하는 객체\n",
    "    - 파이썬이 제공하는 자료형은 리스트의 원소값이 될 수 있다\n",
    "    - 문자열처럼 인덱싱(indexing)과 슬라이싱(slicing)이 가능\n",
    "    \n",
    "#### 형식(syntax)\n",
    "<br>\n",
    "<center><span style=\"color:#00008b\"><b>list_name = [element1, element2, element3,...]</b></span></center>\n",
    "<br>\n",
    "\n",
    "- 대괄호 [ ]안에 콤마로 구분하여 원소들을 표시한다\n",
    "- 리스트의 각 원소는 변수와 같은 의미이며, 그 값은 변경 가능하다"
   ]
  },
  {
   "cell_type": "code",
   "execution_count": 21,
   "id": "cfe593a8",
   "metadata": {
    "ExecuteTime": {
     "end_time": "2024-02-06T09:01:09.341511Z",
     "start_time": "2024-02-06T09:01:09.318328Z"
    }
   },
   "outputs": [
    {
     "name": "stdout",
     "output_type": "stream",
     "text": [
      "['1', '2', 'a', 'b', '한글']\n"
     ]
    }
   ],
   "source": [
    "sample_list = ['1','2','a','b','한글']\n",
    "print(sample_list)"
   ]
  },
  {
   "cell_type": "markdown",
   "id": "311c34d2",
   "metadata": {},
   "source": [
    "#### List Indexing\n",
    "- 인덱싱을 이용해 리스트의 각 원소가 가리키고 있는 값에 접근할 수 있다\n",
    "- 인덱싱 범위 (문자열과 동일하게 적용)\n",
    "    - 리스트의 크기(원소 개수)는 내장함수 len( )으로 구한다 \n",
    "        - len( list객체 ) : list객체의 원소 개수 반환, 반환값은 정수\n",
    "        - len은 length의 약자\n",
    "    - positive indexing : 0 ~ len( list객체 ) – 1\n",
    "    - 리스트의 원소가 순서있는 자료형인 경우,추가 인덱싱 가능하다"
   ]
  },
  {
   "cell_type": "code",
   "execution_count": 22,
   "id": "edf6eec7",
   "metadata": {
    "ExecuteTime": {
     "end_time": "2024-02-06T09:01:49.133301Z",
     "start_time": "2024-02-06T09:01:49.103061Z"
    }
   },
   "outputs": [
    {
     "name": "stdout",
     "output_type": "stream",
     "text": [
      "1\n"
     ]
    }
   ],
   "source": [
    "sample_list = ['1','2','a','b','한글']\n",
    "print(sample_list[0])"
   ]
  },
  {
   "cell_type": "code",
   "execution_count": 23,
   "id": "18e186bf",
   "metadata": {
    "ExecuteTime": {
     "end_time": "2024-02-06T09:01:49.811834Z",
     "start_time": "2024-02-06T09:01:49.775166Z"
    }
   },
   "outputs": [
    {
     "data": {
      "text/plain": "'1'"
     },
     "execution_count": 23,
     "metadata": {},
     "output_type": "execute_result"
    }
   ],
   "source": [
    "sample_list[-5]"
   ]
  },
  {
   "cell_type": "code",
   "execution_count": 24,
   "id": "0d82b88a",
   "metadata": {
    "ExecuteTime": {
     "end_time": "2024-02-06T09:01:50.943902Z",
     "start_time": "2024-02-06T09:01:50.908081Z"
    }
   },
   "outputs": [
    {
     "name": "stdout",
     "output_type": "stream",
     "text": [
      "한글\n"
     ]
    }
   ],
   "source": [
    "print(sample_list[-1]) # 음수 인덱싱 가능"
   ]
  },
  {
   "cell_type": "markdown",
   "id": "a913209a",
   "metadata": {},
   "source": [
    "#### List Slicing\n",
    "- 문자열과 동일하게 적용한다\n",
    "- 형식 (L을 n개의 원소를 갖는 리스트라고 가정)\n",
    "<br>\n",
    "<br>\n",
    "<center><span style=\"color:#00008b\"><b>L[s:e:sp] #s=start, e=end, sp=step을 의미</b></span></center>"
   ]
  },
  {
   "cell_type": "code",
   "execution_count": 25,
   "id": "d1129412",
   "metadata": {
    "ExecuteTime": {
     "end_time": "2024-02-06T09:02:05.247304Z",
     "start_time": "2024-02-06T09:02:05.205496Z"
    }
   },
   "outputs": [
    {
     "name": "stdout",
     "output_type": "stream",
     "text": [
      "['2', 'a']\n"
     ]
    }
   ],
   "source": [
    "print(sample_list[1:3]) # 1번째 인덱스와 3번째 앞 인덱스(3-1)까지 데이터 출력"
   ]
  },
  {
   "cell_type": "code",
   "execution_count": 26,
   "id": "dfc8e063",
   "metadata": {
    "ExecuteTime": {
     "end_time": "2024-02-06T09:02:05.805161Z",
     "start_time": "2024-02-06T09:02:05.793075Z"
    }
   },
   "outputs": [
    {
     "name": "stdout",
     "output_type": "stream",
     "text": [
      "['1', 'a', '한글']\n"
     ]
    }
   ],
   "source": [
    "print(sample_list[::2])"
   ]
  },
  {
   "cell_type": "code",
   "execution_count": 27,
   "id": "e531e840",
   "metadata": {
    "ExecuteTime": {
     "end_time": "2024-02-06T09:02:06.391238Z",
     "start_time": "2024-02-06T09:02:06.319959Z"
    }
   },
   "outputs": [
    {
     "name": "stdout",
     "output_type": "stream",
     "text": [
      "['한글', 'a', '1']\n"
     ]
    }
   ],
   "source": [
    "print(sample_list[::-2]) # 문자열, 리스트, 튜플 모두 음수 슬라이싱 가능"
   ]
  },
  {
   "cell_type": "markdown",
   "id": "ff507fee",
   "metadata": {},
   "source": [
    "#### List 연산과 Method\n",
    "\n",
    "- Concatenation + \n",
    "    - 리스트의 연결 연산 수행\n",
    "    - 두 리스트의 원소들을 연결하여 새로운 리스트 생성\n",
    "- Repetition * \n",
    "    - 리스트의 반복 연산\n",
    "    - list\\*n은 list의 원소들을 n번 반복하여 새로운 리스트 생성\n",
    "- Membership 연산자 in, not in (문자열에서와 동일)\n",
    "    - 출력값은 Boolean 형태\n",
    "    \n",
    "- method\n",
    "\n",
    "|method|description|\n",
    "|:---:|:---|\n",
    "|**x.append(a)**|데이터 a를 리스트 x의 끝에 추가|\n",
    "|x.extend(L)|리스트 L의 모든 원소를 리스트 x의 마지막에 추가|\n",
    "|x.insert(i, a)|a를 리스트 x의 index i에 추가|\n",
    "|x.remove(a)|리스트 x에서 원소 값이 데이터 a인 첫 원소 제거 (반환 값 없음)|\n",
    "|x.pop()|x의 마지막 원소 제거 및 반환|\n",
    "|x.pop(i)|x[i]를 x에서 제거하고 그 값을 반환|\n",
    "|x.clear()|리스트 x의 모든 원소를 삭제. 빈 리스트가 됨|\n",
    "|x.index(a)|리스트 x에서 원소 값이 a인 첫 번째 원소의 index를 반환|\n",
    "|x.count(a)|리스트 x에서 a 값과 같은 원소의 개수를 반환|\n",
    "|**x.sort()**|x의 원소들을 오름차순으로 정렬. 내림차순 **x.sort(reverse=True)** 사용|\n",
    "|x.reverse()|x의 원소들을 역으로 재 배치 (정렬과 다름)|\n",
    "|x.copy()|a **shallow copy** of the list (y = x[:]와 동일)|\n",
    "\n",
    "   - Deep Copy : copy module로부터 deepcopy()함수 사용시 사용 가능\n",
    "   - **append method** : 매우 자주 사용되므로 꼭 외워둘 것"
   ]
  },
  {
   "cell_type": "code",
   "execution_count": 28,
   "id": "06688801",
   "metadata": {
    "ExecuteTime": {
     "end_time": "2024-02-06T09:02:35.752679Z",
     "start_time": "2024-02-06T09:02:35.714546Z"
    }
   },
   "outputs": [],
   "source": [
    "sample_list = ['1','2','a','b','한글']\n",
    "sample_list.append(123) # append는 리스트의 끝에 추가"
   ]
  },
  {
   "cell_type": "code",
   "execution_count": 29,
   "id": "eb6d7e2a",
   "metadata": {
    "ExecuteTime": {
     "end_time": "2024-02-06T09:02:36.033757Z",
     "start_time": "2024-02-06T09:02:36.005898Z"
    }
   },
   "outputs": [
    {
     "data": {
      "text/plain": "['1', '2', 'a', 'b', '한글', 123]"
     },
     "execution_count": 29,
     "metadata": {},
     "output_type": "execute_result"
    }
   ],
   "source": [
    "sample_list # append 결과가 sample_list 자체에 저장됨"
   ]
  },
  {
   "cell_type": "code",
   "execution_count": 30,
   "id": "dddd966c",
   "metadata": {
    "ExecuteTime": {
     "end_time": "2024-02-06T09:02:36.283272Z",
     "start_time": "2024-02-06T09:02:36.254538Z"
    }
   },
   "outputs": [
    {
     "name": "stdout",
     "output_type": "stream",
     "text": [
      "['1', '2', 'a', 'b', '한글', 123, [1, 2, 3]]\n"
     ]
    }
   ],
   "source": [
    "sample_list.append([1,2,3]) # 리스트 자체를 추가\n",
    "print(sample_list) # list에는 여러가지 자료형을 원소로 추가 가능"
   ]
  },
  {
   "cell_type": "code",
   "execution_count": 31,
   "id": "d9016f4e",
   "metadata": {
    "ExecuteTime": {
     "end_time": "2024-02-06T09:02:36.646327Z",
     "start_time": "2024-02-06T09:02:36.622135Z"
    }
   },
   "outputs": [],
   "source": [
    "sample_list.extend([1,2,3,4,5]) # list 병합"
   ]
  },
  {
   "cell_type": "code",
   "execution_count": 32,
   "id": "d66f95b3",
   "metadata": {
    "ExecuteTime": {
     "end_time": "2024-02-06T09:02:37.022591Z",
     "start_time": "2024-02-06T09:02:36.994993Z"
    }
   },
   "outputs": [
    {
     "data": {
      "text/plain": "['1', '2', 'a', 'b', '한글', 123, [1, 2, 3], 1, 2, 3, 4, 5]"
     },
     "execution_count": 32,
     "metadata": {},
     "output_type": "execute_result"
    }
   ],
   "source": [
    "sample_list"
   ]
  },
  {
   "cell_type": "code",
   "execution_count": 33,
   "id": "07a2cc53",
   "metadata": {
    "ExecuteTime": {
     "end_time": "2024-02-06T09:02:37.590372Z",
     "start_time": "2024-02-06T09:02:37.534263Z"
    }
   },
   "outputs": [
    {
     "data": {
      "text/plain": "True"
     },
     "execution_count": 33,
     "metadata": {},
     "output_type": "execute_result"
    }
   ],
   "source": [
    "1 in sample_list # membership 연산자"
   ]
  },
  {
   "cell_type": "code",
   "execution_count": 34,
   "id": "838c05fd",
   "metadata": {
    "ExecuteTime": {
     "end_time": "2024-02-06T09:02:38.207285Z",
     "start_time": "2024-02-06T09:02:38.181867Z"
    }
   },
   "outputs": [
    {
     "data": {
      "text/plain": "True"
     },
     "execution_count": 34,
     "metadata": {},
     "output_type": "execute_result"
    }
   ],
   "source": [
    "5 in sample_list"
   ]
  },
  {
   "cell_type": "code",
   "execution_count": 35,
   "id": "3b06838f",
   "metadata": {
    "ExecuteTime": {
     "end_time": "2024-02-06T09:02:38.693534Z",
     "start_time": "2024-02-06T09:02:38.683012Z"
    }
   },
   "outputs": [
    {
     "data": {
      "text/plain": "True"
     },
     "execution_count": 35,
     "metadata": {},
     "output_type": "execute_result"
    }
   ],
   "source": [
    "'eng' not in sample_list"
   ]
  },
  {
   "cell_type": "code",
   "execution_count": 36,
   "id": "deb5d9dd",
   "metadata": {
    "ExecuteTime": {
     "end_time": "2024-02-06T09:02:39.043201Z",
     "start_time": "2024-02-06T09:02:39.032701Z"
    }
   },
   "outputs": [
    {
     "data": {
      "text/plain": "False"
     },
     "execution_count": 36,
     "metadata": {},
     "output_type": "execute_result"
    }
   ],
   "source": [
    "5 not in sample_list"
   ]
  },
  {
   "cell_type": "code",
   "execution_count": 37,
   "id": "522a26d8",
   "metadata": {
    "ExecuteTime": {
     "end_time": "2024-02-06T09:02:39.401055Z",
     "start_time": "2024-02-06T09:02:39.391092Z"
    }
   },
   "outputs": [
    {
     "name": "stdout",
     "output_type": "stream",
     "text": [
      "['1', '2', 'a', 'b', '한글', 123, [1, 2, 3], 1, 2, 3, 4, 5, '1', '2', 'a', 'b', '한글', 123, [1, 2, 3], 1, 2, 3, 4, 5]\n"
     ]
    }
   ],
   "source": [
    "print(sample_list * 2)"
   ]
  },
  {
   "cell_type": "code",
   "execution_count": 43,
   "id": "dd9be77d",
   "metadata": {
    "ExecuteTime": {
     "end_time": "2024-02-06T09:03:23.215168Z",
     "start_time": "2024-02-06T09:03:23.199204Z"
    }
   },
   "outputs": [],
   "source": [
    "sample2 = [5,3,2,185,48,1]"
   ]
  },
  {
   "cell_type": "code",
   "execution_count": 44,
   "id": "8898fbb9",
   "metadata": {
    "ExecuteTime": {
     "end_time": "2024-02-06T09:03:23.559797Z",
     "start_time": "2024-02-06T09:03:23.540432Z"
    }
   },
   "outputs": [
    {
     "name": "stdout",
     "output_type": "stream",
     "text": [
      "[5, 3, 2, 185, 48, 1]\n"
     ]
    }
   ],
   "source": [
    "print(sample2)"
   ]
  },
  {
   "cell_type": "code",
   "execution_count": 45,
   "id": "4a27bbf4",
   "metadata": {
    "ExecuteTime": {
     "end_time": "2024-02-06T09:03:25.637588Z",
     "start_time": "2024-02-06T09:03:25.624747Z"
    }
   },
   "outputs": [
    {
     "name": "stdout",
     "output_type": "stream",
     "text": [
      "[185, 48, 5, 3, 2, 1]\n"
     ]
    }
   ],
   "source": [
    "sample2.sort(reverse = True) # 내림차순 정렬\n",
    "print(sample2)"
   ]
  },
  {
   "cell_type": "code",
   "execution_count": 41,
   "id": "167476b0",
   "metadata": {
    "ExecuteTime": {
     "end_time": "2024-02-06T09:02:41.709250Z",
     "start_time": "2024-02-06T09:02:41.697922Z"
    }
   },
   "outputs": [
    {
     "name": "stdout",
     "output_type": "stream",
     "text": [
      "['1', '2', 'a', 'b', '한글', 123, [1, 2, 3], 1, 2, 3, 4, 5]\n"
     ]
    }
   ],
   "source": [
    "print(sample_list)"
   ]
  },
  {
   "cell_type": "code",
   "execution_count": 42,
   "id": "d8d27c4f",
   "metadata": {
    "ExecuteTime": {
     "end_time": "2024-02-06T09:02:42.170994Z",
     "start_time": "2024-02-06T09:02:42.135307Z"
    }
   },
   "outputs": [
    {
     "name": "stdout",
     "output_type": "stream",
     "text": [
      "['1', 999, 'a', 'b', '한글', 123, [1, 2, 3], 1, 2, 3, 4, 5]\n"
     ]
    }
   ],
   "source": [
    "sample_list[1] = 999\n",
    "print(sample_list) # list는 값을 수정하는 것이 자유롭다"
   ]
  },
  {
   "cell_type": "markdown",
   "id": "ced259b1",
   "metadata": {},
   "source": [
    "### Unpacking\n",
    "\n",
    "- Unpacking은 문자열을 list로 분리하는것(unpack)을 말한다\n",
    "- split() method를 통해서 가능하다"
   ]
  },
  {
   "cell_type": "code",
   "execution_count": 46,
   "id": "1224f713",
   "metadata": {
    "ExecuteTime": {
     "end_time": "2024-02-06T09:06:28.747693Z",
     "start_time": "2024-02-06T09:06:28.720323Z"
    }
   },
   "outputs": [],
   "source": [
    "sample_comma = '1,2,3,4,5'\n",
    "sample_space = '1 2 3 4 5'"
   ]
  },
  {
   "cell_type": "code",
   "execution_count": 47,
   "id": "54b5bf2b",
   "metadata": {
    "ExecuteTime": {
     "end_time": "2024-02-06T09:09:27.818416Z",
     "start_time": "2024-02-06T09:09:27.789497Z"
    }
   },
   "outputs": [
    {
     "data": {
      "text/plain": "['1', '2', '3', '4', '5']"
     },
     "execution_count": 47,
     "metadata": {},
     "output_type": "execute_result"
    }
   ],
   "source": [
    "sample_space.split() # 출력은 list 형태로 반환, 기본적으로 공백을 기준으로 split"
   ]
  },
  {
   "cell_type": "code",
   "execution_count": 48,
   "id": "010663f8",
   "metadata": {
    "ExecuteTime": {
     "end_time": "2024-02-06T09:09:28.550041Z",
     "start_time": "2024-02-06T09:09:28.536214Z"
    }
   },
   "outputs": [
    {
     "data": {
      "text/plain": "'1 2 3 4 5'"
     },
     "execution_count": 48,
     "metadata": {},
     "output_type": "execute_result"
    }
   ],
   "source": [
    "sample_space"
   ]
  },
  {
   "cell_type": "code",
   "execution_count": 49,
   "id": "bc00e321",
   "metadata": {
    "ExecuteTime": {
     "end_time": "2024-02-06T09:09:29.827846Z",
     "start_time": "2024-02-06T09:09:29.783748Z"
    }
   },
   "outputs": [
    {
     "data": {
      "text/plain": "['1,2,3,4,5']"
     },
     "execution_count": 49,
     "metadata": {},
     "output_type": "execute_result"
    }
   ],
   "source": [
    "sample_comma.split() "
   ]
  },
  {
   "cell_type": "code",
   "execution_count": 50,
   "id": "cf83a238",
   "metadata": {
    "ExecuteTime": {
     "end_time": "2024-02-06T09:09:30.980937Z",
     "start_time": "2024-02-06T09:09:30.945523Z"
    }
   },
   "outputs": [
    {
     "data": {
      "text/plain": "['1', '2', '3', '4', '5']"
     },
     "execution_count": 50,
     "metadata": {},
     "output_type": "execute_result"
    }
   ],
   "source": [
    "sample_comma.split(',') # 인자에 구분자를 넣어주면 구분자 단위로 split이 가능"
   ]
  },
  {
   "cell_type": "markdown",
   "id": "6b6f23fa",
   "metadata": {},
   "source": [
    "### Sum\n",
    "- List, tuple 등의 container는 sum() 함수 사용이 가능하다"
   ]
  },
  {
   "cell_type": "code",
   "execution_count": 51,
   "id": "b6655dcd",
   "metadata": {
    "ExecuteTime": {
     "end_time": "2024-02-06T09:12:30.859425Z",
     "start_time": "2024-02-06T09:12:30.823476Z"
    }
   },
   "outputs": [
    {
     "data": {
      "text/plain": "49"
     },
     "execution_count": 51,
     "metadata": {},
     "output_type": "execute_result"
    }
   ],
   "source": [
    "sample = [1, 3, 5, 7, 9, 11, 13]\n",
    "sum(sample)"
   ]
  },
  {
   "cell_type": "code",
   "execution_count": 52,
   "id": "ec087afa",
   "metadata": {
    "ExecuteTime": {
     "end_time": "2024-02-06T09:12:37.615302Z",
     "start_time": "2024-02-06T09:12:37.574293Z"
    }
   },
   "outputs": [
    {
     "data": {
      "text/plain": "7.0"
     },
     "execution_count": 52,
     "metadata": {},
     "output_type": "execute_result"
    }
   ],
   "source": [
    "sum(sample) / len(sample) # mean"
   ]
  },
  {
   "cell_type": "code",
   "execution_count": 53,
   "id": "c8b6c9f8",
   "metadata": {
    "ExecuteTime": {
     "end_time": "2024-02-06T09:12:40.667297Z",
     "start_time": "2024-02-06T09:12:40.630988Z"
    }
   },
   "outputs": [
    {
     "data": {
      "text/plain": "49"
     },
     "execution_count": 53,
     "metadata": {},
     "output_type": "execute_result"
    }
   ],
   "source": [
    "sum(tuple(sample)) # tuple sum"
   ]
  },
  {
   "cell_type": "code",
   "outputs": [
    {
     "ename": "TypeError",
     "evalue": "unsupported operand type(s) for +: 'int' and 'str'",
     "output_type": "error",
     "traceback": [
      "\u001B[0;31m---------------------------------------------------------------------------\u001B[0m",
      "\u001B[0;31mTypeError\u001B[0m                                 Traceback (most recent call last)",
      "Cell \u001B[0;32mIn[54], line 2\u001B[0m\n\u001B[1;32m      1\u001B[0m sample\u001B[38;5;241m.\u001B[39mappend(\u001B[38;5;124m'\u001B[39m\u001B[38;5;124m1\u001B[39m\u001B[38;5;124m'\u001B[39m)\n\u001B[0;32m----> 2\u001B[0m \u001B[38;5;28;43msum\u001B[39;49m\u001B[43m(\u001B[49m\u001B[43msample\u001B[49m\u001B[43m)\u001B[49m\n",
      "\u001B[0;31mTypeError\u001B[0m: unsupported operand type(s) for +: 'int' and 'str'"
     ]
    }
   ],
   "source": [
    "sample.append('1')\n",
    "sum(sample) # 문자열이 포함되어 있어서 에러 발생"
   ],
   "metadata": {
    "collapsed": false,
    "ExecuteTime": {
     "end_time": "2024-02-06T09:13:09.838593Z",
     "start_time": "2024-02-06T09:13:09.573201Z"
    }
   },
   "id": "daf15a3f845db381",
   "execution_count": 54
  },
  {
   "cell_type": "markdown",
   "id": "1826614e",
   "metadata": {},
   "source": [
    "### Exercise 2.\n",
    "\n",
    "- input을 통해 문자열을 입력받고 unpacking을 직접 진행해 보자"
   ]
  },
  {
   "cell_type": "code",
   "execution_count": 55,
   "id": "4486f9d6",
   "metadata": {
    "ExecuteTime": {
     "end_time": "2024-02-06T09:14:21.954354Z",
     "start_time": "2024-02-06T09:14:14.571578Z"
    }
   },
   "outputs": [],
   "source": [
    "input_data = input('enter : ').split(',')"
   ]
  },
  {
   "cell_type": "code",
   "execution_count": 56,
   "id": "c577ed2b",
   "metadata": {
    "ExecuteTime": {
     "end_time": "2024-02-06T09:14:23.392446Z",
     "start_time": "2024-02-06T09:14:23.359642Z"
    }
   },
   "outputs": [
    {
     "data": {
      "text/plain": "['1', '2', '3', '4', '5', '6']"
     },
     "execution_count": 56,
     "metadata": {},
     "output_type": "execute_result"
    }
   ],
   "source": [
    "input_data"
   ]
  },
  {
   "cell_type": "markdown",
   "id": "c01ba329",
   "metadata": {},
   "source": [
    "### Tuple\n",
    "- 리스트와 유사한 자료형이지만, 원소의 추가/삭제/수정이 불가능하다(immutable 객체) \n",
    "    - 원소 수정하면 에러 발생\n",
    "    - 원소 값이 변하지 않는 데이터(iterable한) 저장에 효율적\n",
    "- Heap 영역에 저장되어, 리스트보다 메모리 사용량이 적다\n",
    "    \n",
    "#### 형식(syntax)\n",
    "<br>\n",
    "<center><span style=\"color:#00008b\"><b>tuple_name = (element1, element2, element3,...)</b></span></center>\n",
    "<br>\n",
    "\n",
    "- 소괄호 ( )안에 콤마로 구분하여 원소들을 표시\n",
    "- 원소를 콤마로 구분하여 사용하면 괄호가 없어도 튜플로 인식한다\n",
    "- 원소로는 리스트와 동일하게 여러 자료형이 올 수 있다\n",
    "<br>\n",
    "\n",
    "- 튜플도 원소의 순서가 의미 있는(sequence) 자료형이다\n",
    "- 리스트와 동일하게 인덱싱, 슬라이싱, + 연결, * 반복, in, not in 연산자, 내장 함수 등을 사용할 수 있다\n",
    "- 슬라이싱으로 원소를 참조할 수는 있지만 **수정할 수는 없다** (리스트와 가장 큰 차이점)\n",
    "- del명령어로 튜플 자체 삭제만 가능(원소 삭제에는 사용 못함)"
   ]
  },
  {
   "cell_type": "code",
   "execution_count": 60,
   "id": "72f2d78c",
   "metadata": {
    "ExecuteTime": {
     "end_time": "2024-02-06T09:27:25.090020Z",
     "start_time": "2024-02-06T09:27:25.055379Z"
    }
   },
   "outputs": [
    {
     "name": "stdout",
     "output_type": "stream",
     "text": [
      "<class 'tuple'>\n"
     ]
    }
   ],
   "source": [
    "tup = (1,2,3)\n",
    "print(type(tup))"
   ]
  },
  {
   "cell_type": "code",
   "execution_count": 61,
   "id": "4281498a",
   "metadata": {
    "ExecuteTime": {
     "end_time": "2024-02-06T09:27:26.607976Z",
     "start_time": "2024-02-06T09:27:26.579252Z"
    }
   },
   "outputs": [
    {
     "data": {
      "text/plain": "tuple"
     },
     "execution_count": 61,
     "metadata": {},
     "output_type": "execute_result"
    }
   ],
   "source": [
    "sample = 1,2,3,4,5\n",
    "type(sample)"
   ]
  },
  {
   "cell_type": "markdown",
   "source": [
    "예제 : 변수에 저장된 값을 바꾸려고 할 때"
   ],
   "metadata": {
    "collapsed": false
   },
   "id": "2017faed291c017e"
  },
  {
   "cell_type": "code",
   "execution_count": 62,
   "id": "1d7ab34b",
   "metadata": {
    "ExecuteTime": {
     "end_time": "2024-02-06T09:27:27.200390Z",
     "start_time": "2024-02-06T09:27:27.190423Z"
    }
   },
   "outputs": [
    {
     "name": "stdout",
     "output_type": "stream",
     "text": [
      "20 10\n"
     ]
    }
   ],
   "source": [
    "x = 10; y = 20\n",
    "temp = x\n",
    "x = y\n",
    "y = temp\n",
    "print(x, y)"
   ]
  },
  {
   "cell_type": "markdown",
   "source": [
    "tuple을 사용할 경우 다음과 같이 변경 가능하다"
   ],
   "metadata": {
    "collapsed": false
   },
   "id": "3e0928f5095d6779"
  },
  {
   "cell_type": "code",
   "execution_count": 131,
   "id": "dd1910e6",
   "metadata": {},
   "outputs": [
    {
     "name": "stdout",
     "output_type": "stream",
     "text": [
      "10 20\n"
     ]
    }
   ],
   "source": [
    "x,y = y,x\n",
    "print(x, y)"
   ]
  },
  {
   "cell_type": "markdown",
   "source": [
    "원소가 하나인 경우 다음과 같이 주의해야 한다"
   ],
   "metadata": {
    "collapsed": false
   },
   "id": "d991bbe0a91782ac"
  },
  {
   "cell_type": "code",
   "execution_count": 100,
   "id": "ebaf3992",
   "metadata": {},
   "outputs": [],
   "source": [
    "a = (1)"
   ]
  },
  {
   "cell_type": "code",
   "execution_count": 101,
   "id": "7bf0e88c",
   "metadata": {},
   "outputs": [
    {
     "data": {
      "text/plain": [
       "int"
      ]
     },
     "execution_count": 101,
     "metadata": {},
     "output_type": "execute_result"
    }
   ],
   "source": [
    "type(a)"
   ]
  },
  {
   "cell_type": "markdown",
   "source": [
    "원소가 하나인 경우에는 콤마를 붙여주어야 튜플로 저장된다"
   ],
   "metadata": {
    "collapsed": false
   },
   "id": "7818d1ba1b151c9"
  },
  {
   "cell_type": "code",
   "execution_count": 102,
   "id": "45e0aa2a",
   "metadata": {},
   "outputs": [],
   "source": [
    "a = (1, )"
   ]
  },
  {
   "cell_type": "code",
   "execution_count": 103,
   "id": "47503010",
   "metadata": {},
   "outputs": [
    {
     "data": {
      "text/plain": [
       "tuple"
      ]
     },
     "execution_count": 103,
     "metadata": {},
     "output_type": "execute_result"
    }
   ],
   "source": [
    "type(a)"
   ]
  },
  {
   "cell_type": "code",
   "execution_count": 104,
   "id": "856ad707",
   "metadata": {},
   "outputs": [
    {
     "data": {
      "text/plain": [
       "1"
      ]
     },
     "execution_count": 104,
     "metadata": {},
     "output_type": "execute_result"
    }
   ],
   "source": [
    "len(a)"
   ]
  },
  {
   "cell_type": "code",
   "execution_count": 63,
   "id": "dcf3bf3b",
   "metadata": {
    "ExecuteTime": {
     "end_time": "2024-02-06T09:30:38.035589Z",
     "start_time": "2024-02-06T09:30:37.999624Z"
    }
   },
   "outputs": [],
   "source": [
    "sample_tuple = (1,2,'1','2','eng')"
   ]
  },
  {
   "cell_type": "code",
   "execution_count": 64,
   "id": "41d58b88",
   "metadata": {
    "ExecuteTime": {
     "end_time": "2024-02-06T09:30:38.579465Z",
     "start_time": "2024-02-06T09:30:38.550285Z"
    }
   },
   "outputs": [
    {
     "data": {
      "text/plain": "tuple"
     },
     "execution_count": 64,
     "metadata": {},
     "output_type": "execute_result"
    }
   ],
   "source": [
    "type(sample_tuple)"
   ]
  },
  {
   "cell_type": "markdown",
   "source": [
    "멤버쉽 연산자 in, not in 사용 가능"
   ],
   "metadata": {
    "collapsed": false
   },
   "id": "798a57177a8d5ce2"
  },
  {
   "cell_type": "code",
   "execution_count": 35,
   "id": "8300c2af",
   "metadata": {},
   "outputs": [
    {
     "data": {
      "text/plain": [
       "True"
      ]
     },
     "execution_count": 35,
     "metadata": {},
     "output_type": "execute_result"
    }
   ],
   "source": [
    "1 in sample_tuple"
   ]
  },
  {
   "cell_type": "code",
   "outputs": [
    {
     "data": {
      "text/plain": "False"
     },
     "execution_count": 65,
     "metadata": {},
     "output_type": "execute_result"
    }
   ],
   "source": [
    "1 not in sample_tuple"
   ],
   "metadata": {
    "collapsed": false,
    "ExecuteTime": {
     "end_time": "2024-02-06T09:31:48.460773Z",
     "start_time": "2024-02-06T09:31:48.437908Z"
    }
   },
   "id": "a14b7c189a6ac567",
   "execution_count": 65
  },
  {
   "cell_type": "markdown",
   "source": [
    "repeat 연산자 * 사용 가능"
   ],
   "metadata": {
    "collapsed": false
   },
   "id": "2134bf37168b0c53"
  },
  {
   "cell_type": "code",
   "execution_count": 66,
   "id": "997b6821",
   "metadata": {
    "ExecuteTime": {
     "end_time": "2024-02-06T09:31:59.324430Z",
     "start_time": "2024-02-06T09:31:59.287388Z"
    }
   },
   "outputs": [
    {
     "name": "stdout",
     "output_type": "stream",
     "text": [
      "(1, 2, '1', '2', 'eng', 1, 2, '1', '2', 'eng')\n"
     ]
    }
   ],
   "source": [
    "print(sample_tuple * 2)"
   ]
  },
  {
   "cell_type": "markdown",
   "id": "2d016610",
   "metadata": {},
   "source": [
    "### Exercise 3.\n",
    "\n",
    "- Exercise 2에서 unpacking한 데이터를 tuple로 변환해 보자"
   ]
  },
  {
   "cell_type": "code",
   "execution_count": 67,
   "id": "476d225b",
   "metadata": {
    "ExecuteTime": {
     "end_time": "2024-02-06T09:32:06.243539Z",
     "start_time": "2024-02-06T09:32:06.177887Z"
    }
   },
   "outputs": [
    {
     "data": {
      "text/plain": "['1', '2', '3', '4', '5', '6']"
     },
     "execution_count": 67,
     "metadata": {},
     "output_type": "execute_result"
    }
   ],
   "source": [
    "input_data"
   ]
  },
  {
   "cell_type": "code",
   "execution_count": 68,
   "id": "ee029a6b",
   "metadata": {
    "ExecuteTime": {
     "end_time": "2024-02-06T09:32:13.293144Z",
     "start_time": "2024-02-06T09:32:13.252968Z"
    }
   },
   "outputs": [],
   "source": [
    "tuple_sample = tuple(input_data)"
   ]
  },
  {
   "cell_type": "code",
   "execution_count": 69,
   "id": "13e4f52e",
   "metadata": {
    "ExecuteTime": {
     "end_time": "2024-02-06T09:32:13.846403Z",
     "start_time": "2024-02-06T09:32:13.811329Z"
    }
   },
   "outputs": [
    {
     "name": "stdout",
     "output_type": "stream",
     "text": [
      "('1', '2', '3', '4', '5', '6')\n"
     ]
    }
   ],
   "source": [
    "print(tuple_sample)"
   ]
  },
  {
   "cell_type": "markdown",
   "id": "4650887c",
   "metadata": {},
   "source": [
    "#### Tuple Method\n",
    "|method|description|\n",
    "|:---:|:---|\n",
    "|T.index(x)|튜플에서 데이터 x의 인덱스를 반환|\n",
    "|T.count(x)|튜플에서 데이터 x의 개수를 반환|\n",
    "\n",
    "#### Tuple Indexing & Slicing\n",
    "- 문자열, 리스트와 동일한 방식으로 Indexing과 Slicing이 가능하다."
   ]
  },
  {
   "cell_type": "code",
   "execution_count": 37,
   "id": "1814e59e",
   "metadata": {},
   "outputs": [
    {
     "data": {
      "text/plain": [
       "2"
      ]
     },
     "execution_count": 37,
     "metadata": {},
     "output_type": "execute_result"
    }
   ],
   "source": [
    "sample_tuple.index('1')"
   ]
  },
  {
   "cell_type": "code",
   "execution_count": 38,
   "id": "ae30543c",
   "metadata": {},
   "outputs": [
    {
     "data": {
      "text/plain": [
       "1"
      ]
     },
     "execution_count": 38,
     "metadata": {},
     "output_type": "execute_result"
    }
   ],
   "source": [
    "sample_tuple.count(1)"
   ]
  },
  {
   "cell_type": "code",
   "execution_count": 39,
   "id": "5a15f0a0",
   "metadata": {},
   "outputs": [
    {
     "data": {
      "text/plain": [
       "'eng'"
      ]
     },
     "execution_count": 39,
     "metadata": {},
     "output_type": "execute_result"
    }
   ],
   "source": [
    "sample_tuple[4] # indexing"
   ]
  },
  {
   "cell_type": "code",
   "execution_count": 40,
   "id": "4d1f2574",
   "metadata": {},
   "outputs": [
    {
     "data": {
      "text/plain": [
       "(1, '1', 'eng')"
      ]
     },
     "execution_count": 40,
     "metadata": {},
     "output_type": "execute_result"
    }
   ],
   "source": [
    "sample_tuple[::2] # slicing"
   ]
  },
  {
   "cell_type": "markdown",
   "id": "7b13a0e4",
   "metadata": {},
   "source": [
    "### Set\n",
    "- 데이터를 순서 없이 모아둔 자료형\n",
    "- 집합 또한 동적 데이터 구조이기 때문에, 데이터를 추가/삭제할 수 있으며, heap 영역에 저장된다\n",
    "\n",
    "#### 형식(syntax)\n",
    "<br>\n",
    "<center><span style=\"color:#00008b\"><b>set_name = {element1, element2, element3,...}</b></span></center>\n",
    "<br>\n",
    "\n",
    "- 중괄호 { }안에 콤마로 구분하여 원소들을 표시, 공집합도 가능(set()) \n",
    "- 값을 변경할 수 없는 자료형만 원소로 올 수 있음(리스트형은 불가능)\n",
    "\n",
    "#### Characteristics\n",
    "\n",
    "- 같은 값을 가지는 원소는 불가능(중복 불가능) : **중복 데이터를 걸러주는 기능**을 함\n",
    "- 원소 간에 순서가 없음(**Unordered**) : 인덱싱, 슬라이싱이 불가능하다\n",
    "- 원소의 추가 / 삭제 가능, in / not in 연산자 또한 가능하다\n",
    "- set()함수는 인자로 받은 자료형의 원소들을 자신의 원소로 하는 집합을 생성하는 함수"
   ]
  },
  {
   "cell_type": "code",
   "execution_count": 70,
   "id": "76a163a8",
   "metadata": {
    "ExecuteTime": {
     "end_time": "2024-02-06T09:34:08.153607Z",
     "start_time": "2024-02-06T09:34:08.116629Z"
    }
   },
   "outputs": [],
   "source": [
    "set_set = set()"
   ]
  },
  {
   "cell_type": "code",
   "execution_count": 71,
   "id": "664f6269",
   "metadata": {
    "ExecuteTime": {
     "end_time": "2024-02-06T09:34:08.689685Z",
     "start_time": "2024-02-06T09:34:08.652314Z"
    }
   },
   "outputs": [
    {
     "name": "stdout",
     "output_type": "stream",
     "text": [
      "{1, 2, 3, 6, 7}\n"
     ]
    }
   ],
   "source": [
    "sample_set = {1,2,3,2,3,6,7}\n",
    "print(sample_set)"
   ]
  },
  {
   "cell_type": "code",
   "execution_count": 72,
   "id": "574384ce",
   "metadata": {
    "ExecuteTime": {
     "end_time": "2024-02-06T09:34:17.888044Z",
     "start_time": "2024-02-06T09:34:17.858719Z"
    }
   },
   "outputs": [
    {
     "data": {
      "text/plain": "set"
     },
     "execution_count": 72,
     "metadata": {},
     "output_type": "execute_result"
    }
   ],
   "source": [
    "type(sample_set)"
   ]
  },
  {
   "cell_type": "code",
   "execution_count": 73,
   "id": "1e57c08a",
   "metadata": {
    "ExecuteTime": {
     "end_time": "2024-02-06T09:34:18.374717Z",
     "start_time": "2024-02-06T09:34:18.364784Z"
    }
   },
   "outputs": [
    {
     "name": "stdout",
     "output_type": "stream",
     "text": [
      "[1, 1, 2, 3, 3, 4, 5, 999]\n"
     ]
    }
   ],
   "source": [
    "sample = [1,1,2,3,3,4,5,999]\n",
    "print(sample)"
   ]
  },
  {
   "cell_type": "code",
   "execution_count": 74,
   "id": "5c82596b",
   "metadata": {
    "ExecuteTime": {
     "end_time": "2024-02-06T09:34:20.581951Z",
     "start_time": "2024-02-06T09:34:20.543898Z"
    }
   },
   "outputs": [
    {
     "name": "stdout",
     "output_type": "stream",
     "text": [
      "{1, 2, 3, 4, 5, 999}\n"
     ]
    }
   ],
   "source": [
    "sample_set = set(sample)\n",
    "print(sample_set) # 중복인 데이터 필터링 효과"
   ]
  },
  {
   "cell_type": "markdown",
   "id": "6b0b59fd",
   "metadata": {},
   "source": [
    "### Dictionary\n",
    "\n",
    "- 사전은 키(key)와 값(value)의 쌍을 저장하는 순서가 없는 자료형이다 \n",
    "- 사전 또한 동적 데이터 저장이 가능하므로, Heap 영역에 저장된다\n",
    "- JSON과 유사한 형태로, 호환이 가능하다\n",
    "\n",
    "#### 형식(syntax)\n",
    "<br>\n",
    "<center><span style=\"color:#00008b\"><b>dic_name = {key1 : val1, key2 : val2, key3 : val3,...}</b></span></center>\n",
    "<br>\n",
    "\n",
    "- 중괄호{} 안에 콤마로 구분하여 Key와 Value의 쌍을 표시한다\n",
    "- key에는 immutable 자료형 (정수, 실수, 문자열, 튜플)만 허용되며, mutable한 자료형 (리스트, 집합, 사전)은 올 수 없다\n",
    "- value에는 어떤 자료형도 가능하다\n",
    "- key는 고유한 값만 올 수 있으며, 중복되는 key값을 설정하면 **하나를 제외한 나머지 것들이 무시된다**\n",
    "\n",
    "#### Characteristics\n",
    "\n",
    "- key값으로 이에 대응하는 value값을 얻을 수 있다\n",
    "- 인덱싱 기호[   ]안에 인덱스 번호가 아닌 key값을 주어 해당value값을 참조할 수 있다\n",
    "- 원소 간에 순서가 없음(**Unordered**) : 인덱싱, 슬라이싱 불가능\n",
    "- 원소의 추가 / 삭제 가능, in/not in 연산자 가능\n",
    "- +연결 연산자,\\*반복 연산자는 사용할 수 없다"
   ]
  },
  {
   "cell_type": "markdown",
   "source": [
    "참고 : JSON (Java Script Object Notation)\n",
    "\n",
    "- 웹에서 데이터를 주고 받을 때 사용하는 텍스트 형식의 데이터 교환 표준\n",
    "- 사람과 기계가 모두 이해하기 쉬운 텍스트 형식\n",
    "- 데이터를 교환하는 데 사용되는 경량의 데이터 형식\n",
    "- `json` 라이브러리 사용해서 변환 가능"
   ],
   "metadata": {
    "collapsed": false
   },
   "id": "77d43d081793fe19"
  },
  {
   "cell_type": "code",
   "execution_count": 78,
   "id": "16f45462",
   "metadata": {
    "ExecuteTime": {
     "end_time": "2024-02-06T09:44:12.047063Z",
     "start_time": "2024-02-06T09:44:11.948440Z"
    }
   },
   "outputs": [
    {
     "name": "stdout",
     "output_type": "stream",
     "text": [
      "{1: 'a', 2: 'b', 3: 'c', 4: 'd'}\n"
     ]
    }
   ],
   "source": [
    "sample_dic = {1 : 'a', 2 : 'b', 3 : 'c', 4 : 'd'}\n",
    "print(sample_dic)"
   ]
  },
  {
   "cell_type": "code",
   "execution_count": 79,
   "id": "e3f8007d",
   "metadata": {
    "ExecuteTime": {
     "end_time": "2024-02-06T09:44:12.806070Z",
     "start_time": "2024-02-06T09:44:12.755772Z"
    }
   },
   "outputs": [
    {
     "name": "stdout",
     "output_type": "stream",
     "text": [
      "<class 'dict'>\n"
     ]
    }
   ],
   "source": [
    "print(type(sample_dic))"
   ]
  },
  {
   "cell_type": "code",
   "execution_count": 80,
   "id": "61cb12bc",
   "metadata": {
    "ExecuteTime": {
     "end_time": "2024-02-06T09:44:13.583056Z",
     "start_time": "2024-02-06T09:44:13.560135Z"
    }
   },
   "outputs": [
    {
     "data": {
      "text/plain": "'a'"
     },
     "execution_count": 80,
     "metadata": {},
     "output_type": "execute_result"
    }
   ],
   "source": [
    "sample_dic[1] # key값으로 value값 확인 가능"
   ]
  },
  {
   "cell_type": "code",
   "execution_count": 81,
   "id": "f0f546f3",
   "metadata": {
    "ExecuteTime": {
     "end_time": "2024-02-06T09:44:15.502534Z",
     "start_time": "2024-02-06T09:44:15.461325Z"
    }
   },
   "outputs": [
    {
     "name": "stdout",
     "output_type": "stream",
     "text": [
      "{1: 'a', 2: 'b', 3: 'c', 4: 'd', 5: 'e'}\n"
     ]
    }
   ],
   "source": [
    "sample_dic[5] = 'e'\n",
    "print(sample_dic) # 자료에 없는 key이면 자동으로 추가한다"
   ]
  },
  {
   "cell_type": "code",
   "execution_count": 82,
   "id": "d4992fea",
   "metadata": {
    "ExecuteTime": {
     "end_time": "2024-02-06T09:44:17.846340Z",
     "start_time": "2024-02-06T09:44:17.801291Z"
    }
   },
   "outputs": [
    {
     "name": "stdout",
     "output_type": "stream",
     "text": [
      "{1: 'A', 2: 'b', 3: 'c', 4: 'd', 5: 'e'}\n"
     ]
    }
   ],
   "source": [
    "sample_dic[1] = 'A'\n",
    "print(sample_dic) # dictionary는 수정 가능한 자료형이다"
   ]
  },
  {
   "cell_type": "markdown",
   "id": "5e872ac5",
   "metadata": {},
   "source": [
    "#### Dictionary Method\n",
    "\n",
    "|method|description|\n",
    "|:---:|:---|\n",
    "|D.clear()|D의 모든 원소를 삭제. D={}가 됨|\n",
    "|**D.items()**|key와 value의 쌍을 튜플로 묶은 값을 dict_items 객체로 반환. <br> 튜플(key, value)을 원소로 하는 리스트를 만들거나 (key, value)가 필요한 반복문에서 사용|\n",
    "|**D.keys()**|딕셔너리 D의 Key만을 모아서 dict_keys객체로 반환. 필요한 반복문에서 사용|\n",
    "|**D.values()**|value로 구성된 dict_values객체를 반환|\n",
    "|D.get(key[, d])|key에 대한 value 값 반환. 존재하지 않는 key이면 d 반환, d가 주어지지 않았으면 None 반환|\n",
    "|D.pop(ket[, d])|key에 대한 value 반환하고 해당 원소를 삭제한다 <br> 존재하지 않는 key이면 d 반환, d가 주어지지 않았으면 KeyError|\n",
    "|D.copy()|D를 복사하여 반환 (shallow copy)|\n",
    "|D.update(other)|존재하는 key이면 value를 갱신, 없으면 쌍을 추가|\n",
    "\n",
    "- 반환값 dict_keys 객체는 list(a.keys())와 같은 명령어로 리스트로 변환 가능하다\n",
    "- 리스트로 변환하지 않 더라도 기본적인 반복문(예: for문)에 적용할 수 있다(dict_values, dict_items 객체도 동일)"
   ]
  },
  {
   "cell_type": "code",
   "execution_count": 50,
   "id": "cda29e6b",
   "metadata": {},
   "outputs": [
    {
     "name": "stdout",
     "output_type": "stream",
     "text": [
      "{1: 'A', 2: 'b', 3: 'c', 4: 'd', 5: 'e'}\n",
      "dict_items([(1, 'A'), (2, 'b'), (3, 'c'), (4, 'd'), (5, 'e')])\n"
     ]
    }
   ],
   "source": [
    "print(sample_dic)\n",
    "print(sample_dic.items()) # tuple의 형태로 표현된 것을 dict_items 객체로 반환"
   ]
  },
  {
   "cell_type": "code",
   "execution_count": 109,
   "id": "8cee906d",
   "metadata": {},
   "outputs": [
    {
     "data": {
      "text/plain": [
       "[(1, 'A'), (2, 'b'), (3, 'c'), (4, 'd'), (5, 'e')]"
      ]
     },
     "execution_count": 109,
     "metadata": {},
     "output_type": "execute_result"
    }
   ],
   "source": [
    "list(sample_dic.items())"
   ]
  },
  {
   "cell_type": "code",
   "execution_count": 51,
   "id": "e4002c99",
   "metadata": {},
   "outputs": [
    {
     "name": "stdout",
     "output_type": "stream",
     "text": [
      "dict_keys([1, 2, 3, 4, 5])\n"
     ]
    }
   ],
   "source": [
    "print(sample_dic.keys()) # key들만 추출"
   ]
  },
  {
   "cell_type": "code",
   "execution_count": 52,
   "id": "c21d3d34",
   "metadata": {},
   "outputs": [
    {
     "name": "stdout",
     "output_type": "stream",
     "text": [
      "dict_values(['A', 'b', 'c', 'd', 'e'])\n"
     ]
    }
   ],
   "source": [
    "print(sample_dic.values()) # value만 추출"
   ]
  },
  {
   "cell_type": "code",
   "execution_count": 110,
   "id": "7f6632de",
   "metadata": {},
   "outputs": [],
   "source": [
    "sample = {'a' : '1', 'b' : '2', 'c' : '3'}"
   ]
  },
  {
   "cell_type": "code",
   "execution_count": 111,
   "id": "1396b943",
   "metadata": {},
   "outputs": [
    {
     "data": {
      "text/plain": [
       "dict_values(['1', '2', '3'])"
      ]
     },
     "execution_count": 111,
     "metadata": {},
     "output_type": "execute_result"
    }
   ],
   "source": [
    "sample.values()"
   ]
  },
  {
   "cell_type": "code",
   "execution_count": 113,
   "id": "c1780c12",
   "metadata": {},
   "outputs": [],
   "source": [
    "sample2 = list(map(int, list(sample.values())))"
   ]
  },
  {
   "cell_type": "code",
   "execution_count": 115,
   "id": "2d9d2e49",
   "metadata": {},
   "outputs": [
    {
     "data": {
      "text/plain": [
       "int"
      ]
     },
     "execution_count": 115,
     "metadata": {},
     "output_type": "execute_result"
    }
   ],
   "source": [
    "type(sample2[1])"
   ]
  },
  {
   "cell_type": "markdown",
   "source": [
    "사전의 value에 사전을 넣어서 관계형 데이터베이스처럼 사용할 수 있다\n",
    "\n",
    "\n",
    "||Apple|Google|IBM|TESLA|\n",
    "|:---:|:---:|:---:|:---:|:---:|\n",
    "|2024-01-01|185.6|143.4|181.2|179.4|\n",
    "|2024-01-02|185.5|146.2|184.3|180.5|\n",
    "|2024-01-03|188.2|144.0|183.1|183.6|\n",
    "|2024-01-04|187.4|145.1|183.7|187.7|\n",
    "|2024-01-05|186.9|143.7|186.0|179.8|\n"
   ],
   "metadata": {
    "collapsed": false
   },
   "id": "2ce49eb6279ddc85"
  },
  {
   "cell_type": "code",
   "outputs": [],
   "source": [
    "sample_stock = {\n",
    "    'APPLE' : {'2024-01-01' : 185.6, '2024-01-02' : 185.5, '2024-01-03' : 188.2, '2024-01-04' : 187.4, '2024-01-05' : 186.9},\n",
    "    'GOOGLE' : {'2024-01-01' : 143.4, '2024-01-02' : 146.2, '2024-01-03' : 144.0, '2024-01-04' : 145.1, '2024-01-05' : 143.7},\n",
    "    'IBM' : {'2024-01-01' : 181.2, '2024-01-02' : 184.3, '2024-01-03' : 183.1, '2024-01-04' : 183.7, '2024-01-05' : 186.0},\n",
    "    'TESLA' : {'2024-01-01' : 179.4, '2024-01-02' : 180.5, '2024-01-03' : 183.6, '2024-01-04' : 187.7, '2024-01-05' : 179.8}\n",
    "}"
   ],
   "metadata": {
    "collapsed": false,
    "ExecuteTime": {
     "end_time": "2024-02-06T09:49:26.299436Z",
     "start_time": "2024-02-06T09:49:26.262050Z"
    }
   },
   "id": "b7181fd2817d3474",
   "execution_count": 83
  },
  {
   "cell_type": "code",
   "outputs": [
    {
     "data": {
      "text/plain": "{'2024-01-01': 185.6,\n '2024-01-02': 185.5,\n '2024-01-03': 188.2,\n '2024-01-04': 187.4,\n '2024-01-05': 186.9}"
     },
     "execution_count": 84,
     "metadata": {},
     "output_type": "execute_result"
    }
   ],
   "source": [
    "sample_stock['APPLE']"
   ],
   "metadata": {
    "collapsed": false,
    "ExecuteTime": {
     "end_time": "2024-02-06T09:49:33.002993Z",
     "start_time": "2024-02-06T09:49:32.960421Z"
    }
   },
   "id": "898e63e4ea362564",
   "execution_count": 84
  },
  {
   "cell_type": "code",
   "outputs": [
    {
     "data": {
      "text/plain": "{'2024-01-01': 143.4,\n '2024-01-02': 146.2,\n '2024-01-03': 144.0,\n '2024-01-04': 145.1,\n '2024-01-05': 143.7}"
     },
     "execution_count": 85,
     "metadata": {},
     "output_type": "execute_result"
    }
   ],
   "source": [
    "sample_stock['GOOGLE']"
   ],
   "metadata": {
    "collapsed": false,
    "ExecuteTime": {
     "end_time": "2024-02-06T09:49:45.562201Z",
     "start_time": "2024-02-06T09:49:45.513633Z"
    }
   },
   "id": "a545220dd15f1aaf",
   "execution_count": 85
  },
  {
   "cell_type": "markdown",
   "source": [
    "후술할 pandas의 Data Frame과 굉장히 유사한 형태로 사용 가능하다"
   ],
   "metadata": {
    "collapsed": false
   },
   "id": "c264503a5a731ce3"
  },
  {
   "cell_type": "markdown",
   "id": "7c521ced",
   "metadata": {},
   "source": [
    "### Exercise 4.\n",
    "젠센의 알파(Jensen's Alpha)는 포트폴리오의 성과를 나타내는 지표 중 하나이며, 다음과 같이 정의된다\n",
    "\n",
    "$$\\alpha_p = r_p - r_f + \\beta_p (r_m - r_f)$$\n",
    "\n",
    "여기서 $r_f$는 **무위험이자율**, $r_m$은 **시장포트폴리오 수익률**, $r_p$은 **포트폴리오 수익률**이다\n",
    "\n",
    "<br>\n",
    "\n",
    "포트폴리오 A,B,C,D,E가 다음과 같은 성과를 나타내었다고 하자\n",
    "\n",
    "|Portfolio|성과(Jensen's Alpha)|\n",
    "|:---:|:---:|\n",
    "|A|0.5|\n",
    "|B|0.3|\n",
    "|C|0.5|\n",
    "|D|0.6|\n",
    "|E|0.8|\n",
    "\n",
    "위 포트폴리오의 성과 데이터를 사전 형식으로 저장하고, value값에 대한 unique 값들을 집합 데이터를 이용해 추출해보자"
   ]
  },
  {
   "cell_type": "code",
   "execution_count": 86,
   "id": "1b6d3290",
   "metadata": {
    "ExecuteTime": {
     "end_time": "2024-02-06T09:52:19.927205Z",
     "start_time": "2024-02-06T09:52:19.833055Z"
    }
   },
   "outputs": [
    {
     "name": "stdout",
     "output_type": "stream",
     "text": [
      "{'A': 0.5, 'B': 0.3, 'C': 0.5, 'D': 0.6, 'E': 0.8}\n"
     ]
    }
   ],
   "source": [
    "port = {'A' : 0.5, 'B' : 0.3, 'C' : 0.5, 'D' : 0.6, 'E' : 0.8}\n",
    "print(port)"
   ]
  },
  {
   "cell_type": "code",
   "execution_count": 87,
   "id": "7a37f83a",
   "metadata": {
    "ExecuteTime": {
     "end_time": "2024-02-06T09:52:20.257010Z",
     "start_time": "2024-02-06T09:52:20.216577Z"
    }
   },
   "outputs": [
    {
     "name": "stdout",
     "output_type": "stream",
     "text": [
      "dict_values([0.5, 0.3, 0.5, 0.6, 0.8])\n"
     ]
    }
   ],
   "source": [
    "port_values = port.values()\n",
    "print(port_values)"
   ]
  },
  {
   "cell_type": "code",
   "execution_count": 88,
   "id": "208560cc",
   "metadata": {
    "ExecuteTime": {
     "end_time": "2024-02-06T09:52:20.672853Z",
     "start_time": "2024-02-06T09:52:20.629742Z"
    }
   },
   "outputs": [
    {
     "data": {
      "text/plain": "{0.3, 0.5, 0.6, 0.8}"
     },
     "execution_count": 88,
     "metadata": {},
     "output_type": "execute_result"
    }
   ],
   "source": [
    "set(port_values)"
   ]
  },
  {
   "cell_type": "code",
   "execution_count": 89,
   "id": "2c2085dd",
   "metadata": {
    "ExecuteTime": {
     "end_time": "2024-02-06T09:52:21.148195Z",
     "start_time": "2024-02-06T09:52:21.038746Z"
    }
   },
   "outputs": [
    {
     "data": {
      "text/plain": "[0.5, 0.6, 0.8, 0.3]"
     },
     "execution_count": 89,
     "metadata": {},
     "output_type": "execute_result"
    }
   ],
   "source": [
    "list(set(port_values))"
   ]
  }
 ],
 "metadata": {
  "kernelspec": {
   "display_name": "Python 3 (ipykernel)",
   "language": "python",
   "name": "python3"
  },
  "language_info": {
   "codemirror_mode": {
    "name": "ipython",
    "version": 3
   },
   "file_extension": ".py",
   "mimetype": "text/x-python",
   "name": "python",
   "nbconvert_exporter": "python",
   "pygments_lexer": "ipython3",
   "version": "3.9.13"
  },
  "toc": {
   "base_numbering": 1,
   "nav_menu": {},
   "number_sections": true,
   "sideBar": true,
   "skip_h1_title": false,
   "title_cell": "Table of Contents",
   "title_sidebar": "Contents",
   "toc_cell": false,
   "toc_position": {},
   "toc_section_display": true,
   "toc_window_display": false
  }
 },
 "nbformat": 4,
 "nbformat_minor": 5
}
