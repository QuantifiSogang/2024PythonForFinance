{
 "cells": [
  {
   "cell_type": "markdown",
   "id": "8d204f74",
   "metadata": {},
   "source": [
    "## Classes and Libraries\n",
    "\n",
    "### Object Oriented Programming Basics\n",
    "\n",
    "- 프로그램을 명령어들의 목록이 아니라, 객체들의 모임으로서, 객체와 객체와의 상호관계를 중심으로 작성하자는 패러다임이다\n",
    "- 작성자 중심의 코드보다는 사용자 중심의 프로그래밍이다\n",
    "- 3자의 눈으로 설계를 해야하기 때문에 고난도의 지식이 요구된다\n",
    "- **Keras, Tensorflow, Pytorch를 사용하기 위해서는 필수 지식이다**\n",
    "- 이 수업에서는 코드를 구별하기 위한 기초적 지식만 다룬다\n",
    "\n",
    "<br>\n",
    "\n",
    "- **객체(object)** : 속성과 행위를 가지고 있으며 이름을 붙일 수 있는 물체\n",
    "- **class** : 객체를 만들기 위한 설계도\n",
    "- **instance** : 설계도에 따라 실제로 구현된 것"
   ]
  },
  {
   "cell_type": "code",
   "outputs": [],
   "source": [
    "def temp(param1, param2) :\n",
    "    pass"
   ],
   "metadata": {
    "collapsed": false
   },
   "id": "585d65f2a440656e"
  },
  {
   "cell_type": "code",
   "execution_count": 6,
   "id": "999f222e",
   "metadata": {
    "ExecuteTime": {
     "end_time": "2024-02-14T12:38:01.387342Z",
     "start_time": "2024-02-14T12:38:01.351732Z"
    }
   },
   "outputs": [],
   "source": [
    "class Client(object) : # Class 선언\n",
    "    def __init__(self, name, year, client_id) : # initializer, 필수적으로 있어야 함\n",
    "        # initializer는 Class가 instance 되자마자 생성되므로 해당되는 변수가 모두 입력되어야 함\n",
    "        self.name = name # self는 Class내에서 처리되는 instance 변수\n",
    "        self.year = year\n",
    "        self.client_id = client_id\n",
    "        \n",
    "    def introduce_client(self) : # method\n",
    "        print(self.name, self.year, self.client_id)\n",
    "        return self.name, self.year, self.client_id"
   ]
  },
  {
   "cell_type": "markdown",
   "id": "9687e341",
   "metadata": {},
   "source": [
    "- self.가 붙은 변수는 Object별로 따로 저장되는 instance 변수라고 한다\n",
    "- Class 하위에 선언된 Class function들을 **Method**라고 한다"
   ]
  },
  {
   "cell_type": "code",
   "execution_count": 7,
   "id": "72fb631f",
   "metadata": {
    "ExecuteTime": {
     "end_time": "2024-02-14T12:38:02.977436Z",
     "start_time": "2024-02-14T12:38:02.966442Z"
    }
   },
   "outputs": [],
   "source": [
    "person1 = Client('김철수', 5, 1)\n",
    "person2 = Client('신짱구', 4, 2) # person1과 person2는 각자 다른 정보로 저장됨"
   ]
  },
  {
   "cell_type": "code",
   "execution_count": 8,
   "id": "cd5447de",
   "metadata": {
    "ExecuteTime": {
     "end_time": "2024-02-14T12:38:03.399018Z",
     "start_time": "2024-02-14T12:38:03.390577Z"
    }
   },
   "outputs": [
    {
     "data": {
      "text/plain": "<__main__.Client at 0x1060e2b00>"
     },
     "execution_count": 8,
     "metadata": {},
     "output_type": "execute_result"
    }
   ],
   "source": [
    "person1"
   ]
  },
  {
   "cell_type": "code",
   "execution_count": 9,
   "id": "7cd80266",
   "metadata": {
    "ExecuteTime": {
     "end_time": "2024-02-14T12:38:04.099281Z",
     "start_time": "2024-02-14T12:38:04.088479Z"
    }
   },
   "outputs": [
    {
     "data": {
      "text/plain": "__main__.Client"
     },
     "execution_count": 9,
     "metadata": {},
     "output_type": "execute_result"
    }
   ],
   "source": [
    "type(person1) # Client Class의 객체"
   ]
  },
  {
   "cell_type": "code",
   "execution_count": 10,
   "id": "987f237f",
   "metadata": {
    "ExecuteTime": {
     "end_time": "2024-02-14T12:38:05.487888Z",
     "start_time": "2024-02-14T12:38:05.476438Z"
    }
   },
   "outputs": [
    {
     "name": "stdout",
     "output_type": "stream",
     "text": [
      "김철수 5 1\n"
     ]
    },
    {
     "data": {
      "text/plain": "('김철수', 5, 1)"
     },
     "execution_count": 10,
     "metadata": {},
     "output_type": "execute_result"
    }
   ],
   "source": [
    "person1.introduce_client() # method"
   ]
  },
  {
   "cell_type": "code",
   "execution_count": 11,
   "id": "927902f4",
   "metadata": {
    "ExecuteTime": {
     "end_time": "2024-02-14T12:38:16.186484Z",
     "start_time": "2024-02-14T12:38:16.153967Z"
    }
   },
   "outputs": [
    {
     "name": "stdout",
     "output_type": "stream",
     "text": [
      "신짱구 4 2\n"
     ]
    },
    {
     "data": {
      "text/plain": "('신짱구', 4, 2)"
     },
     "execution_count": 11,
     "metadata": {},
     "output_type": "execute_result"
    }
   ],
   "source": [
    "person2.introduce_client() # method"
   ]
  },
  {
   "cell_type": "markdown",
   "id": "14c4d30a",
   "metadata": {},
   "source": [
    "### Exercise 1.\n",
    "- 사칙연산을 가능하게 하는 FourCal이라는 클래스를 만들어 보자"
   ]
  },
  {
   "cell_type": "code",
   "execution_count": 12,
   "id": "10e0d197",
   "metadata": {
    "ExecuteTime": {
     "end_time": "2024-02-14T12:38:58.544557Z",
     "start_time": "2024-02-14T12:38:58.520310Z"
    }
   },
   "outputs": [],
   "source": [
    "class FourCal(object) : \n",
    "    def __init__(self, num1, num2) : # 두 개의 수를 입력으로 받음\n",
    "        # __init__아래는 Class가 실행되자마자 생성되는 instance 변수들이다\n",
    "        self.num1 = num1 \n",
    "        self.num2 = num2\n",
    "        self.result = 0\n",
    "    \n",
    "    def Sum(self) : # method\n",
    "        self.result = self.num1 + self.num2 # Class 내의 instance 변수들간 연산은 self를 사용한다\n",
    "        return self.result # return값은 휘발되는 정보이다. \n",
    "    \n",
    "    def Sub(self) :\n",
    "        self.result = self.num1 - self.num2\n",
    "        return self.result\n",
    "    \n",
    "    def Mul(self) :\n",
    "        self.result = self.num1 * self.num2\n",
    "        return self.result\n",
    "    \n",
    "    def Div(self) :\n",
    "        self.result = self.num1 / self.num2\n",
    "        return self.result"
   ]
  },
  {
   "cell_type": "code",
   "execution_count": 13,
   "id": "b71d5e19",
   "metadata": {
    "ExecuteTime": {
     "end_time": "2024-02-14T12:39:14.966067Z",
     "start_time": "2024-02-14T12:39:14.954158Z"
    }
   },
   "outputs": [],
   "source": [
    "test = FourCal(2,3) # instance화 한다고 합니다"
   ]
  },
  {
   "cell_type": "code",
   "execution_count": 14,
   "id": "95b37794",
   "metadata": {
    "ExecuteTime": {
     "end_time": "2024-02-14T12:39:16.789169Z",
     "start_time": "2024-02-14T12:39:16.776948Z"
    }
   },
   "outputs": [
    {
     "data": {
      "text/plain": "5"
     },
     "execution_count": 14,
     "metadata": {},
     "output_type": "execute_result"
    }
   ],
   "source": [
    "test.Sum()"
   ]
  },
  {
   "cell_type": "code",
   "execution_count": 15,
   "id": "76a51de4",
   "metadata": {
    "ExecuteTime": {
     "end_time": "2024-02-14T12:39:20.843237Z",
     "start_time": "2024-02-14T12:39:20.816600Z"
    }
   },
   "outputs": [
    {
     "data": {
      "text/plain": "-1"
     },
     "execution_count": 15,
     "metadata": {},
     "output_type": "execute_result"
    }
   ],
   "source": [
    "test.Sub()"
   ]
  },
  {
   "cell_type": "code",
   "execution_count": 16,
   "id": "bdb721ff",
   "metadata": {
    "ExecuteTime": {
     "end_time": "2024-02-14T12:39:21.448836Z",
     "start_time": "2024-02-14T12:39:21.438173Z"
    }
   },
   "outputs": [
    {
     "data": {
      "text/plain": "6"
     },
     "execution_count": 16,
     "metadata": {},
     "output_type": "execute_result"
    }
   ],
   "source": [
    "test.Mul()"
   ]
  },
  {
   "cell_type": "code",
   "execution_count": 17,
   "id": "8041f7f3",
   "metadata": {
    "ExecuteTime": {
     "end_time": "2024-02-14T12:39:22.430956Z",
     "start_time": "2024-02-14T12:39:22.419393Z"
    }
   },
   "outputs": [
    {
     "data": {
      "text/plain": "0.6666666666666666"
     },
     "execution_count": 17,
     "metadata": {},
     "output_type": "execute_result"
    }
   ],
   "source": [
    "test.Div()"
   ]
  },
  {
   "cell_type": "code",
   "execution_count": 18,
   "id": "43797516",
   "metadata": {
    "ExecuteTime": {
     "end_time": "2024-02-14T12:39:29.508268Z",
     "start_time": "2024-02-14T12:39:29.482598Z"
    }
   },
   "outputs": [
    {
     "name": "stdout",
     "output_type": "stream",
     "text": [
      "5\n"
     ]
    }
   ],
   "source": [
    "a = test.Sum() # method 값의 저장\n",
    "print(a)"
   ]
  },
  {
   "cell_type": "markdown",
   "id": "5078ced6",
   "metadata": {},
   "source": [
    "### Class Members\n",
    "\n",
    "<pre>\n",
    "- Class Members\n",
    "    - method\n",
    "    - Property @\n",
    "    - class variable\n",
    "    - instance variable\n",
    "    - Initializer __init__\n",
    "    - Destructor __del__\n",
    "    </pre>\n",
    "    \n",
    "- 데이터를 표현하는 **field**와 행위를 표현하는 **method**로 구분하며, python에서는 이러한 field와 method 모두 그 객체의 attribute라고도 한다.\n",
    "- 새로운 attribute를 동적으로 추가할 수 있으며, method도 일종의 method객체로 취급하여 attribute에 포함한다.\n",
    "\n",
    "### Initializer\n",
    "- **\\_\\_init__( )**\n",
    "- class로부터 새 객체가 생성될 때 마다 실행되는 특별한 method(magic method)이다\n",
    "- instance 변수의 초기화, **객체의 초기 상태를 설정한다**\n",
    "- Python에서 Class Constructor(클래스 생성자)는 실제 런타임 엔진 내부에서 실행되는데, 이 생성자 실행 도중 Class 내에 Initializer가 있는지 체크하여 만약 있으면 **Initializer를 호출하여 객체의 변수 등을 초기화한다**\n",
    "\n",
    "### Destructor\n",
    "- **\\_\\_del__**\n",
    "- Class로부터 객체가 소멸할 때 호출되는 특별한 method\n",
    "- 객체의 reference counter(참조 카운터)가 0이 되면 자동 호출한다\n",
    "- 리소스 해제 등의 종료작업 수행한다\n",
    "- 또한, Class가 동작하는지 확인할 때에도 쓰인다"
   ]
  },
  {
   "cell_type": "code",
   "execution_count": 14,
   "id": "887377af",
   "metadata": {},
   "outputs": [],
   "source": [
    "class IceCream :\n",
    "    def __init__(self, name, price) : # 생성자 \n",
    "        self.name = name\n",
    "        self.price = price\n",
    "        print(self.name + '의 가격은 ' + str(self.price) + '원 입니다.')\n",
    "    \n",
    "    def __del__(self) : # 소멸자\n",
    "        print(self.name + ' 객체가 사라집니다')"
   ]
  },
  {
   "cell_type": "code",
   "execution_count": 15,
   "id": "b9b168ca",
   "metadata": {},
   "outputs": [
    {
     "name": "stdout",
     "output_type": "stream",
     "text": [
      "누가바의 가격은 800원 입니다.\n"
     ]
    }
   ],
   "source": [
    "obIce = IceCream(\"누가바\", 800) # Class 이름, Initializer에 넣을 변수를 지정\n",
    "# rc of obIce = 1"
   ]
  },
  {
   "cell_type": "code",
   "execution_count": 16,
   "id": "d554bfbb",
   "metadata": {},
   "outputs": [
    {
     "name": "stdout",
     "output_type": "stream",
     "text": [
      "월드콘의 가격은 1000원 입니다.\n"
     ]
    }
   ],
   "source": [
    "ob2Ice = IceCream('월드콘', 1000)\n",
    "# rc of ob2Ice = 1"
   ]
  },
  {
   "cell_type": "code",
   "execution_count": 17,
   "id": "a786adaa",
   "metadata": {},
   "outputs": [],
   "source": [
    "obIce_copy = obIce # rc of obIce = 2"
   ]
  },
  {
   "cell_type": "code",
   "execution_count": 18,
   "id": "cb513ab3",
   "metadata": {},
   "outputs": [],
   "source": [
    "del obIce # rc of obIce = 1"
   ]
  },
  {
   "cell_type": "code",
   "execution_count": 19,
   "id": "fb139751",
   "metadata": {},
   "outputs": [
    {
     "name": "stdout",
     "output_type": "stream",
     "text": [
      "누가바 객체가 사라집니다\n"
     ]
    }
   ],
   "source": [
    "del obIce_copy # rc of obIce = 0, 소멸자 호출"
   ]
  },
  {
   "cell_type": "markdown",
   "id": "8070afa3",
   "metadata": {},
   "source": [
    "### Class variable, Instance variable\n",
    "- Class 변수가 하나의 Class에 하나만 존재하는 반면, Instance 변수는 각 객체 instance마다 별도로 존재한다.\n",
    "- <span style = 'color : #132c6f'><b>Instance Variable</b></span> : 클래스 정의에서 method 안에서 사용되면서 **'self.*variable name*'** 처럼 사용되며, 이는 각 객체별로 서로 다른 값을 갖는 변수이다."
   ]
  },
  {
   "cell_type": "code",
   "execution_count": 20,
   "id": "110d7912",
   "metadata": {},
   "outputs": [],
   "source": [
    "class Account(object) :\n",
    "    num_accounts = 0 # class variable\n",
    "    def __init__(self, name) :\n",
    "        self.name = name # instance variable\n",
    "        Account.num_accounts += 1\n",
    "    \n",
    "    def __del__(self) :\n",
    "        Account.num_accounts -= 1"
   ]
  },
  {
   "cell_type": "code",
   "execution_count": 21,
   "id": "1a3456e2",
   "metadata": {},
   "outputs": [
    {
     "data": {
      "text/plain": [
       "'kim'"
      ]
     },
     "execution_count": 21,
     "metadata": {},
     "output_type": "execute_result"
    }
   ],
   "source": [
    "kim = Account('kim')\n",
    "kim.name"
   ]
  },
  {
   "cell_type": "code",
   "execution_count": 22,
   "id": "31bd9b5f",
   "metadata": {},
   "outputs": [
    {
     "data": {
      "text/plain": [
       "1"
      ]
     },
     "execution_count": 22,
     "metadata": {},
     "output_type": "execute_result"
    }
   ],
   "source": [
    "kim.num_accounts"
   ]
  },
  {
   "cell_type": "code",
   "execution_count": 23,
   "id": "4442e9be",
   "metadata": {},
   "outputs": [
    {
     "data": {
      "text/plain": [
       "1"
      ]
     },
     "execution_count": 23,
     "metadata": {},
     "output_type": "execute_result"
    }
   ],
   "source": [
    "Account.num_accounts"
   ]
  },
  {
   "cell_type": "code",
   "execution_count": 24,
   "id": "adf7c6b1",
   "metadata": {},
   "outputs": [],
   "source": [
    "lee = Account('lee')"
   ]
  },
  {
   "cell_type": "code",
   "execution_count": 25,
   "id": "0cc66cf3",
   "metadata": {},
   "outputs": [
    {
     "data": {
      "text/plain": [
       "'lee'"
      ]
     },
     "execution_count": 25,
     "metadata": {},
     "output_type": "execute_result"
    }
   ],
   "source": [
    "lee.name"
   ]
  },
  {
   "cell_type": "code",
   "execution_count": 26,
   "id": "60e28660",
   "metadata": {},
   "outputs": [
    {
     "data": {
      "text/plain": [
       "2"
      ]
     },
     "execution_count": 26,
     "metadata": {},
     "output_type": "execute_result"
    }
   ],
   "source": [
    "lee.num_accounts"
   ]
  },
  {
   "cell_type": "code",
   "execution_count": 27,
   "id": "6b26b0d4",
   "metadata": {},
   "outputs": [
    {
     "data": {
      "text/plain": [
       "2"
      ]
     },
     "execution_count": 27,
     "metadata": {},
     "output_type": "execute_result"
    }
   ],
   "source": [
    "Account.num_accounts # Class 변수는 Class 사용 횟수에 따라 카운팅 된다"
   ]
  },
  {
   "cell_type": "markdown",
   "id": "fa3049db",
   "metadata": {},
   "source": [
    "### Encapsulation\n",
    "- **캡슐화**는 객체의 외부에서 객체 내부의 속성을 <span style = 'color : #132c6f'>직접적으로 접근, 속성을 읽거나 변경시키지 못하게 하는 것</span>을 말한다.\n",
    "- 객체의 속성을 접근, 속성을 읽거나 변경하고 싶으면 반드시 <span style = 'color : #132c6f'><b>허락된 인터페이스를 통해서</b></span>만이 가능하다.\n",
    "    - 객체가 **외부로 공개한 메서드**를 뜻한다.\n",
    "    \n",
    "#### Access Modifiers\n",
    "- C++나 Java와 같은 OOP 언어에서는 객체의 속성이나 메서드에 접근을 제어하는 접근 지정자 (**public, private, protected**)가 제공된다.\n",
    "- python에서는 이런 접근 지정자가 없다.\n",
    "- python class에서는 기본적으로 모든 멤버가 public이라고 할 수 있다.\n",
    "- python에서의 접근 지정은 이름 규칙을 통해 처리되며, 프로그래머가 접근 지정에 대한 책임을 지게 한다.\n",
    "- python에서는 접근 지정을 구분하기 위해 밑줄(under bar)를 사용한다.\n",
    "\n",
    "\n",
    "|Mode|설명|\n",
    "|:---:|:---:|\n",
    "|**public**| 공개 모드로서 객체 외부에서 접근이 가능하다. 언더바가 없다.|\n",
    "|**protected**| 객체 외부에서 접근해서는 안 된다. <br> 코딩 관례상 내부적으로만 사용되는 변수 또는 메서드에 사용한다. 언더바가 하나이다.|\n",
    "|**private**| private 모드로서 객체 외부뿐만 아니라 상속받은 객체에서도 접근이 안 된다.|\n",
    "\n",
    "\n",
    "- protected 모드도 public이므로 필요하면 외부에서 엑세스가 가능하다.\n",
    "- private 모드 또한 바꾸는 규칙만 알면 외부에서 바꿀수는 있다."
   ]
  },
  {
   "cell_type": "code",
   "execution_count": 66,
   "id": "7bb83104",
   "metadata": {},
   "outputs": [],
   "source": [
    "class Client(object) : # Class 선언\n",
    "    def __init__(self, name, year, client_id) :\n",
    "        self.name = name # public\n",
    "        self._year = year # protected mode\n",
    "        self.__client_id = client_id # private mode\n",
    "        \n",
    "    def introduce_client(self) :\n",
    "        print(self.name, self._year, self.__client_id)"
   ]
  },
  {
   "cell_type": "code",
   "execution_count": 67,
   "id": "59bf048d",
   "metadata": {},
   "outputs": [],
   "source": [
    "person1 = Client('김철수', 5, 1)"
   ]
  },
  {
   "cell_type": "code",
   "execution_count": 68,
   "id": "922f8255",
   "metadata": {},
   "outputs": [
    {
     "data": {
      "text/plain": [
       "'김철수'"
      ]
     },
     "execution_count": 68,
     "metadata": {},
     "output_type": "execute_result"
    }
   ],
   "source": [
    "person1.name # public mode"
   ]
  },
  {
   "cell_type": "code",
   "execution_count": 69,
   "id": "3609aeaf",
   "metadata": {},
   "outputs": [
    {
     "data": {
      "text/plain": [
       "5"
      ]
     },
     "execution_count": 69,
     "metadata": {},
     "output_type": "execute_result"
    }
   ],
   "source": [
    "person1._year # protected mode"
   ]
  },
  {
   "cell_type": "code",
   "execution_count": 70,
   "id": "34e6c281",
   "metadata": {},
   "outputs": [
    {
     "ename": "AttributeError",
     "evalue": "'Client' object has no attribute '__client_id'",
     "output_type": "error",
     "traceback": [
      "\u001B[0;31m---------------------------------------------------------------------------\u001B[0m",
      "\u001B[0;31mAttributeError\u001B[0m                            Traceback (most recent call last)",
      "\u001B[0;32m/var/folders/7g/v3wmln7x2mv8wqmn923x0qy40000gn/T/ipykernel_2890/1736621639.py\u001B[0m in \u001B[0;36m<module>\u001B[0;34m\u001B[0m\n\u001B[0;32m----> 1\u001B[0;31m \u001B[0mperson1\u001B[0m\u001B[0;34m.\u001B[0m\u001B[0m__client_id\u001B[0m \u001B[0;31m# private mode는 접근이 불가능하다\u001B[0m\u001B[0;34m\u001B[0m\u001B[0;34m\u001B[0m\u001B[0m\n\u001B[0m",
      "\u001B[0;31mAttributeError\u001B[0m: 'Client' object has no attribute '__client_id'"
     ]
    }
   ],
   "source": [
    "person1.__client_id # private mode는 접근이 불가능하다"
   ]
  },
  {
   "cell_type": "code",
   "execution_count": 71,
   "id": "d98b6a06",
   "metadata": {},
   "outputs": [],
   "source": [
    "person1.name = '신짱구'"
   ]
  },
  {
   "cell_type": "code",
   "execution_count": 72,
   "id": "e62d3dd7",
   "metadata": {},
   "outputs": [
    {
     "data": {
      "text/plain": [
       "'신짱구'"
      ]
     },
     "execution_count": 72,
     "metadata": {},
     "output_type": "execute_result"
    }
   ],
   "source": [
    "person1.name # public instance 변수는 수정이 자유롭다"
   ]
  },
  {
   "cell_type": "code",
   "execution_count": 73,
   "id": "792c74e3",
   "metadata": {},
   "outputs": [],
   "source": [
    "person1._year = 4"
   ]
  },
  {
   "cell_type": "code",
   "execution_count": 74,
   "id": "6932dae5",
   "metadata": {},
   "outputs": [
    {
     "data": {
      "text/plain": [
       "4"
      ]
     },
     "execution_count": 74,
     "metadata": {},
     "output_type": "execute_result"
    }
   ],
   "source": [
    "person1._year"
   ]
  },
  {
   "cell_type": "markdown",
   "id": "ffc509a0",
   "metadata": {},
   "source": [
    "### property\n",
    "- **get / set method**\n",
    "    - 단지 객체의 속성 값을 읽거나 설정하는데 사용되는 method\n",
    "- **property**\n",
    "    - 객체의 속성을 접근하는 것이 <span style = 'color : #132c6f'><b>마치 속성에 직접적으로 접근하는 것처럼 보이지만</b></span> 내부적으로는 method를 통해 접근하도록 하는 방식"
   ]
  },
  {
   "cell_type": "code",
   "execution_count": 75,
   "id": "bc42f5c2",
   "metadata": {},
   "outputs": [],
   "source": [
    "class Client(object) : \n",
    "    def __init__(self) : # property를 사용하고자 하는 경우, 빈값으로 생성\n",
    "        self._name = '' \n",
    "        self._year = 0\n",
    "        self._client_id = 0\n",
    "        \n",
    "    @property # decorator\n",
    "    def name(self) :\n",
    "        return self._name\n",
    "    \n",
    "    @name.setter # setter\n",
    "    def name(self, value) : # 외부로부터 정보를 받아들일 value 필요\n",
    "        self._name = value # __init__에서 초기에 생성되는것과 달리, 따로 지정이 가능하다\n",
    "        \n",
    "    @property\n",
    "    def year(self) :\n",
    "        return self._year\n",
    "    \n",
    "    @year.setter\n",
    "    def year(self, value) :\n",
    "        self._year = value\n",
    "        \n",
    "    @property\n",
    "    def client_id(self) :\n",
    "        return self._client_id\n",
    "    \n",
    "    @client_id.setter\n",
    "    def client_id(self, value) :\n",
    "        self._client_id = value\n",
    "        \n",
    "    def introduce_client(self) :\n",
    "        return self.name, self._year, self._client_id"
   ]
  },
  {
   "cell_type": "code",
   "execution_count": 76,
   "id": "695f7b64",
   "metadata": {},
   "outputs": [],
   "source": [
    "person1 = Client()"
   ]
  },
  {
   "cell_type": "code",
   "execution_count": 77,
   "id": "074cafde",
   "metadata": {},
   "outputs": [],
   "source": [
    "person1.name = '김철수'\n",
    "person1.year = 5\n",
    "person1.client_id = 1"
   ]
  },
  {
   "cell_type": "code",
   "execution_count": 78,
   "id": "6987442a",
   "metadata": {},
   "outputs": [
    {
     "data": {
      "text/plain": [
       "('김철수', 5, 1)"
      ]
     },
     "execution_count": 78,
     "metadata": {},
     "output_type": "execute_result"
    }
   ],
   "source": [
    "person1.introduce_client()"
   ]
  },
  {
   "cell_type": "markdown",
   "id": "c69fc33d",
   "metadata": {},
   "source": [
    "객체의 속성을 접근하듯이 사용하지만, name, year, client_id가 내부적으로 method이다"
   ]
  },
  {
   "cell_type": "markdown",
   "id": "1c0937e2",
   "metadata": {},
   "source": [
    "### property class 이용\n",
    "- **@decorator** : 전통적인 방식\n",
    "- python 2.6 이후부터 property class가 제공된다 : class 형식으로도 사용이 가능하다\n",
    "- property class의 문법\n",
    "    - property object을 만들어 돌려주는 built-in function\n",
    "    - <span style = 'color : #132c6f'><b>property(fget = None, fset = None, fdel = None, doc = None)</b></span> -> property attribute\n",
    "|**parameter**|**인자 설명**|\n",
    "|:---:|:---:|\n",
    "|**fget**| get 함수를 설정하는 인자|\n",
    "|**fset**| set 함수를 설정하는 인자|\n",
    "|**fdel**| delete 함수를 설정하는 인자|\n",
    "|**doc**| 이 속성의 설명을 설정하는 인자|"
   ]
  },
  {
   "cell_type": "markdown",
   "id": "c5f7531a",
   "metadata": {},
   "source": [
    "### Exercise 2.\n",
    "- 현재가치와 미래가치를 계산하는 method가 포함된 IntCal Class를 만들어 보자"
   ]
  },
  {
   "cell_type": "code",
   "execution_count": 20,
   "id": "fcec1faa",
   "metadata": {
    "ExecuteTime": {
     "end_time": "2024-02-14T12:44:56.016653Z",
     "start_time": "2024-02-14T12:44:55.982814Z"
    }
   },
   "outputs": [],
   "source": [
    "class IntCal(object) :\n",
    "    def __init__(self, interest, year, money) :\n",
    "        self.interest = interest\n",
    "        self.year = year\n",
    "        self.money = money\n",
    "    \n",
    "    def future_to_present(self) :\n",
    "        return self.money / (1 + self.interest) ** self.year\n",
    "    \n",
    "    def present_to_future(self) :\n",
    "        return self.money * (1 + self.interest) ** self.year"
   ]
  },
  {
   "cell_type": "code",
   "execution_count": 86,
   "id": "798f2db8",
   "metadata": {},
   "outputs": [],
   "source": [
    "class IntCal(object) :\n",
    "    def __init__(self) :\n",
    "        self._interest = 0\n",
    "        self._year = 0\n",
    "        self._money = 0\n",
    "    \n",
    "    @property\n",
    "    def interest(self) :\n",
    "        return self._interest\n",
    "    \n",
    "    @interest.setter\n",
    "    def interest(self, value) :\n",
    "        self._interest = value\n",
    "        \n",
    "    @property\n",
    "    def year(self) :\n",
    "        return self._year\n",
    "    \n",
    "    @year.setter\n",
    "    def year(self, value) :\n",
    "        self._year = value\n",
    "        \n",
    "    @property\n",
    "    def money(self) :\n",
    "        return self._money\n",
    "    \n",
    "    @money.setter\n",
    "    def money(self, value) :\n",
    "        self._money = value\n",
    "        \n",
    "    def future_to_present(self) :\n",
    "        return self._money / (1 + self._interest) ** self._year\n",
    "    \n",
    "    def present_to_future(self) :\n",
    "        return self._money * (1 + self._interest) ** self._year"
   ]
  },
  {
   "cell_type": "code",
   "execution_count": 25,
   "id": "e69f949b",
   "metadata": {
    "ExecuteTime": {
     "end_time": "2024-02-14T12:45:43.948642Z",
     "start_time": "2024-02-14T12:45:43.935782Z"
    }
   },
   "outputs": [],
   "source": [
    "value1 = IntCal(0.05, 3, 1000)"
   ]
  },
  {
   "cell_type": "code",
   "outputs": [
    {
     "data": {
      "text/plain": "0.05"
     },
     "execution_count": 26,
     "metadata": {},
     "output_type": "execute_result"
    }
   ],
   "source": [
    "value1.interest"
   ],
   "metadata": {
    "collapsed": false,
    "ExecuteTime": {
     "end_time": "2024-02-14T12:45:44.373959Z",
     "start_time": "2024-02-14T12:45:44.365694Z"
    }
   },
   "id": "37463b787621e96",
   "execution_count": 26
  },
  {
   "cell_type": "code",
   "outputs": [
    {
     "data": {
      "text/plain": "1000"
     },
     "execution_count": 27,
     "metadata": {},
     "output_type": "execute_result"
    }
   ],
   "source": [
    "value1.money"
   ],
   "metadata": {
    "collapsed": false,
    "ExecuteTime": {
     "end_time": "2024-02-14T12:45:44.642640Z",
     "start_time": "2024-02-14T12:45:44.631714Z"
    }
   },
   "id": "b8f2c1c2f5d100b0",
   "execution_count": 27
  },
  {
   "cell_type": "code",
   "outputs": [
    {
     "data": {
      "text/plain": "3"
     },
     "execution_count": 28,
     "metadata": {},
     "output_type": "execute_result"
    }
   ],
   "source": [
    "value1.year"
   ],
   "metadata": {
    "collapsed": false,
    "ExecuteTime": {
     "end_time": "2024-02-14T12:45:48.780648Z",
     "start_time": "2024-02-14T12:45:48.764996Z"
    }
   },
   "id": "2589ebdbe69c1f21",
   "execution_count": 28
  },
  {
   "cell_type": "code",
   "execution_count": 88,
   "id": "84ffdc39",
   "metadata": {},
   "outputs": [],
   "source": [
    "value1.interest = 0.05\n",
    "value1.money = 1000\n",
    "value1.year = 3"
   ]
  },
  {
   "cell_type": "code",
   "execution_count": 29,
   "id": "6f38e894",
   "metadata": {
    "ExecuteTime": {
     "end_time": "2024-02-14T12:45:58.186311Z",
     "start_time": "2024-02-14T12:45:58.157312Z"
    }
   },
   "outputs": [
    {
     "data": {
      "text/plain": "863.837598531476"
     },
     "execution_count": 29,
     "metadata": {},
     "output_type": "execute_result"
    }
   ],
   "source": [
    "value1.future_to_present()"
   ]
  },
  {
   "cell_type": "code",
   "execution_count": 30,
   "id": "0d26643d",
   "metadata": {
    "scrolled": true,
    "ExecuteTime": {
     "end_time": "2024-02-14T12:46:20.514727Z",
     "start_time": "2024-02-14T12:46:20.491157Z"
    }
   },
   "outputs": [
    {
     "data": {
      "text/plain": "1157.6250000000002"
     },
     "execution_count": 30,
     "metadata": {},
     "output_type": "execute_result"
    }
   ],
   "source": [
    "value1.present_to_future()"
   ]
  },
  {
   "cell_type": "markdown",
   "id": "ebb1f281",
   "metadata": {},
   "source": [
    "### Module\n",
    "\n",
    "**모듈(module)의 정의**\n",
    "<br>\n",
    "\n",
    "    - 함수, 변수들을 정의해 둔 파일을 말한다\n",
    "    - 다른 파이썬 프로그램에서 호출해서 사용할 수 있게 만들어진 파이썬 프로그램 파일이다\n",
    "    - 각각의 소스 파일을 일컬어 모듈이라 한다\n",
    "    \n",
    "- 내장(built-in) 라이브러리는 인터프리터에 기본적으로 탑재되어 있어 import 문으로 load 하지 않아도 된다(print(), input()....)\n",
    "- 내장되어 있지 않은 표준 모듈(라이브러리)\n",
    "    - 파이썬이 개발에 필요한 기능들을 모듈 형태로 제공한다\n",
    "    - 파이썬 설치시에 함께 설치된다\n",
    "    - 하지만, import 문으로 loading 해서 사용해야 한다\n",
    "- 사용자 생성 모듈\n",
    "    - 프로그래머가 작성한 모듈을 말한다"
   ]
  },
  {
   "cell_type": "code",
   "execution_count": 91,
   "id": "f30f7aec",
   "metadata": {},
   "outputs": [],
   "source": [
    "import math # built-in library"
   ]
  },
  {
   "cell_type": "code",
   "execution_count": 92,
   "id": "314d4a9d",
   "metadata": {},
   "outputs": [
    {
     "data": {
      "text/plain": [
       "2.302585092994046"
      ]
     },
     "execution_count": 92,
     "metadata": {},
     "output_type": "execute_result"
    }
   ],
   "source": [
    "math.log(10)"
   ]
  },
  {
   "cell_type": "code",
   "execution_count": 93,
   "id": "81608ed9",
   "metadata": {},
   "outputs": [
    {
     "data": {
      "text/plain": [
       "0.7615941559557649"
      ]
     },
     "execution_count": 93,
     "metadata": {},
     "output_type": "execute_result"
    }
   ],
   "source": [
    "math.tanh(1)"
   ]
  },
  {
   "cell_type": "code",
   "execution_count": 33,
   "id": "af48a7ad",
   "metadata": {
    "ExecuteTime": {
     "end_time": "2024-02-14T12:47:05.395302Z",
     "start_time": "2024-02-14T12:47:05.377381Z"
    }
   },
   "outputs": [
    {
     "name": "stdout",
     "output_type": "stream",
     "text": [
      "Writing client.py\n"
     ]
    }
   ],
   "source": [
    "%%writefile client.py \n",
    "\n",
    "class Client(object) : \n",
    "    def __init__(self) : # property를 사용하고자 하는 경우, 빈값으로 생성\n",
    "        self._name = '' \n",
    "        self._year = 0\n",
    "        self._client_id = 0\n",
    "        \n",
    "    @property # decorator\n",
    "    def name(self) :\n",
    "        return self._name\n",
    "    \n",
    "    @name.setter # setter\n",
    "    def name(self, value) : # 외부로부터 정보를 받아들일 value 필요\n",
    "        self._name = value # __init__에서 초기에 생성되는것과 달리, 따로 지정이 가능하다\n",
    "        \n",
    "    @property\n",
    "    def year(self) :\n",
    "        return self._year\n",
    "    \n",
    "    @year.setter\n",
    "    def year(self, value) :\n",
    "        self._year = value\n",
    "        \n",
    "    @property\n",
    "    def client_id(self) :\n",
    "        return self._client_id\n",
    "    \n",
    "    @client_id.setter\n",
    "    def client_id(self, value) :\n",
    "        self._client_id = value\n",
    "        \n",
    "    def introduce_client(self) :\n",
    "        return self.name, self._year, self._client_id"
   ]
  },
  {
   "cell_type": "markdown",
   "id": "db3a4af6",
   "metadata": {},
   "source": [
    "- %%writefile은 py파일을 생성하는 magic function이다. 읽어들이는 함수로는 %read가 있다\n",
    "- interpreter에서 작성하여 실행한 것과 동일한 효력을 낸다"
   ]
  },
  {
   "cell_type": "code",
   "execution_count": 34,
   "id": "8b58901b",
   "metadata": {
    "ExecuteTime": {
     "end_time": "2024-02-14T12:47:23.547352Z",
     "start_time": "2024-02-14T12:47:23.488195Z"
    }
   },
   "outputs": [],
   "source": [
    "import client # 사용자 정의 모듈"
   ]
  },
  {
   "cell_type": "code",
   "execution_count": 35,
   "id": "9a8007e3",
   "metadata": {
    "ExecuteTime": {
     "end_time": "2024-02-14T12:47:25.262656Z",
     "start_time": "2024-02-14T12:47:25.232950Z"
    }
   },
   "outputs": [],
   "source": [
    "person1 = client.Client() # 모듈 이름을 앞에 붙여서 사용한다"
   ]
  },
  {
   "cell_type": "code",
   "execution_count": 36,
   "id": "41c73bec",
   "metadata": {
    "ExecuteTime": {
     "end_time": "2024-02-14T12:47:25.772452Z",
     "start_time": "2024-02-14T12:47:25.739314Z"
    }
   },
   "outputs": [],
   "source": [
    "person1.name = '김철수'\n",
    "person1.year = 5\n",
    "person1.client_id = 1"
   ]
  },
  {
   "cell_type": "code",
   "execution_count": 37,
   "id": "65ae78da",
   "metadata": {
    "ExecuteTime": {
     "end_time": "2024-02-14T12:47:26.302561Z",
     "start_time": "2024-02-14T12:47:26.288490Z"
    }
   },
   "outputs": [
    {
     "data": {
      "text/plain": "('김철수', 5, 1)"
     },
     "execution_count": 37,
     "metadata": {},
     "output_type": "execute_result"
    }
   ],
   "source": [
    "person1.introduce_client()"
   ]
  },
  {
   "cell_type": "markdown",
   "id": "eef24557",
   "metadata": {},
   "source": [
    "### 외부 모듈의 설치\n",
    "- python에서는 다양한 라이브러리들이 존재한다. 그 중 가장 유명한 모듈들을 소개한다\n",
    "\n",
    "|Package Name|Statement|\n",
    "|:---:|:---:|\n",
    "|**numpy**|NumPy offers comprehensive **mathematical functions, random number generators, linear algebra routines, Fourier transforms**, and more|\n",
    "|**pandas**|Pandas is a fast, powerful, flexible and easy to use open source **data analysis and manipulation tool**, built on top of the Python programming language|\n",
    "|**matplotlib**|Matplotlib is a comprehensive library for creating static, animated, and **interactive visualizations** in Python|\n",
    "|**datetime**|The datetime module supplies classes for **manipulating dates and times**|\n",
    "|**sklearn**|Simple and efficient **Machine Learning tools** for predictive data analysis|\n",
    "|**beautifulsoup4**|Beautiful Soup is a Python library for **pulling data out of HTML and XML files**|\n",
    "\n",
    "**설치 방법**\n",
    "- interpreter 혹은 python shell에 다음과 같은 명령어를 입력한다\n",
    "\n",
    "<pre><b>\n",
    "pip install (package name) </b> </pre>"
   ]
  },
  {
   "cell_type": "code",
   "execution_count": 99,
   "id": "58a75a02",
   "metadata": {},
   "outputs": [
    {
     "name": "stdout",
     "output_type": "stream",
     "text": [
      "Requirement already satisfied: numpy in /opt/anaconda3/lib/python3.9/site-packages (1.21.5)\n",
      "Requirement already satisfied: pandas in /opt/anaconda3/lib/python3.9/site-packages (1.4.4)\n",
      "Requirement already satisfied: matplotlib in /opt/anaconda3/lib/python3.9/site-packages (3.5.2)\n",
      "Requirement already satisfied: python-dateutil>=2.8.1 in /opt/anaconda3/lib/python3.9/site-packages (from pandas) (2.8.2)\n",
      "Requirement already satisfied: pytz>=2020.1 in /opt/anaconda3/lib/python3.9/site-packages (from pandas) (2022.1)\n",
      "Requirement already satisfied: kiwisolver>=1.0.1 in /opt/anaconda3/lib/python3.9/site-packages (from matplotlib) (1.4.2)\n",
      "Requirement already satisfied: packaging>=20.0 in /opt/anaconda3/lib/python3.9/site-packages (from matplotlib) (21.3)\n",
      "Requirement already satisfied: fonttools>=4.22.0 in /opt/anaconda3/lib/python3.9/site-packages (from matplotlib) (4.25.0)\n",
      "Requirement already satisfied: pyparsing>=2.2.1 in /opt/anaconda3/lib/python3.9/site-packages (from matplotlib) (3.0.9)\n",
      "Requirement already satisfied: pillow>=6.2.0 in /opt/anaconda3/lib/python3.9/site-packages (from matplotlib) (9.2.0)\n",
      "Requirement already satisfied: cycler>=0.10 in /opt/anaconda3/lib/python3.9/site-packages (from matplotlib) (0.11.0)\n",
      "Requirement already satisfied: six>=1.5 in /opt/anaconda3/lib/python3.9/site-packages (from python-dateutil>=2.8.1->pandas) (1.16.0)\n",
      "\n",
      "\u001B[1m[\u001B[0m\u001B[34;49mnotice\u001B[0m\u001B[1;39;49m]\u001B[0m\u001B[39;49m A new release of pip available: \u001B[0m\u001B[31;49m22.3.1\u001B[0m\u001B[39;49m -> \u001B[0m\u001B[32;49m23.0\u001B[0m\n",
      "\u001B[1m[\u001B[0m\u001B[34;49mnotice\u001B[0m\u001B[1;39;49m]\u001B[0m\u001B[39;49m To update, run: \u001B[0m\u001B[32;49mpip install --upgrade pip\u001B[0m\n",
      "Note: you may need to restart the kernel to use updated packages.\n"
     ]
    }
   ],
   "source": [
    "!pip install numpy pandas matplotlib"
   ]
  },
  {
   "cell_type": "code",
   "execution_count": 38,
   "id": "eff55999",
   "metadata": {
    "ExecuteTime": {
     "end_time": "2024-02-14T12:47:59.609152Z",
     "start_time": "2024-02-14T12:47:58.718743Z"
    }
   },
   "outputs": [],
   "source": [
    "import numpy as np, pandas as pd, matplotlib.pyplot as plt\n",
    "# as 예약어를 사용하면 모듈의 이름을 축약해서 사용할 수 있다"
   ]
  },
  {
   "cell_type": "code",
   "execution_count": 39,
   "id": "7adfd20d",
   "metadata": {
    "ExecuteTime": {
     "end_time": "2024-02-14T12:48:01.127438Z",
     "start_time": "2024-02-14T12:48:01.107416Z"
    }
   },
   "outputs": [
    {
     "data": {
      "text/plain": "array([1, 2, 3, 4, 5])"
     },
     "execution_count": 39,
     "metadata": {},
     "output_type": "execute_result"
    }
   ],
   "source": [
    "np.array([1,2,3,4,5]) # numpy"
   ]
  },
  {
   "cell_type": "code",
   "execution_count": 40,
   "id": "9467c0e7",
   "metadata": {
    "ExecuteTime": {
     "end_time": "2024-02-14T12:48:04.973103Z",
     "start_time": "2024-02-14T12:48:04.952269Z"
    }
   },
   "outputs": [
    {
     "data": {
      "text/plain": "1    a\n2    b\n3    c\ndtype: object"
     },
     "execution_count": 40,
     "metadata": {},
     "output_type": "execute_result"
    }
   ],
   "source": [
    "pd.Series({1 : 'a', 2 : 'b', 3 : 'c'}) # pandas"
   ]
  },
  {
   "cell_type": "code",
   "execution_count": 41,
   "id": "554646eb",
   "metadata": {
    "ExecuteTime": {
     "end_time": "2024-02-14T12:48:08.930808Z",
     "start_time": "2024-02-14T12:48:08.840832Z"
    }
   },
   "outputs": [
    {
     "data": {
      "text/plain": "<Figure size 640x480 with 1 Axes>",
      "image/png": "[encoded data removed]"
     },
     "metadata": {},
     "output_type": "display_data"
    }
   ],
   "source": [
    "plt.plot([1,2,3,4,5])\n",
    "plt.show() # matplotlib"
   ]
  },
  {
   "cell_type": "markdown",
   "id": "d29f810e",
   "metadata": {},
   "source": [
    "자세한 내용은 각자 다루기로 한다"
   ]
  },
  {
   "cell_type": "markdown",
   "id": "37acf3e9",
   "metadata": {},
   "source": [
    "### Exercise 3.\n",
    "파생상품의 차익거래 이론에서 다음과 같은 개념들이 있다\n",
    "\n",
    "#### Basis\n",
    "\n",
    "$$\\mathbf{Basis} = F_t - S_t = S_t[1 + (r-d)\\frac{\\tau}{365}]-S_t = S_t[(r-d)\\frac{\\tau}{365}]$$\n",
    "\n",
    "- 여기서 $F_t$는 선물가격, $S_t$는 기초자산의 가격, $r_f$는 수익률, $d$는 배당수익률, $\\tau$는 잔존기간을 뜻한다\n",
    "- Basis가 0보다 크면 **Contango** 시장이라 하며, 0보다 작으면 **Backwardation** 시장이라고 한다\n",
    "\n",
    "#### 단순헤지비율\n",
    "\n",
    "$$h = \\frac{S_t}{F_t}$$\n",
    "\n",
    "- 여기서 $S_t$는 기초자산의 가격, $F_t$는 선물의 가격을 말하며, $h$는 기초자산을 선물로 헤지할 때 매도해야 할 선물의 계약 수를 나타낸다\n",
    "\n",
    "Basis를 계산하는 method와 Contango, Backwardation을 구분하는 method, 단순 헤지비율을 계산하는 method를 포함한 class를 만들어 보자"
   ]
  },
  {
   "cell_type": "code",
   "execution_count": 42,
   "id": "f54e7a5c",
   "metadata": {
    "ExecuteTime": {
     "end_time": "2024-02-14T12:49:47.633393Z",
     "start_time": "2024-02-14T12:49:47.599782Z"
    }
   },
   "outputs": [],
   "source": [
    "class Market(object) :\n",
    "    def __init__(self, F, S, r, d, tau) :\n",
    "        self.F = F\n",
    "        self.S = S\n",
    "        self.r = r\n",
    "        self.d = d\n",
    "        self.tau = tau\n",
    "        \n",
    "    def basis(self) :\n",
    "        return self.S * ((self.r - self.d) * self.tau / 365)\n",
    "    \n",
    "    def CB(self) :\n",
    "        if self.S * ((self.r - self.d) * self.tau / 365) > 0 :\n",
    "            return 'Contango'\n",
    "        elif self.S * ((self.r - self.d) * self.tau / 365) < 0 :\n",
    "            return 'Backwardation'\n",
    "        \n",
    "    def hedge_rate(self) :\n",
    "        return self.S / self.F"
   ]
  },
  {
   "cell_type": "markdown",
   "id": "78b723cb",
   "metadata": {},
   "source": [
    "- 현물이 1000point, 선물이 2000point고 수익률이 8%, 배당수익률이 3%이며 잔존만기가 90일인 파생상품을 모델링하여 Basis와 단순헤지비율, Contango market인지 Backwardation market인지 판단해 보자\n",
    "- 작성한 Class를 py파일로 저장한 뒤, 사용자 생성 모듈로 import 하여 해결해 보자"
   ]
  },
  {
   "cell_type": "code",
   "execution_count": 43,
   "id": "3adfa3ca",
   "metadata": {
    "ExecuteTime": {
     "end_time": "2024-02-14T12:49:54.278173Z",
     "start_time": "2024-02-14T12:49:54.258188Z"
    }
   },
   "outputs": [],
   "source": [
    "value1 = Market(2000, 1000, 0.08, 0.03, 90)"
   ]
  },
  {
   "cell_type": "code",
   "execution_count": 44,
   "id": "05f675f3",
   "metadata": {
    "ExecuteTime": {
     "end_time": "2024-02-14T12:49:56.056640Z",
     "start_time": "2024-02-14T12:49:56.046615Z"
    }
   },
   "outputs": [
    {
     "data": {
      "text/plain": "12.32876712328767"
     },
     "execution_count": 44,
     "metadata": {},
     "output_type": "execute_result"
    }
   ],
   "source": [
    "value1.basis()"
   ]
  },
  {
   "cell_type": "code",
   "execution_count": 45,
   "id": "ade2e9cc",
   "metadata": {
    "ExecuteTime": {
     "end_time": "2024-02-14T12:49:56.484761Z",
     "start_time": "2024-02-14T12:49:56.475307Z"
    }
   },
   "outputs": [
    {
     "data": {
      "text/plain": "'Contango'"
     },
     "execution_count": 45,
     "metadata": {},
     "output_type": "execute_result"
    }
   ],
   "source": [
    "value1.CB()"
   ]
  },
  {
   "cell_type": "code",
   "execution_count": 46,
   "id": "7af2ff5b",
   "metadata": {
    "ExecuteTime": {
     "end_time": "2024-02-14T12:49:57.400012Z",
     "start_time": "2024-02-14T12:49:57.393923Z"
    }
   },
   "outputs": [
    {
     "data": {
      "text/plain": "0.5"
     },
     "execution_count": 46,
     "metadata": {},
     "output_type": "execute_result"
    }
   ],
   "source": [
    "value1.hedge_rate()"
   ]
  }
 ],
 "metadata": {
  "kernelspec": {
   "display_name": "Python 3 (ipykernel)",
   "language": "python",
   "name": "python3"
  },
  "language_info": {
   "codemirror_mode": {
    "name": "ipython",
    "version": 3
   },
   "file_extension": ".py",
   "mimetype": "text/x-python",
   "name": "python",
   "nbconvert_exporter": "python",
   "pygments_lexer": "ipython3",
   "version": "3.9.13"
  },
  "toc": {
   "base_numbering": 1,
   "nav_menu": {},
   "number_sections": true,
   "sideBar": true,
   "skip_h1_title": false,
   "title_cell": "Table of Contents",
   "title_sidebar": "Contents",
   "toc_cell": false,
   "toc_position": {},
   "toc_section_display": true,
   "toc_window_display": false
  }
 },
 "nbformat": 4,
 "nbformat_minor": 5
}
