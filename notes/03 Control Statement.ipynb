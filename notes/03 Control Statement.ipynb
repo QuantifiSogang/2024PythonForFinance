{
 "cells": [
  {
   "cell_type": "markdown",
   "id": "173d5f98",
   "metadata": {},
   "source": [
    "## Control Statement\n",
    "\n",
    "### Conditional Sentences\n",
    "\n",
    "\n",
    "<br>\n",
    "\n",
    "**3가지 기본 제어 구조**\n",
    "- 순차 구조(sequence) : 명령들을 순차적으로 실행하는 구조\n",
    "- 선택 구조(selection) : 명령을 조건에 따라 선택하여 실행하는 구조\n",
    "- 반복 구조(repetition) : 동일한 명령들을 반복 실행하는 구조"
   ]
  },
  {
   "cell_type": "markdown",
   "id": "c2363463",
   "metadata": {},
   "source": [
    "<center>\n",
    "\n",
    "<img src = \"https://blog.kakaocdn.net/dn/cYs3AD/btqEg2rCgcT/OEE0kDhCb6OzVkgx5uBLIk/img.jpg\" alt=\"My Image\">\n",
    "\n",
    "</center>"
   ]
  },
  {
   "cell_type": "markdown",
   "id": "f947759e",
   "metadata": {},
   "source": [
    "조건문(conditional sentences)은 어떤 상황에 따라 실행해야 할 코드가 다를 때 사용한다(선택 구조에 해당)"
   ]
  },
  {
   "cell_type": "markdown",
   "id": "72b9a2a2",
   "metadata": {},
   "source": [
    "### if 조건문\n",
    "- 조건(condition)의 결과가 True이면 같은 크기로 들여쓰기(indentation) 되어 있는 명령어들(코드 블록)이 실행되고, False면 else후에 같은 크기로 들여쓰기 되어 있는 명령어들이 실행된다\n",
    "- 조건의 결과가 False일 때 실행해야 할 명령어가 없다면 else 부분은 생략 가능하다"
   ]
  },
  {
   "cell_type": "code",
   "execution_count": 23,
   "id": "a7596bd7",
   "metadata": {
    "ExecuteTime": {
     "end_time": "2024-02-07T12:53:19.527354Z",
     "start_time": "2024-02-07T12:53:19.509445Z"
    }
   },
   "outputs": [
    {
     "name": "stdout",
     "output_type": "stream",
     "text": [
      "not even number\n"
     ]
    }
   ],
   "source": [
    "odd, even = 49, 50 # tuple unpacking\n",
    "if odd % 2 == 0 : # if 조건문은 조건이 True일 때 실행된다\n",
    "    print()\n",
    "    print('even number') # 들여쓰기로 블럭을 구분한다\n",
    "    print()\n",
    "else :\n",
    "    print('not even number') # if 조건문에 맞지 않으면 else 이하를 출력한다"
   ]
  },
  {
   "cell_type": "markdown",
   "id": "09d1afa8",
   "metadata": {},
   "source": [
    "### 다중 선택 구조\n",
    "- elif (else if를 합친 말이라고 생각하면 쉽다) 구문을 입력하면 다중 선택 구조를 만들 수 있다"
   ]
  },
  {
   "cell_type": "code",
   "execution_count": 24,
   "id": "72ff2b16",
   "metadata": {
    "ExecuteTime": {
     "end_time": "2024-02-07T12:53:55.396211Z",
     "start_time": "2024-02-07T12:53:49.979215Z"
    }
   },
   "outputs": [
    {
     "name": "stdout",
     "output_type": "stream",
     "text": [
      "3으로 나누면 1이 남습니다\n"
     ]
    }
   ],
   "source": [
    "N1 = int(input('정수를 입력하세요 : '))\n",
    "if N1 % 3 == 0 :\n",
    "    print('3으로 나뉘는 수입니다')\n",
    "elif N1 % 3 == 1 :\n",
    "    print('3으로 나누면 1이 남습니다')\n",
    "elif N1 % 3 == 2 : # else구문은 생략 가능하다\n",
    "    print('3으로 나누면 2가 남습니다')"
   ]
  },
  {
   "cell_type": "markdown",
   "id": "eb40b1fb",
   "metadata": {},
   "source": [
    "### Condition\n",
    "- if 조건문에서 “조건”이란 참과 거짓을 판단하는 명령어를 말한다\n",
    "- 조건을 판단하기 위해 사용되는 명령어\n",
    "    - in 연산자, not in 연산자, 관계 연산자, 논리 연산자, 산술 연산자\n",
    "    - 자료형의 값으로 참과 거짓 판단"
   ]
  },
  {
   "cell_type": "code",
   "execution_count": 25,
   "id": "9e1ce444",
   "metadata": {
    "ExecuteTime": {
     "end_time": "2024-02-07T12:54:54.335164Z",
     "start_time": "2024-02-07T12:54:48.713980Z"
    }
   },
   "outputs": [
    {
     "name": "stdout",
     "output_type": "stream",
     "text": [
      "5 is in the range\n"
     ]
    }
   ],
   "source": [
    "num_range = [1,2,5,10]\n",
    "check_num = int(input('Enter the Number : '))\n",
    "if check_num in num_range : print('%d is in the range' %check_num) # formatting\n",
    "else : print('Can not check') # 한 줄인 경우, 붙여 쓰는것이 가독성에 더 좋다"
   ]
  },
  {
   "cell_type": "code",
   "execution_count": 27,
   "id": "de5f48b4",
   "metadata": {
    "ExecuteTime": {
     "end_time": "2024-02-07T12:55:21.989261Z",
     "start_time": "2024-02-07T12:55:19.712808Z"
    }
   },
   "outputs": [
    {
     "name": "stdout",
     "output_type": "stream",
     "text": [
      "6 is not in the range\n"
     ]
    }
   ],
   "source": [
    "num_range = [1,2,5,10]\n",
    "check_num = int(input('Enter the Number : '))\n",
    "if check_num not in num_range : print('%d is not in the range' %check_num) # formatting\n",
    "else : print('Can not check') # 한 줄인 경우, 붙여 쓰는것이 가독성에 더 좋다"
   ]
  },
  {
   "cell_type": "markdown",
   "id": "b1fc0a4a",
   "metadata": {},
   "source": [
    "### Nested Conditional Sentences\n",
    "- 조건 확인 후 또 다른 조건을 검사해야 하는 경우, 중첩된 if-else 구조를 사용한다\n",
    "    - if문의 코드블럭 안에 또 다른 if문을 사용한다 (들여쓰기에 유의한다)\n",
    "- 특별한 경우가 아니면 elif문을 사용하는 것이 더욱 간편하다"
   ]
  },
  {
   "cell_type": "code",
   "execution_count": 28,
   "id": "382f68ab",
   "metadata": {
    "ExecuteTime": {
     "end_time": "2024-02-07T12:56:07.799115Z",
     "start_time": "2024-02-07T12:56:04.609430Z"
    }
   },
   "outputs": [
    {
     "name": "stdout",
     "output_type": "stream",
     "text": [
      "Grade is C\n"
     ]
    }
   ],
   "source": [
    "score = int(input('Enter Score : '))\n",
    "if score >= 90 :\n",
    "    grade = 'A'\n",
    "else :\n",
    "    if score >= 80 :\n",
    "        grade = 'B'\n",
    "    else :\n",
    "        if score >= 70 :\n",
    "            grade = 'C'\n",
    "        else :\n",
    "            if score >= 60 :\n",
    "                grade = 'D'\n",
    "            else : grade = 'F'\n",
    "print('Grade is %s' % grade)"
   ]
  },
  {
   "cell_type": "markdown",
   "id": "fa936856",
   "metadata": {},
   "source": [
    "### Loop\n",
    "- 반복(iteration)은 동일한 명령어들을 여러 번 실행하는 구조이다\n",
    "- 파이썬에서는 2가지 형태의 반복문을 지원한다\n",
    "    - for문 : 정해진 횟수만큼 반복할 때 사용\n",
    "    - while문 : 어떤 조건이 만족되는 동안 반복할 때 사용 (이론적으로 무제한이 가능하다)"
   ]
  },
  {
   "cell_type": "code",
   "execution_count": 29,
   "id": "4218a462",
   "metadata": {
    "ExecuteTime": {
     "end_time": "2024-02-07T12:57:10.644150Z",
     "start_time": "2024-02-07T12:57:10.633841Z"
    }
   },
   "outputs": [
    {
     "data": {
      "text/plain": "[0, 1, 2, 3, 4, 5, 6, 7, 8, 9]"
     },
     "execution_count": 29,
     "metadata": {},
     "output_type": "execute_result"
    }
   ],
   "source": [
    "list(range(10))"
   ]
  },
  {
   "cell_type": "code",
   "execution_count": 30,
   "id": "3881903e",
   "metadata": {
    "ExecuteTime": {
     "end_time": "2024-02-07T12:57:11.484387Z",
     "start_time": "2024-02-07T12:57:11.445347Z"
    }
   },
   "outputs": [
    {
     "name": "stdout",
     "output_type": "stream",
     "text": [
      "0;1;2;3;4;5;6;7;8;9;"
     ]
    }
   ],
   "source": [
    "for i in list(range(10)) : # 기본적인 문법은 이런식으로 쓰이며, in 연산자 오른쪽에는 iterable한 데이터가 온다\n",
    "    print(i, end = ';') # end parameter를 추가하면 출력 형식을 지정 가능하다"
   ]
  },
  {
   "cell_type": "markdown",
   "id": "78d72ca4",
   "metadata": {},
   "source": [
    "#### iterable data 확인\n",
    "- 반복 가능한 객체(iterable objects)인지 확인하기 위해서는 다음과 같은 방법을 사용하면 된다\n",
    "- 기본적으로 배열의 형태를 가진 자료구조이면 iterable하다"
   ]
  },
  {
   "cell_type": "code",
   "execution_count": 138,
   "id": "6ffb66b1",
   "metadata": {},
   "outputs": [
    {
     "data": {
      "text/plain": [
       "<range_iterator at 0x7fc62af6eba0>"
      ]
     },
     "execution_count": 138,
     "metadata": {},
     "output_type": "execute_result"
    }
   ],
   "source": [
    "range(10).__iter__()"
   ]
  },
  {
   "cell_type": "code",
   "execution_count": 19,
   "id": "25f78b96",
   "metadata": {},
   "outputs": [
    {
     "data": {
      "text/plain": [
       "<list_iterator at 0x7fc6182bfc10>"
      ]
     },
     "execution_count": 19,
     "metadata": {},
     "output_type": "execute_result"
    }
   ],
   "source": [
    "[1,2,3,4,5].__iter__()"
   ]
  },
  {
   "cell_type": "code",
   "execution_count": 139,
   "id": "4f39af19",
   "metadata": {},
   "outputs": [
    {
     "data": {
      "text/plain": [
       "<str_iterator at 0x7fc62b402c70>"
      ]
     },
     "execution_count": 139,
     "metadata": {},
     "output_type": "execute_result"
    }
   ],
   "source": [
    "'12345'.__iter__()"
   ]
  },
  {
   "cell_type": "code",
   "execution_count": 140,
   "id": "014bddf9",
   "metadata": {},
   "outputs": [
    {
     "data": {
      "text/plain": [
       "<dict_keyiterator at 0x7fc62af642c0>"
      ]
     },
     "execution_count": 140,
     "metadata": {},
     "output_type": "execute_result"
    }
   ],
   "source": [
    "{1: 1, 2 : 2}.__iter__()"
   ]
  },
  {
   "cell_type": "code",
   "outputs": [
    {
     "data": {
      "text/plain": "<tuple_iterator at 0x107049d50>"
     },
     "execution_count": 1,
     "metadata": {},
     "output_type": "execute_result"
    }
   ],
   "source": [
    "(1,2,3,4,5).__iter__()"
   ],
   "metadata": {
    "collapsed": false,
    "ExecuteTime": {
     "end_time": "2024-02-06T10:42:16.551857Z",
     "start_time": "2024-02-06T10:42:16.539804Z"
    }
   },
   "id": "73329fde859012f9",
   "execution_count": 1
  },
  {
   "cell_type": "code",
   "outputs": [
    {
     "data": {
      "text/plain": "<set_iterator at 0x107033780>"
     },
     "execution_count": 2,
     "metadata": {},
     "output_type": "execute_result"
    }
   ],
   "source": [
    "{1,2,3,4,5}.__iter__()"
   ],
   "metadata": {
    "collapsed": false,
    "ExecuteTime": {
     "end_time": "2024-02-06T10:42:20.369243Z",
     "start_time": "2024-02-06T10:42:20.351986Z"
    }
   },
   "id": "d6629a6b776f43c3",
   "execution_count": 2
  },
  {
   "cell_type": "markdown",
   "id": "c9b41c34",
   "metadata": {},
   "source": [
    "#### range 함수\n",
    "- 객체형이 range인 일련의 정수 sequence를 생성하는 함수(주로 for 반복문과 함께 사용됨)\n",
    "- **range(start, end, step)**\n",
    "    - 슬라이싱의 start, end, step과 같은 의미이다\n",
    "- range() 함수는 range 객체를 반환한다"
   ]
  },
  {
   "cell_type": "code",
   "execution_count": 27,
   "id": "34f35ccf",
   "metadata": {},
   "outputs": [
    {
     "name": "stdout",
     "output_type": "stream",
     "text": [
      "range(0, 10)\n"
     ]
    }
   ],
   "source": [
    "print(range(10)) # print()함수를 통해 출력하면 range객체 자체로 출력된다"
   ]
  },
  {
   "cell_type": "code",
   "execution_count": 28,
   "id": "34201804",
   "metadata": {},
   "outputs": [
    {
     "data": {
      "text/plain": [
       "range"
      ]
     },
     "execution_count": 28,
     "metadata": {},
     "output_type": "execute_result"
    }
   ],
   "source": [
    "type(range(1))"
   ]
  },
  {
   "cell_type": "code",
   "execution_count": 29,
   "id": "f0dcb475",
   "metadata": {},
   "outputs": [
    {
     "data": {
      "text/plain": [
       "[1, 3, 5, 7, 9]"
      ]
     },
     "execution_count": 29,
     "metadata": {},
     "output_type": "execute_result"
    }
   ],
   "source": [
    "list(range(1,11,2)) # list로 형변환을 하면 전부 출력된다"
   ]
  },
  {
   "cell_type": "markdown",
   "id": "326ee042",
   "metadata": {},
   "source": [
    "### Exercise 1.\n",
    "- 소수 판결 알고리즘에 대해 알아보자"
   ]
  },
  {
   "cell_type": "code",
   "execution_count": 31,
   "id": "6c2db3ca",
   "metadata": {
    "ExecuteTime": {
     "end_time": "2024-02-07T12:58:53.244294Z",
     "start_time": "2024-02-07T12:58:49.784477Z"
    }
   },
   "outputs": [
    {
     "name": "stdout",
     "output_type": "stream",
     "text": [
      "Prime Number\n"
     ]
    }
   ],
   "source": [
    "x = int(input('Enter number : '))\n",
    "flag = True # boolean data\n",
    "for i in range(2, x) : \n",
    "    if x % i == 0 : flag = False # 2 이상의 수에서 만약 나누어 떨어지면 소수가 아니다\n",
    "        \n",
    "if flag == True : print('Prime Number')\n",
    "else : print('Not Prime Number')"
   ]
  },
  {
   "cell_type": "markdown",
   "source": [
    "flag를 사용하여 코드를 작성하면 가독성이 높아진다. 코드 작성 방식 중 하나이므로 알아두면 좋다"
   ],
   "metadata": {
    "collapsed": false
   },
   "id": "afad570bca16a1f3"
  },
  {
   "cell_type": "markdown",
   "id": "c6042ba5",
   "metadata": {},
   "source": [
    "### List Comprehension\n",
    "- 리스트를 쉽게, 짧게 한 줄로 만들 수 있는 파이썬의 강력한 문법 중 하나이다\n",
    "- 리스트 뿐만 아니라, 다른 데이터 타입에서도 사용이 가능하다\n",
    "- 리스트 내에 for문을 포함하여 리스트를 생성하는 방법이다"
   ]
  },
  {
   "cell_type": "code",
   "execution_count": 32,
   "id": "ac0c6766",
   "metadata": {
    "ExecuteTime": {
     "end_time": "2024-02-07T13:00:09.334508Z",
     "start_time": "2024-02-07T13:00:09.312981Z"
    }
   },
   "outputs": [
    {
     "name": "stdout",
     "output_type": "stream",
     "text": [
      "[1, 2, 3, 4, 5, 6, 7, 8, 9]\n"
     ]
    }
   ],
   "source": [
    "lst = []\n",
    "for i in range(1, 10) :\n",
    "    lst.append(i)\n",
    "print(lst)"
   ]
  },
  {
   "cell_type": "markdown",
   "source": [
    "위 코드를 List Comprehension을 사용하여 간단하게 표현하면 다음과 같다"
   ],
   "metadata": {
    "collapsed": false
   },
   "id": "171065c1bea6076c"
  },
  {
   "cell_type": "code",
   "execution_count": 33,
   "id": "c7d3be42",
   "metadata": {
    "ExecuteTime": {
     "end_time": "2024-02-07T13:00:20.108698Z",
     "start_time": "2024-02-07T13:00:20.098292Z"
    }
   },
   "outputs": [
    {
     "data": {
      "text/plain": "[1, 2, 3, 4, 5, 6, 7, 8, 9]"
     },
     "execution_count": 33,
     "metadata": {},
     "output_type": "execute_result"
    }
   ],
   "source": [
    "[i for i in range(1, 10)]"
   ]
  },
  {
   "cell_type": "code",
   "execution_count": 34,
   "id": "03b0cbe9",
   "metadata": {
    "ExecuteTime": {
     "end_time": "2024-02-07T13:00:38.292596Z",
     "start_time": "2024-02-07T13:00:38.271425Z"
    }
   },
   "outputs": [
    {
     "data": {
      "text/plain": "[0, 1, 2, 3, 4, 5, 6, 7, 8, 9]"
     },
     "execution_count": 34,
     "metadata": {},
     "output_type": "execute_result"
    }
   ],
   "source": [
    "[i for i in range(10)] # list 내에 range()함수를 넣음으로써 간편하게 표현 가능하다"
   ]
  },
  {
   "cell_type": "code",
   "execution_count": 35,
   "id": "8541b0ae",
   "metadata": {
    "ExecuteTime": {
     "end_time": "2024-02-07T13:00:50.736982Z",
     "start_time": "2024-02-07T13:00:50.728622Z"
    }
   },
   "outputs": [
    {
     "data": {
      "text/plain": "[0, 2, 4, 6, 8]"
     },
     "execution_count": 35,
     "metadata": {},
     "output_type": "execute_result"
    }
   ],
   "source": [
    "[i for i in range(10) if i % 2 == 0] # for 구문에 하나의 조건문을 지정할 수 있다."
   ]
  },
  {
   "cell_type": "code",
   "execution_count": 36,
   "id": "0669c092",
   "metadata": {
    "ExecuteTime": {
     "end_time": "2024-02-07T13:00:57.903782Z",
     "start_time": "2024-02-07T13:00:57.894577Z"
    }
   },
   "outputs": [
    {
     "data": {
      "text/plain": "[(0, 0), (0, 1), (0, 2), (1, 0), (1, 1), (1, 2), (2, 0), (2, 1), (2, 2)]"
     },
     "execution_count": 36,
     "metadata": {},
     "output_type": "execute_result"
    }
   ],
   "source": [
    "[(i,j) for i in range(3) for j in range(3)] # for 구문의 중첩도 가능하다"
   ]
  },
  {
   "cell_type": "code",
   "execution_count": 37,
   "id": "9878e48f",
   "metadata": {
    "ExecuteTime": {
     "end_time": "2024-02-07T13:01:06.863659Z",
     "start_time": "2024-02-07T13:01:06.856940Z"
    }
   },
   "outputs": [
    {
     "data": {
      "text/plain": "[(0, 0, 0),\n (0, 0, 1),\n (0, 1, 0),\n (0, 1, 1),\n (1, 0, 0),\n (1, 0, 1),\n (1, 1, 0),\n (1, 1, 1)]"
     },
     "execution_count": 37,
     "metadata": {},
     "output_type": "execute_result"
    }
   ],
   "source": [
    "[(i,j,k) for i in range(2) for j in range(2) for k in range(2)] # 반복문의 중첩은 몇개든지 상관이 없다"
   ]
  },
  {
   "cell_type": "code",
   "execution_count": 38,
   "id": "c8a3b0fb",
   "metadata": {
    "ExecuteTime": {
     "end_time": "2024-02-07T13:01:17.164217Z",
     "start_time": "2024-02-07T13:01:17.129072Z"
    }
   },
   "outputs": [
    {
     "data": {
      "text/plain": "[(0, 0), (0, 2), (2, 0), (2, 2)]"
     },
     "execution_count": 38,
     "metadata": {},
     "output_type": "execute_result"
    }
   ],
   "source": [
    "[(i,j) for i in range(3) if i % 2 == 0 for j in range(3) if j % 2 == 0] # 각 for 구문에 대해 조건을 하나씩 달 수 있다"
   ]
  },
  {
   "cell_type": "markdown",
   "id": "df08b12e",
   "metadata": {},
   "source": [
    "### Exercise 2.\n",
    "- 아래의 구문을 List Comprehension을 통해 작성해 보자"
   ]
  },
  {
   "cell_type": "code",
   "execution_count": 39,
   "id": "03ed28b9",
   "metadata": {
    "ExecuteTime": {
     "end_time": "2024-02-07T13:01:26.888391Z",
     "start_time": "2024-02-07T13:01:26.880145Z"
    }
   },
   "outputs": [
    {
     "data": {
      "text/plain": "['0 loops 0 elements',\n '0 loops 2 elements',\n '0 loops 4 elements',\n '0 loops 6 elements',\n '0 loops 8 elements',\n '1 loops 0 elements',\n '1 loops 2 elements',\n '1 loops 4 elements',\n '1 loops 6 elements',\n '1 loops 8 elements',\n '2 loops 0 elements',\n '2 loops 2 elements',\n '2 loops 4 elements',\n '2 loops 6 elements',\n '2 loops 8 elements',\n '3 loops 0 elements',\n '3 loops 2 elements',\n '3 loops 4 elements',\n '3 loops 6 elements',\n '3 loops 8 elements',\n '4 loops 0 elements',\n '4 loops 2 elements',\n '4 loops 4 elements',\n '4 loops 6 elements',\n '4 loops 8 elements']"
     },
     "execution_count": 39,
     "metadata": {},
     "output_type": "execute_result"
    }
   ],
   "source": [
    "lst = []\n",
    "for i in range(5) :\n",
    "    for j in range(10) :\n",
    "        if j % 2 == 0: \n",
    "            lst.append('%d loops %d elements' %(i, j))\n",
    "\n",
    "lst"
   ]
  },
  {
   "cell_type": "code",
   "outputs": [
    {
     "data": {
      "text/plain": "['0 loops 0 elements',\n '0 loops 2 elements',\n '0 loops 4 elements',\n '0 loops 6 elements',\n '0 loops 8 elements',\n '1 loops 0 elements',\n '1 loops 2 elements',\n '1 loops 4 elements',\n '1 loops 6 elements',\n '1 loops 8 elements',\n '2 loops 0 elements',\n '2 loops 2 elements',\n '2 loops 4 elements',\n '2 loops 6 elements',\n '2 loops 8 elements',\n '3 loops 0 elements',\n '3 loops 2 elements',\n '3 loops 4 elements',\n '3 loops 6 elements',\n '3 loops 8 elements',\n '4 loops 0 elements',\n '4 loops 2 elements',\n '4 loops 4 elements',\n '4 loops 6 elements',\n '4 loops 8 elements']"
     },
     "execution_count": 40,
     "metadata": {},
     "output_type": "execute_result"
    }
   ],
   "source": [
    "['%d loops %d elements' %(i, j) for i in range(5) for j in range(10) if j % 2 == 0]"
   ],
   "metadata": {
    "collapsed": false,
    "ExecuteTime": {
     "end_time": "2024-02-07T13:02:00.392141Z",
     "start_time": "2024-02-07T13:02:00.358574Z"
    }
   },
   "id": "d805a16144e0faaa",
   "execution_count": 40
  },
  {
   "cell_type": "markdown",
   "id": "5c7becae",
   "metadata": {},
   "source": [
    "### While Loop\n",
    "- while 반복문은 어떤 **조건이 만족하는 동안** 반복하는 구조이다\n",
    "- while (True)로 지정할 경우, 탈출 조건을 만들지 않으면 이론적으로 무한히 반복된다"
   ]
  },
  {
   "cell_type": "code",
   "execution_count": 41,
   "id": "6c31a815",
   "metadata": {
    "ExecuteTime": {
     "end_time": "2024-02-07T13:02:50.921531Z",
     "start_time": "2024-02-07T13:02:50.886046Z"
    }
   },
   "outputs": [
    {
     "name": "stdout",
     "output_type": "stream",
     "text": [
      "The sum of all 3 multiples between 1 and 100 is 1683\n"
     ]
    }
   ],
   "source": [
    "N = 100\n",
    "s = 0\n",
    "number = 1 # 반복 횟수를 count하는 변수를 따로 지정해 주어야 한다\n",
    "while number <= N :\n",
    "    if number % 3 == 0 :\n",
    "        s += number\n",
    "    number += 1 # for 구문에서 range(start, end)를 지정한 것과 같은 기능을 하는 부분이다\n",
    "print('The sum of all 3 multiples between 1 and 100 is %s' % s)"
   ]
  },
  {
   "cell_type": "markdown",
   "id": "19aa8174",
   "metadata": {},
   "source": [
    "#### break\n",
    "- **break 명령어**는 반복문에서 반복을 종료하며 반복문을 빠져나오는 기능을 한다\n",
    "\n",
    "<br>\n",
    "\n",
    "**프로그램 흐름**\n",
    "\n",
    "- if문을 이용해서 break문을 실행할 조건을 체크한다\n",
    "- 조건이 True이면 break문이 실행되어 반복문을 종료하고 빠져나오며, False 이면 코드 블록 내의 나머지 명령어들을 계속 실행한다\n",
    "- 조건이 True일때 break문 실행전에 실행할 명령어가 있다면 추가가 가능하다\n",
    "\n",
    "<br>\n",
    "\n",
    "#### continue\n",
    "\n",
    "- **continue 명령어**는 반복문의 code block 안에서 continue문 다음 명령어들을 실행하지 않고 loop의 시작 위치로 가서 반복을 계속 실행시킨다\n",
    "\n",
    "<br>\n",
    "\n",
    "**프로그램 흐름**\n",
    "\n",
    "- if 문을 이용해서 continue문을 실행할 조건을 체크한다\n",
    "- 조건이 True이면 continue문이 실행되어 반복문의 시작 위치로 돌아가고, False면 code block 내의 나머지 명령어들을 계속 실행한다\n",
    "- 조건이 True일 때 continue문 실행 전에 실행할 명령어가 있다면 추가 가능하다"
   ]
  },
  {
   "cell_type": "code",
   "execution_count": 42,
   "id": "31252413",
   "metadata": {
    "ExecuteTime": {
     "end_time": "2024-02-07T13:04:14.459452Z",
     "start_time": "2024-02-07T13:04:14.449919Z"
    }
   },
   "outputs": [
    {
     "name": "stdout",
     "output_type": "stream",
     "text": [
      "0 elements\n",
      "2 elements\n",
      "4 elements\n",
      "6 elements\n",
      "8 elements\n",
      "10 elements\n",
      "12 elements\n",
      "14 elements\n",
      "16 elements\n",
      "18 elements\n",
      "20 elements\n",
      "22 elements\n",
      "24 elements\n",
      "26 elements\n",
      "28 elements\n"
     ]
    }
   ],
   "source": [
    "i = 0\n",
    "while True :\n",
    "    if i % 2 == 0 :\n",
    "        print('%d elements' % i)\n",
    "    i += 1\n",
    "    if i == 30 :\n",
    "        break # 탈출"
   ]
  },
  {
   "cell_type": "markdown",
   "id": "3fe43a0c",
   "metadata": {},
   "source": [
    "### Exercise 3.\n",
    "- 아래의 for loop를 while loop으로 바꾸어 보자"
   ]
  },
  {
   "cell_type": "code",
   "execution_count": 43,
   "id": "d2923f07",
   "metadata": {
    "ExecuteTime": {
     "end_time": "2024-02-07T13:04:39.754329Z",
     "start_time": "2024-02-07T13:04:39.725675Z"
    }
   },
   "outputs": [
    {
     "name": "stdout",
     "output_type": "stream",
     "text": [
      "0 1 2 3 4 5 6 7 8 9 "
     ]
    }
   ],
   "source": [
    "for i in range(10) : print(i, end = ' ')"
   ]
  },
  {
   "cell_type": "code",
   "outputs": [
    {
     "name": "stdout",
     "output_type": "stream",
     "text": [
      "0 1 2 3 4 5 6 7 8 9 "
     ]
    }
   ],
   "source": [
    "i = 0\n",
    "while True :\n",
    "    if i == 10 : break\n",
    "    print(i, end = ' ')\n",
    "    i += 1"
   ],
   "metadata": {
    "collapsed": false,
    "ExecuteTime": {
     "end_time": "2024-02-07T13:05:04.765770Z",
     "start_time": "2024-02-07T13:05:04.745341Z"
    }
   },
   "id": "49532e507b0ca683",
   "execution_count": 44
  },
  {
   "cell_type": "markdown",
   "id": "8d517530",
   "metadata": {},
   "source": [
    "### Stack\n",
    "\n",
    "<center><img src = \"https://blog.kakaocdn.net/dn/coDSZF/btqyV5gKcbn/f1CFSncVcZKb7tvaVCDeqK/img.png\" alt=\"My Image\"></center>\n",
    "\n",
    "- 스택(stack)은 제한적으로 접근할 수 있는 나열 구조이다\n",
    "- 접근 방법은 언제나 목록의 끝에서만 일어난다\n",
    "- 끝먼저내기 목록(Pushdown list)이라고도 한다\n",
    "- 후입선출 (Last in First out)방식을 따른다\n",
    "\n",
    "python에서는 List를 통해 Stack을 구현할 수 있다"
   ]
  },
  {
   "cell_type": "code",
   "execution_count": 45,
   "id": "6dbea3cf",
   "metadata": {
    "ExecuteTime": {
     "end_time": "2024-02-07T13:06:05.659557Z",
     "start_time": "2024-02-07T13:06:05.648563Z"
    }
   },
   "outputs": [
    {
     "name": "stdout",
     "output_type": "stream",
     "text": [
      "[1, 2, 3, 4, 5]\n"
     ]
    }
   ],
   "source": [
    "lst_sample = [1,2,3,4,5]\n",
    "print(lst_sample)"
   ]
  },
  {
   "cell_type": "code",
   "execution_count": 46,
   "id": "d5ef8f7a",
   "metadata": {
    "ExecuteTime": {
     "end_time": "2024-02-07T13:06:13.737926Z",
     "start_time": "2024-02-07T13:06:13.701599Z"
    }
   },
   "outputs": [
    {
     "name": "stdout",
     "output_type": "stream",
     "text": [
      "[1, 2, 3, 4, 5, 6]\n"
     ]
    }
   ],
   "source": [
    "lst_sample.append(6)\n",
    "print(lst_sample) # Push"
   ]
  },
  {
   "cell_type": "code",
   "execution_count": 47,
   "id": "aa51b4d1",
   "metadata": {
    "ExecuteTime": {
     "end_time": "2024-02-07T13:06:19.066531Z",
     "start_time": "2024-02-07T13:06:19.057447Z"
    }
   },
   "outputs": [
    {
     "data": {
      "text/plain": "6"
     },
     "execution_count": 47,
     "metadata": {},
     "output_type": "execute_result"
    }
   ],
   "source": [
    "lst_sample.pop() # Pop"
   ]
  },
  {
   "cell_type": "code",
   "execution_count": 48,
   "id": "4c19996f",
   "metadata": {
    "ExecuteTime": {
     "end_time": "2024-02-07T13:06:28.706559Z",
     "start_time": "2024-02-07T13:06:28.684300Z"
    }
   },
   "outputs": [
    {
     "name": "stdout",
     "output_type": "stream",
     "text": [
      "[1, 2, 3, 4, 5]\n"
     ]
    }
   ],
   "source": [
    "print(lst_sample) # pop method 사용시, 데이터 저장소 내에 그 결과가 저장된다"
   ]
  },
  {
   "cell_type": "code",
   "execution_count": 49,
   "id": "42bc815e",
   "metadata": {
    "ExecuteTime": {
     "end_time": "2024-02-07T13:06:31.524026Z",
     "start_time": "2024-02-07T13:06:31.514039Z"
    }
   },
   "outputs": [
    {
     "data": {
      "text/plain": "5"
     },
     "execution_count": 49,
     "metadata": {},
     "output_type": "execute_result"
    }
   ],
   "source": [
    "lst_sample.pop() # Pop"
   ]
  },
  {
   "cell_type": "code",
   "execution_count": 50,
   "id": "f60cd78e",
   "metadata": {
    "ExecuteTime": {
     "end_time": "2024-02-07T13:06:32.738228Z",
     "start_time": "2024-02-07T13:06:32.719313Z"
    }
   },
   "outputs": [
    {
     "name": "stdout",
     "output_type": "stream",
     "text": [
      "[1, 2, 3, 4]\n"
     ]
    }
   ],
   "source": [
    "print(lst_sample)"
   ]
  },
  {
   "cell_type": "markdown",
   "id": "e15f7ff2",
   "metadata": {},
   "source": [
    "### Queue\n",
    "\n",
    "<center><img src = \"https://blog.kakaocdn.net/dn/5NOv1/btqSTINnoq8/4f8bjzzf6W4POewlq8At31/img.png\" alt=\"My Image\"></center>\n",
    "\n",
    "- 기본적인 자료 구조의 한가지로, 먼저 집어 넣은 데이터가 먼저 나오는 FIFO(First In First Out)구조로 저장하는 형식이다\n",
    "- 선입선출 (First in First out) 방식을 따른다\n",
    "- 접근 방법은 목록의 처음에서 나타난다\n",
    "- 큐 자료구조에 필요한 주된 연산은 다음과 같다\n",
    "    - enqueue(a) : 큐에 a의 원소 추가\n",
    "    - dequeue : 가장 오래 전에 추가한 원소를 삭제하여 반환\n",
    "    - front : 가장 오래 전에 추가한 원소를 삭제하지 않고 반환\n",
    "    - isempty : 빈 큐인지 조사"
   ]
  },
  {
   "cell_type": "code",
   "execution_count": 53,
   "id": "3caba84f",
   "metadata": {
    "ExecuteTime": {
     "end_time": "2024-02-07T13:07:49.220244Z",
     "start_time": "2024-02-07T13:07:49.210142Z"
    }
   },
   "outputs": [
    {
     "name": "stdout",
     "output_type": "stream",
     "text": [
      "[1, 2, 3]\n"
     ]
    }
   ],
   "source": [
    "lst_sample = []\n",
    "lst_sample.append(1) # Enqueue\n",
    "lst_sample.append(2)\n",
    "lst_sample.append(3)\n",
    "print(lst_sample)"
   ]
  },
  {
   "cell_type": "code",
   "execution_count": 54,
   "id": "cac175e9",
   "metadata": {
    "ExecuteTime": {
     "end_time": "2024-02-07T13:07:49.677366Z",
     "start_time": "2024-02-07T13:07:49.671971Z"
    }
   },
   "outputs": [
    {
     "name": "stdout",
     "output_type": "stream",
     "text": [
      "1 [2, 3]\n"
     ]
    }
   ],
   "source": [
    "a = lst_sample.pop(0) # Dequeue\n",
    "print(a, lst_sample)"
   ]
  },
  {
   "cell_type": "code",
   "execution_count": 55,
   "id": "27633eae",
   "metadata": {
    "ExecuteTime": {
     "end_time": "2024-02-07T13:07:51.626503Z",
     "start_time": "2024-02-07T13:07:51.616062Z"
    }
   },
   "outputs": [
    {
     "name": "stdout",
     "output_type": "stream",
     "text": [
      "[2, 3, 4]\n"
     ]
    }
   ],
   "source": [
    "lst_sample.append(4) # Enqueue\n",
    "print(lst_sample)"
   ]
  },
  {
   "cell_type": "code",
   "execution_count": 57,
   "id": "db890918",
   "metadata": {
    "ExecuteTime": {
     "end_time": "2024-02-07T13:08:14.565779Z",
     "start_time": "2024-02-07T13:08:14.557518Z"
    }
   },
   "outputs": [
    {
     "name": "stdout",
     "output_type": "stream",
     "text": [
      "2 [2, 3, 4]\n"
     ]
    }
   ],
   "source": [
    "b = lst_sample[0] # front\n",
    "print(b, lst_sample) # front 구현방법"
   ]
  },
  {
   "cell_type": "markdown",
   "id": "f7b18fa9",
   "metadata": {},
   "source": [
    "### Moving Average\n",
    "- Queue를 응용하여 numerical data로 구성된 container의 이동평균을 구할 수 있다\n",
    "\n",
    "<center><img src = \"https://media.geeksforgeeks.org/wp-content/uploads/20211020104612/ezgifcomgifmaker36.gif\" alt=\"My Image\"></center>\n",
    "\n",
    "- Data만 있으면 주가의 이동평균을 구할 수 있다\n",
    "\n",
    "**Moving Average Algorithm의 이해**\n",
    "\n",
    "<br>\n",
    "\n",
    "<center><img src = \"https://andrewlock.net/content/images/2021/sma_02.png\" alt=\"My Image\"></center>\n",
    "\n"
   ]
  },
  {
   "cell_type": "code",
   "execution_count": 58,
   "id": "a50a9345",
   "metadata": {
    "ExecuteTime": {
     "end_time": "2024-02-07T13:09:20.516361Z",
     "start_time": "2024-02-07T13:09:20.505471Z"
    }
   },
   "outputs": [
    {
     "data": {
      "text/plain": "81"
     },
     "execution_count": 58,
     "metadata": {},
     "output_type": "execute_result"
    }
   ],
   "source": [
    "import random\n",
    "\n",
    "random.randint(1, 100)"
   ]
  },
  {
   "cell_type": "code",
   "execution_count": 60,
   "id": "d283f6a1",
   "metadata": {
    "ExecuteTime": {
     "end_time": "2024-02-07T13:09:42.408300Z",
     "start_time": "2024-02-07T13:09:42.389187Z"
    }
   },
   "outputs": [
    {
     "name": "stdout",
     "output_type": "stream",
     "text": [
      "[60, 64, 53, 65, 54, 53, 61, 60, 64, 68, 52, 53, 54, 67, 52, 63, 54, 65, 56, 64, 67, 52, 67, 58, 53, 55, 53, 66, 64, 65]\n"
     ]
    }
   ],
   "source": [
    "import random\n",
    "\n",
    "pList = [] # 빈 리스트 생성\n",
    "\n",
    "for i in range(30) :\n",
    "    pList.append(random.randint(50, 70)) # random한 값을 추출한다\n",
    "    \n",
    "print(pList) # 임의의 가격 list"
   ]
  },
  {
   "cell_type": "code",
   "execution_count": 61,
   "id": "ab3e1ec1",
   "metadata": {
    "ExecuteTime": {
     "end_time": "2024-02-07T13:11:05.373806Z",
     "start_time": "2024-02-07T13:11:05.357829Z"
    }
   },
   "outputs": [
    {
     "name": "stdout",
     "output_type": "stream",
     "text": [
      "[60.0, 60.8, 59.4, 60.4, 59.2, 57.8, 57.2, 58.6, 58.4, 61.2, 61.0, 59.4, 58.2, 58.8, 55.6, 57.8, 58.0, 60.2, 58.0, 60.4, 61.2, 60.8, 61.2, 61.6, 59.4, 57.0, 57.2, 57.0, 58.2, 60.6]\n"
     ]
    }
   ],
   "source": [
    "numMA = 5 # 이동평균을 구하려는 일수 \n",
    "MA = [] # Moving Average List, 계산 결과가 쌓이는 곳\n",
    "Q = [] # Queue Stack, 이동평균을 계산하는 리스트\n",
    "mSum = pList[0] * numMA # 초기 값 지정\n",
    "\n",
    "for i in range(numMA) : # 이동 평균을 계산할 수만큼 반복하여 Queue에 저장\n",
    "    Q.append(pList[0]) \n",
    "\n",
    "for M in pList :\n",
    "    mSum = mSum - Q.pop(0) # dequeue\n",
    "    mSum += M\n",
    "    MA.append(mSum/numMA) # average의 결과 list에 추가\n",
    "    Q.append(M) # queue update\n",
    "    \n",
    "print(MA) # 주가의 이동 평균"
   ]
  },
  {
   "cell_type": "code",
   "outputs": [
    {
     "data": {
      "text/plain": "[<matplotlib.lines.Line2D at 0x1221d2590>]"
     },
     "execution_count": 62,
     "metadata": {},
     "output_type": "execute_result"
    },
    {
     "data": {
      "text/plain": "<Figure size 640x480 with 1 Axes>",
      "image/png": "[encoded data removed]"
     },
     "metadata": {},
     "output_type": "display_data"
    }
   ],
   "source": [
    "import matplotlib.pyplot as plt\n",
    "\n",
    "plt.plot(pList, alpha = 0.3)\n",
    "plt.plot(MA)"
   ],
   "metadata": {
    "collapsed": false,
    "ExecuteTime": {
     "end_time": "2024-02-07T13:11:24.856630Z",
     "start_time": "2024-02-07T13:11:24.738613Z"
    }
   },
   "id": "6c4de77c09842162",
   "execution_count": 62
  },
  {
   "cell_type": "markdown",
   "id": "4e0fa164",
   "metadata": {},
   "source": [
    "### Exercise 4. \n",
    "- 임의의 주식시장 종가 100일치를 만들고, 20일 이동평균값을 구하여 Stack에 저장해 보자. (단, Queue를 응용하여 구하도록 하고, 시장의 종가 범위는 2400~2500으로 잡는다)"
   ]
  },
  {
   "cell_type": "code",
   "execution_count": 63,
   "id": "650cbc6b",
   "metadata": {
    "ExecuteTime": {
     "end_time": "2024-02-07T13:12:03.315591Z",
     "start_time": "2024-02-07T13:12:03.306679Z"
    }
   },
   "outputs": [
    {
     "name": "stdout",
     "output_type": "stream",
     "text": [
      "[2402.0, 2405.55, 2407.9, 2412.05, 2416.35, 2417.0, 2418.25, 2422.05, 2426.05, 2427.4, 2429.35, 2430.45, 2433.9, 2433.85, 2437.75, 2438.15, 2439.1, 2443.05, 2444.8, 2446.5, 2446.9, 2444.7, 2445.6, 2445.05, 2442.9, 2442.45, 2441.55, 2438.75, 2439.65, 2438.45, 2437.3, 2438.1, 2437.65, 2438.1, 2435.8, 2439.9, 2443.55, 2442.3, 2441.1, 2439.5, 2441.25, 2441.7, 2441.65, 2442.65, 2443.45, 2447.5, 2448.85, 2449.65, 2446.3, 2446.25, 2446.95, 2445.95, 2445.7, 2447.35, 2449.45, 2447.25, 2447.55, 2449.55, 2449.1, 2451.6, 2450.95, 2451.05, 2448.0, 2443.85, 2441.1, 2440.05, 2442.75, 2442.1, 2445.15, 2445.6, 2445.75, 2447.9, 2450.1, 2448.6, 2447.25, 2445.25, 2443.55, 2441.65, 2441.5, 2443.85, 2444.75, 2447.15, 2449.05, 2450.15, 2451.45, 2451.05, 2451.0, 2452.65, 2450.45, 2452.4, 2451.2, 2448.7, 2446.25, 2447.25, 2447.8, 2451.05, 2451.3, 2449.8, 2453.4, 2450.3]\n"
     ]
    }
   ],
   "source": [
    "import random\n",
    "\n",
    "pList = [] \n",
    "\n",
    "for i in range(100) :\n",
    "    pList.append(random.randint(2400, 2501)) \n",
    "    \n",
    "numMA = 20\n",
    "MA = []\n",
    "Q = [] \n",
    "mSum = pList[0] * numMA\n",
    "\n",
    "for i in range(numMA) : Q.append(pList[0])\n",
    "\n",
    "for M in pList :\n",
    "    mSum = mSum - Q.pop(0) \n",
    "    mSum += M\n",
    "    MA.append(mSum/numMA) \n",
    "    Q.append(M) \n",
    "    \n",
    "print(MA)"
   ]
  },
  {
   "cell_type": "code",
   "execution_count": 64,
   "id": "bd27e454",
   "metadata": {
    "ExecuteTime": {
     "end_time": "2024-02-07T13:12:08.617202Z",
     "start_time": "2024-02-07T13:12:08.552212Z"
    }
   },
   "outputs": [
    {
     "data": {
      "text/plain": "<Figure size 640x480 with 1 Axes>",
      "image/png": "[encoded data removed]"
     },
     "metadata": {},
     "output_type": "display_data"
    }
   ],
   "source": [
    "import matplotlib.pyplot as plt\n",
    "\n",
    "plt.plot(pList, alpha = 0.3)\n",
    "plt.plot(MA)\n",
    "plt.show()"
   ]
  },
  {
   "cell_type": "markdown",
   "source": [
    "위와 같이 Moving Average를 구하는 과정은 대표적인 signal processing의 예시로, 금융시장 분석에서 광범위하게 사용됩니다"
   ],
   "metadata": {
    "collapsed": false
   },
   "id": "57284787a56ae638"
  }
 ],
 "metadata": {
  "kernelspec": {
   "display_name": "Python 3 (ipykernel)",
   "language": "python",
   "name": "python3"
  },
  "language_info": {
   "codemirror_mode": {
    "name": "ipython",
    "version": 3
   },
   "file_extension": ".py",
   "mimetype": "text/x-python",
   "name": "python",
   "nbconvert_exporter": "python",
   "pygments_lexer": "ipython3",
   "version": "3.9.13"
  },
  "toc": {
   "base_numbering": 1,
   "nav_menu": {},
   "number_sections": true,
   "sideBar": true,
   "skip_h1_title": false,
   "title_cell": "Table of Contents",
   "title_sidebar": "Contents",
   "toc_cell": false,
   "toc_position": {},
   "toc_section_display": true,
   "toc_window_display": false
  }
 },
 "nbformat": 4,
 "nbformat_minor": 5
}
