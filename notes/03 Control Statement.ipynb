{
 "cells": [
  {
   "cell_type": "markdown",
   "id": "173d5f98",
   "metadata": {},
   "source": [
    "## Control Statement\n",
    "\n",
    "### Conditional Sentences\n",
    "\n",
    "\n",
    "<br>\n",
    "\n",
    "**3가지 기본 제어 구조**\n",
    "- 순차 구조(sequence) : 명령들을 순차적으로 실행하는 구조\n",
    "- 선택 구조(selection) : 명령을 조건에 따라 선택하여 실행하는 구조\n",
    "- 반복 구조(repetition) : 동일한 명령들을 반복 실행하는 구조"
   ]
  },
  {
   "cell_type": "markdown",
   "id": "c2363463",
   "metadata": {},
   "source": [
    "<center>\n",
    "\n",
    "<img src = \"https://blog.kakaocdn.net/dn/cYs3AD/btqEg2rCgcT/OEE0kDhCb6OzVkgx5uBLIk/img.jpg\" alt=\"My Image\">\n",
    "\n",
    "</center>"
   ]
  },
  {
   "cell_type": "markdown",
   "id": "f947759e",
   "metadata": {},
   "source": [
    "조건문(conditional sentences)은 어떤 상황에 따라 실행해야 할 코드가 다를 때 사용한다(선택 구조에 해당)"
   ]
  },
  {
   "cell_type": "markdown",
   "id": "72b9a2a2",
   "metadata": {},
   "source": [
    "### if 조건문\n",
    "- 조건(condition)의 결과가 True이면 같은 크기로 들여쓰기(indentation) 되어 있는 명령어들(코드 블록)이 실행되고, False면 else후에 같은 크기로 들여쓰기 되어 있는 명령어들이 실행된다\n",
    "- 조건의 결과가 False일 때 실행해야 할 명령어가 없다면 else 부분은 생략 가능하다"
   ]
  },
  {
   "cell_type": "code",
   "execution_count": 120,
   "id": "a7596bd7",
   "metadata": {},
   "outputs": [
    {
     "name": "stdout",
     "output_type": "stream",
     "text": [
      "not odd number\n"
     ]
    }
   ],
   "source": [
    "odd, even = 49, 50 # tuple unpacking\n",
    "if odd % 2 == 0 : # if 조건문은 조건이 True일 때 실행된다\n",
    "    print()\n",
    "    print('odd number') # 들여쓰기로 블럭을 구분한다\n",
    "    print()\n",
    "else :\n",
    "    print('not odd number') # if 조건문에 맞지 않으면 else 이하를 출력한다"
   ]
  },
  {
   "cell_type": "markdown",
   "id": "09d1afa8",
   "metadata": {},
   "source": [
    "### 다중 선택 구조\n",
    "- elif (else if를 합친 말이라고 생각하면 쉽다) 구문을 입력하면 다중 선택 구조를 만들 수 있다"
   ]
  },
  {
   "cell_type": "code",
   "execution_count": 123,
   "id": "72ff2b16",
   "metadata": {},
   "outputs": [
    {
     "name": "stdout",
     "output_type": "stream",
     "text": [
      "정수를 입력하세요 : 5\n",
      "3으로 나누면 2가 남습니다\n"
     ]
    }
   ],
   "source": [
    "N1 = int(input('정수를 입력하세요 : '))\n",
    "if N1 % 3 == 0 :\n",
    "    print('3으로 나뉘는 수입니다')\n",
    "elif N1 % 3 == 1 :\n",
    "    print('3으로 나누면 1이 남습니다')\n",
    "elif N1 % 3 == 2 : # else구문은 생략 가능하다\n",
    "    print('3으로 나누면 2가 남습니다')"
   ]
  },
  {
   "cell_type": "code",
   "execution_count": 125,
   "id": "3478b652",
   "metadata": {},
   "outputs": [
    {
     "name": "stdout",
     "output_type": "stream",
     "text": [
      "정수를 입력하세요 : 5\n"
     ]
    }
   ],
   "source": [
    "N1 = int(input('정수를 입력하세요 : '))\n",
    "if N1 % 3 == 0 :\n",
    "    print('3으로 나뉘는 수입니다')\n",
    "if N1 % 3 == 1 :\n",
    "    print('3으로 나누면 1이 남습니다')"
   ]
  },
  {
   "cell_type": "markdown",
   "id": "eb40b1fb",
   "metadata": {},
   "source": [
    "### Condition\n",
    "- if 조건문에서 “조건”이란 참과 거짓을 판단하는 명령어를 말한다\n",
    "- 조건을 판단하기 위해 사용되는 명령어\n",
    "    - in 연산자, not in 연산자, 관계 연산자, 논리 연산자, 산술 연산자\n",
    "    - 자료형의 값으로 참과 거짓 판단"
   ]
  },
  {
   "cell_type": "code",
   "execution_count": 127,
   "id": "9e1ce444",
   "metadata": {},
   "outputs": [
    {
     "name": "stdout",
     "output_type": "stream",
     "text": [
      "Enter the Number : 7\n",
      "Can not check\n"
     ]
    }
   ],
   "source": [
    "num_range = [1,2,5,10]\n",
    "check_num = int(input('Enter the Number : '))\n",
    "if check_num in num_range : print('%d is in the range' %check_num) # formatting\n",
    "else : print('Can not check') # 한 줄인 경우, 붙여 쓰는것이 가독성에 더 좋다"
   ]
  },
  {
   "cell_type": "code",
   "execution_count": 129,
   "id": "de5f48b4",
   "metadata": {},
   "outputs": [
    {
     "name": "stdout",
     "output_type": "stream",
     "text": [
      "Enter the Number : 7\n",
      "7 is in the range\n"
     ]
    }
   ],
   "source": [
    "num_range = [1,2,5,10]\n",
    "check_num = int(input('Enter the Number : '))\n",
    "if check_num not in num_range : print('%d is in the range' %check_num) # formatting\n",
    "else : print('Can not check') # 한 줄인 경우, 붙여 쓰는것이 가독성에 더 좋다"
   ]
  },
  {
   "cell_type": "markdown",
   "id": "b1fc0a4a",
   "metadata": {},
   "source": [
    "### Nested Conditional Sentences\n",
    "- 조건 확인 후 또 다른 조건을 검사해야 하는 경우, 중첩된 if-else 구조를 사용한다\n",
    "    - if문의 코드블럭 안에 또 다른 if문을 사용한다 (들여쓰기에 유의한다)\n",
    "- 특별한 경우가 아니면 elif문을 사용하는 것이 더욱 간편하다"
   ]
  },
  {
   "cell_type": "code",
   "execution_count": 131,
   "id": "382f68ab",
   "metadata": {},
   "outputs": [
    {
     "name": "stdout",
     "output_type": "stream",
     "text": [
      "Enter Score : 75\n",
      "Grade is C\n"
     ]
    }
   ],
   "source": [
    "score = int(input('Enter Score : '))\n",
    "if score >= 90 :\n",
    "    grade = 'A'\n",
    "else :\n",
    "    if score >= 80 :\n",
    "        grade = 'B'\n",
    "    else :\n",
    "        if score >= 70 :\n",
    "            grade = 'C'\n",
    "        else :\n",
    "            if score >= 60 :\n",
    "                grade = 'D'\n",
    "            else : grade = 'F'\n",
    "print('Grade is %s' % grade)"
   ]
  },
  {
   "cell_type": "markdown",
   "id": "fa936856",
   "metadata": {},
   "source": [
    "### Loop\n",
    "- 반복(iteration)은 동일한 명령어들을 여러 번 실행하는 구조이다\n",
    "- 파이썬에서는 2가지 형태의 반복문을 지원한다\n",
    "    - for문 : 정해진 횟수만큼 반복할 때 사용\n",
    "    - while문 : 어떤 조건이 만족되는 동안 반복할 때 사용 (이론적으로 무제한이 가능하다)"
   ]
  },
  {
   "cell_type": "code",
   "execution_count": 133,
   "id": "4218a462",
   "metadata": {},
   "outputs": [
    {
     "data": {
      "text/plain": [
       "[0, 1, 2, 3, 4, 5, 6, 7, 8, 9]"
      ]
     },
     "execution_count": 133,
     "metadata": {},
     "output_type": "execute_result"
    }
   ],
   "source": [
    "list(range(10))"
   ]
  },
  {
   "cell_type": "code",
   "execution_count": 137,
   "id": "3881903e",
   "metadata": {},
   "outputs": [
    {
     "name": "stdout",
     "output_type": "stream",
     "text": [
      "0;1;2;3;4;5;6;7;8;9;"
     ]
    }
   ],
   "source": [
    "for i in list(range(10)) : # 기본적인 문법은 이런식으로 쓰이며, in 연산자 오른쪽에는 iterable한 데이터가 온다\n",
    "    print(i, end = ';') # end parameter를 추가하면 출력 형식을 지정 가능하다"
   ]
  },
  {
   "cell_type": "markdown",
   "id": "78d72ca4",
   "metadata": {},
   "source": [
    "#### iterable data 확인\n",
    "- 반복 가능한 객체(iterable objects)인지 확인하기 위해서는 다음과 같은 방법을 사용하면 된다\n",
    "- 기본적으로 배열의 형태를 가진 자료구조이면 iterable하다"
   ]
  },
  {
   "cell_type": "code",
   "execution_count": 138,
   "id": "6ffb66b1",
   "metadata": {},
   "outputs": [
    {
     "data": {
      "text/plain": [
       "<range_iterator at 0x7fc62af6eba0>"
      ]
     },
     "execution_count": 138,
     "metadata": {},
     "output_type": "execute_result"
    }
   ],
   "source": [
    "range(10).__iter__()"
   ]
  },
  {
   "cell_type": "code",
   "execution_count": 19,
   "id": "25f78b96",
   "metadata": {},
   "outputs": [
    {
     "data": {
      "text/plain": [
       "<list_iterator at 0x7fc6182bfc10>"
      ]
     },
     "execution_count": 19,
     "metadata": {},
     "output_type": "execute_result"
    }
   ],
   "source": [
    "[1,2,3,4,5].__iter__()"
   ]
  },
  {
   "cell_type": "code",
   "execution_count": 139,
   "id": "4f39af19",
   "metadata": {},
   "outputs": [
    {
     "data": {
      "text/plain": [
       "<str_iterator at 0x7fc62b402c70>"
      ]
     },
     "execution_count": 139,
     "metadata": {},
     "output_type": "execute_result"
    }
   ],
   "source": [
    "'12345'.__iter__()"
   ]
  },
  {
   "cell_type": "code",
   "execution_count": 140,
   "id": "014bddf9",
   "metadata": {},
   "outputs": [
    {
     "data": {
      "text/plain": [
       "<dict_keyiterator at 0x7fc62af642c0>"
      ]
     },
     "execution_count": 140,
     "metadata": {},
     "output_type": "execute_result"
    }
   ],
   "source": [
    "{1: 1, 2 : 2}.__iter__()"
   ]
  },
  {
   "cell_type": "code",
   "outputs": [
    {
     "data": {
      "text/plain": "<tuple_iterator at 0x107049d50>"
     },
     "execution_count": 1,
     "metadata": {},
     "output_type": "execute_result"
    }
   ],
   "source": [
    "(1,2,3,4,5).__iter__()"
   ],
   "metadata": {
    "collapsed": false,
    "ExecuteTime": {
     "end_time": "2024-02-06T10:42:16.551857Z",
     "start_time": "2024-02-06T10:42:16.539804Z"
    }
   },
   "id": "73329fde859012f9",
   "execution_count": 1
  },
  {
   "cell_type": "code",
   "outputs": [
    {
     "data": {
      "text/plain": "<set_iterator at 0x107033780>"
     },
     "execution_count": 2,
     "metadata": {},
     "output_type": "execute_result"
    }
   ],
   "source": [
    "{1,2,3,4,5}.__iter__()"
   ],
   "metadata": {
    "collapsed": false,
    "ExecuteTime": {
     "end_time": "2024-02-06T10:42:20.369243Z",
     "start_time": "2024-02-06T10:42:20.351986Z"
    }
   },
   "id": "d6629a6b776f43c3",
   "execution_count": 2
  },
  {
   "cell_type": "markdown",
   "id": "c9b41c34",
   "metadata": {},
   "source": [
    "#### range 함수\n",
    "- 객체형이 range인 일련의 정수 sequence를 생성하는 함수(주로 for 반복문과 함께 사용됨)\n",
    "- **range(start, end, step)**\n",
    "    - 슬라이싱의 start, end, step과 같은 의미이다\n",
    "- range() 함수는 range 객체를 반환한다"
   ]
  },
  {
   "cell_type": "code",
   "execution_count": 27,
   "id": "34f35ccf",
   "metadata": {},
   "outputs": [
    {
     "name": "stdout",
     "output_type": "stream",
     "text": [
      "range(0, 10)\n"
     ]
    }
   ],
   "source": [
    "print(range(10)) # print()함수를 통해 출력하면 range객체 자체로 출력된다"
   ]
  },
  {
   "cell_type": "code",
   "execution_count": 28,
   "id": "34201804",
   "metadata": {},
   "outputs": [
    {
     "data": {
      "text/plain": [
       "range"
      ]
     },
     "execution_count": 28,
     "metadata": {},
     "output_type": "execute_result"
    }
   ],
   "source": [
    "type(range(1))"
   ]
  },
  {
   "cell_type": "code",
   "execution_count": 29,
   "id": "f0dcb475",
   "metadata": {},
   "outputs": [
    {
     "data": {
      "text/plain": [
       "[1, 3, 5, 7, 9]"
      ]
     },
     "execution_count": 29,
     "metadata": {},
     "output_type": "execute_result"
    }
   ],
   "source": [
    "list(range(1,11,2)) # list로 형변환을 하면 전부 출력된다"
   ]
  },
  {
   "cell_type": "markdown",
   "id": "326ee042",
   "metadata": {},
   "source": [
    "### Exercise 1.\n",
    "- 소수 판결 알고리즘에 대해 알아보자"
   ]
  },
  {
   "cell_type": "code",
   "execution_count": 142,
   "id": "6c2db3ca",
   "metadata": {},
   "outputs": [
    {
     "name": "stdout",
     "output_type": "stream",
     "text": [
      "Enter number : 7\n",
      "Prime Number\n"
     ]
    }
   ],
   "source": [
    "x = int(input('Enter number : '))\n",
    "plag = True # boolean data\n",
    "for i in range(2, x) : \n",
    "    if x % i == 0 : plag = False # 2 이상의 수에서 만약 나누어 떨어지면 소수가 아니다\n",
    "        \n",
    "if plag == True : print('Prime Number')\n",
    "else : print('Not Prime Number')"
   ]
  },
  {
   "cell_type": "markdown",
   "source": [
    "flag를 사용하여 코드를 작성하면 가독성이 높아진다. 코드 작성 방식 중 하나이므로 알아두면 좋다"
   ],
   "metadata": {
    "collapsed": false
   },
   "id": "afad570bca16a1f3"
  },
  {
   "cell_type": "markdown",
   "id": "c6042ba5",
   "metadata": {},
   "source": [
    "### List Comprehension\n",
    "- 리스트를 쉽게, 짧게 한 줄로 만들 수 있는 파이썬의 강력한 문법 중 하나이다\n",
    "- 리스트 뿐만 아니라, 다른 데이터 타입에서도 사용이 가능하다\n",
    "- 리스트 내에 for문을 포함하여 리스트를 생성하는 방법이다"
   ]
  },
  {
   "cell_type": "code",
   "execution_count": 143,
   "id": "ac0c6766",
   "metadata": {},
   "outputs": [
    {
     "name": "stdout",
     "output_type": "stream",
     "text": [
      "[1, 2, 3, 4, 5, 6, 7, 8, 9]\n"
     ]
    }
   ],
   "source": [
    "lst = []\n",
    "for i in range(1, 10) :\n",
    "    lst.append(i)\n",
    "print(lst)"
   ]
  },
  {
   "cell_type": "markdown",
   "source": [
    "위 코드를 List Comprehension을 사용하여 간단하게 표현하면 다음과 같다"
   ],
   "metadata": {
    "collapsed": false
   },
   "id": "171065c1bea6076c"
  },
  {
   "cell_type": "code",
   "execution_count": 144,
   "id": "c7d3be42",
   "metadata": {},
   "outputs": [
    {
     "data": {
      "text/plain": [
       "[1, 2, 3, 4, 5, 6, 7, 8, 9]"
      ]
     },
     "execution_count": 144,
     "metadata": {},
     "output_type": "execute_result"
    }
   ],
   "source": [
    "[i for i in range(1, 10)]"
   ]
  },
  {
   "cell_type": "code",
   "execution_count": 30,
   "id": "03b0cbe9",
   "metadata": {},
   "outputs": [
    {
     "data": {
      "text/plain": [
       "[0, 1, 2, 3, 4, 5, 6, 7, 8, 9]"
      ]
     },
     "execution_count": 30,
     "metadata": {},
     "output_type": "execute_result"
    }
   ],
   "source": [
    "[i for i in range(10)] # list 내에 range()함수를 넣음으로써 간편하게 표현 가능하다"
   ]
  },
  {
   "cell_type": "code",
   "execution_count": 31,
   "id": "8541b0ae",
   "metadata": {},
   "outputs": [
    {
     "data": {
      "text/plain": [
       "[0, 2, 4, 6, 8]"
      ]
     },
     "execution_count": 31,
     "metadata": {},
     "output_type": "execute_result"
    }
   ],
   "source": [
    "[i for i in range(10) if i % 2 == 0] # for 구문에 하나의 조건문을 지정할 수 있다."
   ]
  },
  {
   "cell_type": "code",
   "execution_count": 32,
   "id": "0669c092",
   "metadata": {},
   "outputs": [
    {
     "data": {
      "text/plain": [
       "[(0, 0), (0, 1), (0, 2), (1, 0), (1, 1), (1, 2), (2, 0), (2, 1), (2, 2)]"
      ]
     },
     "execution_count": 32,
     "metadata": {},
     "output_type": "execute_result"
    }
   ],
   "source": [
    "[(i,j) for i in range(3) for j in range(3)] # for 구문의 중첩도 가능하다"
   ]
  },
  {
   "cell_type": "code",
   "execution_count": 33,
   "id": "9878e48f",
   "metadata": {},
   "outputs": [
    {
     "data": {
      "text/plain": [
       "[(0, 0, 0),\n",
       " (0, 0, 1),\n",
       " (0, 1, 0),\n",
       " (0, 1, 1),\n",
       " (1, 0, 0),\n",
       " (1, 0, 1),\n",
       " (1, 1, 0),\n",
       " (1, 1, 1)]"
      ]
     },
     "execution_count": 33,
     "metadata": {},
     "output_type": "execute_result"
    }
   ],
   "source": [
    "[(i,j,k) for i in range(2) for j in range(2) for k in range(2)] # 반복문의 중첩은 몇개든지 상관이 없다"
   ]
  },
  {
   "cell_type": "code",
   "execution_count": 35,
   "id": "c8a3b0fb",
   "metadata": {},
   "outputs": [
    {
     "data": {
      "text/plain": [
       "[(0, 0), (0, 2), (2, 0), (2, 2)]"
      ]
     },
     "execution_count": 35,
     "metadata": {},
     "output_type": "execute_result"
    }
   ],
   "source": [
    "[(i,j) for i in range(3) if i % 2 == 0 for j in range(3) if j % 2 == 0] # 각 for 구문에 대해 조건을 하나씩 달 수 있다"
   ]
  },
  {
   "cell_type": "markdown",
   "id": "df08b12e",
   "metadata": {},
   "source": [
    "### Exercise 2.\n",
    "- 아래의 구문을 List Comprehension을 통해 작성해 보자"
   ]
  },
  {
   "cell_type": "code",
   "execution_count": 47,
   "id": "03ed28b9",
   "metadata": {},
   "outputs": [
    {
     "data": {
      "text/plain": [
       "['0 loops 0 elements',\n",
       " '0 loops 2 elements',\n",
       " '0 loops 4 elements',\n",
       " '0 loops 6 elements',\n",
       " '0 loops 8 elements',\n",
       " '1 loops 0 elements',\n",
       " '1 loops 2 elements',\n",
       " '1 loops 4 elements',\n",
       " '1 loops 6 elements',\n",
       " '1 loops 8 elements',\n",
       " '2 loops 0 elements',\n",
       " '2 loops 2 elements',\n",
       " '2 loops 4 elements',\n",
       " '2 loops 6 elements',\n",
       " '2 loops 8 elements',\n",
       " '3 loops 0 elements',\n",
       " '3 loops 2 elements',\n",
       " '3 loops 4 elements',\n",
       " '3 loops 6 elements',\n",
       " '3 loops 8 elements',\n",
       " '4 loops 0 elements',\n",
       " '4 loops 2 elements',\n",
       " '4 loops 4 elements',\n",
       " '4 loops 6 elements',\n",
       " '4 loops 8 elements']"
      ]
     },
     "execution_count": 47,
     "metadata": {},
     "output_type": "execute_result"
    }
   ],
   "source": [
    "lst = []\n",
    "for i in range(5) :\n",
    "    for j in range(10) :\n",
    "        if j % 2 == 0: \n",
    "            lst.append('%d loops %d elements' %(i, j))\n",
    "\n",
    "lst"
   ]
  },
  {
   "cell_type": "markdown",
   "id": "5c7becae",
   "metadata": {},
   "source": [
    "### While Loop\n",
    "- while 반복문은 어떤 **조건이 만족하는 동안** 반복하는 구조이다\n",
    "- while (True)로 지정할 경우, 탈출 조건을 만들지 않으면 이론적으로 무한히 반복된다"
   ]
  },
  {
   "cell_type": "code",
   "execution_count": 147,
   "id": "6c31a815",
   "metadata": {},
   "outputs": [
    {
     "name": "stdout",
     "output_type": "stream",
     "text": [
      "The sum of all 3 multiples between 1 and 100 is 1683\n"
     ]
    }
   ],
   "source": [
    "N = 100\n",
    "s = 0\n",
    "number = 1 # 반복 횟수를 count하는 변수를 따로 지정해 주어야 한다\n",
    "while number <= N :\n",
    "    if number % 3 == 0 :\n",
    "        s += number\n",
    "    number += 1 # for 구문에서 range(start, end)를 지정한 것과 같은 기능을 하는 부분이다\n",
    "print('The sum of all 3 multiples between 1 and 100 is %s' % s)"
   ]
  },
  {
   "cell_type": "markdown",
   "id": "19aa8174",
   "metadata": {},
   "source": [
    "#### break\n",
    "- **break 명령어**는 반복문에서 반복을 종료하며 반복문을 빠져나오는 기능을 한다\n",
    "\n",
    "<br>\n",
    "\n",
    "**프로그램 흐름**\n",
    "\n",
    "- if문을 이용해서 break문을 실행할 조건을 체크한다\n",
    "- 조건이 True이면 break문이 실행되어 반복문을 종료하고 빠져나오며, False 이면 코드 블록 내의 나머지 명령어들을 계속 실행한다\n",
    "- 조건이 True일때 break문 실행전에 실행할 명령어가 있다면 추가가 가능하다\n",
    "\n",
    "<br>\n",
    "\n",
    "#### continue\n",
    "\n",
    "- **continue 명령어**는 반복문의 code block 안에서 continue문 다음 명령어들을 실행하지 않고 loop의 시작 위치로 가서 반복을 계속 실행시킨다\n",
    "\n",
    "<br>\n",
    "\n",
    "**프로그램 흐름**\n",
    "\n",
    "- if 문을 이용해서 continue문을 실행할 조건을 체크한다\n",
    "- 조건이 True이면 continue문이 실행되어 반복문의 시작 위치로 돌아가고, False면 code block 내의 나머지 명령어들을 계속 실행한다\n",
    "- 조건이 True일 때 continue문 실행 전에 실행할 명령어가 있다면 추가 가능하다"
   ]
  },
  {
   "cell_type": "code",
   "execution_count": 9,
   "id": "31252413",
   "metadata": {
    "ExecuteTime": {
     "end_time": "2024-02-06T10:48:50.226734Z",
     "start_time": "2024-02-06T10:48:50.181527Z"
    }
   },
   "outputs": [
    {
     "name": "stdout",
     "output_type": "stream",
     "text": [
      "0 elements\n",
      "2 elements\n",
      "4 elements\n",
      "6 elements\n",
      "8 elements\n",
      "10 elements\n",
      "12 elements\n",
      "14 elements\n",
      "16 elements\n",
      "18 elements\n",
      "20 elements\n",
      "22 elements\n",
      "24 elements\n",
      "26 elements\n",
      "28 elements\n"
     ]
    }
   ],
   "source": [
    "i = 0\n",
    "while True :\n",
    "    if i % 2 == 0 :\n",
    "        print('%d elements' % i)\n",
    "    i += 1\n",
    "    if i == 30 :\n",
    "        break # 탈출"
   ]
  },
  {
   "cell_type": "markdown",
   "id": "3fe43a0c",
   "metadata": {},
   "source": [
    "### Exercise 3.\n",
    "- 아래의 for loop를 while loop으로 바꾸어 보자"
   ]
  },
  {
   "cell_type": "code",
   "execution_count": 60,
   "id": "d2923f07",
   "metadata": {},
   "outputs": [
    {
     "name": "stdout",
     "output_type": "stream",
     "text": [
      "0 1 2 3 4 5 6 7 8 9 "
     ]
    }
   ],
   "source": [
    "for i in range(10) : print(i, end = ' ')"
   ]
  },
  {
   "cell_type": "markdown",
   "id": "8d517530",
   "metadata": {},
   "source": [
    "### Stack\n",
    "\n",
    "<center><img src = \"https://blog.kakaocdn.net/dn/coDSZF/btqyV5gKcbn/f1CFSncVcZKb7tvaVCDeqK/img.png\" alt=\"My Image\"></center>\n",
    "\n",
    "- 스택(stack)은 제한적으로 접근할 수 있는 나열 구조이다\n",
    "- 접근 방법은 언제나 목록의 끝에서만 일어난다\n",
    "- 끝먼저내기 목록(Pushdown list)이라고도 한다\n",
    "- 후입선출 (Last in First out)방식을 따른다\n",
    "\n",
    "python에서는 List를 통해 Stack을 구현할 수 있다"
   ]
  },
  {
   "cell_type": "code",
   "execution_count": 10,
   "id": "6dbea3cf",
   "metadata": {
    "ExecuteTime": {
     "end_time": "2024-02-06T10:49:19.714057Z",
     "start_time": "2024-02-06T10:49:19.690526Z"
    }
   },
   "outputs": [
    {
     "name": "stdout",
     "output_type": "stream",
     "text": [
      "[1, 2, 3, 4, 5]\n"
     ]
    }
   ],
   "source": [
    "lst_sample = [1,2,3,4,5]\n",
    "print(lst_sample)"
   ]
  },
  {
   "cell_type": "code",
   "execution_count": 11,
   "id": "d5ef8f7a",
   "metadata": {
    "ExecuteTime": {
     "end_time": "2024-02-06T10:49:20.603622Z",
     "start_time": "2024-02-06T10:49:20.592323Z"
    }
   },
   "outputs": [
    {
     "name": "stdout",
     "output_type": "stream",
     "text": [
      "[1, 2, 3, 4, 5, 6]\n"
     ]
    }
   ],
   "source": [
    "lst_sample.append(6)\n",
    "print(lst_sample) # Push"
   ]
  },
  {
   "cell_type": "code",
   "execution_count": 12,
   "id": "aa51b4d1",
   "metadata": {
    "ExecuteTime": {
     "end_time": "2024-02-06T10:49:23.075663Z",
     "start_time": "2024-02-06T10:49:23.065094Z"
    }
   },
   "outputs": [
    {
     "data": {
      "text/plain": "6"
     },
     "execution_count": 12,
     "metadata": {},
     "output_type": "execute_result"
    }
   ],
   "source": [
    "lst_sample.pop() # Pop"
   ]
  },
  {
   "cell_type": "code",
   "execution_count": 13,
   "id": "4c19996f",
   "metadata": {
    "ExecuteTime": {
     "end_time": "2024-02-06T10:49:31.604283Z",
     "start_time": "2024-02-06T10:49:31.593522Z"
    }
   },
   "outputs": [
    {
     "name": "stdout",
     "output_type": "stream",
     "text": [
      "[1, 2, 3, 4, 5]\n"
     ]
    }
   ],
   "source": [
    "print(lst_sample) # pop method 사용시, 데이터 저장소 내에 그 결과가 저장된다"
   ]
  },
  {
   "cell_type": "code",
   "execution_count": 14,
   "id": "42bc815e",
   "metadata": {
    "ExecuteTime": {
     "end_time": "2024-02-06T10:49:33.715192Z",
     "start_time": "2024-02-06T10:49:33.700919Z"
    }
   },
   "outputs": [
    {
     "data": {
      "text/plain": "5"
     },
     "execution_count": 14,
     "metadata": {},
     "output_type": "execute_result"
    }
   ],
   "source": [
    "lst_sample.pop() # Pop"
   ]
  },
  {
   "cell_type": "code",
   "execution_count": 15,
   "id": "f60cd78e",
   "metadata": {
    "ExecuteTime": {
     "end_time": "2024-02-06T10:49:35.974861Z",
     "start_time": "2024-02-06T10:49:35.941309Z"
    }
   },
   "outputs": [
    {
     "name": "stdout",
     "output_type": "stream",
     "text": [
      "[1, 2, 3, 4]\n"
     ]
    }
   ],
   "source": [
    "print(lst_sample)"
   ]
  },
  {
   "cell_type": "markdown",
   "id": "e15f7ff2",
   "metadata": {},
   "source": [
    "### Queue\n",
    "\n",
    "<center><img src = \"https://blog.kakaocdn.net/dn/5NOv1/btqSTINnoq8/4f8bjzzf6W4POewlq8At31/img.png\" alt=\"My Image\"></center>\n",
    "\n",
    "- 기본적인 자료 구조의 한가지로, 먼저 집어 넣은 데이터가 먼저 나오는 FIFO(First In First Out)구조로 저장하는 형식이다\n",
    "- 선입선출 (First in First out) 방식을 따른다\n",
    "- 접근 방법은 목록의 처음에서 나타난다\n",
    "- 큐 자료구조에 필요한 주된 연산은 다음과 같다\n",
    "    - enqueue(a) : 큐에 a의 원소 추가\n",
    "    - dequeue : 가장 오래 전에 추가한 원소를 삭제하여 반환\n",
    "    - front : 가장 오래 전에 추가한 원소를 삭제하지 않고 반환\n",
    "    - isempty : 빈 큐인지 조사"
   ]
  },
  {
   "cell_type": "code",
   "execution_count": 156,
   "id": "3caba84f",
   "metadata": {},
   "outputs": [
    {
     "name": "stdout",
     "output_type": "stream",
     "text": [
      "[1, 2, 3]\n"
     ]
    }
   ],
   "source": [
    "lst_sample = []\n",
    "lst_sample.append(1) # Enqueue\n",
    "lst_sample.append(2)\n",
    "lst_sample.append(3)\n",
    "print(lst_sample)"
   ]
  },
  {
   "cell_type": "code",
   "execution_count": 157,
   "id": "cac175e9",
   "metadata": {},
   "outputs": [
    {
     "name": "stdout",
     "output_type": "stream",
     "text": [
      "1 [2, 3]\n"
     ]
    }
   ],
   "source": [
    "a = lst_sample.pop(0) # Dequeue\n",
    "print(a, lst_sample)"
   ]
  },
  {
   "cell_type": "code",
   "execution_count": 159,
   "id": "27633eae",
   "metadata": {},
   "outputs": [
    {
     "name": "stdout",
     "output_type": "stream",
     "text": [
      "[2, 3, 4]\n"
     ]
    }
   ],
   "source": [
    "lst_sample.append(4) # Enqueue\n",
    "print(lst_sample)"
   ]
  },
  {
   "cell_type": "code",
   "execution_count": 160,
   "id": "db890918",
   "metadata": {},
   "outputs": [
    {
     "name": "stdout",
     "output_type": "stream",
     "text": [
      "2 [2, 3, 4]\n"
     ]
    }
   ],
   "source": [
    "b = lst_sample[0] # front\n",
    "print(b, lst_sample) # front 구현방법"
   ]
  },
  {
   "cell_type": "markdown",
   "id": "f7b18fa9",
   "metadata": {},
   "source": [
    "### Moving Average\n",
    "- Queue를 응용하여 numerical data로 구성된 container의 이동평균을 구할 수 있다\n",
    "\n",
    "<center><img src = \"https://media.geeksforgeeks.org/wp-content/uploads/20211020104612/ezgifcomgifmaker36.gif\" alt=\"My Image\"></center>\n",
    "\n",
    "- Data만 있으면 주가의 이동평균을 구할 수 있다\n",
    "\n",
    "**Moving Average Algorithm의 이해**\n",
    "\n",
    "<br>\n",
    "\n",
    "<center><img src = \"https://andrewlock.net/content/images/2021/sma_02.png\" alt=\"My Image\"></center>\n",
    "\n"
   ]
  },
  {
   "cell_type": "code",
   "execution_count": 16,
   "id": "a50a9345",
   "metadata": {
    "ExecuteTime": {
     "end_time": "2024-02-06T10:50:08.291367Z",
     "start_time": "2024-02-06T10:50:08.258245Z"
    }
   },
   "outputs": [
    {
     "data": {
      "text/plain": "77"
     },
     "execution_count": 16,
     "metadata": {},
     "output_type": "execute_result"
    }
   ],
   "source": [
    "import random\n",
    "\n",
    "random.randint(1, 100)"
   ]
  },
  {
   "cell_type": "code",
   "execution_count": 17,
   "id": "d283f6a1",
   "metadata": {
    "ExecuteTime": {
     "end_time": "2024-02-06T10:50:13.526354Z",
     "start_time": "2024-02-06T10:50:13.516815Z"
    }
   },
   "outputs": [
    {
     "name": "stdout",
     "output_type": "stream",
     "text": [
      "[7, 66, 40, 70, 42, 37, 12, 19, 52, 96, 20, 19, 23, 56, 8, 83, 66, 16, 35, 73, 91, 36, 33, 27, 98, 18, 49, 30, 52, 89]\n"
     ]
    }
   ],
   "source": [
    "import random\n",
    "\n",
    "pList = [] # 빈 리스트 생성\n",
    "\n",
    "for i in range(30) :\n",
    "    pList.append(random.randint(1, 100)) # random한 값을 추출한다\n",
    "    \n",
    "print(pList) # 임의의 가격 list"
   ]
  },
  {
   "cell_type": "code",
   "execution_count": 18,
   "id": "ab3e1ec1",
   "metadata": {
    "ExecuteTime": {
     "end_time": "2024-02-06T10:50:37.140563Z",
     "start_time": "2024-02-06T10:50:37.105813Z"
    }
   },
   "outputs": [
    {
     "name": "stdout",
     "output_type": "stream",
     "text": [
      "[7.0, 18.8, 25.4, 38.0, 45.0, 51.0, 40.2, 36.0, 32.4, 43.2, 39.8, 41.2, 42.0, 42.8, 25.2, 37.8, 47.2, 45.8, 41.6, 54.6, 56.2, 50.2, 53.6, 52.0, 57.0, 42.4, 45.0, 44.4, 49.4, 47.6]\n"
     ]
    }
   ],
   "source": [
    "numMA = 5 # 이동평균을 구하려는 일수 \n",
    "MA = [] # Moving Average List, 계산 결과가 쌓이는 곳\n",
    "Q = [] # Queue Stack, 이동평균을 계산하는 리스트\n",
    "mSum = pList[0] * numMA # 초기 값 지정\n",
    "\n",
    "for i in range(numMA) : # 이동 평균을 계산할 수만큼 반복하여 Queue에 저장\n",
    "    Q.append(pList[0]) \n",
    "\n",
    "for M in pList :\n",
    "    mSum = mSum - Q.pop(0) # dequeue\n",
    "    mSum += M\n",
    "    MA.append(mSum/numMA) # average의 결과 list에 추가\n",
    "    Q.append(M) # queue update\n",
    "    \n",
    "print(MA) # 주가의 이동 평균"
   ]
  },
  {
   "cell_type": "markdown",
   "id": "4e0fa164",
   "metadata": {},
   "source": [
    "### Exercise 4. \n",
    "- 임의의 주식시장 종가 100일치를 만들고, 20일 이동평균값을 구하여 Stack에 저장해 보자. (단, Queue를 응용하여 구하도록 하고, 시장의 종가 범위는 2400~2500으로 잡는다)"
   ]
  },
  {
   "cell_type": "code",
   "execution_count": 19,
   "id": "650cbc6b",
   "metadata": {
    "ExecuteTime": {
     "end_time": "2024-02-06T10:51:01.383498Z",
     "start_time": "2024-02-06T10:51:01.354383Z"
    }
   },
   "outputs": [
    {
     "name": "stdout",
     "output_type": "stream",
     "text": [
      "[2453.0, 2452.3, 2454.2, 2451.75, 2450.25, 2447.7, 2446.3, 2445.5, 2444.0, 2441.7, 2442.1, 2443.55, 2441.85, 2441.85, 2442.6, 2440.15, 2441.4, 2443.05, 2440.65, 2438.75, 2440.4, 2442.0, 2442.0, 2445.55, 2448.5, 2453.3, 2455.55, 2456.4, 2459.75, 2459.8, 2458.95, 2455.0, 2458.75, 2460.2, 2459.15, 2459.75, 2457.85, 2458.35, 2462.25, 2465.35, 2463.55, 2460.0, 2459.0, 2458.0, 2457.0, 2452.9, 2454.2, 2455.05, 2455.1, 2459.15, 2460.1, 2464.2, 2462.5, 2462.9, 2463.2, 2466.6, 2465.3, 2462.5, 2462.25, 2459.0, 2457.75, 2458.75, 2457.2, 2457.95, 2456.9, 2456.95, 2454.75, 2451.9, 2451.05, 2448.95, 2446.35, 2443.0, 2443.2, 2441.3, 2441.9, 2440.7, 2442.85, 2443.65, 2441.35, 2442.45, 2445.95, 2448.65, 2447.5, 2448.6, 2447.1, 2450.45, 2449.35, 2453.6, 2451.75, 2453.95, 2454.65, 2456.05, 2457.2, 2457.3, 2457.25, 2455.5, 2455.95, 2455.65, 2456.9, 2459.75]\n"
     ]
    }
   ],
   "source": [
    "import random\n",
    "\n",
    "pList = [] \n",
    "\n",
    "for i in range(100) :\n",
    "    pList.append(random.randint(2400, 2501)) \n",
    "    \n",
    "numMA = 20\n",
    "MA = []\n",
    "Q = [] \n",
    "mSum = pList[0] * numMA\n",
    "\n",
    "for i in range(numMA) : Q.append(pList[0])\n",
    "\n",
    "for M in pList :\n",
    "    mSum = mSum - Q.pop(0) \n",
    "    mSum += M\n",
    "    MA.append(mSum/numMA) \n",
    "    Q.append(M) \n",
    "    \n",
    "print(MA)"
   ]
  },
  {
   "cell_type": "code",
   "execution_count": 20,
   "id": "bd27e454",
   "metadata": {
    "ExecuteTime": {
     "end_time": "2024-02-06T10:51:06.984482Z",
     "start_time": "2024-02-06T10:51:06.373680Z"
    }
   },
   "outputs": [
    {
     "data": {
      "text/plain": "<Figure size 640x480 with 1 Axes>",
      "image/png": "[encoded data removed]"
     },
     "metadata": {},
     "output_type": "display_data"
    }
   ],
   "source": [
    "import matplotlib.pyplot as plt\n",
    "\n",
    "plt.plot(pList, alpha = 0.3)\n",
    "plt.plot(MA)\n",
    "plt.show()"
   ]
  },
  {
   "cell_type": "markdown",
   "source": [
    "위와 같이 Moving Average를 구하는 과정은 대표적인 signal processing의 예시로, 금융시장 분석에서 광범위하게 사용됩니다"
   ],
   "metadata": {
    "collapsed": false
   },
   "id": "57284787a56ae638"
  },
  {
   "cell_type": "markdown",
   "id": "355b1d83",
   "metadata": {},
   "source": []
  },
  {
   "cell_type": "code",
   "execution_count": 110,
   "id": "3a2e92cc",
   "metadata": {},
   "outputs": [],
   "source": []
  },
  {
   "cell_type": "markdown",
   "id": "25b12a44",
   "metadata": {},
   "source": []
  },
  {
   "cell_type": "code",
   "execution_count": 115,
   "id": "fe3a5b41",
   "metadata": {},
   "outputs": [],
   "source": [
    "kospi_sample = kospi.values()"
   ]
  },
  {
   "cell_type": "code",
   "execution_count": 116,
   "id": "fa4847bd",
   "metadata": {},
   "outputs": [
    {
     "name": "stdout",
     "output_type": "stream",
     "text": [
      "[2225.67, 2218.68, 2255.98, 2264.65, 2289.97, 2350.19, 2351.31, 2359.53, 2365.1, 2386.09, 2399.86, 2379.39, 2368.32, 2380.34, 2395.26]\n"
     ]
    }
   ],
   "source": [
    "p = list(map(float, kospi_sample))\n",
    "print(p)"
   ]
  },
  {
   "cell_type": "code",
   "execution_count": 117,
   "id": "188a474a",
   "metadata": {},
   "outputs": [
    {
     "name": "stdout",
     "output_type": "stream",
     "text": [
      "[2225.67, 2224.272, 2230.334, 2238.13, 2250.99, 2275.894, 2302.4199999999996, 2323.13, 2343.2200000000003, 2362.4440000000004, 2372.378, 2377.994, 2379.752, 2382.8, 2384.634]\n"
     ]
    }
   ],
   "source": [
    "numMA = 5\n",
    "MA = []\n",
    "Q = [] \n",
    "mSum = p[0] * numMA\n",
    "\n",
    "for i in range(numMA) : Q.append(p[0])\n",
    "\n",
    "for M in p :\n",
    "    mSum = mSum - Q.pop(0) \n",
    "    mSum += M\n",
    "    MA.append(mSum/numMA) \n",
    "    Q.append(M) \n",
    "    \n",
    "print(MA)"
   ]
  },
  {
   "cell_type": "code",
   "execution_count": 118,
   "id": "5742fc9a",
   "metadata": {},
   "outputs": [
    {
     "data": {
      "image/png": "[encoded data removed]",
      "text/plain": [
       "<Figure size 640x480 with 1 Axes>"
      ]
     },
     "metadata": {},
     "output_type": "display_data"
    }
   ],
   "source": [
    "plt.plot(p)\n",
    "plt.plot(MA)\n",
    "plt.show()"
   ]
  },
  {
   "cell_type": "markdown",
   "source": [],
   "metadata": {
    "collapsed": false
   },
   "id": "af378ce4"
  },
  {
   "cell_type": "code",
   "outputs": [],
   "source": [],
   "metadata": {
    "collapsed": false
   },
   "id": "d3f296c1",
   "execution_count": 104
  },
  {
   "cell_type": "code",
   "outputs": [
    {
     "name": "stdout",
     "output_type": "stream",
     "text": [
      "50\n"
     ]
    }
   ],
   "source": [
    "print(len(p)) # 50일간의 데이터"
   ],
   "metadata": {
    "collapsed": false
   },
   "id": "6fc6532b",
   "execution_count": 105
  },
  {
   "cell_type": "code",
   "outputs": [],
   "source": [],
   "metadata": {
    "collapsed": false
   },
   "id": "4adcb850",
   "execution_count": 0
  }
 ],
 "metadata": {
  "kernelspec": {
   "display_name": "Python 3 (ipykernel)",
   "language": "python",
   "name": "python3"
  },
  "language_info": {
   "codemirror_mode": {
    "name": "ipython",
    "version": 3
   },
   "file_extension": ".py",
   "mimetype": "text/x-python",
   "name": "python",
   "nbconvert_exporter": "python",
   "pygments_lexer": "ipython3",
   "version": "3.9.13"
  },
  "toc": {
   "base_numbering": 1,
   "nav_menu": {},
   "number_sections": true,
   "sideBar": true,
   "skip_h1_title": false,
   "title_cell": "Table of Contents",
   "title_sidebar": "Contents",
   "toc_cell": false,
   "toc_position": {},
   "toc_section_display": true,
   "toc_window_display": false
  }
 },
 "nbformat": 4,
 "nbformat_minor": 5
}
