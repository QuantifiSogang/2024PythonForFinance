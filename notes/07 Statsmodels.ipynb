{
 "cells": [
  {
   "cell_type": "markdown",
   "source": [
    "## Statsmodels\n",
    "\n",
    "- statsmodels은 OLS를 비롯한 회귀분석과 통계적 해석에 필요한 도구를 제공해주는 library이다.\n",
    "- 선형 회귀분석을 비롯해 시계열 모형, 칼만 필터 등 다양한 도구 사용이 가능하다."
   ],
   "metadata": {
    "collapsed": false
   },
   "id": "cb5ad4b73e438b1a"
  },
  {
   "cell_type": "code",
   "outputs": [],
   "source": [
    "!pip install statsmodels"
   ],
   "metadata": {
    "collapsed": false
   },
   "id": "9135276e1d6fb48"
  },
  {
   "cell_type": "markdown",
   "source": [
    "### Ordinary Least Squares (OLS)\n",
    "\n",
    "OLS는 설명변수와 종속변수의 관계를 보기 위해 추정하는 모형이다. 변수는 서로 독립적인 iid 정규분포에서 샘플링 된 데이터를 사용해야 한다"
   ],
   "metadata": {
    "collapsed": false
   },
   "id": "f0734d78a225d2a9"
  },
  {
   "cell_type": "code",
   "outputs": [],
   "source": [],
   "metadata": {
    "collapsed": false
   },
   "id": "497e8033e679beac"
  },
  {
   "cell_type": "code",
   "execution_count": null,
   "id": "initial_id",
   "metadata": {
    "collapsed": true
   },
   "outputs": [],
   "source": [
    "import statsmodels.api as sm\n",
    "\n"
   ]
  }
 ],
 "metadata": {
  "kernelspec": {
   "display_name": "Python 3",
   "language": "python",
   "name": "python3"
  },
  "language_info": {
   "codemirror_mode": {
    "name": "ipython",
    "version": 2
   },
   "file_extension": ".py",
   "mimetype": "text/x-python",
   "name": "python",
   "nbconvert_exporter": "python",
   "pygments_lexer": "ipython2",
   "version": "2.7.6"
  }
 },
 "nbformat": 4,
 "nbformat_minor": 5
}
