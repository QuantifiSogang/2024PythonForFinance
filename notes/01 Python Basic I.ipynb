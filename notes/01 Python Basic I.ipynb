{
 "cells": [
  {
   "cell_type": "markdown",
   "id": "441be9a3",
   "metadata": {},
   "source": [
    "## Python Basic I\n",
    "\n",
    "### Comment (주석)\n",
    "\n",
    "- 주석은 프로그램의 설명문과 같다\n",
    "- 주석을 작성해 놓으면, 추후 어떤 코드였는지 확인이 가능하다\n",
    "- Python Interpreters는 명령어 실행 시, 주석은 무시한다\n",
    "- \\# 문자는 한 줄 짜리 주석에 사용한다\n",
    "- 여러 줄 주석은 큰 따옴표 또는 작은 따옴표 세 개를 사용한다 (Jupyter Notebook에서는 동작하지 않음)\n",
    "\n",
    "```python\n",
    "'''\n",
    "여러 줄 주석\n",
    "'''\n",
    "```"
   ]
  },
  {
   "cell_type": "code",
   "execution_count": 1,
   "id": "f4a951ef",
   "metadata": {
    "ExecuteTime": {
     "end_time": "2024-01-30T14:03:11.928962Z",
     "start_time": "2024-01-30T14:03:11.336165Z"
    }
   },
   "outputs": [],
   "source": [
    "a = 1 # 주석"
   ]
  },
  {
   "cell_type": "code",
   "execution_count": 2,
   "id": "dff7d620",
   "metadata": {
    "ExecuteTime": {
     "end_time": "2024-01-30T14:03:11.958610Z",
     "start_time": "2024-01-30T14:03:11.929149Z"
    }
   },
   "outputs": [],
   "source": [
    "# 한 줄 주석"
   ]
  },
  {
   "cell_type": "markdown",
   "id": "83044e18",
   "metadata": {},
   "source": [
    "### Variable\n",
    "\n",
    "- 변수는 메모리에 저장된 값을 참조하는 이름\n",
    "    - 즉, 변수는 메모리에 생성된 객체(object)를 참조하는 수단\n",
    "    \n",
    "- Python Variables\n",
    "    - 변수는 값을 처음 할당 받는 순간에 생성\n",
    "    - 변수의 값은 실행 중간에 변경 가능\n",
    "    - 파이썬은 기본적으로 변수의 선언과 초기화가 동시에 이뤄짐\n",
    "- Python Constant ?\n",
    "    - 기본적으로, Python의 모든 데이터는 변수로 지정됨\n",
    "    - Class를 따로 선언하여 상수처럼 사용할 수 있으나, 잘 쓰이지는 않음\n",
    "    \n",
    "#### 변수명 규칙\n",
    "- 변수명은 영어 대소문자와 숫자, Under Bar만 허용\n",
    "    - 소문자와 대문자는 서로 다른 변수명으로 취급\n",
    "    - 변수명에 공백을 허용하지 않으므로 단어를 구분하려면 밑줄을 사용하거나, myNewCar와 같이 낙타체 표기법(대소문자로 단어 구별)을 사용하여 의미를 부여할 수 있음\n",
    "    - 변수명은 의미 있는 이름을 사용하는 것이 효율적임\n",
    "    - 파이썬 지정단어는 변수명으로 사용하지 않는 것이 좋음 (겹칠 우려가 있음)\n",
    "    \n",
    "|<center>**변수명 규칙**</center>|\n",
    "|:---|\n",
    "|변수명은 영어 대소문자, 숫자, 밑줄로만 이루어짐 <br> 다른 기호를 사용하면 구문 에러(**Syntax Error**)|\n",
    "|변수명은 영어 대소문자 또는 밑줄로만 시작, <span style=\"color:#760c0c\"><b>숫자로 시작 하면 안됨</b></span>|\n",
    "|Python 지정단어들은 변수명으로 사용할 수 없음|\n",
    "|파이썬에서는 대문자와 소문자를 구분 (hour와 Hour는 다른 변수)|"
   ]
  },
  {
   "cell_type": "code",
   "execution_count": 3,
   "id": "ecfd3674",
   "metadata": {
    "ExecuteTime": {
     "end_time": "2024-01-30T14:03:12.000867Z",
     "start_time": "2024-01-30T14:03:11.946082Z"
    }
   },
   "outputs": [
    {
     "name": "stdout",
     "output_type": "stream",
     "text": [
      "3\n"
     ]
    }
   ],
   "source": [
    "aB = 3\n",
    "print(aB)"
   ]
  },
  {
   "cell_type": "markdown",
   "id": "3001d2d4",
   "metadata": {},
   "source": [
    "### Exercise 1.\n",
    "- 변수를 직접 선언하여 사용해 보자"
   ]
  },
  {
   "cell_type": "code",
   "execution_count": 4,
   "id": "7b541539",
   "metadata": {
    "ExecuteTime": {
     "end_time": "2024-01-30T14:03:12.030949Z",
     "start_time": "2024-01-30T14:03:11.973803Z"
    }
   },
   "outputs": [
    {
     "name": "stdout",
     "output_type": "stream",
     "text": [
      "100 50\n"
     ]
    }
   ],
   "source": [
    "n1 = 100 # 변수 선언\n",
    "n2 = 50\n",
    "\n",
    "print(n1, n2) # 출력을 위한 함수"
   ]
  },
  {
   "cell_type": "code",
   "execution_count": 5,
   "id": "99603dc1",
   "metadata": {
    "ExecuteTime": {
     "end_time": "2024-01-30T14:03:12.092772Z",
     "start_time": "2024-01-30T14:03:12.021744Z"
    }
   },
   "outputs": [
    {
     "name": "stdout",
     "output_type": "stream",
     "text": [
      "1000\n"
     ]
    }
   ],
   "source": [
    "n_3 = 1000\n",
    "print(n_3)"
   ]
  },
  {
   "cell_type": "markdown",
   "id": "cedb3566",
   "metadata": {},
   "source": [
    "### Python Data Types\n",
    "- 변수에는 정수, 실수, 문자열 등의 다양한 자료형의 데이터를 할당하여 저장\n",
    "- 파이썬에서 제공하는 기본 자료형은 다음과 같다\n",
    "<br>\n",
    "<br>\n",
    "<center>numbers(integer, float, complex), Boolean, String, List, Tuple, Set, Dictionary</center>\n",
    "<br>\n",
    "\n",
    "우선, Numbers, Boolean, String 자료형을 살펴보도록 한다.\n",
    "\n",
    "<br>\n",
    "\n",
    "#### Integer\n",
    "- 정수형은 소수점이 없는 숫자 데이터(100, -123, 0, ...)\n",
    "- 정수형 데이터 표현\n",
    "    - 16진수는 0x나 0X (숫자 0)\n",
    "    - 8진수는 0o나 0O(숫자 0 + 알파벳 o(O))\n",
    "    - 2진수는 0b나 0B를 접두사로 붙여 표현"
   ]
  },
  {
   "cell_type": "code",
   "execution_count": 6,
   "id": "cc8118a9",
   "metadata": {
    "ExecuteTime": {
     "end_time": "2024-01-30T14:03:12.127769Z",
     "start_time": "2024-01-30T14:03:12.093747Z"
    }
   },
   "outputs": [
    {
     "name": "stdout",
     "output_type": "stream",
     "text": [
      "10 진수 : 10\n",
      "16 진수 : 255\n",
      "8 진수 : 63\n",
      "2 진수 : 15\n"
     ]
    }
   ],
   "source": [
    "a = 10 # 10진수\n",
    "b = 0xFF # 16진수\n",
    "c = 0o77 # 8진수\n",
    "d = 0b1111 # 2진수\n",
    "\n",
    "print('10 진수 :', a)\n",
    "print('16 진수 :', b)\n",
    "print('8 진수 :', c)\n",
    "print('2 진수 :', d)"
   ]
  },
  {
   "cell_type": "code",
   "execution_count": 7,
   "id": "5e9903b1",
   "metadata": {
    "ExecuteTime": {
     "end_time": "2024-01-30T14:03:12.180476Z",
     "start_time": "2024-01-30T14:03:12.123673Z"
    }
   },
   "outputs": [
    {
     "name": "stdout",
     "output_type": "stream",
     "text": [
      "63\n"
     ]
    }
   ],
   "source": [
    "print(0o77)"
   ]
  },
  {
   "cell_type": "code",
   "outputs": [
    {
     "name": "stdout",
     "output_type": "stream",
     "text": [
      "86\n"
     ]
    }
   ],
   "source": [
    "print(0b1111 + 0o107) # 진수가 달라도 연산 가능"
   ],
   "metadata": {
    "collapsed": false,
    "ExecuteTime": {
     "end_time": "2024-01-30T14:03:12.208641Z",
     "start_time": "2024-01-30T14:03:12.168743Z"
    }
   },
   "id": "56654fe85757b64a",
   "execution_count": 8
  },
  {
   "cell_type": "markdown",
   "id": "4469d4c5",
   "metadata": {},
   "source": [
    "#### float\n",
    "- 실수형은 소수점이 있는 숫자 데이터(3.14, -2.7, ...)\n",
    "- 실수의 두가지 표현 방식\n",
    "    - 고정 소수점 방식: 132.234, −0.023 등과 같이 소수점을 고정 하여 표시한 방법\n",
    "    - 부동 소수점 방식: 1.531e+35, 3.54e−64 등과 같이 지수형 (exponential form)으로 표시하는 방법\n",
    "- 실수를 표현할 때 오차가 발생할 수 있음. 이는 컴퓨터가 실수를 표현할 때 2진수로 변환하는 과정에서 발생하는 문제"
   ]
  },
  {
   "cell_type": "code",
   "execution_count": 9,
   "id": "be2480e6",
   "metadata": {
    "ExecuteTime": {
     "end_time": "2024-01-30T14:03:12.255763Z",
     "start_time": "2024-01-30T14:03:12.203876Z"
    }
   },
   "outputs": [
    {
     "name": "stdout",
     "output_type": "stream",
     "text": [
      "0.30000000000000004\n"
     ]
    }
   ],
   "source": [
    "print(0.1 + 0.2) # 값이 정확하게 나오지 않는것에 주의한다"
   ]
  },
  {
   "cell_type": "markdown",
   "source": [
    "오차 없이 값을 표현하고 싶다면 round() 함수를 사용한다"
   ],
   "metadata": {
    "collapsed": false
   },
   "id": "6a55e3a4e4c65d3d"
  },
  {
   "cell_type": "code",
   "execution_count": 10,
   "id": "3d29a203",
   "metadata": {
    "ExecuteTime": {
     "end_time": "2024-01-30T14:03:12.288253Z",
     "start_time": "2024-01-30T14:03:12.245700Z"
    }
   },
   "outputs": [
    {
     "name": "stdout",
     "output_type": "stream",
     "text": [
      "0.3\n"
     ]
    }
   ],
   "source": [
    "print(round(0.1 + 0.2, 2))"
   ]
  },
  {
   "cell_type": "markdown",
   "source": [
    "또는 아래와 같은 formatting을 사용하면 된다"
   ],
   "metadata": {
    "collapsed": false
   },
   "id": "157bd925d188fe1d"
  },
  {
   "cell_type": "code",
   "outputs": [
    {
     "name": "stdout",
     "output_type": "stream",
     "text": [
      "0.3\n",
      "0.3\n"
     ]
    }
   ],
   "source": [
    "print('{0:.1f}'.format(0.1 + 0.2)) # formatting\n",
    "print(f'{0.1 + 0.2 :.1f}')"
   ],
   "metadata": {
    "collapsed": false,
    "ExecuteTime": {
     "end_time": "2024-01-30T14:03:12.358806Z",
     "start_time": "2024-01-30T14:03:12.279537Z"
    }
   },
   "id": "cd23470ba7c9e503",
   "execution_count": 11
  },
  {
   "cell_type": "markdown",
   "source": [
    "python의 출력 함수 print()는 \\n을 기본적으로 포함하여 출력함에 주의한다"
   ],
   "metadata": {
    "collapsed": false
   },
   "id": "bcabee40ad92993c"
  },
  {
   "cell_type": "code",
   "execution_count": 12,
   "id": "c5a75d44",
   "metadata": {
    "ExecuteTime": {
     "end_time": "2024-01-30T14:03:12.393683Z",
     "start_time": "2024-01-30T14:03:12.346011Z"
    }
   },
   "outputs": [
    {
     "data": {
      "text/plain": "310000000.0"
     },
     "execution_count": 12,
     "metadata": {},
     "output_type": "execute_result"
    }
   ],
   "source": [
    "3.1e+8 # 부동소수점 방식"
   ]
  },
  {
   "cell_type": "code",
   "execution_count": 13,
   "id": "35a24a2b",
   "metadata": {
    "ExecuteTime": {
     "end_time": "2024-01-30T14:03:12.453824Z",
     "start_time": "2024-01-30T14:03:12.388538Z"
    }
   },
   "outputs": [
    {
     "data": {
      "text/plain": "0.0031"
     },
     "execution_count": 13,
     "metadata": {},
     "output_type": "execute_result"
    }
   ],
   "source": [
    "3.1e-3"
   ]
  },
  {
   "cell_type": "markdown",
   "source": [
    "고정소수점 방식과 부동소수점 방식은 컴퓨터가 float형 데이터를 어떻게 표현하는지에 따라 다르게 표현된다. 자세한 내용은 과정 범위를 벗어남으로 구글링을 통해 알아보도록 한다"
   ],
   "metadata": {
    "collapsed": false
   },
   "id": "aa74dc49cf2880ee"
  },
  {
   "cell_type": "markdown",
   "id": "89ee573e",
   "metadata": {},
   "source": [
    "#### Boolean\n",
    "- True, False 값을 저장(참, 거짓을 의미)\n",
    "- Boolean형은 단독으로 사용하기보다 if조건문,반복문등과 함께 주로 사용됨"
   ]
  },
  {
   "cell_type": "code",
   "execution_count": 14,
   "id": "ed34fe76",
   "metadata": {
    "ExecuteTime": {
     "end_time": "2024-01-30T14:03:12.500998Z",
     "start_time": "2024-01-30T14:03:12.453962Z"
    }
   },
   "outputs": [
    {
     "name": "stdout",
     "output_type": "stream",
     "text": [
      "True False\n"
     ]
    }
   ],
   "source": [
    "a = True\n",
    "b = False\n",
    "\n",
    "print(a, b)"
   ]
  },
  {
   "cell_type": "code",
   "execution_count": 15,
   "id": "072a3eab",
   "metadata": {
    "ExecuteTime": {
     "end_time": "2024-01-30T14:03:12.553058Z",
     "start_time": "2024-01-30T14:03:12.487165Z"
    }
   },
   "outputs": [
    {
     "data": {
      "text/plain": "1"
     },
     "execution_count": 15,
     "metadata": {},
     "output_type": "execute_result"
    }
   ],
   "source": [
    "int(True)"
   ]
  },
  {
   "cell_type": "code",
   "execution_count": 16,
   "id": "ca810297",
   "metadata": {
    "ExecuteTime": {
     "end_time": "2024-01-30T14:03:12.583779Z",
     "start_time": "2024-01-30T14:03:12.542095Z"
    }
   },
   "outputs": [
    {
     "data": {
      "text/plain": "0"
     },
     "execution_count": 16,
     "metadata": {},
     "output_type": "execute_result"
    }
   ],
   "source": [
    "int(False)"
   ]
  },
  {
   "cell_type": "markdown",
   "id": "aebd1fd9",
   "metadata": {},
   "source": [
    "#### String\n",
    "- 문자열은 양쪽을 큰따옴표(“)나 작은따옴표(‘)로 감싼 문자들의 모임\n",
    "- 파이썬에서는 문자형과 문자열의 구분이 없고, 모두 문자열의 객체로 취급된다\n",
    "- 즉, `'a'`와 `'abc'`는 모두 문자열로 취급된다. `'a'`는 길이가 1인 문자열이고, `'abc'`는 길이가 3인 문자열이다"
   ]
  },
  {
   "cell_type": "code",
   "outputs": [
    {
     "data": {
      "text/plain": "str"
     },
     "execution_count": 17,
     "metadata": {},
     "output_type": "execute_result"
    }
   ],
   "source": [
    "type('a') # 문자열"
   ],
   "metadata": {
    "collapsed": false,
    "ExecuteTime": {
     "end_time": "2024-01-30T14:03:12.654842Z",
     "start_time": "2024-01-30T14:03:12.583810Z"
    }
   },
   "id": "5a4ec0a301e61abb",
   "execution_count": 17
  },
  {
   "cell_type": "code",
   "outputs": [
    {
     "data": {
      "text/plain": "str"
     },
     "execution_count": 18,
     "metadata": {},
     "output_type": "execute_result"
    }
   ],
   "source": [
    "type('String')  # 문자열"
   ],
   "metadata": {
    "collapsed": false,
    "ExecuteTime": {
     "end_time": "2024-01-30T14:03:12.670644Z",
     "start_time": "2024-01-30T14:03:12.641832Z"
    }
   },
   "id": "d9fa2775c4f12e0f",
   "execution_count": 18
  },
  {
   "cell_type": "code",
   "execution_count": 19,
   "id": "367ecd0b",
   "metadata": {
    "ExecuteTime": {
     "end_time": "2024-01-30T14:03:12.732534Z",
     "start_time": "2024-01-30T14:03:12.670749Z"
    }
   },
   "outputs": [
    {
     "name": "stdout",
     "output_type": "stream",
     "text": [
      "string\n"
     ]
    }
   ],
   "source": [
    "a = 'string'\n",
    "print(a)"
   ]
  },
  {
   "cell_type": "code",
   "execution_count": 20,
   "id": "3dfad2b7",
   "metadata": {
    "ExecuteTime": {
     "end_time": "2024-01-30T14:03:12.749832Z",
     "start_time": "2024-01-30T14:03:12.709108Z"
    }
   },
   "outputs": [
    {
     "data": {
      "text/plain": "'string'"
     },
     "execution_count": 20,
     "metadata": {},
     "output_type": "execute_result"
    }
   ],
   "source": [
    "'string'"
   ]
  },
  {
   "cell_type": "markdown",
   "source": [
    "문자열은 iterable 객체이기 때문에 순회가능하며, indexing도 가능하다. 이는 문자열이 배열의 특성을 띄고 있기 때문이다"
   ],
   "metadata": {
    "collapsed": false
   },
   "id": "68a055ccb96025a7"
  },
  {
   "cell_type": "code",
   "outputs": [
    {
     "name": "stdout",
     "output_type": "stream",
     "text": [
      "s\n"
     ]
    }
   ],
   "source": [
    "a = 'string'\n",
    "print(a[0])"
   ],
   "metadata": {
    "collapsed": false,
    "ExecuteTime": {
     "end_time": "2024-01-30T14:03:12.811555Z",
     "start_time": "2024-01-30T14:03:12.749791Z"
    }
   },
   "id": "14a041048696ae1f",
   "execution_count": 21
  },
  {
   "cell_type": "code",
   "outputs": [
    {
     "name": "stdout",
     "output_type": "stream",
     "text": [
      "s t r i n g "
     ]
    }
   ],
   "source": [
    "for i in a : print(i, end = ' ') # 반복문"
   ],
   "metadata": {
    "collapsed": false,
    "ExecuteTime": {
     "end_time": "2024-01-30T14:03:12.828735Z",
     "start_time": "2024-01-30T14:03:12.797748Z"
    }
   },
   "id": "ccc5763d7b5e3eda",
   "execution_count": 22
  },
  {
   "cell_type": "markdown",
   "id": "3efebe42",
   "metadata": {},
   "source": [
    "##### Escape Sequence\n",
    "- 프로그래밍할 때 사용할 수 있도록 미리 정의해 둔 \"문자 조합\"\n",
    "- 주로 출력물을 보기 좋게 정렬하는 용도로 이용"
   ]
  },
  {
   "cell_type": "code",
   "execution_count": 23,
   "id": "bf72c8a9",
   "metadata": {
    "ExecuteTime": {
     "end_time": "2024-01-30T14:03:12.885475Z",
     "start_time": "2024-01-30T14:03:12.829202Z"
    }
   },
   "outputs": [
    {
     "name": "stdout",
     "output_type": "stream",
     "text": [
      "\\.\n"
     ]
    }
   ],
   "source": [
    "print('\\\\.') # backslash"
   ]
  },
  {
   "cell_type": "code",
   "execution_count": 24,
   "id": "fdaf372b",
   "metadata": {
    "ExecuteTime": {
     "end_time": "2024-01-30T14:03:12.919481Z",
     "start_time": "2024-01-30T14:03:12.871180Z"
    }
   },
   "outputs": [
    {
     "name": "stdout",
     "output_type": "stream",
     "text": [
      "'.\n"
     ]
    }
   ],
   "source": [
    "print('\\'.') # single quote"
   ]
  },
  {
   "cell_type": "code",
   "execution_count": 25,
   "id": "2c638981",
   "metadata": {
    "ExecuteTime": {
     "end_time": "2024-01-30T14:03:12.968264Z",
     "start_time": "2024-01-30T14:03:12.904097Z"
    }
   },
   "outputs": [
    {
     "name": "stdout",
     "output_type": "stream",
     "text": [
      "\"\n"
     ]
    }
   ],
   "source": [
    "print(\"\\\"\") # double quote"
   ]
  },
  {
   "cell_type": "code",
   "execution_count": 26,
   "id": "3b77f7ca",
   "metadata": {
    "ExecuteTime": {
     "end_time": "2024-01-30T14:03:13.003699Z",
     "start_time": "2024-01-30T14:03:12.957753Z"
    }
   },
   "outputs": [
    {
     "name": "stdout",
     "output_type": "stream",
     "text": [
      "\n",
      ".\n"
     ]
    }
   ],
   "source": [
    "print('\\n.') # new line"
   ]
  },
  {
   "cell_type": "code",
   "execution_count": 27,
   "id": "303b7e09",
   "metadata": {
    "ExecuteTime": {
     "end_time": "2024-01-30T14:03:13.064579Z",
     "start_time": "2024-01-30T14:03:13.003945Z"
    }
   },
   "outputs": [
    {
     "name": "stdout",
     "output_type": "stream",
     "text": [
      "\t.\n"
     ]
    }
   ],
   "source": [
    "print('\\t.') # horizontal tab"
   ]
  },
  {
   "cell_type": "markdown",
   "id": "6bcd6bf2",
   "metadata": {},
   "source": [
    "##### Indexing\n",
    "- 인덱스는 문자열의 각 문자마다 번호를 매기는 것\n",
    "- 인덱스 범위 \n",
    "    - 양수 인덱스 : 0 ~ (len(문자열)-1)\n",
    "    - len() 함수 : 입력 받은 문자열의 길이(문자 개수)를 반환\n",
    "- 인덱스 표기 방식은 대괄호( [ ] ) 안에 인덱스 번호를 기입하여 해당 문자열에서 지정한 문자를 참조하는 것"
   ]
  },
  {
   "cell_type": "code",
   "execution_count": 28,
   "id": "d9066a8f",
   "metadata": {
    "ExecuteTime": {
     "end_time": "2024-01-30T14:03:13.082367Z",
     "start_time": "2024-01-30T14:03:13.051728Z"
    }
   },
   "outputs": [
    {
     "data": {
      "text/plain": "'1'"
     },
     "execution_count": 28,
     "metadata": {},
     "output_type": "execute_result"
    }
   ],
   "source": [
    "a = '123456789'\n",
    "a[0]"
   ]
  },
  {
   "cell_type": "code",
   "execution_count": 29,
   "id": "2545dbb4",
   "metadata": {
    "ExecuteTime": {
     "end_time": "2024-01-30T14:03:13.144578Z",
     "start_time": "2024-01-30T14:03:13.082424Z"
    }
   },
   "outputs": [
    {
     "name": "stdout",
     "output_type": "stream",
     "text": [
      "o\n"
     ]
    }
   ],
   "source": [
    "sample = 'I belong in Sogang University, nice to meet you!'\n",
    "print(sample[5]) # index는 0부터 시작"
   ]
  },
  {
   "cell_type": "code",
   "execution_count": 30,
   "id": "0ef04150",
   "metadata": {
    "ExecuteTime": {
     "end_time": "2024-01-30T14:03:13.167844Z",
     "start_time": "2024-01-30T14:03:13.129744Z"
    }
   },
   "outputs": [
    {
     "name": "stdout",
     "output_type": "stream",
     "text": [
      "!\n"
     ]
    }
   ],
   "source": [
    "print(sample[len(sample) - 1]) # 맨 끝의 문자는 전체 길이에서 1을 빼줘야 한다"
   ]
  },
  {
   "cell_type": "code",
   "execution_count": 31,
   "id": "6a1b24fb",
   "metadata": {
    "ExecuteTime": {
     "end_time": "2024-01-30T14:03:13.210972Z",
     "start_time": "2024-01-30T14:03:13.162702Z"
    }
   },
   "outputs": [
    {
     "data": {
      "text/plain": "48"
     },
     "execution_count": 31,
     "metadata": {},
     "output_type": "execute_result"
    }
   ],
   "source": [
    "len(sample)"
   ]
  },
  {
   "cell_type": "markdown",
   "id": "bfe5248b",
   "metadata": {},
   "source": [
    "##### Slicing\n",
    "- 문자열의 인덱스를 기반으로 문자열의 부분 문자열을 반환(원본 문자열은 그대로 유지)하는 방법\n",
    "- 문자열에서 일부 문자들 추출에 사용"
   ]
  },
  {
   "cell_type": "code",
   "execution_count": 32,
   "id": "6ba10def",
   "metadata": {
    "ExecuteTime": {
     "end_time": "2024-01-30T14:03:13.241812Z",
     "start_time": "2024-01-30T14:03:13.201144Z"
    }
   },
   "outputs": [
    {
     "name": "stdout",
     "output_type": "stream",
     "text": [
      "I bel\n"
     ]
    }
   ],
   "source": [
    "sample = 'I belong in Quantifi, nice to meet you!'\n",
    "print(sample[0:5])"
   ]
  },
  {
   "cell_type": "code",
   "execution_count": 33,
   "id": "02e7fa63",
   "metadata": {
    "ExecuteTime": {
     "end_time": "2024-01-30T14:03:13.296230Z",
     "start_time": "2024-01-30T14:03:13.233651Z"
    }
   },
   "outputs": [
    {
     "name": "stdout",
     "output_type": "stream",
     "text": [
      "I bel\n"
     ]
    }
   ],
   "source": [
    "print(sample[:5])"
   ]
  },
  {
   "cell_type": "code",
   "execution_count": 34,
   "id": "23ebbc89",
   "metadata": {
    "ExecuteTime": {
     "end_time": "2024-01-30T14:03:13.324690Z",
     "start_time": "2024-01-30T14:03:13.286199Z"
    }
   },
   "outputs": [
    {
     "name": "stdout",
     "output_type": "stream",
     "text": [
      "IeniQnf ctmto\n"
     ]
    }
   ],
   "source": [
    "print(sample[::3]) # 두 칸 마다 출력"
   ]
  },
  {
   "cell_type": "code",
   "execution_count": 35,
   "id": "64d9a8c1",
   "metadata": {
    "ExecuteTime": {
     "end_time": "2024-01-30T14:03:13.363933Z",
     "start_time": "2024-01-30T14:03:13.317654Z"
    }
   },
   "outputs": [
    {
     "name": "stdout",
     "output_type": "stream",
     "text": [
      "I belong in Quantifi, nice to meet you!\n",
      "I belong in Quantifi, nice to meet you!\n"
     ]
    }
   ],
   "source": [
    "print(sample[::]) # 전체 문자 출력\n",
    "print(sample)"
   ]
  },
  {
   "cell_type": "markdown",
   "id": "bac1d027",
   "metadata": {},
   "source": [
    "##### String Method I\n",
    "\n",
    "- Reference : https://blockdmask.tistory.com/459\n",
    "\n",
    "|method|description|\n",
    "|:---:|:---|\n",
    "|conut(x[, start, end])|문자열 내부에서 특정 문자가 **반복되는 횟수**를 반환|\n",
    "|find(x[, start, end])|문자열 내부에서 특정 문자가 가장 처음 나오는 **Index**를 반환|\n",
    "|rfind(x[, start, end])|문자열 내부에서 특정 문자가 가장 마지막에 나오는 **Index**를 반환|\n",
    "|upper()|대상이 되는 문자열의 모든 문자열을 **대문자**로 변환|\n",
    "|lower()|대상이 되는 문자열의 모든 문자열을 **소문자**로 변환|\n",
    "|swapcase()|대상이 되는 문자열의 대소문자를 서로 바꿔서 변환|\n",
    "|capitalize()|대상이 되는 문자열의 첫 문자만 대문자로 바꿔서 변환|\n",
    "|title()|대상이 되는 문자열의 단어별 첫 어두만 대문자로 바꿔서 변환|\n",
    "|**replace(x, y[, n])**|대상이 되는 문자열 원소 중 x를 y로 n번까지 변환|"
   ]
  },
  {
   "cell_type": "code",
   "execution_count": 36,
   "id": "5ba52691",
   "metadata": {
    "ExecuteTime": {
     "end_time": "2024-01-30T14:03:13.394725Z",
     "start_time": "2024-01-30T14:03:13.354329Z"
    }
   },
   "outputs": [
    {
     "data": {
      "text/plain": "4"
     },
     "execution_count": 36,
     "metadata": {},
     "output_type": "execute_result"
    }
   ],
   "source": [
    "sample = 'I belong in Quantifi, nice to meet you!'\n",
    "sample.count('i') # count"
   ]
  },
  {
   "cell_type": "code",
   "execution_count": 37,
   "id": "cd1b7c0e",
   "metadata": {
    "ExecuteTime": {
     "end_time": "2024-01-30T14:03:13.460430Z",
     "start_time": "2024-01-30T14:03:13.395383Z"
    }
   },
   "outputs": [
    {
     "data": {
      "text/plain": "1"
     },
     "execution_count": 37,
     "metadata": {},
     "output_type": "execute_result"
    }
   ],
   "source": [
    "sample.count('belong') # 단어도 가능"
   ]
  },
  {
   "cell_type": "code",
   "execution_count": 38,
   "id": "eebfb8b1",
   "metadata": {
    "ExecuteTime": {
     "end_time": "2024-01-30T14:03:13.486855Z",
     "start_time": "2024-01-30T14:03:13.438327Z"
    }
   },
   "outputs": [
    {
     "data": {
      "text/plain": "9"
     },
     "execution_count": 38,
     "metadata": {},
     "output_type": "execute_result"
    }
   ],
   "source": [
    "sample.find('i') # 맨 처음 나오는 index"
   ]
  },
  {
   "cell_type": "code",
   "execution_count": 39,
   "id": "9e43eff5",
   "metadata": {
    "ExecuteTime": {
     "end_time": "2024-01-30T14:03:13.547828Z",
     "start_time": "2024-01-30T14:03:13.479003Z"
    }
   },
   "outputs": [
    {
     "data": {
      "text/plain": "'i'"
     },
     "execution_count": 39,
     "metadata": {},
     "output_type": "execute_result"
    }
   ],
   "source": [
    "sample[sample.find('i')] # 9"
   ]
  },
  {
   "cell_type": "code",
   "execution_count": 40,
   "id": "9d46e6da",
   "metadata": {
    "ExecuteTime": {
     "end_time": "2024-01-30T14:03:13.577906Z",
     "start_time": "2024-01-30T14:03:13.548079Z"
    }
   },
   "outputs": [
    {
     "data": {
      "text/plain": "23"
     },
     "execution_count": 40,
     "metadata": {},
     "output_type": "execute_result"
    }
   ],
   "source": [
    "sample.rfind('i') # 맨 마지막에 나오는 index"
   ]
  },
  {
   "cell_type": "code",
   "execution_count": 41,
   "id": "e92c65dd",
   "metadata": {
    "ExecuteTime": {
     "end_time": "2024-01-30T14:03:13.623221Z",
     "start_time": "2024-01-30T14:03:13.567998Z"
    }
   },
   "outputs": [
    {
     "data": {
      "text/plain": "' '"
     },
     "execution_count": 41,
     "metadata": {},
     "output_type": "execute_result"
    }
   ],
   "source": [
    "sample[21]"
   ]
  },
  {
   "cell_type": "code",
   "execution_count": 42,
   "id": "65e9373a",
   "metadata": {
    "ExecuteTime": {
     "end_time": "2024-01-30T14:03:13.657141Z",
     "start_time": "2024-01-30T14:03:13.597095Z"
    }
   },
   "outputs": [
    {
     "data": {
      "text/plain": "'I BELONG IN QUANTIFI, NICE TO MEET YOU!'"
     },
     "execution_count": 42,
     "metadata": {},
     "output_type": "execute_result"
    }
   ],
   "source": [
    "sample.upper() # 대문자로 변환"
   ]
  },
  {
   "cell_type": "code",
   "execution_count": 43,
   "id": "9473d1f6",
   "metadata": {
    "ExecuteTime": {
     "end_time": "2024-01-30T14:03:13.733789Z",
     "start_time": "2024-01-30T14:03:13.656960Z"
    }
   },
   "outputs": [
    {
     "name": "stdout",
     "output_type": "stream",
     "text": [
      "i belong in quantifi, nice to meet you!\n"
     ]
    }
   ],
   "source": [
    "sample1 = sample.lower() # 소문자로 변환\n",
    "print(sample1)"
   ]
  },
  {
   "cell_type": "code",
   "execution_count": 44,
   "id": "842db878",
   "metadata": {
    "ExecuteTime": {
     "end_time": "2024-01-30T14:03:13.742692Z",
     "start_time": "2024-01-30T14:03:13.713218Z"
    }
   },
   "outputs": [
    {
     "data": {
      "text/plain": "5"
     },
     "execution_count": 44,
     "metadata": {},
     "output_type": "execute_result"
    }
   ],
   "source": [
    "sample1.count('i')"
   ]
  },
  {
   "cell_type": "code",
   "execution_count": 45,
   "id": "0647bb77",
   "metadata": {
    "ExecuteTime": {
     "end_time": "2024-01-30T14:03:13.813237Z",
     "start_time": "2024-01-30T14:03:13.742871Z"
    }
   },
   "outputs": [
    {
     "data": {
      "text/plain": "'i BELONG IN qUANTIFI, NICE TO MEET YOU!'"
     },
     "execution_count": 45,
     "metadata": {},
     "output_type": "execute_result"
    }
   ],
   "source": [
    "sample.swapcase()"
   ]
  },
  {
   "cell_type": "code",
   "execution_count": 46,
   "id": "0115427d",
   "metadata": {
    "ExecuteTime": {
     "end_time": "2024-01-30T14:03:13.855773Z",
     "start_time": "2024-01-30T14:03:13.800208Z"
    }
   },
   "outputs": [
    {
     "data": {
      "text/plain": "'I belong in quantifi, nice to meet you!'"
     },
     "execution_count": 46,
     "metadata": {},
     "output_type": "execute_result"
    }
   ],
   "source": [
    "sample.capitalize()"
   ]
  },
  {
   "cell_type": "code",
   "execution_count": 47,
   "id": "9b66d763",
   "metadata": {
    "ExecuteTime": {
     "end_time": "2024-01-30T14:03:13.889342Z",
     "start_time": "2024-01-30T14:03:13.856183Z"
    }
   },
   "outputs": [
    {
     "data": {
      "text/plain": "'I Belong In Quantifi, Nice To Meet You!'"
     },
     "execution_count": 47,
     "metadata": {},
     "output_type": "execute_result"
    }
   ],
   "source": [
    "sample.title()"
   ]
  },
  {
   "cell_type": "code",
   "execution_count": 48,
   "id": "807fcbea",
   "metadata": {
    "ExecuteTime": {
     "end_time": "2024-01-30T14:03:13.933118Z",
     "start_time": "2024-01-30T14:03:13.884985Z"
    }
   },
   "outputs": [
    {
     "data": {
      "text/plain": "'I belong in Quantifi; nice to meet you!'"
     },
     "execution_count": 48,
     "metadata": {},
     "output_type": "execute_result"
    }
   ],
   "source": [
    "sample.replace(',',';')"
   ]
  },
  {
   "cell_type": "code",
   "execution_count": 49,
   "id": "350e61d9",
   "metadata": {
    "ExecuteTime": {
     "end_time": "2024-01-30T14:03:13.959849Z",
     "start_time": "2024-01-30T14:03:13.923438Z"
    }
   },
   "outputs": [
    {
     "name": "stdout",
     "output_type": "stream",
     "text": [
      "100,000,000\n"
     ]
    }
   ],
   "source": [
    "a = '100,000,000'\n",
    "print(a)"
   ]
  },
  {
   "cell_type": "code",
   "execution_count": 50,
   "id": "84097047",
   "metadata": {
    "ExecuteTime": {
     "end_time": "2024-01-30T14:03:14.006714Z",
     "start_time": "2024-01-30T14:03:13.954976Z"
    }
   },
   "outputs": [
    {
     "data": {
      "text/plain": "100000000"
     },
     "execution_count": 50,
     "metadata": {},
     "output_type": "execute_result"
    }
   ],
   "source": [
    "int(a.replace(',',''))"
   ]
  },
  {
   "cell_type": "markdown",
   "id": "0f147705",
   "metadata": {},
   "source": [
    "### Exercise 2.\n",
    "- 다음은 미국 연방준비위원회 의장 제롬 파월의 2022년 8월 잭슨홀 심포지엄에서 '통화정책과 물가 안정'을 주제로 한 연설문의 일부이다.\n",
    "\n",
    "At past Jackson Hole conferences, I have discussed broad topics such as the ever-changing structure of the economy and the challenges of conducting monetary policy under high uncertainty. Today, my remarks will be shorter, my focus narrower, and my message more direct.\n",
    "\n",
    "The Federal Open Market Committee's (FOMC) overarching focus right now is to bring inflation back down to our 2 percent goal. Price stability is the responsibility of the Federal Reserve and serves as the bedrock of our economy. Without price stability, the economy does not work for anyone. In particular, without price stability, we will not achieve a sustained period of strong labor market conditions that benefit all. The burdens of high inflation fall heaviest on those who are least able to bear them.\n",
    "\n",
    "Restoring price stability will take some time and requires using our tools forcefully to bring demand and supply into better balance. Reducing inflation is likely to require a sustained period of below-trend growth. Moreover, there will very likely be some softening of labor market conditions. While higher interest rates, slower growth, and softer labor market conditions will bring down inflation, they will also bring some pain to households and businesses. These are the unfortunate costs of reducing inflation. But a failure to restore price stability would mean far greater pain.\n",
    "\n",
    "The U.S. economy is clearly slowing from the historically high growth rates of 2021, which reflected the reopening of the economy following the pandemic recession. While the latest economic data have been mixed, in my view our economy continues to show strong underlying momentum. The labor market is particularly strong, but it is clearly out of balance, with demand for workers substantially exceeding the supply of available workers. Inflation is running well above 2 percent, and high inflation has continued to spread through the economy. While the lower inflation readings for July are welcome, a single month's improvement falls far short of what the Committee will need to see before we are confident that inflation is moving down.\n",
    "\n",
    "We are moving our policy stance purposefully to a level that will be sufficiently restrictive to return inflation to 2 percent. At our most recent meeting in July, the FOMC raised the target range for the federal funds rate to 2.25 to 2.5 percent, which is in the Summary of Economic Projection's (SEP) range of estimates of where the federal funds rate is projected to settle in the longer run. In current circumstances, with inflation running far above 2 percent and the labor market extremely tight, estimates of longer-run neutral are not a place to stop or pause.\n",
    "\n",
    "- 위 연설문에서, 'inflation'은 총 몇 번 등장할까?"
   ]
  },
  {
   "cell_type": "code",
   "execution_count": 51,
   "id": "79249c05",
   "metadata": {
    "ExecuteTime": {
     "end_time": "2024-01-30T14:03:14.050132Z",
     "start_time": "2024-01-30T14:03:14.007694Z"
    }
   },
   "outputs": [],
   "source": [
    "data = \"At past Jackson Hole conferences, I have discussed broad topics such as the ever-changing structure of the economy and the challenges of conducting monetary policy under high uncertainty. Today, my remarks will be shorter, my focus narrower, and my message more direct.\\n The Federal Open Market Committee's (FOMC) overarching focus right now is to bring inflation back down to our 2 percent goal. Price stability is the responsibility of the Federal Reserve and serves as the bedrock of our economy. Without price stability, the economy does not work for anyone. In particular, without price stability, we will not achieve a sustained period of strong labor market conditions that benefit all. The burdens of high inflation fall heaviest on those who are least able to bear them.\\n Restoring price stability will take some time and requires using our tools forcefully to bring demand and supply into better balance. Reducing inflation is likely to require a sustained period of below-trend growth. Moreover, there will very likely be some softening of labor market conditions. While higher interest rates, slower growth, and softer labor market conditions will bring down inflation, they will also bring some pain to households and businesses. These are the unfortunate costs of reducing inflation. But a failure to restore price stability would mean far greater pain.\\n The U.S. economy is clearly slowing from the historically high growth rates of 2021, which reflected the reopening of the economy following the pandemic recession. While the latest economic data have been mixed, in my view our economy continues to show strong underlying momentum. The labor market is particularly strong, but it is clearly out of balance, with demand for workers substantially exceeding the supply of available workers. Inflation is running well above 2 percent, and high inflation has continued to spread through the economy. While the lower inflation readings for July are welcome, a single month's improvement falls far short of what the Committee will need to see before we are confident that inflation is moving down.\\n We are moving our policy stance purposefully to a level that will be sufficiently restrictive to return inflation to 2 percent. At our most recent meeting in July, the FOMC raised the target range for the federal funds rate to 2.25 to 2.5 percent, which is in the Summary of Economic Projection's (SEP) range of estimates of where the federal funds rate is projected to settle in the longer run. In current circumstances, with inflation running far above 2 percent and the labor market extremely tight, estimates of longer-run neutral are not a place to stop or pause.\""
   ]
  },
  {
   "cell_type": "code",
   "execution_count": 52,
   "id": "286bdde7",
   "metadata": {
    "ExecuteTime": {
     "end_time": "2024-01-30T14:03:14.105640Z",
     "start_time": "2024-01-30T14:03:14.039427Z"
    }
   },
   "outputs": [
    {
     "name": "stdout",
     "output_type": "stream",
     "text": [
      "At past Jackson Hole conferences, I have discussed broad topics such as the ever-changing structure of the economy and the challenges of conducting monetary policy under high uncertainty. Today, my remarks will be shorter, my focus narrower, and my message more direct.\n",
      " The Federal Open Market Committee's (FOMC) overarching focus right now is to bring inflation back down to our 2 percent goal. Price stability is the responsibility of the Federal Reserve and serves as the bedrock of our economy. Without price stability, the economy does not work for anyone. In particular, without price stability, we will not achieve a sustained period of strong labor market conditions that benefit all. The burdens of high inflation fall heaviest on those who are least able to bear them.\n",
      " Restoring price stability will take some time and requires using our tools forcefully to bring demand and supply into better balance. Reducing inflation is likely to require a sustained period of below-trend growth. Moreover, there will very likely be some softening of labor market conditions. While higher interest rates, slower growth, and softer labor market conditions will bring down inflation, they will also bring some pain to households and businesses. These are the unfortunate costs of reducing inflation. But a failure to restore price stability would mean far greater pain.\n",
      " The U.S. economy is clearly slowing from the historically high growth rates of 2021, which reflected the reopening of the economy following the pandemic recession. While the latest economic data have been mixed, in my view our economy continues to show strong underlying momentum. The labor market is particularly strong, but it is clearly out of balance, with demand for workers substantially exceeding the supply of available workers. Inflation is running well above 2 percent, and high inflation has continued to spread through the economy. While the lower inflation readings for July are welcome, a single month's improvement falls far short of what the Committee will need to see before we are confident that inflation is moving down.\n",
      " We are moving our policy stance purposefully to a level that will be sufficiently restrictive to return inflation to 2 percent. At our most recent meeting in July, the FOMC raised the target range for the federal funds rate to 2.25 to 2.5 percent, which is in the Summary of Economic Projection's (SEP) range of estimates of where the federal funds rate is projected to settle in the longer run. In current circumstances, with inflation running far above 2 percent and the labor market extremely tight, estimates of longer-run neutral are not a place to stop or pause.\n"
     ]
    }
   ],
   "source": [
    "print(data)"
   ]
  },
  {
   "cell_type": "code",
   "execution_count": 53,
   "id": "1c63d6e2",
   "metadata": {
    "ExecuteTime": {
     "end_time": "2024-01-30T14:03:14.124566Z",
     "start_time": "2024-01-30T14:03:14.091245Z"
    }
   },
   "outputs": [
    {
     "name": "stdout",
     "output_type": "stream",
     "text": [
      "10\n"
     ]
    }
   ],
   "source": [
    "print(data.count('inflation'))"
   ]
  },
  {
   "cell_type": "code",
   "execution_count": 54,
   "id": "392c42ee",
   "metadata": {
    "ExecuteTime": {
     "end_time": "2024-01-30T14:03:14.195290Z",
     "start_time": "2024-01-30T14:03:14.125289Z"
    }
   },
   "outputs": [
    {
     "name": "stdout",
     "output_type": "stream",
     "text": [
      "139\n"
     ]
    }
   ],
   "source": [
    "print(data.count('a'))"
   ]
  },
  {
   "cell_type": "code",
   "execution_count": 55,
   "id": "54d0ffd5",
   "metadata": {
    "ExecuteTime": {
     "end_time": "2024-01-30T14:03:14.221176Z",
     "start_time": "2024-01-30T14:03:14.171011Z"
    }
   },
   "outputs": [
    {
     "data": {
      "text/plain": "0.05190440627333831"
     },
     "execution_count": 55,
     "metadata": {},
     "output_type": "execute_result"
    }
   ],
   "source": [
    "data.count('a')/len(data)"
   ]
  },
  {
   "cell_type": "markdown",
   "id": "42d667da",
   "metadata": {},
   "source": [
    "문자열 메소드를 사용해 직접 다른 단어들도 확인해 보자"
   ]
  },
  {
   "cell_type": "markdown",
   "id": "f94d8816",
   "metadata": {},
   "source": [
    "### Type 함수\n",
    "- 객체의 자료형을 알려주는 함수\n",
    "- 변수(variable)가 어떤 자료형을 참조하는지 확인할 수 있음 \n",
    "- 하나의 변수에 어떤 자료형의 데이터도 저장할 수 있음"
   ]
  },
  {
   "cell_type": "code",
   "execution_count": 56,
   "id": "90685306",
   "metadata": {
    "ExecuteTime": {
     "end_time": "2024-01-30T14:03:14.276744Z",
     "start_time": "2024-01-30T14:03:14.213794Z"
    }
   },
   "outputs": [
    {
     "name": "stdout",
     "output_type": "stream",
     "text": [
      "<class 'int'>\n",
      "<class 'float'>\n",
      "<class 'complex'>\n"
     ]
    }
   ],
   "source": [
    "x = 10\n",
    "y = 2.5\n",
    "z = 10j + 1\n",
    "\n",
    "print(type(x))\n",
    "print(type(y))\n",
    "print(type(z))"
   ]
  },
  {
   "cell_type": "code",
   "execution_count": 57,
   "id": "910ae0d3",
   "metadata": {
    "ExecuteTime": {
     "end_time": "2024-01-30T14:03:14.312567Z",
     "start_time": "2024-01-30T14:03:14.277365Z"
    }
   },
   "outputs": [
    {
     "name": "stdout",
     "output_type": "stream",
     "text": [
      "<class 'str'>\n"
     ]
    }
   ],
   "source": [
    "a = 'q'\n",
    "print(type(a))"
   ]
  },
  {
   "cell_type": "code",
   "execution_count": 58,
   "id": "24a4101e",
   "metadata": {
    "ExecuteTime": {
     "end_time": "2024-01-30T14:03:14.362996Z",
     "start_time": "2024-01-30T14:03:14.307887Z"
    }
   },
   "outputs": [
    {
     "name": "stdout",
     "output_type": "stream",
     "text": [
      "<class 'list'>\n"
     ]
    }
   ],
   "source": [
    "b = []\n",
    "print(type(b))"
   ]
  },
  {
   "cell_type": "markdown",
   "id": "719b68bb",
   "metadata": {},
   "source": [
    "### Exercise 3.\n",
    "- 다음 데이터의 자료형을 직접 확인해 보자"
   ]
  },
  {
   "cell_type": "code",
   "execution_count": 59,
   "id": "503724c5",
   "metadata": {
    "ExecuteTime": {
     "end_time": "2024-01-30T14:03:14.411654Z",
     "start_time": "2024-01-30T14:03:14.347186Z"
    }
   },
   "outputs": [],
   "source": [
    "a = 100\n",
    "b = 'Sogang'\n",
    "c = 4 + 5j\n",
    "d = True\n",
    "e = 3.5e+4"
   ]
  },
  {
   "cell_type": "markdown",
   "id": "3d9d763f",
   "metadata": {},
   "source": [
    "### 자료형 변환\n",
    "- 정수, 실수, 문자열 등의 데이터형들은 다른 데이터형으로 변환될 수 있으며, python에서는 이를 위한 내장 함수를 제공\n",
    "\n",
    "- int( ) 함수\n",
    "    - 소수점이 없는 숫자 형태의 문자열을 정수로 변환\n",
    "    - 실수 형태의 문자열은 정수로 변환할 수 없음:error\n",
    "    - 실수값은 정수로 변환\n",
    "- float( ) 함수\n",
    "    - 실수형태 또는 정수형태의 문자열을 실수로 변환 - 정수값은 실수로 변환\n",
    "- str( ) 함수\n",
    "    - 정수나 실수 값을 문자열로 변환"
   ]
  },
  {
   "cell_type": "code",
   "execution_count": 60,
   "id": "774dc457",
   "metadata": {
    "ExecuteTime": {
     "end_time": "2024-01-30T14:03:14.501927Z",
     "start_time": "2024-01-30T14:03:14.394939Z"
    }
   },
   "outputs": [
    {
     "name": "stdout",
     "output_type": "stream",
     "text": [
      "<class 'str'>\n",
      "<class 'int'>\n",
      "<class 'float'>\n",
      "<class 'complex'>\n"
     ]
    }
   ],
   "source": [
    "a = '1'\n",
    "b = int(a)\n",
    "c = float(a)\n",
    "d = complex(a)\n",
    "\n",
    "print(type(a))\n",
    "print(type(b))\n",
    "print(type(c))\n",
    "print(type(d))"
   ]
  },
  {
   "cell_type": "markdown",
   "id": "f9a1be88",
   "metadata": {},
   "source": [
    "### 산술 연산자\n",
    "|operator|meaning|\n",
    "|:---:|:---|\n",
    "|+|덧셈 또는 + 부호|\n",
    "|-|뺄셈 또는 - 부호|\n",
    "|\\*|곱셈|\n",
    "|/|나눗셈(실수)|\n",
    "|%|나눈 후 나머지|\n",
    "|//|나눈 후 몫|\n",
    "|\\*\\*|지수승|"
   ]
  },
  {
   "cell_type": "code",
   "execution_count": 61,
   "id": "14530cec",
   "metadata": {
    "ExecuteTime": {
     "end_time": "2024-01-30T14:03:14.606933Z",
     "start_time": "2024-01-30T14:03:14.458055Z"
    }
   },
   "outputs": [
    {
     "data": {
      "text/plain": "10"
     },
     "execution_count": 61,
     "metadata": {},
     "output_type": "execute_result"
    }
   ],
   "source": [
    "+10 # 부호로 사용"
   ]
  },
  {
   "cell_type": "code",
   "execution_count": 62,
   "id": "ad0ad2d7",
   "metadata": {
    "ExecuteTime": {
     "end_time": "2024-01-30T14:03:14.739440Z",
     "start_time": "2024-01-30T14:03:14.566897Z"
    }
   },
   "outputs": [
    {
     "data": {
      "text/plain": "35"
     },
     "execution_count": 62,
     "metadata": {},
     "output_type": "execute_result"
    }
   ],
   "source": [
    "15 + 20 # 덧셈 연산자로 사용"
   ]
  },
  {
   "cell_type": "code",
   "execution_count": 63,
   "id": "a1f23ab1",
   "metadata": {
    "ExecuteTime": {
     "end_time": "2024-01-30T14:03:14.803102Z",
     "start_time": "2024-01-30T14:03:14.739760Z"
    }
   },
   "outputs": [
    {
     "data": {
      "text/plain": "-1"
     },
     "execution_count": 63,
     "metadata": {},
     "output_type": "execute_result"
    }
   ],
   "source": [
    "-1 # 부호로 사용"
   ]
  },
  {
   "cell_type": "code",
   "execution_count": 64,
   "id": "5b9f9832",
   "metadata": {
    "ExecuteTime": {
     "end_time": "2024-01-30T14:03:14.896695Z",
     "start_time": "2024-01-30T14:03:14.776437Z"
    }
   },
   "outputs": [
    {
     "data": {
      "text/plain": "-8"
     },
     "execution_count": 64,
     "metadata": {},
     "output_type": "execute_result"
    }
   ],
   "source": [
    "2-10 # 뺄셈 연산자로 사용"
   ]
  },
  {
   "cell_type": "code",
   "execution_count": 65,
   "id": "1cc1ac77",
   "metadata": {
    "ExecuteTime": {
     "end_time": "2024-01-30T14:03:14.966639Z",
     "start_time": "2024-01-30T14:03:14.897382Z"
    }
   },
   "outputs": [
    {
     "data": {
      "text/plain": "200"
     },
     "execution_count": 65,
     "metadata": {},
     "output_type": "execute_result"
    }
   ],
   "source": [
    "10 * 20 # 곱셈 연산자"
   ]
  },
  {
   "cell_type": "code",
   "execution_count": 66,
   "id": "36ce34ff",
   "metadata": {
    "ExecuteTime": {
     "end_time": "2024-01-30T14:03:15.067042Z",
     "start_time": "2024-01-30T14:03:14.962944Z"
    }
   },
   "outputs": [
    {
     "data": {
      "text/plain": "0.5"
     },
     "execution_count": 66,
     "metadata": {},
     "output_type": "execute_result"
    }
   ],
   "source": [
    "1 / 2 # 나눗셈 연산자, 결과는 항상 실수"
   ]
  },
  {
   "cell_type": "code",
   "execution_count": 67,
   "id": "27539106",
   "metadata": {
    "ExecuteTime": {
     "end_time": "2024-01-30T14:03:15.136737Z",
     "start_time": "2024-01-30T14:03:15.032396Z"
    }
   },
   "outputs": [
    {
     "data": {
      "text/plain": "1"
     },
     "execution_count": 67,
     "metadata": {},
     "output_type": "execute_result"
    }
   ],
   "source": [
    "9 % 4 # 나머지"
   ]
  },
  {
   "cell_type": "code",
   "execution_count": 68,
   "id": "372518f7",
   "metadata": {
    "ExecuteTime": {
     "end_time": "2024-01-30T14:03:15.283437Z",
     "start_time": "2024-01-30T14:03:15.137233Z"
    }
   },
   "outputs": [
    {
     "data": {
      "text/plain": "2"
     },
     "execution_count": 68,
     "metadata": {},
     "output_type": "execute_result"
    }
   ],
   "source": [
    "9 // 4 # 몫"
   ]
  },
  {
   "cell_type": "code",
   "execution_count": 69,
   "id": "d2edb041",
   "metadata": {
    "ExecuteTime": {
     "end_time": "2024-01-30T14:03:15.341489Z",
     "start_time": "2024-01-30T14:03:15.256590Z"
    }
   },
   "outputs": [
    {
     "data": {
      "text/plain": "16"
     },
     "execution_count": 69,
     "metadata": {},
     "output_type": "execute_result"
    }
   ],
   "source": [
    "2 ** 4 # 지수승"
   ]
  },
  {
   "cell_type": "markdown",
   "id": "d23b3b19",
   "metadata": {},
   "source": [
    "### 복합 연산자\n",
    "- += 형태와 같이 대입 연산자와 다른 연산자를 합쳐 놓은 연산자\n",
    "\n",
    "|operator|example|description|\n",
    "|:---:|:---|:---|\n",
    "|+=|x += y|x = x + y와 동일|\n",
    "|-=|x -= y|x = x - y와 동일|\n",
    "|\\*=|x \\*= y|x = x * y와 동일|\n",
    "|/=|x /= y|x = x / y와 동일|\n",
    "|%=|x %= y|x = x % y와 동일|\n",
    "|//=|x //= y|x = x // y와 동일|\n",
    "|\\*\\*=|x \\*\\*= y|x = x ** y와 동일|\n",
    "\n",
    "- **실제로 굉장히 많이 쓰이는 표현으로, 익혀두는 것이 좋다**"
   ]
  },
  {
   "cell_type": "code",
   "execution_count": 70,
   "id": "737d8abc",
   "metadata": {
    "ExecuteTime": {
     "end_time": "2024-01-30T14:03:15.414172Z",
     "start_time": "2024-01-30T14:03:15.341759Z"
    }
   },
   "outputs": [
    {
     "name": "stdout",
     "output_type": "stream",
     "text": [
      "9\n"
     ]
    }
   ],
   "source": [
    "a = 4\n",
    "a = a + 5\n",
    "print(a)"
   ]
  },
  {
   "cell_type": "code",
   "execution_count": 71,
   "id": "e0eac2ce",
   "metadata": {
    "ExecuteTime": {
     "end_time": "2024-01-30T14:03:15.510549Z",
     "start_time": "2024-01-30T14:03:15.409836Z"
    }
   },
   "outputs": [
    {
     "name": "stdout",
     "output_type": "stream",
     "text": [
      "9\n"
     ]
    }
   ],
   "source": [
    "c = 4\n",
    "c += 5 # c = c+5\n",
    "print(c)"
   ]
  },
  {
   "cell_type": "code",
   "outputs": [
    {
     "name": "stdout",
     "output_type": "stream",
     "text": [
      "-4\n"
     ]
    }
   ],
   "source": [
    "d = 6\n",
    "d -= 10\n",
    "print(d)"
   ],
   "metadata": {
    "collapsed": false,
    "ExecuteTime": {
     "end_time": "2024-01-30T14:03:15.579619Z",
     "start_time": "2024-01-30T14:03:15.511200Z"
    }
   },
   "id": "845bcf03caca0161",
   "execution_count": 72
  },
  {
   "cell_type": "markdown",
   "id": "6d3b2289",
   "metadata": {},
   "source": [
    "### Exercise 4.\n",
    "- 당신은 현재 금융상품 중 정기예금에 들어야 합니다. 연이율 7.6%의 정기예금에 1천만원을 예탁한다고 가정할 때, 3년 뒤, 예금한 금액은 얼마가 됩니까? (단, 금리는 고정금리이며 복리로 계산하고, 1월 2일에 예탁하여 3년뒤 12월 영업일 말일에 찾는다고 가정한다)"
   ]
  },
  {
   "cell_type": "code",
   "execution_count": 73,
   "id": "ed379080",
   "metadata": {
    "ExecuteTime": {
     "end_time": "2024-01-30T14:03:15.682130Z",
     "start_time": "2024-01-30T14:03:15.575298Z"
    }
   },
   "outputs": [
    {
     "name": "stdout",
     "output_type": "stream",
     "text": [
      "1245.7669760000003\n"
     ]
    }
   ],
   "source": [
    "deposit = 1000\n",
    "interest = 0.076\n",
    "year = 3\n",
    "\n",
    "print(deposit * (1 + interest) ** 3)"
   ]
  },
  {
   "cell_type": "markdown",
   "id": "aab43cec",
   "metadata": {},
   "source": [
    "### 관계 연산자\n",
    "- 두 값을 비교하는 연산자\n",
    "    - 연산의 결과는 True 아니면 False\n",
    "\n",
    "|operator|meaning|\n",
    "|:---:|:---|\n",
    "|==|Equal|\n",
    "|!=|Not Equal|\n",
    "|>|Greater than|\n",
    "|<|Less than|\n",
    "|>=|Greater than or equal|\n",
    "|<=|Less than or equal|"
   ]
  },
  {
   "cell_type": "code",
   "execution_count": 74,
   "id": "44101326",
   "metadata": {
    "ExecuteTime": {
     "end_time": "2024-01-30T14:03:15.780369Z",
     "start_time": "2024-01-30T14:03:15.682386Z"
    }
   },
   "outputs": [
    {
     "data": {
      "text/plain": "True"
     },
     "execution_count": 74,
     "metadata": {},
     "output_type": "execute_result"
    }
   ],
   "source": [
    "1 == 1"
   ]
  },
  {
   "cell_type": "code",
   "execution_count": 75,
   "id": "e1afaefc",
   "metadata": {
    "ExecuteTime": {
     "end_time": "2024-01-30T14:03:15.854977Z",
     "start_time": "2024-01-30T14:03:15.750708Z"
    }
   },
   "outputs": [
    {
     "data": {
      "text/plain": "False"
     },
     "execution_count": 75,
     "metadata": {},
     "output_type": "execute_result"
    }
   ],
   "source": [
    "1 == 2"
   ]
  },
  {
   "cell_type": "code",
   "execution_count": 76,
   "id": "16626daa",
   "metadata": {
    "ExecuteTime": {
     "end_time": "2024-01-30T14:03:15.936917Z",
     "start_time": "2024-01-30T14:03:15.855343Z"
    }
   },
   "outputs": [
    {
     "data": {
      "text/plain": "False"
     },
     "execution_count": 76,
     "metadata": {},
     "output_type": "execute_result"
    }
   ],
   "source": [
    "1 != 1"
   ]
  },
  {
   "cell_type": "code",
   "execution_count": 77,
   "id": "a3762d1d",
   "metadata": {
    "ExecuteTime": {
     "end_time": "2024-01-30T14:03:15.983804Z",
     "start_time": "2024-01-30T14:03:15.926771Z"
    }
   },
   "outputs": [
    {
     "data": {
      "text/plain": "True"
     },
     "execution_count": 77,
     "metadata": {},
     "output_type": "execute_result"
    }
   ],
   "source": [
    "1 != 2"
   ]
  },
  {
   "cell_type": "code",
   "execution_count": 78,
   "id": "7ddcb0eb",
   "metadata": {
    "ExecuteTime": {
     "end_time": "2024-01-30T14:03:16.059737Z",
     "start_time": "2024-01-30T14:03:15.984150Z"
    }
   },
   "outputs": [
    {
     "data": {
      "text/plain": "1"
     },
     "execution_count": 78,
     "metadata": {},
     "output_type": "execute_result"
    }
   ],
   "source": [
    "int(1 != 2)"
   ]
  },
  {
   "cell_type": "code",
   "execution_count": 79,
   "id": "590c0303",
   "metadata": {
    "ExecuteTime": {
     "end_time": "2024-01-30T14:03:16.142284Z",
     "start_time": "2024-01-30T14:03:16.023153Z"
    }
   },
   "outputs": [
    {
     "data": {
      "text/plain": "False"
     },
     "execution_count": 79,
     "metadata": {},
     "output_type": "execute_result"
    }
   ],
   "source": [
    "1 > 2"
   ]
  },
  {
   "cell_type": "code",
   "execution_count": 80,
   "id": "2cff24dd",
   "metadata": {
    "ExecuteTime": {
     "end_time": "2024-01-30T14:03:16.214907Z",
     "start_time": "2024-01-30T14:03:16.143122Z"
    }
   },
   "outputs": [
    {
     "data": {
      "text/plain": "True"
     },
     "execution_count": 80,
     "metadata": {},
     "output_type": "execute_result"
    }
   ],
   "source": [
    "1 < 2"
   ]
  },
  {
   "cell_type": "markdown",
   "id": "f7760201",
   "metadata": {},
   "source": [
    "### 논리 연산자\n",
    "- 복잡한 조건을 표현할 때 논리 연산자 사용\n",
    "    - 몇 개의 조건식을 조합하여 명령문의 수행여부를 결정할 때 사용\n",
    "    \n",
    "|operator|description|example|\n",
    "|:---:|:---|:---|\n",
    "|and|Logical and|모두 True이어야 True|\n",
    "|or|Logical or|하나라도 True면 True|\n",
    "|not|Negates the truth value|참이면 거짓, 거짓이면 참|"
   ]
  },
  {
   "cell_type": "code",
   "execution_count": 81,
   "id": "d434b8a0",
   "metadata": {
    "ExecuteTime": {
     "end_time": "2024-01-30T14:03:16.304643Z",
     "start_time": "2024-01-30T14:03:16.199700Z"
    }
   },
   "outputs": [
    {
     "data": {
      "text/plain": "False"
     },
     "execution_count": 81,
     "metadata": {},
     "output_type": "execute_result"
    }
   ],
   "source": [
    "True and False"
   ]
  },
  {
   "cell_type": "code",
   "execution_count": 82,
   "id": "a63cfab1",
   "metadata": {
    "ExecuteTime": {
     "end_time": "2024-01-30T14:03:16.373462Z",
     "start_time": "2024-01-30T14:03:16.280709Z"
    }
   },
   "outputs": [
    {
     "data": {
      "text/plain": "True"
     },
     "execution_count": 82,
     "metadata": {},
     "output_type": "execute_result"
    }
   ],
   "source": [
    "True or False"
   ]
  },
  {
   "cell_type": "markdown",
   "id": "c0dd2709",
   "metadata": {},
   "source": [
    "### 수치형 연산 관련 내장 함수\n",
    "- abs(  ) : 절댓값을 반환하는 함수\n",
    "- round(  ) : 반올림 후의 소수점 이하 자릿수를 반환하는 함수"
   ]
  },
  {
   "cell_type": "code",
   "execution_count": 83,
   "id": "ecf73327",
   "metadata": {
    "ExecuteTime": {
     "end_time": "2024-01-30T14:03:16.513653Z",
     "start_time": "2024-01-30T14:03:16.373916Z"
    }
   },
   "outputs": [
    {
     "name": "stdout",
     "output_type": "stream",
     "text": [
      "1\n"
     ]
    }
   ],
   "source": [
    "a = -1\n",
    "print(abs(a)) # 절댓값"
   ]
  },
  {
   "cell_type": "code",
   "execution_count": 84,
   "id": "ab20d232",
   "metadata": {
    "ExecuteTime": {
     "end_time": "2024-01-30T14:03:16.565297Z",
     "start_time": "2024-01-30T14:03:16.491091Z"
    }
   },
   "outputs": [
    {
     "name": "stdout",
     "output_type": "stream",
     "text": [
      "3\n"
     ]
    }
   ],
   "source": [
    "b = 3.141592\n",
    "print(round(b)) # 두 번째 인자를 지정하지 않으면 정수 반환"
   ]
  },
  {
   "cell_type": "code",
   "execution_count": 85,
   "id": "c44d4f51",
   "metadata": {
    "ExecuteTime": {
     "end_time": "2024-01-30T14:03:16.641838Z",
     "start_time": "2024-01-30T14:03:16.565458Z"
    }
   },
   "outputs": [
    {
     "name": "stdout",
     "output_type": "stream",
     "text": [
      "3\n"
     ]
    }
   ],
   "source": [
    "c = 3.987\n",
    "print(int(c))"
   ]
  },
  {
   "cell_type": "code",
   "execution_count": 86,
   "id": "afc9176b",
   "metadata": {
    "ExecuteTime": {
     "end_time": "2024-01-30T14:03:16.700808Z",
     "start_time": "2024-01-30T14:03:16.619944Z"
    }
   },
   "outputs": [
    {
     "name": "stdout",
     "output_type": "stream",
     "text": [
      "3.14\n"
     ]
    }
   ],
   "source": [
    "print(round(b, 2)) # 두 번째 인자를 지정하면 자릿수만큼 실수 반환"
   ]
  }
 ],
 "metadata": {
  "kernelspec": {
   "display_name": "Python 3 (ipykernel)",
   "language": "python",
   "name": "python3"
  },
  "language_info": {
   "codemirror_mode": {
    "name": "ipython",
    "version": 3
   },
   "file_extension": ".py",
   "mimetype": "text/x-python",
   "name": "python",
   "nbconvert_exporter": "python",
   "pygments_lexer": "ipython3",
   "version": "3.9.13"
  },
  "toc": {
   "base_numbering": 1,
   "nav_menu": {},
   "number_sections": true,
   "sideBar": true,
   "skip_h1_title": false,
   "title_cell": "Table of Contents",
   "title_sidebar": "Contents",
   "toc_cell": false,
   "toc_position": {},
   "toc_section_display": true,
   "toc_window_display": false
  }
 },
 "nbformat": 4,
 "nbformat_minor": 5
}
