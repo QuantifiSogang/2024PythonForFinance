{
 "cells": [
  {
   "cell_type": "markdown",
   "id": "61a58d13",
   "metadata": {},
   "source": [
    "## Pandas Series\n",
    "\n",
    "https://pandas.pydata.org/docs/\n",
    "\n",
    "- pandas의 Series는 1차원 데이터를 다루는 데 효과적인 자료구조이며ㅡ DataFrame은 행과 열로 구성된 2차원 데이터를 다루는 데 효과적인 자료구조이다\n",
    "- pandas의 Series는 어떤 면에서는 python의 list와 비슷하고 어떤 면에서는 python의 dictionary와 닮은 자료구조이다\n",
    "    - 정수를 사용해서 데이터를 선택하는 리스트 기능\n",
    "    - Label을 사용해서 데이터를 선택하는 사전 기능"
   ]
  },
  {
   "cell_type": "markdown",
   "id": "db9b8723",
   "metadata": {},
   "source": [
    "### 데이터를 Series로 저장해보기\n",
    "- Series 객체를 생성할 때 따로 인덱스를 지정하지 않으면 0부터 시작하는 정숫값으로 인덱싱된다"
   ]
  },
  {
   "cell_type": "code",
   "execution_count": 1,
   "id": "5a93e64a",
   "metadata": {
    "ExecuteTime": {
     "end_time": "2024-02-21T12:19:13.204238Z",
     "start_time": "2024-02-21T12:19:13.201647Z"
    }
   },
   "outputs": [
    {
     "name": "stdout",
     "output_type": "stream",
     "text": [
      "0    92600\n",
      "1    92400\n",
      "2    92100\n",
      "3    94300\n",
      "4    92300\n",
      "dtype: int64\n"
     ]
    }
   ],
   "source": [
    "import pandas as pd\n",
    "\n",
    "kakao = pd.Series([92600, 92400, 92100, 94300, 92300])\n",
    "print(kakao)"
   ]
  },
  {
   "cell_type": "markdown",
   "id": "2f733c36",
   "metadata": {},
   "source": [
    "인덱스를 지정하지 않는 경우, 자동으로 정숫값 indexing된다"
   ]
  },
  {
   "cell_type": "code",
   "execution_count": 2,
   "id": "f366e5a6",
   "metadata": {
    "ExecuteTime": {
     "end_time": "2024-02-21T12:19:24.944354Z",
     "start_time": "2024-02-21T12:19:24.939658Z"
    }
   },
   "outputs": [
    {
     "name": "stdout",
     "output_type": "stream",
     "text": [
      "2017-03-03    92600\n",
      "2017-03-06    92400\n",
      "2017-03-07    92100\n",
      "2017-03-08    94300\n",
      "2017-03-09    92300\n",
      "dtype: int64\n"
     ]
    }
   ],
   "source": [
    "kakao2 = pd.Series([92600, 92400, 92100, 94300, 92300], \n",
    "                   index = ['2017-03-03', '2017-03-06', '2017-03-07', '2017-03-08', '2017-03-09'])\n",
    "print(kakao2)"
   ]
  },
  {
   "cell_type": "code",
   "execution_count": 3,
   "id": "8f0c68ea",
   "metadata": {
    "ExecuteTime": {
     "end_time": "2024-02-21T12:19:29.328545Z",
     "start_time": "2024-02-21T12:19:29.321394Z"
    }
   },
   "outputs": [
    {
     "name": "stdout",
     "output_type": "stream",
     "text": [
      "92300\n"
     ]
    }
   ],
   "source": [
    "print(kakao2['2017-03-09'])"
   ]
  },
  {
   "cell_type": "code",
   "execution_count": 158,
   "id": "80610632",
   "metadata": {},
   "outputs": [
    {
     "data": {
      "text/plain": [
       "92100"
      ]
     },
     "execution_count": 158,
     "metadata": {},
     "output_type": "execute_result"
    }
   ],
   "source": [
    "kakao2.iloc[2]"
   ]
  },
  {
   "cell_type": "code",
   "outputs": [
    {
     "data": {
      "text/plain": "DatetimeIndex(['2024-01-01', '2024-01-02', '2024-01-03', '2024-01-04',\n               '2024-01-05', '2024-01-08', '2024-01-09', '2024-01-10',\n               '2024-01-11', '2024-01-12', '2024-01-15', '2024-01-16',\n               '2024-01-17', '2024-01-18', '2024-01-19', '2024-01-22',\n               '2024-01-23', '2024-01-24', '2024-01-25', '2024-01-26',\n               '2024-01-29', '2024-01-30', '2024-01-31', '2024-02-01'],\n              dtype='datetime64[ns]', freq='B')"
     },
     "execution_count": 5,
     "metadata": {},
     "output_type": "execute_result"
    }
   ],
   "source": [
    "pd.date_range('2024-01-01', '2024-02-01', freq = 'B')"
   ],
   "metadata": {
    "collapsed": false,
    "ExecuteTime": {
     "end_time": "2024-02-21T12:20:40.176032Z",
     "start_time": "2024-02-21T12:20:40.164881Z"
    }
   },
   "id": "bfb98de5d62b6b5d",
   "execution_count": 5
  },
  {
   "cell_type": "code",
   "execution_count": 7,
   "id": "e931e140",
   "metadata": {
    "ExecuteTime": {
     "end_time": "2024-02-21T12:21:24.929123Z",
     "start_time": "2024-02-21T12:21:24.912904Z"
    }
   },
   "outputs": [
    {
     "data": {
      "text/plain": "DatetimeIndex(['2023-01-02', '2023-01-03', '2023-01-04', '2023-01-05',\n               '2023-01-06', '2023-01-07'],\n              dtype='datetime64[ns]', freq='D')"
     },
     "execution_count": 7,
     "metadata": {},
     "output_type": "execute_result"
    }
   ],
   "source": [
    "my_ind = pd.date_range('2023-01-02', periods = 6) # date_range method통해 datetime index 객체 생성가능\n",
    "my_ind"
   ]
  },
  {
   "cell_type": "code",
   "execution_count": 9,
   "id": "793908a2",
   "metadata": {
    "ExecuteTime": {
     "end_time": "2024-02-21T12:21:33.621971Z",
     "start_time": "2024-02-21T12:21:33.613387Z"
    }
   },
   "outputs": [
    {
     "data": {
      "text/plain": "2023-01-02    92600\n2023-01-03    93400\n2023-01-04    94500\n2023-01-05    93800\n2023-01-06    94000\n2023-01-07    93500\nFreq: D, Name: kakao, dtype: int64"
     },
     "execution_count": 9,
     "metadata": {},
     "output_type": "execute_result"
    }
   ],
   "source": [
    "kakao2 = pd.Series(\n",
    "    [92600, 93400, 94500, 93800, 94000, 93500], \n",
    "    index = my_ind,\n",
    "    name = 'kakao'\n",
    ") # index 변경 가능\n",
    "kakao2"
   ]
  },
  {
   "cell_type": "markdown",
   "id": "af8cd088",
   "metadata": {},
   "source": [
    "freq의 parameter로 'B' (Buisness day)를 넣으면, 공휴일은 자동으로 건너 뛴다"
   ]
  },
  {
   "cell_type": "code",
   "execution_count": 10,
   "id": "f381f6da",
   "metadata": {
    "ExecuteTime": {
     "end_time": "2024-02-21T12:21:44.489817Z",
     "start_time": "2024-02-21T12:21:44.480347Z"
    }
   },
   "outputs": [
    {
     "name": "stdout",
     "output_type": "stream",
     "text": [
      "2023-01-05    92600\n",
      "2023-01-06    92400\n",
      "2023-01-09    92100\n",
      "2023-01-10    94300\n",
      "2023-01-11    92300\n",
      "Freq: B, dtype: int64\n"
     ]
    }
   ],
   "source": [
    "kakao2 = pd.Series([92600, 92400, 92100, 94300, 92300], \n",
    "                   index = pd.date_range('20230105', freq = 'B', periods = 5))\n",
    "print(kakao2)"
   ]
  },
  {
   "cell_type": "code",
   "execution_count": 11,
   "id": "e4bede84",
   "metadata": {
    "ExecuteTime": {
     "end_time": "2024-02-21T12:21:52.710632Z",
     "start_time": "2024-02-21T12:21:52.703823Z"
    }
   },
   "outputs": [
    {
     "data": {
      "text/plain": "DatetimeIndex(['2023-01-05', '2023-01-06', '2023-01-09', '2023-01-10',\n               '2023-01-11'],\n              dtype='datetime64[ns]', freq='B')"
     },
     "execution_count": 11,
     "metadata": {},
     "output_type": "execute_result"
    }
   ],
   "source": [
    "kakao2.index"
   ]
  },
  {
   "cell_type": "code",
   "execution_count": 12,
   "id": "8e1044af",
   "metadata": {
    "ExecuteTime": {
     "end_time": "2024-02-21T12:21:54.839020Z",
     "start_time": "2024-02-21T12:21:54.819245Z"
    }
   },
   "outputs": [
    {
     "data": {
      "text/plain": "array([92600, 92400, 92100, 94300, 92300])"
     },
     "execution_count": 12,
     "metadata": {},
     "output_type": "execute_result"
    }
   ],
   "source": [
    "kakao2.values"
   ]
  },
  {
   "cell_type": "markdown",
   "id": "98939480",
   "metadata": {},
   "source": [
    "- Pandas의 Series 객체에는 **index**와 **값**이 저장되어 있는데 Series 객체의 **index**와 **values**라는 이름의 속성을 통해 접근할 수 있다\n",
    "- 예를 들어, kakao2 객체의 index값과 저장된 종가를 각각 출력하는 코드는 다음과 같이 구현할 수 있다"
   ]
  },
  {
   "cell_type": "code",
   "execution_count": 62,
   "id": "ce2116b6",
   "metadata": {},
   "outputs": [
    {
     "name": "stdout",
     "output_type": "stream",
     "text": [
      "2023-01-05 00:00:00\n",
      "2023-01-06 00:00:00\n",
      "2023-01-09 00:00:00\n",
      "2023-01-10 00:00:00\n",
      "2023-01-11 00:00:00\n",
      "92600\n",
      "92400\n",
      "92100\n",
      "94300\n",
      "92300\n"
     ]
    }
   ],
   "source": [
    "for date in kakao2.index : print(date)\n",
    "for ending_price in kakao2.values : print(ending_price)"
   ]
  },
  {
   "cell_type": "markdown",
   "id": "1b7761b1",
   "metadata": {},
   "source": [
    "### Series 객체의 덧셈 연산\n",
    "- indexing이 서로 다른 경우에도 알아서 indexing이 같은 값들끼리 덧셈 연산을 수행한다"
   ]
  },
  {
   "cell_type": "code",
   "execution_count": 13,
   "id": "d00a80a0",
   "metadata": {
    "ExecuteTime": {
     "end_time": "2024-02-21T12:22:21.612744Z",
     "start_time": "2024-02-21T12:22:21.606381Z"
    }
   },
   "outputs": [
    {
     "data": {
      "text/plain": "naver    10\nsk       20\nkt       30\ndtype: int64"
     },
     "execution_count": 13,
     "metadata": {},
     "output_type": "execute_result"
    }
   ],
   "source": [
    "pd.Series([10, 20, 30], index = ['naver', 'sk', 'kt'])"
   ]
  },
  {
   "cell_type": "code",
   "execution_count": 14,
   "id": "b0924aa5",
   "metadata": {
    "ExecuteTime": {
     "end_time": "2024-02-21T12:22:30.325906Z",
     "start_time": "2024-02-21T12:22:30.319086Z"
    }
   },
   "outputs": [
    {
     "data": {
      "text/plain": "kt       10\nnaver    30\nsk       20\ndtype: int64"
     },
     "execution_count": 14,
     "metadata": {},
     "output_type": "execute_result"
    }
   ],
   "source": [
    "pd.Series([10, 30, 20], index = ['kt', 'naver', 'sk'])"
   ]
  },
  {
   "cell_type": "code",
   "execution_count": 15,
   "id": "3f563305",
   "metadata": {
    "ExecuteTime": {
     "end_time": "2024-02-21T12:22:38.128964Z",
     "start_time": "2024-02-21T12:22:38.109455Z"
    }
   },
   "outputs": [
    {
     "name": "stdout",
     "output_type": "stream",
     "text": [
      "kt       40\n",
      "naver    40\n",
      "sk       40\n",
      "dtype: int64\n"
     ]
    }
   ],
   "source": [
    "mine = pd.Series([10, 20, 30], index = ['naver', 'sk', 'kt'])\n",
    "friend = pd.Series([10, 30, 20], index = ['kt', 'naver', 'sk'])\n",
    "merge = mine + friend\n",
    "print(merge)"
   ]
  },
  {
   "cell_type": "markdown",
   "id": "1dca9146",
   "metadata": {},
   "source": [
    "### Example 2.\n",
    "- pandas와 numpy의 관계를 확인해 보자"
   ]
  },
  {
   "cell_type": "code",
   "execution_count": 16,
   "id": "f738fcf8",
   "metadata": {
    "ExecuteTime": {
     "end_time": "2024-02-21T12:23:27.883230Z",
     "start_time": "2024-02-21T12:23:27.866881Z"
    }
   },
   "outputs": [
    {
     "name": "stdout",
     "output_type": "stream",
     "text": [
      "0     3\n",
      "1     6\n",
      "2     9\n",
      "3    12\n",
      "dtype: int64\n",
      "<class 'pandas.core.series.Series'>\n",
      "4\n"
     ]
    }
   ],
   "source": [
    "obj = pd.Series([3,6,9,12])\n",
    "print(obj)\n",
    "print(type(obj)) # Series\n",
    "print(len(obj)) # data의 길이"
   ]
  },
  {
   "cell_type": "code",
   "execution_count": 17,
   "id": "3a960ff9",
   "metadata": {
    "ExecuteTime": {
     "end_time": "2024-02-21T12:23:56.591508Z",
     "start_time": "2024-02-21T12:23:56.584276Z"
    }
   },
   "outputs": [
    {
     "data": {
      "text/plain": "a     3\nb     6\nc     9\nd    12\ndtype: int64"
     },
     "execution_count": 17,
     "metadata": {},
     "output_type": "execute_result"
    }
   ],
   "source": [
    "obj = pd.Series([3,6,9,12], index = ['a','b','c','d']) # string 인덱스 가능\n",
    "obj"
   ]
  },
  {
   "cell_type": "code",
   "execution_count": 18,
   "id": "8d647568",
   "metadata": {
    "ExecuteTime": {
     "end_time": "2024-02-21T12:24:03.959973Z",
     "start_time": "2024-02-21T12:24:03.950475Z"
    }
   },
   "outputs": [
    {
     "data": {
      "text/plain": "김철수    5000\n김철호    7000\n한상민    4000\n문대용    4500\ndtype: int64"
     },
     "execution_count": 18,
     "metadata": {},
     "output_type": "execute_result"
    }
   ],
   "source": [
    "emp = {'김철수' : 5000, '김철호' : 7000, '한상민' : 4000, '문대용' : 4500} # dictionary 이용\n",
    "obj = pd.Series(emp)\n",
    "obj"
   ]
  },
  {
   "cell_type": "markdown",
   "id": "1521458a",
   "metadata": {},
   "source": [
    "### Series Method"
   ]
  },
  {
   "cell_type": "code",
   "execution_count": 19,
   "id": "b3866c84",
   "metadata": {
    "ExecuteTime": {
     "end_time": "2024-02-21T12:24:23.263008Z",
     "start_time": "2024-02-21T12:24:23.221065Z"
    }
   },
   "outputs": [
    {
     "data": {
      "text/plain": "30"
     },
     "execution_count": 19,
     "metadata": {},
     "output_type": "execute_result"
    }
   ],
   "source": [
    "my_se = pd.Series([10,20,30])\n",
    "my_se[2] # indexing"
   ]
  },
  {
   "cell_type": "code",
   "execution_count": 20,
   "id": "d1923c1c",
   "metadata": {
    "ExecuteTime": {
     "end_time": "2024-02-21T12:24:29.593602Z",
     "start_time": "2024-02-21T12:24:29.585311Z"
    }
   },
   "outputs": [
    {
     "data": {
      "text/plain": "Samsung    10\nNaver      20\nLG         30\ndtype: int64"
     },
     "execution_count": 20,
     "metadata": {},
     "output_type": "execute_result"
    }
   ],
   "source": [
    "my_se1 = pd.Series([10,20,30], index = ['Samsung','Naver','LG'])\n",
    "my_se1"
   ]
  },
  {
   "cell_type": "code",
   "execution_count": 21,
   "id": "365a7258",
   "metadata": {
    "ExecuteTime": {
     "end_time": "2024-02-21T12:24:32.774937Z",
     "start_time": "2024-02-21T12:24:32.765021Z"
    }
   },
   "outputs": [
    {
     "data": {
      "text/plain": "30"
     },
     "execution_count": 21,
     "metadata": {},
     "output_type": "execute_result"
    }
   ],
   "source": [
    "my_se1['LG'] # 문자열 인덱스는 문자열로 indexing을 해야 한다"
   ]
  },
  {
   "cell_type": "code",
   "execution_count": 22,
   "id": "b5aa3544",
   "metadata": {
    "ExecuteTime": {
     "end_time": "2024-02-21T12:24:41.541014Z",
     "start_time": "2024-02-21T12:24:41.532675Z"
    }
   },
   "outputs": [
    {
     "data": {
      "text/plain": "30"
     },
     "execution_count": 22,
     "metadata": {},
     "output_type": "execute_result"
    }
   ],
   "source": [
    "my_se1.iloc[2] # 정수로 인덱싱을 원하면 iloc method를 사용해야 한다"
   ]
  },
  {
   "cell_type": "code",
   "execution_count": 23,
   "id": "72b448da",
   "metadata": {
    "ExecuteTime": {
     "end_time": "2024-02-21T12:24:48.013730Z",
     "start_time": "2024-02-21T12:24:47.994745Z"
    }
   },
   "outputs": [
    {
     "data": {
      "text/plain": "Samsung    10\nNaver      20\nLG         30\ndtype: int64"
     },
     "execution_count": 23,
     "metadata": {},
     "output_type": "execute_result"
    }
   ],
   "source": [
    "my_se1.sort_values() # value값 기준으로 정렬, default는 오름차순"
   ]
  },
  {
   "cell_type": "code",
   "execution_count": 26,
   "id": "900bee02",
   "metadata": {
    "ExecuteTime": {
     "end_time": "2024-02-21T12:25:27.434506Z",
     "start_time": "2024-02-21T12:25:27.421257Z"
    }
   },
   "outputs": [
    {
     "data": {
      "text/plain": "Samsung    10\nNaver      20\nLG         30\ndtype: int64"
     },
     "execution_count": 26,
     "metadata": {},
     "output_type": "execute_result"
    }
   ],
   "source": [
    "my_se1.sort_index(ascending = False) # index값 기준으로 정렬, default는 사전순"
   ]
  },
  {
   "cell_type": "code",
   "execution_count": 27,
   "id": "b4a411c0",
   "metadata": {
    "ExecuteTime": {
     "end_time": "2024-02-21T12:25:31.050787Z",
     "start_time": "2024-02-21T12:25:31.044621Z"
    }
   },
   "outputs": [
    {
     "data": {
      "text/plain": "2    30\n1    20\n0    10\ndtype: int64"
     },
     "execution_count": 27,
     "metadata": {},
     "output_type": "execute_result"
    }
   ],
   "source": [
    "my_se.sort_values(ascending = False) # ascending argument를 통해 정렬 기준을 반대로 할 수 있다"
   ]
  },
  {
   "cell_type": "code",
   "execution_count": 30,
   "id": "29f7dc66",
   "metadata": {
    "ExecuteTime": {
     "end_time": "2024-02-21T12:25:54.272941Z",
     "start_time": "2024-02-21T12:25:54.247272Z"
    }
   },
   "outputs": [
    {
     "data": {
      "text/plain": "Samsung     NaN\nNaver      20.0\nLG         30.0\ndtype: float64"
     },
     "execution_count": 30,
     "metadata": {},
     "output_type": "execute_result"
    }
   ],
   "source": [
    "my_se1.where(my_se1 > 15)"
   ]
  },
  {
   "cell_type": "markdown",
   "id": "1387d1d3",
   "metadata": {},
   "source": [
    "NaN은 **Not a Number**이라는 뜻으로, float형 데이터지만 아무런 숫자 정보가 없는 데이터이다\n",
    "- dropna(   ) method를 통해 제거가 가능하다"
   ]
  },
  {
   "cell_type": "code",
   "execution_count": 75,
   "id": "42affa44",
   "metadata": {},
   "outputs": [
    {
     "data": {
      "text/plain": [
       "Naver    20.0\n",
       "LG       30.0\n",
       "dtype: float64"
      ]
     },
     "execution_count": 75,
     "metadata": {},
     "output_type": "execute_result"
    }
   ],
   "source": [
    "my_se1.where(my_se1 > 15).dropna() # NaN 제거 가능"
   ]
  },
  {
   "cell_type": "code",
   "execution_count": 31,
   "id": "3bfe13a5",
   "metadata": {
    "ExecuteTime": {
     "end_time": "2024-02-21T12:26:05.861902Z",
     "start_time": "2024-02-21T12:26:05.844668Z"
    }
   },
   "outputs": [
    {
     "data": {
      "text/plain": "Samsung    20\nNaver      20\nKakao      30\ndtype: int64"
     },
     "execution_count": 31,
     "metadata": {},
     "output_type": "execute_result"
    }
   ],
   "source": [
    "buy_stock = pd.Series([20,20,30], index = ['Samsung','Naver','Kakao'])\n",
    "buy_stock"
   ]
  },
  {
   "cell_type": "code",
   "execution_count": 32,
   "id": "fe944349",
   "metadata": {
    "ExecuteTime": {
     "end_time": "2024-02-21T12:26:13.878530Z",
     "start_time": "2024-02-21T12:26:13.858022Z"
    }
   },
   "outputs": [
    {
     "data": {
      "text/plain": "Kakao       NaN\nLG          NaN\nNaver      40.0\nSamsung    30.0\ndtype: float64"
     },
     "execution_count": 32,
     "metadata": {},
     "output_type": "execute_result"
    }
   ],
   "source": [
    "my_se1 + buy_stock # 단순히 합치면 인덱스가 겹치지 않는 부분은 NaN값으로 채워진다"
   ]
  },
  {
   "cell_type": "code",
   "execution_count": 33,
   "id": "745a77fb",
   "metadata": {
    "ExecuteTime": {
     "end_time": "2024-02-21T12:26:42.174909Z",
     "start_time": "2024-02-21T12:26:42.138638Z"
    }
   },
   "outputs": [
    {
     "data": {
      "text/plain": "Kakao      30.0\nLG         30.0\nNaver      40.0\nSamsung    30.0\ndtype: float64"
     },
     "execution_count": 33,
     "metadata": {},
     "output_type": "execute_result"
    }
   ],
   "source": [
    "new_my_se1 = my_se1.add(buy_stock, fill_value = 0) \n",
    "# add method에서 fill_value를 0으로 지정하면 NaN값으로 바뀌지 않는다\n",
    "new_my_se1"
   ]
  },
  {
   "cell_type": "markdown",
   "id": "0c5610ed",
   "metadata": {},
   "source": [
    "- add는 이항연산이므로, operand가 NaN일 경우 대체될 value를 fill_value로 지정하면 NaN값이 되지 않는다\n",
    "- 연산에 NaN이 포함되면, float64로 바뀐다"
   ]
  },
  {
   "cell_type": "code",
   "execution_count": 34,
   "id": "85658419",
   "metadata": {
    "ExecuteTime": {
     "end_time": "2024-02-21T12:27:04.951801Z",
     "start_time": "2024-02-21T12:27:04.933738Z"
    }
   },
   "outputs": [
    {
     "data": {
      "text/plain": "Kakao      30\nLG         30\nNaver      40\nSamsung    30\ndtype: int64"
     },
     "execution_count": 34,
     "metadata": {},
     "output_type": "execute_result"
    }
   ],
   "source": [
    "new_my_se2 = new_my_se1.astype('int64')\n",
    "new_my_se2 # astype method를 통해 data type을 바꿀 수 있다"
   ]
  },
  {
   "cell_type": "code",
   "execution_count": 35,
   "id": "8d41c79d",
   "metadata": {
    "ExecuteTime": {
     "end_time": "2024-02-21T12:27:18.216918Z",
     "start_time": "2024-02-21T12:27:18.198562Z"
    }
   },
   "outputs": [
    {
     "data": {
      "text/plain": "Kakao       NaN\nLG          0.0\nNaver      10.0\nSamsung   -10.0\ndtype: float64"
     },
     "execution_count": 35,
     "metadata": {},
     "output_type": "execute_result"
    }
   ],
   "source": [
    "new_my_se2.diff() # diff method를 사용하면 앞, 뒤 value의 차이를 계산해 준다"
   ]
  },
  {
   "cell_type": "code",
   "execution_count": 36,
   "id": "4d66e3cc",
   "metadata": {
    "ExecuteTime": {
     "end_time": "2024-02-21T12:27:28.841641Z",
     "start_time": "2024-02-21T12:27:28.814504Z"
    }
   },
   "outputs": [
    {
     "data": {
      "text/plain": "Kakao       NaN\nLG         30.0\nNaver      30.0\nSamsung    40.0\ndtype: float64"
     },
     "execution_count": 36,
     "metadata": {},
     "output_type": "execute_result"
    }
   ],
   "source": [
    "new_my_se2.shift(1) # shift method는 인수로 입력된 수만큼 value를 뒤로 밀어준다"
   ]
  },
  {
   "cell_type": "markdown",
   "id": "00eb69bf",
   "metadata": {},
   "source": [
    "### Statistical Method\n",
    "- Numpy와 Pandas에서는 기본적인 통계 method를 제공한다"
   ]
  },
  {
   "cell_type": "code",
   "outputs": [
    {
     "data": {
      "text/plain": "Kakao      30\nLG         30\nNaver      40\nSamsung    30\ndtype: int64"
     },
     "execution_count": 37,
     "metadata": {},
     "output_type": "execute_result"
    }
   ],
   "source": [
    "new_my_se2"
   ],
   "metadata": {
    "collapsed": false,
    "ExecuteTime": {
     "end_time": "2024-02-21T12:27:53.389304Z",
     "start_time": "2024-02-21T12:27:53.380346Z"
    }
   },
   "id": "58b94b8369fe7431",
   "execution_count": 37
  },
  {
   "cell_type": "code",
   "outputs": [
    {
     "data": {
      "text/plain": "32.5"
     },
     "execution_count": 38,
     "metadata": {},
     "output_type": "execute_result"
    }
   ],
   "source": [
    "new_my_se2.mean()"
   ],
   "metadata": {
    "collapsed": false,
    "ExecuteTime": {
     "end_time": "2024-02-21T12:28:04.919361Z",
     "start_time": "2024-02-21T12:28:04.902266Z"
    }
   },
   "id": "1a36f42d96cf8ee1",
   "execution_count": 38
  },
  {
   "cell_type": "code",
   "outputs": [
    {
     "data": {
      "text/plain": "25.0"
     },
     "execution_count": 39,
     "metadata": {},
     "output_type": "execute_result"
    }
   ],
   "source": [
    "new_my_se2.var()"
   ],
   "metadata": {
    "collapsed": false,
    "ExecuteTime": {
     "end_time": "2024-02-21T12:28:10.423269Z",
     "start_time": "2024-02-21T12:28:10.405055Z"
    }
   },
   "id": "71f973da1f94fde2",
   "execution_count": 39
  },
  {
   "cell_type": "code",
   "outputs": [
    {
     "data": {
      "text/plain": "5.0"
     },
     "execution_count": 40,
     "metadata": {},
     "output_type": "execute_result"
    }
   ],
   "source": [
    "new_my_se2.std()"
   ],
   "metadata": {
    "collapsed": false,
    "ExecuteTime": {
     "end_time": "2024-02-21T12:28:15.125922Z",
     "start_time": "2024-02-21T12:28:15.099162Z"
    }
   },
   "id": "5c31e942f8763e5c",
   "execution_count": 40
  },
  {
   "cell_type": "code",
   "outputs": [
    {
     "data": {
      "text/plain": "1.9999999999999998"
     },
     "execution_count": 41,
     "metadata": {},
     "output_type": "execute_result"
    }
   ],
   "source": [
    "new_my_se2.skew()"
   ],
   "metadata": {
    "collapsed": false,
    "ExecuteTime": {
     "end_time": "2024-02-21T12:28:24.719103Z",
     "start_time": "2024-02-21T12:28:24.706673Z"
    }
   },
   "id": "effe4600ab62f33f",
   "execution_count": 41
  },
  {
   "cell_type": "code",
   "outputs": [
    {
     "data": {
      "text/plain": "4.0"
     },
     "execution_count": 42,
     "metadata": {},
     "output_type": "execute_result"
    }
   ],
   "source": [
    "new_my_se2.kurt()"
   ],
   "metadata": {
    "collapsed": false,
    "ExecuteTime": {
     "end_time": "2024-02-21T12:28:33.497477Z",
     "start_time": "2024-02-21T12:28:33.486272Z"
    }
   },
   "id": "c3698ef28877b650",
   "execution_count": 42
  },
  {
   "cell_type": "markdown",
   "id": "4cf5675c",
   "metadata": {},
   "source": [
    "### Example 3.\n",
    "- pandas datareader를 이용해 통계 관련 method를 직접 사용해 보자"
   ]
  },
  {
   "cell_type": "code",
   "execution_count": 46,
   "id": "492659f9",
   "metadata": {
    "ExecuteTime": {
     "end_time": "2024-02-21T12:29:05.632508Z",
     "start_time": "2024-02-21T12:29:05.579824Z"
    }
   },
   "outputs": [],
   "source": [
    "#pip install pandas_datareader\n",
    "import datetime\n",
    "import pandas_datareader as wb\n",
    "\n",
    "start = datetime.datetime(2022, 2, 1)\n",
    "end = datetime.datetime(2024, 2, 21)\n",
    "df_null = wb.DataReader(\"KOSPI\", \"naver\", start, end)\n",
    "series = df_null['Close'].dropna().astype('float')"
   ]
  },
  {
   "cell_type": "code",
   "execution_count": 47,
   "id": "ea0c1b97",
   "metadata": {
    "ExecuteTime": {
     "end_time": "2024-02-21T12:29:06.115619Z",
     "start_time": "2024-02-21T12:29:05.941811Z"
    }
   },
   "outputs": [
    {
     "data": {
      "text/plain": "<Axes: xlabel='Date'>"
     },
     "execution_count": 47,
     "metadata": {},
     "output_type": "execute_result"
    },
    {
     "data": {
      "text/plain": "<Figure size 640x480 with 1 Axes>",
      "image/png": "[encoded data removed]"
     },
     "metadata": {},
     "output_type": "display_data"
    }
   ],
   "source": [
    "series.plot()"
   ]
  },
  {
   "cell_type": "code",
   "execution_count": 48,
   "id": "81dc745a",
   "metadata": {
    "ExecuteTime": {
     "end_time": "2024-02-21T12:29:08.820880Z",
     "start_time": "2024-02-21T12:29:08.816171Z"
    }
   },
   "outputs": [],
   "source": [
    "numpy = series.values"
   ]
  },
  {
   "cell_type": "code",
   "execution_count": 49,
   "id": "9a9d798a",
   "metadata": {
    "ExecuteTime": {
     "end_time": "2024-02-21T12:29:15.834322Z",
     "start_time": "2024-02-21T12:29:15.826354Z"
    }
   },
   "outputs": [
    {
     "data": {
      "text/plain": "array([2707.82, 2750.26, 2745.06, 2746.47, 2768.85])"
     },
     "execution_count": 49,
     "metadata": {},
     "output_type": "execute_result"
    }
   ],
   "source": [
    "numpy[:5]"
   ]
  },
  {
   "cell_type": "code",
   "execution_count": 50,
   "id": "46996805",
   "metadata": {
    "ExecuteTime": {
     "end_time": "2024-02-21T12:29:17.018809Z",
     "start_time": "2024-02-21T12:29:17.009552Z"
    }
   },
   "outputs": [
    {
     "data": {
      "text/plain": "2499.7430830039525"
     },
     "execution_count": 50,
     "metadata": {},
     "output_type": "execute_result"
    }
   ],
   "source": [
    "numpy.mean() # mean"
   ]
  },
  {
   "cell_type": "code",
   "execution_count": 51,
   "id": "178d657a",
   "metadata": {
    "ExecuteTime": {
     "end_time": "2024-02-21T12:29:17.793254Z",
     "start_time": "2024-02-21T12:29:17.784675Z"
    }
   },
   "outputs": [
    {
     "data": {
      "text/plain": "17350.852681799435"
     },
     "execution_count": 51,
     "metadata": {},
     "output_type": "execute_result"
    }
   ],
   "source": [
    "numpy.var() # variance"
   ]
  },
  {
   "cell_type": "code",
   "execution_count": 52,
   "id": "ad2950be",
   "metadata": {
    "ExecuteTime": {
     "end_time": "2024-02-21T12:29:18.282767Z",
     "start_time": "2024-02-21T12:29:18.276940Z"
    }
   },
   "outputs": [
    {
     "data": {
      "text/plain": "131.72263541927575"
     },
     "execution_count": 52,
     "metadata": {},
     "output_type": "execute_result"
    }
   ],
   "source": [
    "numpy.std() # standard deviation"
   ]
  },
  {
   "cell_type": "code",
   "execution_count": 53,
   "id": "8a5ad127",
   "metadata": {
    "ExecuteTime": {
     "end_time": "2024-02-21T12:29:22.337177Z",
     "start_time": "2024-02-21T12:29:22.327958Z"
    }
   },
   "outputs": [
    {
     "data": {
      "text/plain": "2499.7430830039525"
     },
     "execution_count": 53,
     "metadata": {},
     "output_type": "execute_result"
    }
   ],
   "source": [
    "series.mean() # series도 문법은 똑같다"
   ]
  },
  {
   "cell_type": "code",
   "outputs": [
    {
     "data": {
      "text/plain": "17385.210805921804"
     },
     "execution_count": 54,
     "metadata": {},
     "output_type": "execute_result"
    }
   ],
   "source": [
    "series.var()"
   ],
   "metadata": {
    "collapsed": false,
    "ExecuteTime": {
     "end_time": "2024-02-21T12:29:31.537096Z",
     "start_time": "2024-02-21T12:29:31.524006Z"
    }
   },
   "id": "9466d5f28ec83fe3",
   "execution_count": 54
  },
  {
   "cell_type": "code",
   "outputs": [
    {
     "data": {
      "text/plain": "131.85298937044166"
     },
     "execution_count": 55,
     "metadata": {},
     "output_type": "execute_result"
    }
   ],
   "source": [
    "series.std()"
   ],
   "metadata": {
    "collapsed": false,
    "ExecuteTime": {
     "end_time": "2024-02-21T12:29:37.010702Z",
     "start_time": "2024-02-21T12:29:36.999316Z"
    }
   },
   "id": "8c6d32652115bed",
   "execution_count": 55
  },
  {
   "cell_type": "code",
   "execution_count": 56,
   "id": "e173f959",
   "metadata": {
    "ExecuteTime": {
     "end_time": "2024-02-21T12:29:38.967251Z",
     "start_time": "2024-02-21T12:29:38.959931Z"
    }
   },
   "outputs": [
    {
     "data": {
      "text/plain": "-0.1578375012668166"
     },
     "execution_count": 56,
     "metadata": {},
     "output_type": "execute_result"
    }
   ],
   "source": [
    "series.skew() # skewness"
   ]
  },
  {
   "cell_type": "code",
   "execution_count": 57,
   "id": "d282977e",
   "metadata": {
    "ExecuteTime": {
     "end_time": "2024-02-21T12:29:40.202032Z",
     "start_time": "2024-02-21T12:29:40.195110Z"
    }
   },
   "outputs": [
    {
     "data": {
      "text/plain": "-0.4200630925824531"
     },
     "execution_count": 57,
     "metadata": {},
     "output_type": "execute_result"
    }
   ],
   "source": [
    "series.kurt() # kurtosis"
   ]
  },
  {
   "cell_type": "code",
   "execution_count": 58,
   "id": "af5f3415",
   "metadata": {
    "ExecuteTime": {
     "end_time": "2024-02-21T12:29:43.170487Z",
     "start_time": "2024-02-21T12:29:43.166152Z"
    }
   },
   "outputs": [
    {
     "name": "stdout",
     "output_type": "stream",
     "text": [
      "<class 'pandas.core.series.Series'>\n",
      "DatetimeIndex: 506 entries, 2022-02-03 to 2024-02-21\n",
      "Series name: Close\n",
      "Non-Null Count  Dtype  \n",
      "--------------  -----  \n",
      "506 non-null    float64\n",
      "dtypes: float64(1)\n",
      "memory usage: 7.9 KB\n"
     ]
    }
   ],
   "source": [
    "series.info()"
   ]
  },
  {
   "cell_type": "code",
   "outputs": [
    {
     "data": {
      "text/plain": "count     506.000000\nmean     2499.743083\nstd       131.852989\nmin      2155.490000\n25%      2409.472500\n50%      2495.785000\n75%      2601.017500\nmax      2771.930000\nName: Close, dtype: float64"
     },
     "execution_count": 59,
     "metadata": {},
     "output_type": "execute_result"
    }
   ],
   "source": [
    "series.describe()"
   ],
   "metadata": {
    "collapsed": false,
    "ExecuteTime": {
     "end_time": "2024-02-21T12:29:58.439830Z",
     "start_time": "2024-02-21T12:29:58.426836Z"
    }
   },
   "id": "419a6c4809307bb2",
   "execution_count": 59
  },
  {
   "cell_type": "code",
   "execution_count": 61,
   "id": "ddc76490",
   "metadata": {
    "ExecuteTime": {
     "end_time": "2024-02-21T12:30:26.272459Z",
     "start_time": "2024-02-21T12:30:26.260585Z"
    }
   },
   "outputs": [
    {
     "data": {
      "text/plain": "2495.785"
     },
     "execution_count": 61,
     "metadata": {},
     "output_type": "execute_result"
    }
   ],
   "source": [
    "import numpy as np\n",
    "np.median(numpy) # median은 함수로 확인 가능하다"
   ]
  },
  {
   "cell_type": "code",
   "execution_count": 62,
   "id": "e51d2bf6",
   "metadata": {
    "ExecuteTime": {
     "end_time": "2024-02-21T12:30:34.090372Z",
     "start_time": "2024-02-21T12:30:34.071095Z"
    }
   },
   "outputs": [
    {
     "data": {
      "text/plain": "2771.93"
     },
     "execution_count": 62,
     "metadata": {},
     "output_type": "execute_result"
    }
   ],
   "source": [
    "np.max(numpy) # maximum"
   ]
  },
  {
   "cell_type": "code",
   "execution_count": 63,
   "id": "b3433418",
   "metadata": {
    "ExecuteTime": {
     "end_time": "2024-02-21T12:30:35.955274Z",
     "start_time": "2024-02-21T12:30:35.948457Z"
    }
   },
   "outputs": [
    {
     "data": {
      "text/plain": "2155.49"
     },
     "execution_count": 63,
     "metadata": {},
     "output_type": "execute_result"
    }
   ],
   "source": [
    "np.min(numpy) # minimum"
   ]
  },
  {
   "cell_type": "code",
   "execution_count": 64,
   "id": "ca96de3d",
   "metadata": {
    "ExecuteTime": {
     "end_time": "2024-02-21T12:30:38.592199Z",
     "start_time": "2024-02-21T12:30:38.583670Z"
    }
   },
   "outputs": [
    {
     "data": {
      "text/plain": "2771.93"
     },
     "execution_count": 64,
     "metadata": {},
     "output_type": "execute_result"
    }
   ],
   "source": [
    "numpy.max()"
   ]
  },
  {
   "cell_type": "code",
   "execution_count": 65,
   "id": "0a5e2e47",
   "metadata": {
    "ExecuteTime": {
     "end_time": "2024-02-21T12:30:38.962195Z",
     "start_time": "2024-02-21T12:30:38.956671Z"
    }
   },
   "outputs": [
    {
     "data": {
      "text/plain": "2155.49"
     },
     "execution_count": 65,
     "metadata": {},
     "output_type": "execute_result"
    }
   ],
   "source": [
    "numpy.min() # method도 가능"
   ]
  },
  {
   "cell_type": "code",
   "execution_count": 66,
   "id": "e56b0302",
   "metadata": {
    "ExecuteTime": {
     "end_time": "2024-02-21T12:30:41.201228Z",
     "start_time": "2024-02-21T12:30:41.194965Z"
    }
   },
   "outputs": [
    {
     "data": {
      "text/plain": "1264870.0"
     },
     "execution_count": 66,
     "metadata": {},
     "output_type": "execute_result"
    }
   ],
   "source": [
    "numpy.sum() # sum"
   ]
  },
  {
   "cell_type": "code",
   "execution_count": 67,
   "id": "b0e974d4",
   "metadata": {
    "ExecuteTime": {
     "end_time": "2024-02-21T12:30:46.513385Z",
     "start_time": "2024-02-21T12:30:46.506859Z"
    }
   },
   "outputs": [
    {
     "data": {
      "text/plain": "array([   2707.82,    5458.08,    8203.14,   10949.61,   13718.46,\n         16490.39,   19238.1 ,   21942.58,   24619.12,   27348.8 ,\n         30092.89,   32837.41,   35581.21,   38288.  ,   41007.53,\n         43656.33,   46333.09,   49032.27,   51735.79,   54482.87,\n         57196.3 ,   59847.61,   62470.01,   65150.33,   67811.61,\n         70457.26,   73078.79,   75738.02,   78432.53,   81139.55,\n         83825.6 ,   86535.6 ,   89270.65,   92000.31,   94730.29,\n         97459.85,  100200.92,  102947.66,  105705.31,  108445.16,\n        111203.06,  113962.26,  116697.29,  119393.15,  122093.54,\n        124786.64,  127453.4 ,  130169.89,  132886.6 ,  135582.66,\n        138275.87,  140994.76,  143713.45,  146441.66,  149146.37,\n        151803.5 ,  154471.81,  157110.87,  159778.36,  162473.41,\n        165160.86,  167841.32,  170518.89,  173163.4 ,  175774.21,\n        178370.77,  180963.04,  183513.12,  186117.36,  188713.94,\n        191334.38,  193960.36,  196552.7 ,  199191.99,  201839.37,\n        204445.24,  207062.46,  209674.91,  212312.96,  214982.62,\n        217668.52,  220327.51,  222998.16,  225624.5 ,  228250.65,\n        230876.09,  233471.96,  235976.47,  238469.44,  240916.82,\n        243368.23,  245809.16,  248200.19,  250609.12,  252951.93,\n        255266.25,  257632.85,  260034.77,  262456.86,  264834.85,\n        267167.49,  269472.91,  271773.25,  274115.03,  276407.04,\n        278741.31,  281091.92,  283432.19,  285749.95,  288078.56,\n        290400.88,  292731.86,  295107.11,  297478.08,  299864.93,\n        302274.09,  304667.23,  307070.92,  309483.88,  311899.41,\n        314334.68,  316786.18,  319238.43,  321678.05,  324139.5 ,\n        326612.61,  329103.41,  331596.51,  334099.97,  336580.85,\n        339104.63,  341632.57,  344166.09,  346682.56,  349190.61,\n        351683.3 ,  354145.8 ,  356581.14,  359028.59,  361505.85,\n        363986.88,  366413.77,  368864.7 ,  371336.75,  373752.36,\n        376161.77,  378565.45,  380975.47,  383351.93,  385736.21,\n        388185.75,  390597.17,  392999.  ,  395381.78,  397737.44,\n        400105.29,  402452.5 ,  404784.81,  407074.81,  409295.75,\n        411519.61,  413688.9 ,  415859.83,  418015.32,  420224.7 ,\n        422439.92,  424677.78,  426910.62,  429102.69,  431305.16,\n        433468.03,  435680.58,  437900.29,  440150.24,  442387.68,\n        444605.77,  446818.89,  449055.05,  451290.12,  453539.68,\n        455828.46,  458096.86,  460390.47,  462725.69,  465062.56,\n        467391.73,  469740.16,  472111.95,  474510.99,  476935.4 ,\n        479337.63,  481820.79,  484295.44,  486775.77,  489253.22,\n        491696.12,  494140.6 ,  496560.1 ,  498965.37,  501383.38,\n        503824.71,  506262.57,  508670.84,  511104.23,  513576.76,\n        516056.6 ,  518490.93,  520910.25,  523303.41,  525686.22,\n        528057.3 ,  530446.34,  532819.36,  535191.76,  537591.01,\n        539951.98,  542312.  ,  544664.17,  546997.46,  549326.41,\n        551683.14,  553996.83,  556313.97,  558646.76,  560927.21,\n        563163.61,  565389.28,  567607.96,  569863.94,  572128.59,\n        574418.56,  576768.75,  579120.06,  581479.59,  583844.69,\n        586230.78,  588630.64,  591010.03,  593378.35,  595758.69,\n        598153.95,  600582.52,  603051.17,  605535.19,  607985.66,\n        610410.74,  612860.54,  615329.42,  617809.82,  620248.01,\n        622699.72,  625183.36,  627664.88,  630134.61,  632587.31,\n        635052.95,  637480.85,  639956.33,  642407.54,  644862.66,\n        647321.62,  649739.3 ,  652178.39,  654602.  ,  657004.64,\n        659417.49,  661845.34,  664277.41,  666740.03,  669203.38,\n        671635.29,  674054.38,  676448.97,  678859.57,  681208.54,\n        683588.26,  685966.17,  688361.86,  690741.06,  693129.41,\n        695546.37,  697970.85,  700385.81,  702795.03,  705229.97,\n        707673.89,  710127.05,  712603.91,  715076.25,  717556.76,\n        720051.97,  722511.2 ,  725001.61,  727513.69,  730061.55,\n        732612.19,  735173.85,  737745.34,  740321.25,  742892.34,\n        745467.42,  748030.53,  750574.93,  753098.43,  755587.45,\n        758072.28,  760568.09,  763069.62,  765594.01,  768095.41,\n        770596.35,  773109.56,  775619.62,  778116.13,  780607.13,\n        783082.55,  785561.9 ,  788042.14,  790536.8 ,  793052.2 ,\n        795589.99,  798147.07,  800714.62,  803282.07,  805836.76,\n        808395.57,  810981.09,  813558.21,  816127.38,  818728.74,\n        821344.15,  823959.75,  826570.6 ,  829211.76,  831841.11,\n        834479.06,  837098.14,  839706.68,  842332.47,  844941.97,\n        847546.88,  850129.51,  852723.21,  855293.31,  857875.51,\n        860456.9 ,  863021.09,  865571.11,  868135.39,  870737.86,\n        873331.17,  875910.17,  878466.46,  880993.17,  883513.87,\n        886076.36,  888651.08,  891242.31,  893870.61,  896489.61,\n        899097.23,  901705.47,  904305.7 ,  906915.46,  909543.99,\n        912180.45,  914772.81,  917376.62,  919984.94,  922617.52,\n        925284.59,  927901.06,  930506.45,  933109.25,  935689.96,\n        938263.94,  940869.06,  943470.62,  946061.88,  948632.75,\n        951158.39,  953678.24,  956182.74,  958691.54,  961207.28,\n        963712.78,  966250.46,  968769.6 ,  971313.01,  973865.17,\n        976426.39,  978982.66,  981546.37,  984130.92,  986713.1 ,\n        989276.44,  991824.7 ,  994372.38,  996929.26,  999465.84,\n       1002000.54, 1004573.43, 1007174.71, 1009749.43, 1012308.64,\n       1014868.38, 1017383.35, 1019891.48, 1022387.24, 1024850.21,\n       1027315.28, 1029720.97, 1032124.57, 1034533.3 , 1036935.88,\n       1039385.96, 1041865.78, 1044321.93, 1046758.17, 1049218.34,\n       1051680.94, 1054096.74, 1056471.74, 1058828.76, 1061212.27,\n       1063575.44, 1065874.52, 1068177.33, 1070487.88, 1072765.87,\n       1075067.43, 1077410.55, 1079778.89, 1082281.26, 1084725.22,\n       1087146.84, 1089573.92, 1091983.58, 1094387.34, 1096820.59,\n       1099307.26, 1101795.44, 1104265.29, 1106756.49, 1109266.91,\n       1111778.61, 1114293.57, 1116790.2 , 1119285.86, 1121807.62,\n       1124327.43, 1126862.72, 1129367.73, 1131882.68, 1134376.96,\n       1136872.34, 1139364.41, 1141882.26, 1144407.62, 1146942.89,\n       1149453.55, 1151997.73, 1154561.29, 1157128.15, 1159696.7 ,\n       1162311.  , 1164911.02, 1167510.53, 1170113.12, 1172726.62,\n       1175381.9 , 1178051.71, 1180659.02, 1183246.04, 1185824.12,\n       1188391.94, 1190953.18, 1193495.16, 1196035.43, 1198560.48,\n       1201086.47, 1203584.06, 1206019.96, 1208460.  , 1210932.74,\n       1213397.09, 1215875.7 , 1218345.39, 1220815.73, 1223294.29,\n       1225794.94, 1228293.75, 1230790.84, 1233333.3 , 1235948.61,\n       1238539.92, 1241116.12, 1243725.7 , 1246346.02, 1248995.66,\n       1251616.08, 1254229.88, 1256878.64, 1259558.9 , 1262216.69,\n       1264870.  ])"
     },
     "execution_count": 67,
     "metadata": {},
     "output_type": "execute_result"
    }
   ],
   "source": [
    "numpy.cumsum() # cumulated sum"
   ]
  }
 ],
 "metadata": {
  "kernelspec": {
   "display_name": "Python 3 (ipykernel)",
   "language": "python",
   "name": "python3"
  },
  "language_info": {
   "codemirror_mode": {
    "name": "ipython",
    "version": 3
   },
   "file_extension": ".py",
   "mimetype": "text/x-python",
   "name": "python",
   "nbconvert_exporter": "python",
   "pygments_lexer": "ipython3",
   "version": "3.9.13"
  },
  "toc": {
   "base_numbering": 1,
   "nav_menu": {},
   "number_sections": true,
   "sideBar": true,
   "skip_h1_title": false,
   "title_cell": "Table of Contents",
   "title_sidebar": "Contents",
   "toc_cell": false,
   "toc_position": {},
   "toc_section_display": true,
   "toc_window_display": false
  }
 },
 "nbformat": 4,
 "nbformat_minor": 5
}
