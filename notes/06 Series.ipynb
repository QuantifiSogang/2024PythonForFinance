{
 "cells": [
  {
   "cell_type": "markdown",
   "id": "61a58d13",
   "metadata": {},
   "source": [
    "## Pandas Series\n",
    "\n",
    "https://pandas.pydata.org/docs/\n",
    "\n",
    "- pandas의 Series는 1차원 데이터를 다루는 데 효과적인 자료구조이며ㅡ DataFrame은 행과 열로 구성된 2차원 데이터를 다루는 데 효과적인 자료구조이다\n",
    "- pandas의 Series는 어떤 면에서는 python의 list와 비슷하고 어떤 면에서는 python의 dictionary와 닮은 자료구조이다\n",
    "    - 정수를 사용해서 데이터를 선택하는 리스트 기능\n",
    "    - Label을 사용해서 데이터를 선택하는 사전 기능"
   ]
  },
  {
   "cell_type": "markdown",
   "id": "db9b8723",
   "metadata": {},
   "source": [
    "### 데이터를 Series로 저장해보기\n",
    "- Series 객체를 생성할 때 따로 인덱스를 지정하지 않으면 0부터 시작하는 정숫값으로 인덱싱된다"
   ]
  },
  {
   "cell_type": "code",
   "execution_count": 154,
   "id": "5a93e64a",
   "metadata": {},
   "outputs": [
    {
     "name": "stdout",
     "output_type": "stream",
     "text": [
      "0    92600\n",
      "1    92400\n",
      "2    92100\n",
      "3    94300\n",
      "4    92300\n",
      "dtype: int64\n"
     ]
    }
   ],
   "source": [
    "import pandas as pd\n",
    "\n",
    "kakao = pd.Series([92600, 92400, 92100, 94300, 92300])\n",
    "print(kakao)"
   ]
  },
  {
   "cell_type": "markdown",
   "id": "2f733c36",
   "metadata": {},
   "source": [
    "인덱스를 지정하지 않는 경우, 자동으로 정숫값 indexing된다"
   ]
  },
  {
   "cell_type": "code",
   "execution_count": 155,
   "id": "f366e5a6",
   "metadata": {},
   "outputs": [
    {
     "name": "stdout",
     "output_type": "stream",
     "text": [
      "2017-03-03    92600\n",
      "2017-03-06    92400\n",
      "2017-03-07    92100\n",
      "2017-03-08    94300\n",
      "2017-03-09    92300\n",
      "dtype: int64\n"
     ]
    }
   ],
   "source": [
    "kakao2 = pd.Series([92600, 92400, 92100, 94300, 92300], \n",
    "                   index = ['2017-03-03', '2017-03-06', '2017-03-07', '2017-03-08', '2017-03-09'])\n",
    "print(kakao2)"
   ]
  },
  {
   "cell_type": "code",
   "execution_count": 156,
   "id": "8f0c68ea",
   "metadata": {},
   "outputs": [
    {
     "name": "stdout",
     "output_type": "stream",
     "text": [
      "92300\n"
     ]
    }
   ],
   "source": [
    "print(kakao2['2017-03-09'])"
   ]
  },
  {
   "cell_type": "code",
   "execution_count": 158,
   "id": "80610632",
   "metadata": {},
   "outputs": [
    {
     "data": {
      "text/plain": [
       "92100"
      ]
     },
     "execution_count": 158,
     "metadata": {},
     "output_type": "execute_result"
    }
   ],
   "source": [
    "kakao2.iloc[2]"
   ]
  },
  {
   "cell_type": "code",
   "execution_count": 59,
   "id": "e931e140",
   "metadata": {},
   "outputs": [
    {
     "data": {
      "text/plain": [
       "DatetimeIndex(['2023-01-02', '2023-01-03', '2023-01-04', '2023-01-05',\n",
       "               '2023-01-06', '2023-01-07'],\n",
       "              dtype='datetime64[ns]', freq='D')"
      ]
     },
     "execution_count": 59,
     "metadata": {},
     "output_type": "execute_result"
    }
   ],
   "source": [
    "my_ind = pd.date_range('2023-01-02', periods = 6) # date_range method통해 datetime index 객체 생성가능\n",
    "my_ind"
   ]
  },
  {
   "cell_type": "code",
   "execution_count": 60,
   "id": "793908a2",
   "metadata": {},
   "outputs": [
    {
     "data": {
      "text/plain": [
       "2023-01-02    92600\n",
       "2023-01-03    93400\n",
       "2023-01-04    94500\n",
       "2023-01-05    93800\n",
       "2023-01-06    94000\n",
       "2023-01-07    93500\n",
       "Freq: D, dtype: int64"
      ]
     },
     "execution_count": 60,
     "metadata": {},
     "output_type": "execute_result"
    }
   ],
   "source": [
    "kakao2 = pd.Series([92600, 93400, 94500, 93800, 94000, 93500], index = my_ind) # index 변경 가능\n",
    "kakao2"
   ]
  },
  {
   "cell_type": "markdown",
   "id": "af8cd088",
   "metadata": {},
   "source": [
    "freq의 parameter로 'B' (Buisness day)를 넣으면, 공휴일은 자동으로 건너 뛴다"
   ]
  },
  {
   "cell_type": "code",
   "execution_count": 159,
   "id": "f381f6da",
   "metadata": {},
   "outputs": [
    {
     "name": "stdout",
     "output_type": "stream",
     "text": [
      "2023-01-05    92600\n",
      "2023-01-06    92400\n",
      "2023-01-09    92100\n",
      "2023-01-10    94300\n",
      "2023-01-11    92300\n",
      "Freq: B, dtype: int64\n"
     ]
    }
   ],
   "source": [
    "kakao2 = pd.Series([92600, 92400, 92100, 94300, 92300], \n",
    "                   index = pd.date_range('20230105', freq = 'B', periods = 5))\n",
    "print(kakao2)"
   ]
  },
  {
   "cell_type": "code",
   "execution_count": 162,
   "id": "e4bede84",
   "metadata": {},
   "outputs": [
    {
     "data": {
      "text/plain": [
       "DatetimeIndex(['2023-01-05', '2023-01-06', '2023-01-09', '2023-01-10',\n",
       "               '2023-01-11'],\n",
       "              dtype='datetime64[ns]', freq='B')"
      ]
     },
     "execution_count": 162,
     "metadata": {},
     "output_type": "execute_result"
    }
   ],
   "source": [
    "kakao2.index"
   ]
  },
  {
   "cell_type": "code",
   "execution_count": 163,
   "id": "8e1044af",
   "metadata": {},
   "outputs": [
    {
     "data": {
      "text/plain": [
       "array([92600, 92400, 92100, 94300, 92300])"
      ]
     },
     "execution_count": 163,
     "metadata": {},
     "output_type": "execute_result"
    }
   ],
   "source": [
    "kakao2.values"
   ]
  },
  {
   "cell_type": "markdown",
   "id": "98939480",
   "metadata": {},
   "source": [
    "- Pandas의 Series 객체에는 **index**와 **값**이 저장되어 있는데 Series 객체의 **index**와 **values**라는 이름의 속성을 통해 접근할 수 있다\n",
    "- 예를 들어, kakao2 객체의 index값과 저장된 종가를 각각 출력하는 코드는 다음과 같이 구현할 수 있다"
   ]
  },
  {
   "cell_type": "code",
   "execution_count": 62,
   "id": "ce2116b6",
   "metadata": {},
   "outputs": [
    {
     "name": "stdout",
     "output_type": "stream",
     "text": [
      "2023-01-05 00:00:00\n",
      "2023-01-06 00:00:00\n",
      "2023-01-09 00:00:00\n",
      "2023-01-10 00:00:00\n",
      "2023-01-11 00:00:00\n",
      "92600\n",
      "92400\n",
      "92100\n",
      "94300\n",
      "92300\n"
     ]
    }
   ],
   "source": [
    "for date in kakao2.index : print(date)\n",
    "for ending_price in kakao2.values : print(ending_price)"
   ]
  },
  {
   "cell_type": "markdown",
   "id": "1b7761b1",
   "metadata": {},
   "source": [
    "### Series 객체의 덧셈 연산\n",
    "- indexing이 서로 다른 경우에도 알아서 indexing이 같은 값들끼리 덧셈 연산을 수행한다"
   ]
  },
  {
   "cell_type": "code",
   "execution_count": 164,
   "id": "d00a80a0",
   "metadata": {},
   "outputs": [
    {
     "data": {
      "text/plain": [
       "naver    10\n",
       "sk       20\n",
       "kt       30\n",
       "dtype: int64"
      ]
     },
     "execution_count": 164,
     "metadata": {},
     "output_type": "execute_result"
    }
   ],
   "source": [
    "pd.Series([10, 20, 30], index = ['naver', 'sk', 'kt'])"
   ]
  },
  {
   "cell_type": "code",
   "execution_count": 165,
   "id": "b0924aa5",
   "metadata": {},
   "outputs": [
    {
     "data": {
      "text/plain": [
       "kt       10\n",
       "naver    30\n",
       "sk       20\n",
       "dtype: int64"
      ]
     },
     "execution_count": 165,
     "metadata": {},
     "output_type": "execute_result"
    }
   ],
   "source": [
    "pd.Series([10, 30, 20], index = ['kt', 'naver', 'sk'])"
   ]
  },
  {
   "cell_type": "code",
   "execution_count": 63,
   "id": "3f563305",
   "metadata": {},
   "outputs": [
    {
     "name": "stdout",
     "output_type": "stream",
     "text": [
      "kt       40\n",
      "naver    40\n",
      "sk       40\n",
      "dtype: int64\n"
     ]
    }
   ],
   "source": [
    "mine = pd.Series([10, 20, 30], index = ['naver', 'sk', 'kt'])\n",
    "friend = pd.Series([10, 30, 20], index = ['kt', 'naver', 'sk'])\n",
    "merge = mine + friend\n",
    "print(merge)"
   ]
  },
  {
   "cell_type": "markdown",
   "id": "1dca9146",
   "metadata": {},
   "source": [
    "### Example 2.\n",
    "- pandas와 numpy의 관계를 확인해 보자"
   ]
  },
  {
   "cell_type": "code",
   "execution_count": 64,
   "id": "f738fcf8",
   "metadata": {},
   "outputs": [
    {
     "name": "stdout",
     "output_type": "stream",
     "text": [
      "0     3\n",
      "1     6\n",
      "2     9\n",
      "3    12\n",
      "dtype: int64\n",
      "<class 'pandas.core.series.Series'>\n",
      "4\n"
     ]
    }
   ],
   "source": [
    "obj = pd.Series([3,6,9,12])\n",
    "print(obj)\n",
    "print(type(obj)) # Series\n",
    "print(len(obj)) # data의 길이"
   ]
  },
  {
   "cell_type": "code",
   "execution_count": 65,
   "id": "3a960ff9",
   "metadata": {},
   "outputs": [
    {
     "data": {
      "text/plain": [
       "a     3\n",
       "b     6\n",
       "c     9\n",
       "d    12\n",
       "dtype: int64"
      ]
     },
     "execution_count": 65,
     "metadata": {},
     "output_type": "execute_result"
    }
   ],
   "source": [
    "obj = pd.Series([3,6,9,12], index = ['a','b','c','d']) # string 인덱스 가능\n",
    "obj"
   ]
  },
  {
   "cell_type": "code",
   "execution_count": 66,
   "id": "8d647568",
   "metadata": {},
   "outputs": [
    {
     "data": {
      "text/plain": [
       "김철수    5000\n",
       "김철호    7000\n",
       "한상민    4000\n",
       "문대용    4500\n",
       "dtype: int64"
      ]
     },
     "execution_count": 66,
     "metadata": {},
     "output_type": "execute_result"
    }
   ],
   "source": [
    "emp = {'김철수' : 5000, '김철호' : 7000, '한상민' : 4000, '문대용' : 4500} # dictionary 이용\n",
    "obj = pd.Series(emp)\n",
    "obj"
   ]
  },
  {
   "cell_type": "markdown",
   "id": "1521458a",
   "metadata": {},
   "source": [
    "### Series Method"
   ]
  },
  {
   "cell_type": "code",
   "execution_count": 67,
   "id": "b3866c84",
   "metadata": {},
   "outputs": [
    {
     "data": {
      "text/plain": [
       "30"
      ]
     },
     "execution_count": 67,
     "metadata": {},
     "output_type": "execute_result"
    }
   ],
   "source": [
    "my_se = pd.Series([10,20,30])\n",
    "my_se[2] # indexing"
   ]
  },
  {
   "cell_type": "code",
   "execution_count": 68,
   "id": "d1923c1c",
   "metadata": {},
   "outputs": [
    {
     "data": {
      "text/plain": [
       "Samsung    10\n",
       "Naver      20\n",
       "LG         30\n",
       "dtype: int64"
      ]
     },
     "execution_count": 68,
     "metadata": {},
     "output_type": "execute_result"
    }
   ],
   "source": [
    "my_se1 = pd.Series([10,20,30], index = ['Samsung','Naver','LG'])\n",
    "my_se1"
   ]
  },
  {
   "cell_type": "code",
   "execution_count": 69,
   "id": "365a7258",
   "metadata": {},
   "outputs": [
    {
     "data": {
      "text/plain": [
       "30"
      ]
     },
     "execution_count": 69,
     "metadata": {},
     "output_type": "execute_result"
    }
   ],
   "source": [
    "my_se1['LG'] # 문자열 인덱스는 문자열로 indexing을 해야 한다"
   ]
  },
  {
   "cell_type": "code",
   "execution_count": 70,
   "id": "b5aa3544",
   "metadata": {},
   "outputs": [
    {
     "data": {
      "text/plain": [
       "30"
      ]
     },
     "execution_count": 70,
     "metadata": {},
     "output_type": "execute_result"
    }
   ],
   "source": [
    "my_se1.iloc[2] # 정수로 인덱싱을 원하면 iloc method를 사용해야 한다"
   ]
  },
  {
   "cell_type": "code",
   "execution_count": 71,
   "id": "72b448da",
   "metadata": {},
   "outputs": [
    {
     "data": {
      "text/plain": [
       "Samsung    10\n",
       "Naver      20\n",
       "LG         30\n",
       "dtype: int64"
      ]
     },
     "execution_count": 71,
     "metadata": {},
     "output_type": "execute_result"
    }
   ],
   "source": [
    "my_se1.sort_values() # value값 기준으로 정렬, default는 오름차순"
   ]
  },
  {
   "cell_type": "code",
   "execution_count": 72,
   "id": "900bee02",
   "metadata": {},
   "outputs": [
    {
     "data": {
      "text/plain": [
       "LG         30\n",
       "Naver      20\n",
       "Samsung    10\n",
       "dtype: int64"
      ]
     },
     "execution_count": 72,
     "metadata": {},
     "output_type": "execute_result"
    }
   ],
   "source": [
    "my_se1.sort_index() # index값 기준으로 정렬, default는 사전순"
   ]
  },
  {
   "cell_type": "code",
   "execution_count": 73,
   "id": "b4a411c0",
   "metadata": {},
   "outputs": [
    {
     "data": {
      "text/plain": [
       "2    30\n",
       "1    20\n",
       "0    10\n",
       "dtype: int64"
      ]
     },
     "execution_count": 73,
     "metadata": {},
     "output_type": "execute_result"
    }
   ],
   "source": [
    "my_se.sort_values(ascending = False) # ascending argument를 통해 정렬 기준을 반대로 할 수 있다"
   ]
  },
  {
   "cell_type": "code",
   "execution_count": 74,
   "id": "29f7dc66",
   "metadata": {},
   "outputs": [
    {
     "data": {
      "text/plain": [
       "Samsung     NaN\n",
       "Naver      20.0\n",
       "LG         30.0\n",
       "dtype: float64"
      ]
     },
     "execution_count": 74,
     "metadata": {},
     "output_type": "execute_result"
    }
   ],
   "source": [
    "my_se1.where(my_se1 > 15) "
   ]
  },
  {
   "cell_type": "markdown",
   "id": "1387d1d3",
   "metadata": {},
   "source": [
    "NaN은 **Not a Number**이라는 뜻으로, float형 데이터지만 아무런 숫자 정보가 없는 데이터이다\n",
    "- dropna(   ) method를 통해 제거가 가능하다"
   ]
  },
  {
   "cell_type": "code",
   "execution_count": 75,
   "id": "42affa44",
   "metadata": {},
   "outputs": [
    {
     "data": {
      "text/plain": [
       "Naver    20.0\n",
       "LG       30.0\n",
       "dtype: float64"
      ]
     },
     "execution_count": 75,
     "metadata": {},
     "output_type": "execute_result"
    }
   ],
   "source": [
    "my_se1.where(my_se1 > 15).dropna() # NaN 제거 가능"
   ]
  },
  {
   "cell_type": "code",
   "execution_count": 76,
   "id": "3bfe13a5",
   "metadata": {},
   "outputs": [
    {
     "data": {
      "text/plain": [
       "Samsung    20\n",
       "Naver      20\n",
       "Kakao      30\n",
       "dtype: int64"
      ]
     },
     "execution_count": 76,
     "metadata": {},
     "output_type": "execute_result"
    }
   ],
   "source": [
    "buy_stock = pd.Series([20,20,30], index = ['Samsung','Naver','Kakao'])\n",
    "buy_stock"
   ]
  },
  {
   "cell_type": "code",
   "execution_count": 77,
   "id": "fe944349",
   "metadata": {},
   "outputs": [
    {
     "data": {
      "text/plain": [
       "Kakao       NaN\n",
       "LG          NaN\n",
       "Naver      40.0\n",
       "Samsung    30.0\n",
       "dtype: float64"
      ]
     },
     "execution_count": 77,
     "metadata": {},
     "output_type": "execute_result"
    }
   ],
   "source": [
    "my_se1 + buy_stock # 단순히 합치면 인덱스가 겹치지 않는 부분은 NaN값으로 채워진다"
   ]
  },
  {
   "cell_type": "code",
   "execution_count": 78,
   "id": "745a77fb",
   "metadata": {},
   "outputs": [
    {
     "data": {
      "text/plain": [
       "Kakao      30.0\n",
       "LG         30.0\n",
       "Naver      40.0\n",
       "Samsung    30.0\n",
       "dtype: float64"
      ]
     },
     "execution_count": 78,
     "metadata": {},
     "output_type": "execute_result"
    }
   ],
   "source": [
    "new_my_se1 = my_se1.add(buy_stock, fill_value = 0) \n",
    "# add method에서 fill_value를 0으로 지정하면 NaN값으로 바뀌지 않는다\n",
    "new_my_se1"
   ]
  },
  {
   "cell_type": "markdown",
   "id": "0c5610ed",
   "metadata": {},
   "source": [
    "- add는 이항연산이므로, operand가 NaN일 경우 대체될 value를 fill_value로 지정하면 NaN값이 되지 않는다\n",
    "- 연산에 NaN이 포함되면, float64로 바뀐다"
   ]
  },
  {
   "cell_type": "code",
   "execution_count": 79,
   "id": "85658419",
   "metadata": {},
   "outputs": [
    {
     "data": {
      "text/plain": [
       "Kakao      30\n",
       "LG         30\n",
       "Naver      40\n",
       "Samsung    30\n",
       "dtype: int64"
      ]
     },
     "execution_count": 79,
     "metadata": {},
     "output_type": "execute_result"
    }
   ],
   "source": [
    "new_my_se2 = new_my_se1.astype('int64')\n",
    "new_my_se2 # astype method를 통해 data type을 바꿀 수 있다"
   ]
  },
  {
   "cell_type": "code",
   "execution_count": 80,
   "id": "8d41c79d",
   "metadata": {},
   "outputs": [
    {
     "data": {
      "text/plain": [
       "Kakao       NaN\n",
       "LG          0.0\n",
       "Naver      10.0\n",
       "Samsung   -10.0\n",
       "dtype: float64"
      ]
     },
     "execution_count": 80,
     "metadata": {},
     "output_type": "execute_result"
    }
   ],
   "source": [
    "new_my_se2.diff() # diff method를 사용하면 앞, 뒤 value의 차이를 계산해 준다"
   ]
  },
  {
   "cell_type": "code",
   "execution_count": 81,
   "id": "4d66e3cc",
   "metadata": {},
   "outputs": [
    {
     "data": {
      "text/plain": [
       "Kakao       NaN\n",
       "LG         30.0\n",
       "Naver      30.0\n",
       "Samsung    40.0\n",
       "dtype: float64"
      ]
     },
     "execution_count": 81,
     "metadata": {},
     "output_type": "execute_result"
    }
   ],
   "source": [
    "new_my_se2.shift(1) # shift method는 인수로 입력된 수만큼 value를 뒤로 밀어준다"
   ]
  },
  {
   "cell_type": "markdown",
   "id": "00eb69bf",
   "metadata": {},
   "source": [
    "### Statistical Method\n",
    "- Numpy와 Pandas에서는 기본적인 통계 method를 제공한다"
   ]
  },
  {
   "cell_type": "markdown",
   "id": "4cf5675c",
   "metadata": {},
   "source": [
    "### Example 3.\n",
    "- pandas datareader를 이용해 통계 관련 method를 직접 사용해 보자"
   ]
  },
  {
   "cell_type": "code",
   "execution_count": 167,
   "id": "492659f9",
   "metadata": {},
   "outputs": [],
   "source": [
    "#pip install pandas_datareader\n",
    "import datetime\n",
    "import pandas_datareader as wb\n",
    "\n",
    "start = datetime.datetime(2022, 2, 1)\n",
    "end = datetime.datetime(2023, 2, 18)\n",
    "df_null = wb.DataReader(\"KOSPI\", \"naver\", start, end)\n",
    "series = df_null['Close'].dropna().astype('float')"
   ]
  },
  {
   "cell_type": "code",
   "execution_count": 168,
   "id": "ea0c1b97",
   "metadata": {},
   "outputs": [
    {
     "data": {
      "text/plain": [
       "Date\n",
       "2022-02-03    2707.82\n",
       "2022-02-04    2750.26\n",
       "2022-02-07    2745.06\n",
       "2022-02-08    2746.47\n",
       "2022-02-09    2768.85\n",
       "               ...   \n",
       "2023-02-13    2452.70\n",
       "2023-02-14    2465.64\n",
       "2023-02-15    2427.90\n",
       "2023-02-16    2475.48\n",
       "2023-02-17    2451.21\n",
       "Name: Close, Length: 259, dtype: float64"
      ]
     },
     "execution_count": 168,
     "metadata": {},
     "output_type": "execute_result"
    }
   ],
   "source": [
    "series"
   ]
  },
  {
   "cell_type": "code",
   "execution_count": 169,
   "id": "81dc745a",
   "metadata": {},
   "outputs": [],
   "source": [
    "numpy = series.values"
   ]
  },
  {
   "cell_type": "code",
   "execution_count": 85,
   "id": "9a9d798a",
   "metadata": {},
   "outputs": [
    {
     "data": {
      "text/plain": [
       "array([2707.82, 2750.26, 2745.06, 2746.47, 2768.85])"
      ]
     },
     "execution_count": 85,
     "metadata": {},
     "output_type": "execute_result"
    }
   ],
   "source": [
    "numpy[:5]"
   ]
  },
  {
   "cell_type": "code",
   "execution_count": 170,
   "id": "46996805",
   "metadata": {},
   "outputs": [
    {
     "data": {
      "text/plain": [
       "2480.3379922779923"
      ]
     },
     "execution_count": 170,
     "metadata": {},
     "output_type": "execute_result"
    }
   ],
   "source": [
    "numpy.mean() # mean"
   ]
  },
  {
   "cell_type": "code",
   "execution_count": 171,
   "id": "178d657a",
   "metadata": {},
   "outputs": [
    {
     "data": {
      "text/plain": [
       "26966.697910254767"
      ]
     },
     "execution_count": 171,
     "metadata": {},
     "output_type": "execute_result"
    }
   ],
   "source": [
    "numpy.var() # variance"
   ]
  },
  {
   "cell_type": "code",
   "execution_count": 172,
   "id": "ad2950be",
   "metadata": {},
   "outputs": [
    {
     "data": {
      "text/plain": [
       "164.21540095330514"
      ]
     },
     "execution_count": 172,
     "metadata": {},
     "output_type": "execute_result"
    }
   ],
   "source": [
    "numpy.std() # standard deviation"
   ]
  },
  {
   "cell_type": "code",
   "execution_count": 173,
   "id": "8a5ad127",
   "metadata": {},
   "outputs": [
    {
     "data": {
      "text/plain": [
       "2480.337992277992"
      ]
     },
     "execution_count": 173,
     "metadata": {},
     "output_type": "execute_result"
    }
   ],
   "source": [
    "series.mean() # series도 문법은 똑같다"
   ]
  },
  {
   "cell_type": "code",
   "execution_count": 174,
   "id": "e173f959",
   "metadata": {},
   "outputs": [
    {
     "data": {
      "text/plain": [
       "0.1693405209880775"
      ]
     },
     "execution_count": 174,
     "metadata": {},
     "output_type": "execute_result"
    }
   ],
   "source": [
    "series.skew() # skewness"
   ]
  },
  {
   "cell_type": "code",
   "execution_count": 175,
   "id": "d282977e",
   "metadata": {},
   "outputs": [
    {
     "data": {
      "text/plain": [
       "-1.0690420791096618"
      ]
     },
     "execution_count": 175,
     "metadata": {},
     "output_type": "execute_result"
    }
   ],
   "source": [
    "series.kurt() # kurtosis"
   ]
  },
  {
   "cell_type": "code",
   "execution_count": 176,
   "id": "af5f3415",
   "metadata": {},
   "outputs": [
    {
     "name": "stdout",
     "output_type": "stream",
     "text": [
      "<class 'pandas.core.series.Series'>\n",
      "DatetimeIndex: 259 entries, 2022-02-03 to 2023-02-17\n",
      "Series name: Close\n",
      "Non-Null Count  Dtype  \n",
      "--------------  -----  \n",
      "259 non-null    float64\n",
      "dtypes: float64(1)\n",
      "memory usage: 4.0 KB\n"
     ]
    }
   ],
   "source": [
    "series.info()"
   ]
  },
  {
   "cell_type": "code",
   "execution_count": 177,
   "id": "ddc76490",
   "metadata": {},
   "outputs": [
    {
     "data": {
      "text/plain": [
       "2449.54"
      ]
     },
     "execution_count": 177,
     "metadata": {},
     "output_type": "execute_result"
    }
   ],
   "source": [
    "np.median(numpy) # median은 함수로 확인 가능하다"
   ]
  },
  {
   "cell_type": "code",
   "execution_count": 178,
   "id": "e51d2bf6",
   "metadata": {},
   "outputs": [
    {
     "data": {
      "text/plain": [
       "2771.93"
      ]
     },
     "execution_count": 178,
     "metadata": {},
     "output_type": "execute_result"
    }
   ],
   "source": [
    "np.max(numpy) # maximum"
   ]
  },
  {
   "cell_type": "code",
   "execution_count": 179,
   "id": "b3433418",
   "metadata": {},
   "outputs": [
    {
     "data": {
      "text/plain": [
       "2155.49"
      ]
     },
     "execution_count": 179,
     "metadata": {},
     "output_type": "execute_result"
    }
   ],
   "source": [
    "np.min(numpy) # minimum"
   ]
  },
  {
   "cell_type": "code",
   "execution_count": 180,
   "id": "ca96de3d",
   "metadata": {},
   "outputs": [
    {
     "data": {
      "text/plain": [
       "2771.93"
      ]
     },
     "execution_count": 180,
     "metadata": {},
     "output_type": "execute_result"
    }
   ],
   "source": [
    "numpy.max()"
   ]
  },
  {
   "cell_type": "code",
   "execution_count": 96,
   "id": "0a5e2e47",
   "metadata": {},
   "outputs": [
    {
     "data": {
      "text/plain": [
       "2155.49"
      ]
     },
     "execution_count": 96,
     "metadata": {},
     "output_type": "execute_result"
    }
   ],
   "source": [
    "numpy.min() # method도 가능"
   ]
  },
  {
   "cell_type": "code",
   "execution_count": 97,
   "id": "e56b0302",
   "metadata": {},
   "outputs": [
    {
     "data": {
      "text/plain": [
       "642407.54"
      ]
     },
     "execution_count": 97,
     "metadata": {},
     "output_type": "execute_result"
    }
   ],
   "source": [
    "numpy.sum() # sum"
   ]
  },
  {
   "cell_type": "code",
   "execution_count": 98,
   "id": "b0e974d4",
   "metadata": {},
   "outputs": [
    {
     "data": {
      "text/plain": [
       "array([  2707.82,   5458.08,   8203.14,  10949.61,  13718.46,  16490.39,\n",
       "        19238.1 ,  21942.58,  24619.12,  27348.8 ,  30092.89,  32837.41,\n",
       "        35581.21,  38288.  ,  41007.53,  43656.33,  46333.09,  49032.27,\n",
       "        51735.79,  54482.87,  57196.3 ,  59847.61,  62470.01,  65150.33,\n",
       "        67811.61,  70457.26,  73078.79,  75738.02,  78432.53,  81139.55,\n",
       "        83825.6 ,  86535.6 ,  89270.65,  92000.31,  94730.29,  97459.85,\n",
       "       100200.92, 102947.66, 105705.31, 108445.16, 111203.06, 113962.26,\n",
       "       116697.29, 119393.15, 122093.54, 124786.64, 127453.4 , 130169.89,\n",
       "       132886.6 , 135582.66, 138275.87, 140994.76, 143713.45, 146441.66,\n",
       "       149146.37, 151803.5 , 154471.81, 157110.87, 159778.36, 162473.41,\n",
       "       165160.86, 167841.32, 170518.89, 173163.4 , 175774.21, 178370.77,\n",
       "       180963.04, 183513.12, 186117.36, 188713.94, 191334.38, 193960.36,\n",
       "       196552.7 , 199191.99, 201839.37, 204445.24, 207062.46, 209674.91,\n",
       "       212312.96, 214982.62, 217668.52, 220327.51, 222998.16, 225624.5 ,\n",
       "       228250.65, 230876.09, 233471.96, 235976.47, 238469.44, 240916.82,\n",
       "       243368.23, 245809.16, 248200.19, 250609.12, 252951.93, 255266.25,\n",
       "       257632.85, 260034.77, 262456.86, 264834.85, 267167.49, 269472.91,\n",
       "       271773.25, 274115.03, 276407.04, 278741.31, 281091.92, 283432.19,\n",
       "       285749.95, 288078.56, 290400.88, 292731.86, 295107.11, 297478.08,\n",
       "       299864.93, 302274.09, 304667.23, 307070.92, 309483.88, 311899.41,\n",
       "       314334.68, 316786.18, 319238.43, 321678.05, 324139.5 , 326612.61,\n",
       "       329103.41, 331596.51, 334099.97, 336580.85, 339104.63, 341632.57,\n",
       "       344166.09, 346682.56, 349190.61, 351683.3 , 354145.8 , 356581.14,\n",
       "       359028.59, 361505.85, 363986.88, 366413.77, 368864.7 , 371336.75,\n",
       "       373752.36, 376161.77, 378565.45, 380975.47, 383351.93, 385736.21,\n",
       "       388185.75, 390597.17, 392999.  , 395381.78, 397737.44, 400105.29,\n",
       "       402452.5 , 404784.81, 407074.81, 409295.75, 411519.61, 413688.9 ,\n",
       "       415859.83, 418015.32, 420224.7 , 422439.92, 424677.78, 426910.62,\n",
       "       429102.69, 431305.16, 433468.03, 435680.58, 437900.29, 440150.24,\n",
       "       442387.68, 444605.77, 446818.89, 449055.05, 451290.12, 453539.68,\n",
       "       455828.46, 458096.86, 460390.47, 462725.69, 465062.56, 467391.73,\n",
       "       469740.16, 472111.95, 474510.99, 476935.4 , 479337.63, 481820.79,\n",
       "       484295.44, 486775.77, 489253.22, 491696.12, 494140.6 , 496560.1 ,\n",
       "       498965.37, 501383.38, 503824.71, 506262.57, 508670.84, 511104.23,\n",
       "       513576.76, 516056.6 , 518490.93, 520910.25, 523303.41, 525686.22,\n",
       "       528057.3 , 530446.34, 532819.36, 535191.76, 537591.01, 539951.98,\n",
       "       542312.  , 544664.17, 546997.46, 549326.41, 551683.14, 553996.83,\n",
       "       556313.97, 558646.76, 560927.21, 563163.61, 565389.28, 567607.96,\n",
       "       569863.94, 572128.59, 574418.56, 576768.75, 579120.06, 581479.59,\n",
       "       583844.69, 586230.78, 588630.64, 591010.03, 593378.35, 595758.69,\n",
       "       598153.95, 600582.52, 603051.17, 605535.19, 607985.66, 610410.74,\n",
       "       612860.54, 615329.42, 617809.82, 620248.01, 622699.72, 625183.36,\n",
       "       627664.88, 630134.61, 632587.31, 635052.95, 637480.85, 639956.33,\n",
       "       642407.54])"
      ]
     },
     "execution_count": 98,
     "metadata": {},
     "output_type": "execute_result"
    }
   ],
   "source": [
    "numpy.cumsum() # cumulated sum"
   ]
  }
 ],
 "metadata": {
  "kernelspec": {
   "display_name": "Python 3 (ipykernel)",
   "language": "python",
   "name": "python3"
  },
  "language_info": {
   "codemirror_mode": {
    "name": "ipython",
    "version": 3
   },
   "file_extension": ".py",
   "mimetype": "text/x-python",
   "name": "python",
   "nbconvert_exporter": "python",
   "pygments_lexer": "ipython3",
   "version": "3.9.13"
  },
  "toc": {
   "base_numbering": 1,
   "nav_menu": {},
   "number_sections": true,
   "sideBar": true,
   "skip_h1_title": false,
   "title_cell": "Table of Contents",
   "title_sidebar": "Contents",
   "toc_cell": false,
   "toc_position": {},
   "toc_section_display": true,
   "toc_window_display": false
  }
 },
 "nbformat": 4,
 "nbformat_minor": 5
}
