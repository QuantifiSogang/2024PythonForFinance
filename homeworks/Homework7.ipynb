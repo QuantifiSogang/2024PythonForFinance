{
 "cells": [
  {
   "cell_type": "markdown",
   "source": [
    "### Finance Libraries"
   ],
   "metadata": {
    "collapsed": false
   },
   "id": "a9fb0fa420986958"
  },
  {
   "cell_type": "markdown",
   "source": [
    "#### Assignment 1.\n",
    "\n",
    "yfinance로부터 SOXL의 가격 데이터를 불러와 매매 전략을 만들려고 합니다. 단, 데이터는 2020년부터 2024년 2월 29일까지로 합니다."
   ],
   "metadata": {
    "collapsed": false
   },
   "id": "dcb03127549ae105"
  },
  {
   "cell_type": "code",
   "outputs": [
    {
     "name": "stdout",
     "output_type": "stream",
     "text": [
      "[*********************100%%**********************]  1 of 1 completed\n"
     ]
    }
   ],
   "source": [
    "import yfinance as yf\n",
    "import warnings\n",
    "import numpy as np\n",
    "import pandas as pd\n",
    "\n",
    "warnings.filterwarnings('ignore')\n",
    "\n",
    "start_date = '2020-01-01'\n",
    "end_date = '2024-03-01'\n",
    "\n",
    "soxl = yf.download('SOXL', start_date, end_date)"
   ],
   "metadata": {
    "collapsed": false,
    "ExecuteTime": {
     "end_time": "2024-03-02T08:34:58.159021Z",
     "start_time": "2024-03-02T08:34:57.131860Z"
    }
   },
   "id": "534c83bfde09a5cb",
   "execution_count": 1
  },
  {
   "cell_type": "markdown",
   "source": [
    "**Assignment 1-1**\n",
    "\n",
    "SOXL의 5일 이동평균선과 21일 이동평균선을 생성합니다. 짧은 기간의 이동평균선이 긴 기간의 이동평균선을 상향 돌파할 때 매수, 하향 돌파할 때 매도로 간주합니다. label은 1은 매수, -1은 매도로 합니다. 매수 신호가 나올 때에만 투자한다고 가정할 때, 전략의 성과를 평가하세요.\n",
    "\n",
    "(단, 종가를 이용한다면 실제로 의사결정을 다음날 시행하므로 label은 하루씩 뒤로 밀어서 써야 합니다.)"
   ],
   "metadata": {
    "collapsed": false
   },
   "id": "8cbe5c811c103207"
  },
  {
   "cell_type": "code",
   "outputs": [],
   "source": [],
   "metadata": {
    "collapsed": false
   },
   "id": "802dc24436afc186"
  },
  {
   "cell_type": "markdown",
   "source": [
    "**Assignment 1-2**\n",
    "\n",
    "포지션이 매도인 경우 SOXL에 매도 포지션을 취하고 매수인 경우 SOXL에 매수 포지션을 취하는 전략을 구상하세요. 매도 포지션은 단순화를 위해 기존 수익률에 -1을 곱하는 것으로 가정합니다."
   ],
   "metadata": {
    "collapsed": false
   },
   "id": "88da65b81b389ae3"
  },
  {
   "cell_type": "code",
   "outputs": [],
   "source": [],
   "metadata": {
    "collapsed": false
   },
   "id": "1de1ee9565444ff9"
  },
  {
   "cell_type": "markdown",
   "source": [
    "**Assignment 1-3**\n",
    "\n",
    "quantstats 라이브러리를 이용해 전략의 성과를 평가하세요. 위 전략은 성공적인가요? 기간별로 나눈다면, 시기마다 전략은 달라져야 할까요?"
   ],
   "metadata": {
    "collapsed": false
   },
   "id": "e6865008b8dbc43d"
  },
  {
   "cell_type": "code",
   "outputs": [],
   "source": [],
   "metadata": {
    "collapsed": false,
    "ExecuteTime": {
     "end_time": "2024-03-02T08:34:58.615021Z",
     "start_time": "2024-03-02T08:34:58.613292Z"
    }
   },
   "id": "34b12984cf10f03f",
   "execution_count": 10
  },
  {
   "cell_type": "markdown",
   "source": [
    "#### Assignment 2\n",
    "\n",
    "투자자 A와 투자자 B는 2022년 시작 전에 다음과 같은 견해를 가졌습니다.\n",
    "\n",
    "- 투자자 A : COVID-19가 곧 종식될것 같으니, 소비심리가 회복되어 증권가격이 상승할 것 같아. 위험자산의 비중을 70%, 채권을 30%로 가져가야겠어.\n",
    "- 투자자 B : COVID-19가 곧 종식될것 같으니, 긴축재정의 영향으로 증권가격이 하락할 것 같아. 위험자산의 비중을 30%, 채권을 70%로 가져가야겠어.\n",
    "\n",
    "**Assignment 2.1**\n",
    "\n",
    "투자기간이 2022년부터 2023년 12월까지라고 가정할 때, 두 투자자의 배분 전략의 성과를 평가하세요. 단, 문제의 단순화를 위해 위험자산은 S&P500 인덱스로 가정하고, 채권은 미국채 5년 수익률을 사용합니다.\n",
    "\n",
    "tickers = ['AAPL','^FVX']"
   ],
   "metadata": {
    "collapsed": false
   },
   "id": "e75a1eb7b88a633a"
  },
  {
   "cell_type": "code",
   "outputs": [],
   "source": [],
   "metadata": {
    "collapsed": false
   },
   "id": "908e6cc8b919d84"
  },
  {
   "cell_type": "markdown",
   "source": [
    "**Assignment 2.2** \n",
    "\n",
    "quantstats를 통해 두 포트폴리오의 성과를 비교하세요. 배분전략에서 거시경제적 환경을 바라보는 투자자의 관점은 중요할까요?"
   ],
   "metadata": {
    "collapsed": false
   },
   "id": "64a68293e96ee8e4"
  },
  {
   "cell_type": "code",
   "outputs": [],
   "source": [],
   "metadata": {
    "collapsed": false
   },
   "id": "f0dff2f4f2f3b201"
  }
 ],
 "metadata": {
  "kernelspec": {
   "display_name": "Python 3",
   "language": "python",
   "name": "python3"
  },
  "language_info": {
   "codemirror_mode": {
    "name": "ipython",
    "version": 2
   },
   "file_extension": ".py",
   "mimetype": "text/x-python",
   "name": "python",
   "nbconvert_exporter": "python",
   "pygments_lexer": "ipython2",
   "version": "2.7.6"
  }
 },
 "nbformat": 4,
 "nbformat_minor": 5
}
