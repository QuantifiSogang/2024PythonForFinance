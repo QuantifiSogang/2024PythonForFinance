{
 "cells": [
  {
   "cell_type": "markdown",
   "source": [
    "### Function and Class"
   ],
   "metadata": {
    "collapsed": false
   },
   "id": "c05af6addcc7fb0b"
  },
  {
   "cell_type": "markdown",
   "source": [
    "#### Assignment 1.\n",
    "**Gordon의 기업 성장 모형**과 **자본자산가치결정모형(CAPM)** 에 따르면 투자자가 기업에 요구하는 요구 수익률은 다음과 같이 정의됩니다.\n",
    "\n",
    "$$k = r_f + \\beta(E(r_m) - r_f)$$\n",
    "\n",
    "여기서 $k$는 요구수익률, $r_f$는 무위험이자율, $r_m$는 기업 주식의 수익률, $\\beta$는 기업의 시장 프리미엄을 의미합니다\n",
    "\n",
    "- 위 산식을 함수로 작성하세요"
   ],
   "metadata": {
    "collapsed": false
   },
   "id": "db4856055dfb06e1"
  },
  {
   "cell_type": "code",
   "execution_count": 1,
   "id": "initial_id",
   "metadata": {
    "collapsed": true,
    "ExecuteTime": {
     "end_time": "2024-02-21T09:58:55.927124Z",
     "start_time": "2024-02-21T09:58:55.920352Z"
    }
   },
   "outputs": [],
   "source": [
    "def required_rate(beta, return_security, risk_free) :\n",
    "    require_rate = risk_free + (beta * (return_security - risk_free))\n",
    "    return require_rate"
   ]
  },
  {
   "cell_type": "markdown",
   "source": [
    "**Assignment 1-1.**\n",
    "\n",
    "- 한국 무위험지표금리(https://www.kofr.kr/main.jsp)에 따르면, 2024년 2월 12일 현재 한국의 30일 평균 무위험이자율은 3.616%입니다. 어느 기업 A의 30일 평균 주식 수익률이 7.4%였다고 할 때, 투자자가 이 기업 A에 기대하는 요구수익률은 얼마입니까?(베타는 1.2로 가정합니다)"
   ],
   "metadata": {
    "collapsed": false
   },
   "id": "f575d6a1012dee51"
  },
  {
   "cell_type": "code",
   "outputs": [
    {
     "name": "stdout",
     "output_type": "stream",
     "text": [
      "required return rate of A :  0.0816\n"
     ]
    }
   ],
   "source": [
    "beta = 1.2\n",
    "r_m = 0.074\n",
    "r_f = 0.03616\n",
    "\n",
    "print(f\"required return rate of A : {required_rate(beta, r_m, r_f) : .4f}\")"
   ],
   "metadata": {
    "collapsed": false,
    "ExecuteTime": {
     "end_time": "2024-02-21T10:00:35.669204Z",
     "start_time": "2024-02-21T10:00:35.662388Z"
    }
   },
   "id": "616d34b955e311e",
   "execution_count": 5
  },
  {
   "cell_type": "markdown",
   "source": [
    "**Assignment 1-2.**\n",
    "\n",
    "- 위 기업의 경우에서 무위험이자율을 2.5%라고 가정할 때의 요구수익률을 계산하세요"
   ],
   "metadata": {
    "collapsed": false
   },
   "id": "f2575d1826f1bbe0"
  },
  {
   "cell_type": "code",
   "outputs": [
    {
     "name": "stdout",
     "output_type": "stream",
     "text": [
      "required return rate of A :  0.0838\n"
     ]
    }
   ],
   "source": [
    "r_f = 0.025\n",
    "\n",
    "print(f\"required return rate of A : {required_rate(beta, r_m, r_f) : .4f}\")"
   ],
   "metadata": {
    "collapsed": false,
    "ExecuteTime": {
     "end_time": "2024-02-21T10:00:40.431515Z",
     "start_time": "2024-02-21T10:00:40.423698Z"
    }
   },
   "id": "8c1f3c38fca8e30e",
   "execution_count": 6
  },
  {
   "cell_type": "markdown",
   "source": [
    "#### Assignment 2. \n",
    "\n",
    "Gordon의 주식 가치 결정 모델에서 적정 주가는 다음과 같이 정의됩니다\n",
    "\n",
    "$$P = \\frac{D(1+g)}{k-g}$$\n",
    "\n",
    "여기서 $k$는 요구수익률, $D$는 배당금, $g$는 배당 증가율, $P$는 기업의 적정 주가를 의미합니다\n",
    "\n",
    "- 위 산식을 함수로 작성하세요"
   ],
   "metadata": {
    "collapsed": false
   },
   "id": "5b4153893f69bd1b"
  },
  {
   "cell_type": "code",
   "outputs": [],
   "source": [
    "def fair_stock_price(required, dividend, dividend_growth_rate) :\n",
    "    price = (dividend * (1 + dividend_growth_rate)) / (required - dividend_growth_rate)\n",
    "    return price"
   ],
   "metadata": {
    "collapsed": false,
    "ExecuteTime": {
     "end_time": "2024-02-21T10:06:28.029277Z",
     "start_time": "2024-02-21T10:06:28.020249Z"
    }
   },
   "id": "66303aaf590bcdb5",
   "execution_count": 7
  },
  {
   "cell_type": "markdown",
   "source": [
    "- 과제 1번의 요구수익률을 가정하고, 기존의 기업 배당금은 1주당 1천원, 배당 증가율이 3%라면 이 기업의 적정 주가는 얼마입니까?"
   ],
   "metadata": {
    "collapsed": false
   },
   "id": "c074db538454e6b3"
  },
  {
   "cell_type": "code",
   "outputs": [],
   "source": [
    "beta = 1.2\n",
    "r_m = 0.074\n",
    "r_f = 0.03616\n",
    "\n",
    "required = required_rate(beta, r_m, r_f)"
   ],
   "metadata": {
    "collapsed": false,
    "ExecuteTime": {
     "end_time": "2024-02-21T10:07:06.902779Z",
     "start_time": "2024-02-21T10:07:06.896830Z"
    }
   },
   "id": "79e6996eb418306a",
   "execution_count": 9
  },
  {
   "cell_type": "code",
   "outputs": [
    {
     "name": "stdout",
     "output_type": "stream",
     "text": [
      "Fair Price of stock is 19973.63won.\n"
     ]
    }
   ],
   "source": [
    "D = 1000\n",
    "g = 0.03\n",
    "\n",
    "print(f'Fair Price of stock is{fair_stock_price(required, D, g) : .2f}won.')"
   ],
   "metadata": {
    "collapsed": false,
    "ExecuteTime": {
     "end_time": "2024-02-21T10:08:41.828031Z",
     "start_time": "2024-02-21T10:08:41.820760Z"
    }
   },
   "id": "9e464652a24d7b34",
   "execution_count": 14
  },
  {
   "cell_type": "markdown",
   "source": [
    "#### Assignment 3.\n",
    "\n",
    "주어진 원금(principal), 연이율(annual_rate), 기간(time_in_years)을 입력 받아 단리와 복리로 계산된 미래 가치를 반환하는 함수를 작성하세요. 단리 공식과 복리 공식은 다음과 같습니다.\n",
    "\n",
    "$$\\mathrm{Future~Value} = \\mathrm{PV} \\times (1 + rt)$$\n",
    "$$\\mathrm{Future~Value} = \\mathrm{PV} \\times (1 + r)^t$$\n",
    "\n",
    "여기서 $\\mathrm{PV}$는 현재 가치, $r$은 연이율, $t$는 기간을 의미합니다"
   ],
   "metadata": {
    "collapsed": false
   },
   "id": "19c943b4715b824a"
  },
  {
   "cell_type": "code",
   "outputs": [],
   "source": [
    "def future_value(present_value, yield_rate, periods, method = 'simple') :\n",
    "    if method == 'simple' : future = present_value * (1 + (yield_rate * periods))\n",
    "    elif method == 'compound' : future = present_value * (1 + yield_rate) ** periods\n",
    "    else : print('Error!'); return 0;\n",
    "    return future"
   ],
   "metadata": {
    "collapsed": false,
    "ExecuteTime": {
     "end_time": "2024-02-21T10:11:29.178094Z",
     "start_time": "2024-02-21T10:11:29.174267Z"
    }
   },
   "id": "ff25f30e8b78cbb7",
   "execution_count": 15
  },
  {
   "cell_type": "markdown",
   "source": [
    "- 원금이 1000만원, 연이율이 5%, 기간이 10년일 때 단리와 복리로 계산된 미래 가치를 계산하세요"
   ],
   "metadata": {
    "collapsed": false
   },
   "id": "c45039c77ae789c1"
  },
  {
   "cell_type": "code",
   "outputs": [
    {
     "name": "stdout",
     "output_type": "stream",
     "text": [
      "The future value is  15000000 when the present value is 10000000\n"
     ]
    }
   ],
   "source": [
    "print(f'The future value is {future_value(10000000, 0.05, 10) : .0f} when the present value is {10000000}')"
   ],
   "metadata": {
    "collapsed": false,
    "ExecuteTime": {
     "end_time": "2024-02-21T10:12:42.167331Z",
     "start_time": "2024-02-21T10:12:42.159602Z"
    }
   },
   "id": "98521eee0bbb7db3",
   "execution_count": 18
  },
  {
   "cell_type": "markdown",
   "source": [
    "- 원금이 1000만원, 연이율이 3.6%, 기간이 7년일 때 단리와 복리로 계산된 미래 가치를 계산하세요"
   ],
   "metadata": {
    "collapsed": false
   },
   "id": "98619ea9f053cca0"
  },
  {
   "cell_type": "code",
   "outputs": [
    {
     "name": "stdout",
     "output_type": "stream",
     "text": [
      "The future value is  12809090 when the present value is 10000000\n"
     ]
    }
   ],
   "source": [
    "print(f'The future value is {future_value(10000000, 0.036, 7, method = \"compound\") : .0f} when the present value is {10000000}')"
   ],
   "metadata": {
    "collapsed": false,
    "ExecuteTime": {
     "end_time": "2024-02-21T10:13:34.729949Z",
     "start_time": "2024-02-21T10:13:34.722597Z"
    }
   },
   "id": "bae8d0c7e8dad217",
   "execution_count": 20
  },
  {
   "cell_type": "markdown",
   "source": [
    "#### Assignment 4.\n",
    "\n",
    "주식을 여러 차례에 걸쳐 매입했을 때의 평균 매입 가격을 계산하는 함수를 작성하세요. 매입 가격(prices)과 매입 수량(quantities)이 리스트로 주어진다고 가정합니다. 함수는 총 매입 비용을 총 매입 수량으로 나눈 평균 매입 가격을 반환해야 합니다.\n",
    "\n",
    "예를 들어, 주식을 3번에 걸쳐 각각 1000원, 2000원, 3000원에 100주씩 매입했다면, 평균 매입 가격은 다음과 같이 계산됩니다.\n",
    "\n",
    "$$\\frac{1000 \\times 100 + 2000 \\times 100 + 3000 \\times 100}{100 + 100 + 100} = \\frac{100000 + 200000 + 300000}{300} = \\frac{600000}{300} = 2000$$\n",
    "\n",
    "따라서 평균 매입 가격은 2000원입니다.\n",
    "\n",
    "- 위 산식을 함수로 작성하세요"
   ],
   "metadata": {
    "collapsed": false
   },
   "id": "a48f6f12656903d9"
  },
  {
   "cell_type": "code",
   "outputs": [],
   "source": [
    "def calculate_average_purchase_price(prices, quantities):\n",
    "    total_cost = sum(price * quantity for price, quantity in zip(prices, quantities))\n",
    "    total_quantity = sum(quantities)\n",
    "    average_purchase_price = total_cost / total_quantity\n",
    "    return average_purchase_price"
   ],
   "metadata": {
    "collapsed": false,
    "ExecuteTime": {
     "end_time": "2024-02-21T10:16:21.773650Z",
     "start_time": "2024-02-21T10:16:21.765122Z"
    }
   },
   "id": "586847b11eff891f",
   "execution_count": 21
  },
  {
   "cell_type": "code",
   "outputs": [
    {
     "name": "stdout",
     "output_type": "stream",
     "text": [
      "The average price is 2000.0\n"
     ]
    }
   ],
   "source": [
    "prices = [1000, 2000, 3000]\n",
    "quantities = [100, 100, 100]\n",
    "\n",
    "average_purchase_price = calculate_average_purchase_price(prices, quantities)\n",
    "print(f'The average price is {average_purchase_price}')"
   ],
   "metadata": {
    "collapsed": false,
    "ExecuteTime": {
     "end_time": "2024-02-21T10:16:55.766888Z",
     "start_time": "2024-02-21T10:16:55.759759Z"
    }
   },
   "id": "73da448f4acfc072",
   "execution_count": 23
  },
  {
   "cell_type": "markdown",
   "source": [
    "- 주식을 3번에 걸쳐 각각 1500원, 1900원, 3100원에 100주씩 매입했을 때의 평균 매입 가격을 계산하세요"
   ],
   "metadata": {
    "collapsed": false
   },
   "id": "370c7cbd286555ec"
  },
  {
   "cell_type": "code",
   "outputs": [
    {
     "name": "stdout",
     "output_type": "stream",
     "text": [
      "The average price is  2166.67\n"
     ]
    }
   ],
   "source": [
    "prices = [1500, 1900, 3100]\n",
    "quantities = [100, 100, 100]\n",
    "\n",
    "average_purchase_price = calculate_average_purchase_price(prices, quantities)\n",
    "print(f'The average price is {average_purchase_price : .2f}')"
   ],
   "metadata": {
    "collapsed": false,
    "ExecuteTime": {
     "end_time": "2024-02-21T10:17:22.930617Z",
     "start_time": "2024-02-21T10:17:22.924213Z"
    }
   },
   "id": "671f946d5e7163b6",
   "execution_count": 26
  },
  {
   "cell_type": "markdown",
   "source": [
    "#### Assignment 5.\n",
    "\n",
    "주식의 일일 종가 리스트를 입력 받아, 주어진 기간 동안 가능한 최대 손실(최대 낙폭)을 계산하는 함수`calculate_max_drawdown()`를 작성하세요. 최대 손실은 최고점에서 최저점까지의 가장 큰 가격 하락을 의미합니다."
   ],
   "metadata": {
    "collapsed": false
   },
   "id": "dccc1cad10be2705"
  },
  {
   "cell_type": "code",
   "outputs": [],
   "source": [
    "def calculate_max_drawdown(prices):\n",
    "    max_drawdown = 0\n",
    "    peak = prices[0]\n",
    "    for price in prices:\n",
    "        if price > peak:\n",
    "            peak = price\n",
    "        drawdown = peak - price\n",
    "        if drawdown > max_drawdown:\n",
    "            max_drawdown = drawdown\n",
    "    return max_drawdown"
   ],
   "metadata": {
    "collapsed": false,
    "ExecuteTime": {
     "end_time": "2024-02-21T10:18:23.755666Z",
     "start_time": "2024-02-21T10:18:23.745773Z"
    }
   },
   "id": "f827884d3e2c785",
   "execution_count": 27
  },
  {
   "cell_type": "markdown",
   "source": [
    "- 주식의 일일 종가가 다음과 같을 때, 최초 투자일부터 마지막날까지의 최대 손실을 계산하세요\n",
    "    - [7, 6, 5, 4, 3, 2, 1, 2]"
   ],
   "metadata": {
    "collapsed": false
   },
   "id": "edf633a086d266ed"
  },
  {
   "cell_type": "code",
   "outputs": [],
   "source": [
    "prices = [7,6,5,4,3,2,1,2]\n",
    "mdd = calculate_max_drawdown(prices)"
   ],
   "metadata": {
    "collapsed": false,
    "ExecuteTime": {
     "end_time": "2024-02-21T10:18:58.815136Z",
     "start_time": "2024-02-21T10:18:58.807377Z"
    }
   },
   "id": "bfb57f7eec3f5a39",
   "execution_count": 28
  },
  {
   "cell_type": "code",
   "outputs": [
    {
     "name": "stdout",
     "output_type": "stream",
     "text": [
      "Max drawdown is 6\n"
     ]
    }
   ],
   "source": [
    "print(f'Max drawdown is {mdd}')"
   ],
   "metadata": {
    "collapsed": false,
    "ExecuteTime": {
     "end_time": "2024-02-21T10:19:19.196776Z",
     "start_time": "2024-02-21T10:19:19.188979Z"
    }
   },
   "id": "3da2ae6a9e5c9b5b",
   "execution_count": 29
  },
  {
   "cell_type": "markdown",
   "source": [
    "- 주식의 일일 종가가 다음과 같을 때, 최초 투자일부터 마지막날까지의 최대 손실을 계산하세요\n",
    "    - [10,4,2,5,7,8,3,6,2,1,6,5,7,8,9,10,11,5,4]"
   ],
   "metadata": {
    "collapsed": false
   },
   "id": "cfdaffeee002bd6a"
  },
  {
   "cell_type": "code",
   "outputs": [],
   "source": [
    "prices = [10,4,2,5,7,8,3,6,2,1,6,5,7,8,9,10,11,5,4]\n",
    "mdd = calculate_max_drawdown(prices)"
   ],
   "metadata": {
    "collapsed": false,
    "ExecuteTime": {
     "end_time": "2024-02-21T10:19:39.135156Z",
     "start_time": "2024-02-21T10:19:39.124839Z"
    }
   },
   "id": "5cc4e4f905a4d95d",
   "execution_count": 30
  },
  {
   "cell_type": "code",
   "outputs": [
    {
     "name": "stdout",
     "output_type": "stream",
     "text": [
      "Max drawdown is 9\n"
     ]
    }
   ],
   "source": [
    "print(f'Max drawdown is {mdd}')"
   ],
   "metadata": {
    "collapsed": false,
    "ExecuteTime": {
     "end_time": "2024-02-21T10:19:43.401042Z",
     "start_time": "2024-02-21T10:19:43.394418Z"
    }
   },
   "id": "6f6cb638da0d0374",
   "execution_count": 31
  },
  {
   "cell_type": "markdown",
   "source": [
    "#### Assignment 6.\n",
    "\n",
    "거래의 매수 가격과 매도 가격을 입력받아, 해당 거래에서 발생한 수익률을 계산하는 함수를 작성하세요. 수익률은 다음과 같이 계산됩니다\n",
    "\n",
    "$$\\frac{\\mathrm{매도가격} - \\mathrm{매수가격}}{\\mathrm{매수가격}} \\times 100$$"
   ],
   "metadata": {
    "collapsed": false
   },
   "id": "294e72086f0537"
  },
  {
   "cell_type": "code",
   "outputs": [],
   "source": [
    "def calculate_return(buy_price, sell_price):\n",
    "    return ((sell_price - buy_price) / buy_price)"
   ],
   "metadata": {
    "collapsed": false,
    "ExecuteTime": {
     "end_time": "2024-02-21T10:20:36.373236Z",
     "start_time": "2024-02-21T10:20:36.360789Z"
    }
   },
   "id": "c123a43bf32d39f1",
   "execution_count": 32
  },
  {
   "cell_type": "markdown",
   "source": [
    "- 매수 가격이 1000원이고 매도 가격이 1500원일 때 수익률을 계산하세요"
   ],
   "metadata": {
    "collapsed": false
   },
   "id": "6717d3b8598f534c"
  },
  {
   "cell_type": "code",
   "outputs": [
    {
     "name": "stdout",
     "output_type": "stream",
     "text": [
      "The return rate is 0.5\n"
     ]
    }
   ],
   "source": [
    "print(f'The return rate is {calculate_return(1000, 1500)}')"
   ],
   "metadata": {
    "collapsed": false,
    "ExecuteTime": {
     "end_time": "2024-02-21T10:21:05.639618Z",
     "start_time": "2024-02-21T10:21:05.635359Z"
    }
   },
   "id": "d663f3a8da3d2408",
   "execution_count": 33
  },
  {
   "cell_type": "markdown",
   "source": [
    "- 매수 가격이 2000원이고 매도 가격이 3000원일 때 수익률을 계산하세요"
   ],
   "metadata": {
    "collapsed": false
   },
   "id": "3ad20161615c352a"
  },
  {
   "cell_type": "code",
   "outputs": [
    {
     "name": "stdout",
     "output_type": "stream",
     "text": [
      "The return rate is 0.5\n"
     ]
    }
   ],
   "source": [
    "print(f'The return rate is {calculate_return(2000, 3000)}')"
   ],
   "metadata": {
    "collapsed": false,
    "ExecuteTime": {
     "end_time": "2024-02-21T10:21:16.639996Z",
     "start_time": "2024-02-21T10:21:16.614791Z"
    }
   },
   "id": "fc95a2a8faa8827a",
   "execution_count": 34
  },
  {
   "cell_type": "markdown",
   "source": [
    "#### Assignment 7.\n",
    "포트폴리오의 성과평가에 사용되는 위험조정성과지표는 다음과 같은 것들이 존재한다\n",
    "\n",
    "**Sharpe Ratio (RVAR)**\n",
    "\n",
    "$$\\mathbf{SR_P} = \\frac{r_P-r_f}{\\sigma_P}$$\n",
    "\n",
    "**Sortino Ratio**\n",
    "\n",
    "$$\\mathbf{SOR_P} = \\frac{r_P - r_f}{\\sigma(\\epsilon_P)}$$\n",
    "\n",
    "**Treynor Ratio**\n",
    "\n",
    "$$\\mathbf{TR_P} = \\frac{r_P-r_F}{\\beta_P}$$\n",
    "\n",
    "**Jensen Ratio**\n",
    "\n",
    "$$\\alpha_P = (r_P - r_f) - \\beta_P (r_m - r_f)$$\n",
    "\n",
    "**Information Ratio**\n",
    "\n",
    "$$\\mathbf{IR_P} = \\frac{\\alpha_P}{\\sigma^2(r_t - E(r_t))}$$\n",
    "\n",
    "- 여기서 $r_P$는 포트폴리오 수익률, $r_f$는 무위험이자율, $r_m$는 시장수익률, $\\beta_P$는 포트폴리오의 베타, $\\sigma_P$는 리스크, $\\epsilon_P$는 하방 변동성을 나타낸다"
   ],
   "metadata": {
    "collapsed": false
   },
   "id": "ad20431bd30a083a"
  },
  {
   "cell_type": "markdown",
   "source": [
    "- 위 변수들을 입력하고 각자의 성과지표를 method를 통해 계산하는 Class를 만드세요"
   ],
   "metadata": {
    "collapsed": false
   },
   "id": "95a28082414d444"
  },
  {
   "cell_type": "code",
   "outputs": [],
   "source": [
    "class PortfolioPerformance:\n",
    "    def __init__(self, rp, rf, rm, sigma_p, sigma_r, beta_p, epsilon_p):\n",
    "        self.rp = rp  \n",
    "        self.rf = rf \n",
    "        self.rm = rm \n",
    "        self.sigma_p = sigma_p  \n",
    "        self.sigma_r = sigma_r\n",
    "        self.beta_p = beta_p \n",
    "        self.epsilon_p = epsilon_p  \n",
    "\n",
    "    def sharpe_ratio(self):\n",
    "        return (self.rp - self.rf) / self.sigma_p\n",
    "\n",
    "    def sortino_ratio(self):\n",
    "        return (self.rp - self.rf) / self.epsilon_p\n",
    "\n",
    "    def treynor_ratio(self):\n",
    "        return (self.rp - self.rf) / self.beta_p\n",
    "\n",
    "    def jensen_ratio(self):\n",
    "        return (self.rp - self.rf) - self.beta_p * (self.rm - self.rf)\n",
    "\n",
    "    def information_ratio(self):\n",
    "        alpha_p = self.jensen_ratio()\n",
    "        return alpha_p / self.sigma_r"
   ],
   "metadata": {
    "collapsed": false,
    "ExecuteTime": {
     "end_time": "2024-02-21T10:29:44.431655Z",
     "start_time": "2024-02-21T10:29:44.420728Z"
    }
   },
   "id": "e14b198cc163d34",
   "execution_count": 37
  },
  {
   "cell_type": "markdown",
   "source": [
    "**Assignment 7.1**\n",
    "- 포트폴리오 A와 포트폴리오 B의 수익률과 위험이 다음과 같습니다\n",
    "\n",
    "\n",
    "|**Portfolio**|$r_P$|$\\beta_P$|$\\sigma_P$|$\\sigma^2(r_t - E(r_t))$|$\\sigma(\\epsilon_P)$|\n",
    "|:---:|:---:|:---:|:---:|:---:|:---:|\n",
    "|A|9%|1.3|0.2|0.25|0.3|\n",
    "|B|11%|1.5|0.5|0.09|0.1|\n",
    "\n",
    "무위험수익률이 3.5%, 시장포트폴리오 수익률 ($r_m$)이 5.5%일 때, 두 포트폴리오의 성과 지표들을 계산하세요"
   ],
   "metadata": {
    "collapsed": false
   },
   "id": "87257015a9fd2587"
  },
  {
   "cell_type": "code",
   "outputs": [],
   "source": [
    "portfolio_a = PortfolioPerformance(\n",
    "    rp = 0.09, rf = 0.035, rm = 0.055, \n",
    "    sigma_p = 0.2, sigma_r = 0.25, \n",
    "    beta_p = 1.3, epsilon_p = 0.3\n",
    ")\n",
    "portfolio_b = PortfolioPerformance(\n",
    "    rp = 0.11, rf = 0.035, rm = 0.055, \n",
    "    sigma_p = 0.5, sigma_r = 0.09, \n",
    "    beta_p = 1.5, epsilon_p = 0.1\n",
    ")"
   ],
   "metadata": {
    "collapsed": false,
    "ExecuteTime": {
     "end_time": "2024-02-21T10:29:45.387636Z",
     "start_time": "2024-02-21T10:29:45.365691Z"
    }
   },
   "id": "9a7e7aedd143e888",
   "execution_count": 38
  },
  {
   "cell_type": "code",
   "outputs": [
    {
     "name": "stdout",
     "output_type": "stream",
     "text": [
      "Portfolio A\n",
      "Sharpe Ratio: 0.2750\n",
      "Sortino Ratio: 0.1833\n",
      "Treynor Ratio: 0.0423\n",
      "Jensen Ratio: 0.0290\n",
      "Information Ratio: 0.1160\n"
     ]
    }
   ],
   "source": [
    "print('Portfolio A')\n",
    "print(f'Sharpe Ratio:{portfolio_a.sharpe_ratio() : .4f}')\n",
    "print(f'Sortino Ratio:{portfolio_a.sortino_ratio() : .4f}')\n",
    "print(f'Treynor Ratio:{portfolio_a.treynor_ratio() : .4f}')\n",
    "print(f'Jensen Ratio:{portfolio_a.jensen_ratio() : .4f}')\n",
    "print(f'Information Ratio:{portfolio_a.information_ratio() : .4f}')"
   ],
   "metadata": {
    "collapsed": false,
    "ExecuteTime": {
     "end_time": "2024-02-21T10:32:31.117069Z",
     "start_time": "2024-02-21T10:32:31.074114Z"
    }
   },
   "id": "c64211f560dc9ed5",
   "execution_count": 44
  },
  {
   "cell_type": "code",
   "outputs": [
    {
     "name": "stdout",
     "output_type": "stream",
     "text": [
      "Portfolio B\n",
      "Sharpe Ratio: 0.1500\n",
      "Sortino Ratio: 0.7500\n",
      "Treynor Ratio: 0.0500\n",
      "Jensen Ratio: 0.0450\n",
      "Information Ratio: 0.5000\n"
     ]
    }
   ],
   "source": [
    "print('Portfolio B')\n",
    "print(f'Sharpe Ratio:{portfolio_b.sharpe_ratio() : .4f}')\n",
    "print(f'Sortino Ratio:{portfolio_b.sortino_ratio() : .4f}')\n",
    "print(f'Treynor Ratio:{portfolio_b.treynor_ratio() : .4f}')\n",
    "print(f'Jensen Ratio:{portfolio_b.jensen_ratio() : .4f}')\n",
    "print(f'Information Ratio:{portfolio_b.information_ratio() : .4f}')"
   ],
   "metadata": {
    "collapsed": false,
    "ExecuteTime": {
     "end_time": "2024-02-21T10:32:44.417165Z",
     "start_time": "2024-02-21T10:32:44.401499Z"
    }
   },
   "id": "1cec75d4c4674b9a",
   "execution_count": 45
  }
 ],
 "metadata": {
  "kernelspec": {
   "display_name": "Python 3",
   "language": "python",
   "name": "python3"
  },
  "language_info": {
   "codemirror_mode": {
    "name": "ipython",
    "version": 2
   },
   "file_extension": ".py",
   "mimetype": "text/x-python",
   "name": "python",
   "nbconvert_exporter": "python",
   "pygments_lexer": "ipython2",
   "version": "2.7.6"
  }
 },
 "nbformat": 4,
 "nbformat_minor": 5
}
