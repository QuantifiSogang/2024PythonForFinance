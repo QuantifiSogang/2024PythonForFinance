{
 "cells": [
  {
   "cell_type": "markdown",
   "source": [
    "### Pandas"
   ],
   "metadata": {
    "collapsed": false
   },
   "id": "e05ca1555be5a833"
  },
  {
   "cell_type": "markdown",
   "source": [
    "#### Assignment 1.\n",
    "pandas datareader library는 data를 읽어들여 pandas의 dataframe 객체로 저장하는데 도움이 되는 라이브러리 입니다"
   ],
   "metadata": {
    "collapsed": false
   },
   "id": "b7796fa631898af3"
  },
  {
   "cell_type": "code",
   "execution_count": null,
   "id": "initial_id",
   "metadata": {
    "collapsed": true
   },
   "outputs": [],
   "source": [
    "#pip install pandas_datareader\n",
    "import datetime\n",
    "import pandas_datareader as wb\n",
    "\n",
    "start = datetime.datetime(2012, 1, 1)\n",
    "end = datetime.datetime(2024, 2, 20)\n",
    "null = wb.DataReader(\"KOSPI\", \"naver\", start, end)\n",
    "series = null['Close'].dropna().astype('float')"
   ]
  },
  {
   "cell_type": "markdown",
   "source": [
    "series는 2012년 1월 1일부터 2024년 2월 20일까지의 코스피 데이터가 저장되어 있는 Pandas Series 객체입니다"
   ],
   "metadata": {
    "collapsed": false
   },
   "id": "17dce3038bf7c5a3"
  },
  {
   "cell_type": "code",
   "outputs": [],
   "source": [
    "import numpy as np, pandas as pd\n",
    "series"
   ],
   "metadata": {
    "collapsed": false
   },
   "id": "6bf5d80560ac1cc9"
  },
  {
   "cell_type": "markdown",
   "source": [
    "5일, 20일, 60일, 120일 이동평균을 계산하는 함수(혹은 클래스)를 작성하고 결과를 출력하세요"
   ],
   "metadata": {
    "collapsed": false
   },
   "id": "5bdb0e5126f5a057"
  },
  {
   "cell_type": "code",
   "outputs": [],
   "source": [],
   "metadata": {
    "collapsed": false
   },
   "id": "dbdae1b98aaa1cf7"
  },
  {
   "cell_type": "markdown",
   "source": [
    "pandas의 내장 method `rolling.mean(window = n)`을 사용해 이동평균값을 계산하세요. 두 값은 차이가 있나요?"
   ],
   "metadata": {
    "collapsed": false
   },
   "id": "251690ac884204f1"
  },
  {
   "cell_type": "code",
   "outputs": [],
   "source": [],
   "metadata": {
    "collapsed": false
   },
   "id": "edfbc0369164e1ba"
  },
  {
   "cell_type": "markdown",
   "source": [
    "#### Assignment 2.\n",
    "1번에 사용한 series를 활용해 다음을 수행하세요"
   ],
   "metadata": {
    "collapsed": false
   },
   "id": "4aaa44441703a6fd"
  },
  {
   "cell_type": "markdown",
   "source": [
    "**Assignment 2-1**\n",
    "- 시계열 데이터의 안정성을 위해 로그 차분 데이터를 사용합니다. 로그 차분은 다음과 같이 계산됩니다\n",
    "\n",
    "$$r_t = \\ln{P_t} - \\ln{P_{t-1}}$$\n",
    "\n",
    "- $r_t$는 수익률, 즉 로그 차분이며, $P$는 가격 데이터입니다. t는 어느 한 기간을 의미합니다.\n",
    "\n",
    "Series를 활용해 로그 차분 데이터를 생성하세요"
   ],
   "metadata": {
    "collapsed": false
   },
   "id": "ac94bbba6289e095"
  },
  {
   "cell_type": "code",
   "outputs": [],
   "source": [],
   "metadata": {
    "collapsed": false
   },
   "id": "158f37bb5ed8a560"
  },
  {
   "cell_type": "markdown",
   "source": [
    "**Assignment 2-2**\n",
    "\n",
    "series에 표시된 NaN값을 제거한 뒤, 다음을 수행하세요\n",
    "\n",
    "- 수익률이 변동한다는 것을 'Risk'라고 하며, 기간 리스크는 어느 한 기간의 수익률의 표준편차로 계산됩니다.\n",
    "\n",
    "2024년 1월 1일부터 2024년 2월 20일의 기간동안의 KOSPI의 추정된 위험은 얼마입니까?"
   ],
   "metadata": {
    "collapsed": false
   },
   "id": "1e45eb981c016729"
  },
  {
   "cell_type": "code",
   "outputs": [],
   "source": [],
   "metadata": {
    "collapsed": false
   },
   "id": "241c234220ed35ed"
  },
  {
   "cell_type": "markdown",
   "source": [
    "2023년 9월 1일부터 2023년 12월 31일까지의 KOSPI의 추정된 위험은 얼마입니까?"
   ],
   "metadata": {
    "collapsed": false
   },
   "id": "514afe4393566bde"
  },
  {
   "cell_type": "code",
   "outputs": [],
   "source": [],
   "metadata": {
    "collapsed": false
   },
   "id": "a763afa155d2c2ad"
  },
  {
   "cell_type": "markdown",
   "source": [
    "기간별 위험은 어느 쪽이 더 크게 추정되는지 확인해 보세요. 리스크는 언제가 더 큽니까?"
   ],
   "metadata": {
    "collapsed": false
   },
   "id": "b478fb5fa6d6a69d"
  },
  {
   "cell_type": "code",
   "outputs": [],
   "source": [],
   "metadata": {
    "collapsed": false
   },
   "id": "f9a98702a917715c"
  },
  {
   "cell_type": "markdown",
   "source": [
    "#### Assignment 3.\n",
    "이동평균선에 관련된 지표는 다음과 같은 것들이 있습니다\n",
    "- MACD : 단기 이동평균(5일) - 장기 이동평균(60일)\n",
    "\n",
    "$$\\mathbf{MACD} = \\mathbf{MA}(5) - \\mathbf{MA}(60)$$\n",
    "\n",
    "- Signal : MACD의 이동 평균값\n",
    "\n",
    "$$\\mathbf{Signal} = \\mathbf {MA(MACD)}$$\n",
    "\n",
    "- Stochastic : 일정기간의 가격 변동폭 중 현재의 위치를 백분율로 표시한 것\n",
    "\n",
    "$$\\frac{P_t - \\min(P)}{\\max{(P)} - \\min{(P)}}$$\n",
    "\n",
    "MACD를 구하는 함수와 5개의 MACD를 이용해 Signal을 계산하는 함수, Stochastic을 계산하는 함수를 만들어 pandas의 series형태로 출력하세요"
   ],
   "metadata": {
    "collapsed": false
   },
   "id": "b432126e088c3e9a"
  },
  {
   "cell_type": "code",
   "outputs": [],
   "source": [],
   "metadata": {
    "collapsed": false
   },
   "id": "c7e239d025a98fd5"
  },
  {
   "cell_type": "markdown",
   "source": [
    "#### Assignment 4.\n",
    "\n",
    "자산운용사 A씨는 EMP 포트폴리오를 계획중입니다. EMP상품을 개발하기 위해 다음과 같은 자산을 고려하고 있습니다.\n",
    "\n",
    "- 위험자산 : Apple, IBM, TESLA, Google\n",
    "- 국채 : 미국 5년물, 미국 30년물\n",
    "- 원자재 : 텍사스 중질류 (Crude oil), 금\n",
    "\n",
    "한편, yfinance에서 위 자산들의 ticker는 다음과 같습니다. 단, 원자재는 데이터 수집의 용이성을 위해 선물 데이터를 사용합니다.\n",
    "\n",
    "['AAPL','IBM','TSLA','GOOGL','^FVX','^TYX','CL=F','GC=F']\n",
    "\n",
    "- 2018년 1월 1일부터 2024년 2월 22일까지의 데이터를 사용하세요.\n",
    "- 포트폴리오 수익률을 계산하기 위해서는 우선 `pct_change()`를 통해 일별 수익률을 계산한 뒤, 비중과 수익률을 계산해야 합니다."
   ],
   "metadata": {
    "collapsed": false
   },
   "id": "d88655f9247b7656"
  },
  {
   "cell_type": "markdown",
   "source": [
    "**Assignment 4.1**\n",
    "\n",
    "각 자산별 상관관계를 확인하기 위해 `seaborn`의 `heatmap()`함수를 이용해 correlation을 확인하세요."
   ],
   "metadata": {
    "collapsed": false
   },
   "id": "59336894d418f750"
  },
  {
   "cell_type": "code",
   "outputs": [],
   "source": [],
   "metadata": {
    "collapsed": false
   },
   "id": "494dad996b6d2351"
  },
  {
   "cell_type": "markdown",
   "source": [
    "**Assignment 4.2**\n",
    "\n",
    "모든 자산을 각각 12.5%씩 동일 가중으로 투자한다고 가정한 포트폴리오를 제작하세요."
   ],
   "metadata": {
    "collapsed": false
   },
   "id": "83091ebb38904d43"
  },
  {
   "cell_type": "code",
   "outputs": [],
   "source": [],
   "metadata": {
    "collapsed": false
   },
   "id": "ecf8ac5687779692"
  },
  {
   "cell_type": "markdown",
   "source": [
    "**Assignment 4.2**\n",
    "\n",
    "위험자산에 60%, 국채에 30%, 원자재에 10%를 투자한다고 가정한 포트폴리오를 제작하세요. 단, 각 블럭 별로는 동일 비중으로 투자한다고 가정합니다."
   ],
   "metadata": {
    "collapsed": false
   },
   "id": "ee01465fa345eef5"
  },
  {
   "cell_type": "code",
   "outputs": [],
   "source": [],
   "metadata": {
    "collapsed": false
   },
   "id": "601930a9d097d7dc"
  },
  {
   "cell_type": "markdown",
   "source": [
    "**Assignment 4.3**\n",
    "\n",
    "S&P500 Index의 데이터를 불러온 뒤, 제작한 포트폴리오들과 비교하세요. 비교를 위해 matplotlib로 시각화합니다. 포트폴리오는 시장의 성과를 상회합니까?"
   ],
   "metadata": {
    "collapsed": false
   },
   "id": "83bba9f74a32235d"
  },
  {
   "cell_type": "code",
   "outputs": [],
   "source": [],
   "metadata": {
    "collapsed": false
   },
   "id": "a66c8d65dc620179"
  }
 ],
 "metadata": {
  "kernelspec": {
   "display_name": "Python 3",
   "language": "python",
   "name": "python3"
  },
  "language_info": {
   "codemirror_mode": {
    "name": "ipython",
    "version": 2
   },
   "file_extension": ".py",
   "mimetype": "text/x-python",
   "name": "python",
   "nbconvert_exporter": "python",
   "pygments_lexer": "ipython2",
   "version": "2.7.6"
  }
 },
 "nbformat": 4,
 "nbformat_minor": 5
}
