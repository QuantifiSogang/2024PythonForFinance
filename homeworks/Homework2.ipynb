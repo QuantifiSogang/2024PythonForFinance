{
 "cells": [
  {
   "cell_type": "markdown",
   "source": [
    "### Python Basic II"
   ],
   "metadata": {
    "collapsed": false
   },
   "id": "3c697a5b1267c16d"
  },
  {
   "cell_type": "markdown",
   "source": [
    "#### Assignment 1.\n",
    "아래 사전 데이터는 2023년 1월 2일부터 1월 20일까지의 코스피 주가지수입니다"
   ],
   "metadata": {
    "collapsed": false
   },
   "id": "a113590a18b002cf"
  },
  {
   "cell_type": "code",
   "outputs": [],
   "source": [
    "kospi = {'2023-01-02' : 2225.67, '2023-01-03' : 2218.68, '2023-01-04' : 2255.98, '2023-01-05' : 2264.65,\n",
    "         '2023-01-06' : 2289.97, '2023-01-09' : 2350.19, '2023-01-10' : 2351.31, '2023-01-11' : 2359.53,\n",
    "         '2023-01-12' : 2365.10, '2023-01-13' : 2386.09, '2023-01-16' : 2399.86, '2023-01-17' : 2379.39,\n",
    "         '2023-01-18' : 2368.32, '2023-01-19' : 2380.34, '2023-01-20' : 2395.26}"
   ],
   "metadata": {
    "collapsed": false
   },
   "id": "9484b5036e5423aa"
  },
  {
   "cell_type": "markdown",
   "source": [
    "1월 2일부터 1월 20일까지의 주가지수의 평균값을 구하세요"
   ],
   "metadata": {
    "collapsed": false
   },
   "id": "bd1cd60b54504cef"
  },
  {
   "cell_type": "code",
   "execution_count": null,
   "id": "initial_id",
   "metadata": {
    "collapsed": true
   },
   "outputs": [],
   "source": [
    "# write your code here"
   ]
  },
  {
   "cell_type": "markdown",
   "source": [
    "#### Assignment 2.\n",
    "- 다음은 미국 연방준비위원회 의장 제롬 파월의 2022년 8월 잭슨홀 심포지엄에서 '통화정책과 물가 안정'을 주제로 한 연설문의 일부입니다\n",
    "\n",
    "At past Jackson Hole conferences, I have discussed broad topics such as the ever-changing structure of the economy and the challenges of conducting monetary policy under high uncertainty. Today, my remarks will be shorter, my focus narrower, and my message more direct.\n",
    "\n",
    "The Federal Open Market Committee's (FOMC) overarching focus right now is to bring inflation back down to our 2 percent goal. Price stability is the responsibility of the Federal Reserve and serves as the bedrock of our economy. Without price stability, the economy does not work for anyone. In particular, without price stability, we will not achieve a sustained period of strong labor market conditions that benefit all. The burdens of high inflation fall heaviest on those who are least able to bear them.\n",
    "\n",
    "Restoring price stability will take some time and requires using our tools forcefully to bring demand and supply into better balance. Reducing inflation is likely to require a sustained period of below-trend growth. Moreover, there will very likely be some softening of labor market conditions. While higher interest rates, slower growth, and softer labor market conditions will bring down inflation, they will also bring some pain to households and businesses. These are the unfortunate costs of reducing inflation. But a failure to restore price stability would mean far greater pain.\n",
    "\n",
    "The U.S. economy is clearly slowing from the historically high growth rates of 2021, which reflected the reopening of the economy following the pandemic recession. While the latest economic data have been mixed, in my view our economy continues to show strong underlying momentum. The labor market is particularly strong, but it is clearly out of balance, with demand for workers substantially exceeding the supply of available workers. Inflation is running well above 2 percent, and high inflation has continued to spread through the economy. While the lower inflation readings for July are welcome, a single month's improvement falls far short of what the Committee will need to see before we are confident that inflation is moving down.\n",
    "\n",
    "We are moving our policy stance purposefully to a level that will be sufficiently restrictive to return inflation to 2 percent. At our most recent meeting in July, the FOMC raised the target range for the federal funds rate to 2.25 to 2.5 percent, which is in the Summary of Economic Projection's (SEP) range of estimates of where the federal funds rate is projected to settle in the longer run. In current circumstances, with inflation running far above 2 percent and the labor market extremely tight, estimates of longer-run neutral are not a place to stop or pause."
   ],
   "metadata": {
    "collapsed": false
   },
   "id": "3dd6042f06d1492c"
  },
  {
   "cell_type": "markdown",
   "source": [
    "위 연설문에서, 'inflation'이 총 몇 번 등장하는지 계산하고, 단어의 빈도 비율을 구하세요"
   ],
   "metadata": {
    "collapsed": false
   },
   "id": "4871c40e93f8391d"
  },
  {
   "cell_type": "markdown",
   "source": [
    "#### Assignment 3.\n",
    "\n",
    "포트폴리오의 수익률은 각 자산별 비중과 수익률을 곱한 값을 합한 것으로 계산됩니다\n",
    "\n",
    "$$ r_p = \\sum_{i=1}^{n} (r_i \\times w_i)$$\n",
    "\n",
    "전통적 자산배분 방법 중, 무위험자산과 위험자산의 비중을 60:40으로 할당하는 배분 방법은 시장의 급변 상황에 원금의 손실을 줄이고 안정적으로 수익률을 창출할 수 있는 전략입니다. 무위험자산의 수익률로 통용되는 미국 T-Bill의 연간 수익률이 아래와 같고, 위험자산인 자산 A,B,C,D가 아래와 같을 때, 포트폴리오의 수익률을 계산하세요. 단, 위험자산의 경우 비중이 동일하다고 가정합니다\n",
    "\n",
    "|| T-Bill | A     | B     | C     | D     |\n",
    "|---|--------|-------|-------|-------|-------|\n",
    "|2023-09| 0.0375 | 0.08  | 0.12  | 0.15  | 0.05  |\n",
    "|2023-10| 0.04   | 0.02  | 0.06  | -0.01 | -0.02 |\n",
    "|2023-11| 0.039  | 0.015 | -0.10 | -0.05 | 0.025 |\n",
    "|2023-12| 0.038  | -0.03 | -0.05 | 0.01  | 0.015 |\n",
    "|2024-01| 0.037  | 0.04  | 0.06  | 0.05  | 0.00  |"
   ],
   "metadata": {
    "collapsed": false
   },
   "id": "21d2aea76e3b496a"
  },
  {
   "cell_type": "markdown",
   "source": [
    "**3.1**\n",
    "\n",
    "위 표를 Dictionary 자료형으로 저장하세요"
   ],
   "metadata": {
    "collapsed": false
   },
   "id": "a5dc3afb7bca74bf"
  },
  {
   "cell_type": "code",
   "outputs": [],
   "source": [
    "# write your code here"
   ],
   "metadata": {
    "collapsed": false
   },
   "id": "f9794279db6a8208"
  },
  {
   "cell_type": "markdown",
   "source": [
    "**3.2**\n",
    "\n",
    "선언한 사전형 데이터를 이용해 2023년 9월부터 2024년 1월까지 포트폴리오의 수익률을 계산하세요"
   ],
   "metadata": {
    "collapsed": false
   },
   "id": "c2054f2df82983b0"
  },
  {
   "cell_type": "code",
   "outputs": [],
   "source": [
    "# write your code here"
   ],
   "metadata": {
    "collapsed": false
   },
   "id": "2a1b0944b030a244"
  },
  {
   "cell_type": "markdown",
   "source": [
    "#### Assignment 4.\n"
   ],
   "metadata": {
    "collapsed": false
   },
   "id": "2685d7bb4e3947ae"
  }
 ],
 "metadata": {
  "kernelspec": {
   "display_name": "Python 3",
   "language": "python",
   "name": "python3"
  },
  "language_info": {
   "codemirror_mode": {
    "name": "ipython",
    "version": 2
   },
   "file_extension": ".py",
   "mimetype": "text/x-python",
   "name": "python",
   "nbconvert_exporter": "python",
   "pygments_lexer": "ipython2",
   "version": "2.7.6"
  }
 },
 "nbformat": 4,
 "nbformat_minor": 5
}
