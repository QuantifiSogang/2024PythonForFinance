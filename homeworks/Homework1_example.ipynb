{
 "cells": [
  {
   "cell_type": "markdown",
   "source": [
    "### Python Basic I"
   ],
   "metadata": {
    "collapsed": false
   },
   "id": "ae6c84a0570ae26c"
  },
  {
   "cell_type": "markdown",
   "source": [
    "#### Assignment 1.\n",
    "\n",
    "- 당신은 자산운용사로, 고객의 자산을 관리하고 있습니다. 고객은 현재 시장의 수익률보다 3% 더 높은 패시브운용 포트폴리오의 수익률을 요구하고 있습니다. 고객의 요청에 따라 3년간 5천만원의 현금을 운용해야 합니다. 매년 초과수익률이 3%로 일정하다고 가정할 때, 아래와 같은 시장 상황에서 고객이 3년 후 받을 수 있는 금액은 얼마입니까? (단, 고객의 자산을 t년도 영업일 말일에 운용한다고 가정하며, 거래 수수료는 없다고 가정한다)\n",
    "\n",
    "|t년|t+1년|t+2년|t+3년|\n",
    "|:---:|:---:|:---:|:---:|\n",
    "|2%|3.5%|6%|1%|"
   ],
   "metadata": {
    "collapsed": false
   },
   "id": "eed5dc8abd8ccc81"
  },
  {
   "cell_type": "code",
   "execution_count": 1,
   "id": "initial_id",
   "metadata": {
    "collapsed": true,
    "ExecuteTime": {
     "end_time": "2024-02-07T11:23:02.231684Z",
     "start_time": "2024-02-07T11:23:02.186877Z"
    }
   },
   "outputs": [
    {
     "name": "stdout",
     "output_type": "stream",
     "text": [
      "Total payoff is  10364200 won\n"
     ]
    }
   ],
   "source": [
    "excess_return = 0.03\n",
    "initial_cash = 50_000_000\n",
    "\n",
    "payoff = initial_cash * (1 + 0.035 + excess_return) * (1 + 0.06 + excess_return) * (1 + 0.01 + excess_return)\n",
    "print(f\"Total payoff is {payoff - initial_cash : .0f} won\")"
   ]
  },
  {
   "cell_type": "markdown",
   "source": [
    "#### Assignment 2.\n",
    "\n",
    "- 당신은 은퇴를 한 직장인입니다. 노후 자금 마련을 위해 현재 가지고 있는 주택을 담보로 노후생활에 필요한 자금을 연금 형태로 받아 사용하려고 합니다. 현재 보유한 주택의 시장가격은 9억원이며, 미래 감정가격은 6억원 입니다. 역모기지론을 통해 10년간 8%의 할인율로 대출을 받는다고 할 때, 미래 감정가격에 대한 현재 가치는 얼마인지 계산하세요. (단, 역모기지론의 계약은 연초 첫 번째 영업일에 실행한다고 가정한다)\n",
    "\n",
    "- 역모기지론 : 미래에 발생할 예정인 현금흐름을 현재가치로 환산하는 방법. 가장 흔한 상품은 미래 주택가치를 산정해 연금을 받는 상품인 주택연금이 있습니다"
   ],
   "metadata": {
    "collapsed": false
   },
   "id": "a9559645eb842258"
  },
  {
   "cell_type": "code",
   "outputs": [
    {
     "name": "stdout",
     "output_type": "stream",
     "text": [
      "Present value of future value is  277916093 won\n"
     ]
    }
   ],
   "source": [
    "future_value = 600_000_000\n",
    "discount_rate = 0.08\n",
    "present_value = future_value / ((1 + discount_rate) ** 10)\n",
    "\n",
    "print(f\"Present value of future value is {present_value : .0f} won\")"
   ],
   "metadata": {
    "collapsed": false,
    "ExecuteTime": {
     "end_time": "2024-02-07T11:23:02.256648Z",
     "start_time": "2024-02-07T11:23:02.235126Z"
    }
   },
   "id": "b8ffb7200f869c34",
   "execution_count": 2
  },
  {
   "cell_type": "markdown",
   "source": [
    "#### Assignment 3.\n",
    "\n",
    "- 당신은 현재 은행에서 고객 정보를 관리하고 있습니다. Data Base를 살펴보던 중, 고객의 아이디가 뒤바뀌어 있다는 것을 눈치챘습니다. 원래대로 되돌리기 위해서 어떻게 해야 할까요? \n",
    "- x_id와 y_id의 데이터를 Swap하세요"
   ],
   "metadata": {
    "collapsed": false
   },
   "id": "72585d9e11a6ce66"
  },
  {
   "cell_type": "code",
   "outputs": [
    {
     "name": "stdout",
     "output_type": "stream",
     "text": [
      "1000 1001\n",
      "1001 1000\n"
     ]
    }
   ],
   "source": [
    "x_id, y_id = 1000, 1001\n",
    "\n",
    "print(x_id, y_id)\n",
    "\n",
    "temp = x_id\n",
    "x_id = y_id\n",
    "y_id = temp\n",
    "\n",
    "print(x_id, y_id)"
   ],
   "metadata": {
    "collapsed": false,
    "ExecuteTime": {
     "end_time": "2024-02-07T11:23:02.292879Z",
     "start_time": "2024-02-07T11:23:02.260023Z"
    }
   },
   "id": "1c2c85a3d64c9b5e",
   "execution_count": 3
  },
  {
   "cell_type": "markdown",
   "source": [
    "#### Assignment 4.\n",
    "\n",
    "- 주식 투자 성과가 다음과 같고, 각 날짜별 투자 비중이 다음과 같을 때, 5일간 본인이 가진 주식의 수익률을 계산하세요. (단, 수수료는 없다고 가정하고, 투자금은 매일 각각 100달러라고 가정한다)\n",
    "\n",
    "\n",
    "|날짜|  수익률  |투자비중|\n",
    "|:---:|:-----:|:---:|\n",
    "|2024.01.29|  2%   |20%|\n",
    "|2024.01.30|  1%   |30%|\n",
    "|2024.01.31|  3%   |50%|\n",
    "|2024.02.01|  -1%  |40%|\n",
    "|2024.02.02|  2%   |10%|\n"
   ],
   "metadata": {
    "collapsed": false
   },
   "id": "4fc46ff2959a7530"
  },
  {
   "cell_type": "code",
   "outputs": [
    {
     "name": "stdout",
     "output_type": "stream",
     "text": [
      "total yield rate is  0.02\n"
     ]
    }
   ],
   "source": [
    "invest = 100\n",
    "payoff = invest * (1 + 0.02 * 0.2)\n",
    "payoff = payoff * (1 + 0.01 * 0.3)\n",
    "payoff = payoff * (1 + 0.03 * 0.5)\n",
    "payoff = payoff * (1 - 0.01 * 0.4)\n",
    "payoff = payoff * (1 + 0.02 * 0.1)\n",
    "yield_rate = (payoff / invest) - 1\n",
    "\n",
    "print(f\"total yield rate is {yield_rate : .2f}\")"
   ],
   "metadata": {
    "collapsed": false,
    "ExecuteTime": {
     "end_time": "2024-02-07T11:23:02.310295Z",
     "start_time": "2024-02-07T11:23:02.295324Z"
    }
   },
   "id": "99dcd519d3c01a59",
   "execution_count": 4
  },
  {
   "cell_type": "markdown",
   "source": [
    "#### Assignment 5.\n",
    "- 현재 당신은 파월의 연설문 중에서 모음이 전체 연설문의 몇 퍼센트를 차지하고 싶은지 알고 싶어 합니다. 다음의 문장을 통해 모음의 비중이 얼마나 되는지 확인하세요.\n",
    "\n",
    "At past Jackson Hole conferences, I have discussed broad topics such as the ever-changing structure of the economy and the challenges of conducting monetary policy under high uncertainty. Today, my remarks will be shorter, my focus narrower, and my message more direct.\\n The Federal Open Market Committee's (FOMC) overarching focus right now is to bring inflation back down to our 2 percent goal. Price stability is the responsibility of the Federal Reserve and serves as the bedrock of our economy. Without price stability, the economy does not work for anyone. In particular, without price stability, we will not achieve a sustained period of strong labor market conditions that benefit all. The burdens of high inflation fall heaviest on those who are least able to bear them.\\n Restoring price stability will take some time and requires using our tools forcefully to bring demand and supply into better balance. Reducing inflation is likely to require a sustained period of below-trend growth. Moreover, there will very likely be some softening of labor market conditions. While higher interest rates, slower growth, and softer labor market conditions will bring down inflation, they will also bring some pain to households and businesses. These are the unfortunate costs of reducing inflation. But a failure to restore price stability would mean far greater pain.\\n The U.S. economy is clearly slowing from the historically high growth rates of 2021, which reflected the reopening of the economy following the pandemic recession. While the latest economic data have been mixed, in my view our economy continues to show strong underlying momentum. The labor market is particularly strong, but it is clearly out of balance, with demand for workers substantially exceeding the supply of available workers. Inflation is running well above 2 percent, and high inflation has continued to spread through the economy. While the lower inflation readings for July are welcome, a single month's improvement falls far short of what the Committee will need to see before we are confident that inflation is moving down.\\n We are moving our policy stance purposefully to a level that will be sufficiently restrictive to return inflation to 2 percent. At our most recent meeting in July, the FOMC raised the target range for the federal funds rate to 2.25 to 2.5 percent, which is in the Summary of Economic Projection's (SEP) range of estimates of where the federal funds rate is projected to settle in the longer run. In current circumstances, with inflation running far above 2 percent and the labor market extremely tight, estimates of longer-run neutral are not a place to stop or pause."
   ],
   "metadata": {
    "collapsed": false
   },
   "id": "5cc3946f84261ca"
  },
  {
   "cell_type": "code",
   "outputs": [],
   "source": [
    "statement = \"At past Jackson Hole conferences, I have discussed broad topics such as the ever-changing structure of the economy and the challenges of conducting monetary policy under high uncertainty. Today, my remarks will be shorter, my focus narrower, and my message more direct.\\n The Federal Open Market Committee's (FOMC) overarching focus right now is to bring inflation back down to our 2 percent goal. Price stability is the responsibility of the Federal Reserve and serves as the bedrock of our economy. Without price stability, the economy does not work for anyone. In particular, without price stability, we will not achieve a sustained period of strong labor market conditions that benefit all. The burdens of high inflation fall heaviest on those who are least able to bear them.\\n Restoring price stability will take some time and requires using our tools forcefully to bring demand and supply into better balance. Reducing inflation is likely to require a sustained period of below-trend growth. Moreover, there will very likely be some softening of labor market conditions. While higher interest rates, slower growth, and softer labor market conditions will bring down inflation, they will also bring some pain to households and businesses. These are the unfortunate costs of reducing inflation. But a failure to restore price stability would mean far greater pain.\\n The U.S. economy is clearly slowing from the historically high growth rates of 2021, which reflected the reopening of the economy following the pandemic recession. While the latest economic data have been mixed, in my view our economy continues to show strong underlying momentum. The labor market is particularly strong, but it is clearly out of balance, with demand for workers substantially exceeding the supply of available workers. Inflation is running well above 2 percent, and high inflation has continued to spread through the economy. While the lower inflation readings for July are welcome, a single month's improvement falls far short of what the Committee will need to see before we are confident that inflation is moving down.\\n We are moving our policy stance purposefully to a level that will be sufficiently restrictive to return inflation to 2 percent. At our most recent meeting in July, the FOMC raised the target range for the federal funds rate to 2.25 to 2.5 percent, which is in the Summary of Economic Projection's (SEP) range of estimates of where the federal funds rate is projected to settle in the longer run. In current circumstances, with inflation running far above 2 percent and the labor market extremely tight, estimates of longer-run neutral are not a place to stop or pause.\""
   ],
   "metadata": {
    "collapsed": false,
    "ExecuteTime": {
     "end_time": "2024-02-07T11:23:02.316701Z",
     "start_time": "2024-02-07T11:23:02.313246Z"
    }
   },
   "id": "7fe45d7155ced860",
   "execution_count": 5
  },
  {
   "cell_type": "code",
   "outputs": [
    {
     "name": "stdout",
     "output_type": "stream",
     "text": [
      "Vowel ratio is 30.21%\n"
     ]
    }
   ],
   "source": [
    "a, e, i, o, u = statement.count('a'), statement.count('e'), statement.count('i'), statement.count('o'), statement.count('u')\n",
    "total = a + e + i + o + u\n",
    "\n",
    "print(f\"Vowel ratio is {total / len(statement) * 100 :.2f}%\")"
   ],
   "metadata": {
    "collapsed": false,
    "ExecuteTime": {
     "end_time": "2024-02-07T11:23:02.333472Z",
     "start_time": "2024-02-07T11:23:02.317696Z"
    }
   },
   "id": "8ae8e6842dcae07b",
   "execution_count": 6
  }
 ],
 "metadata": {
  "kernelspec": {
   "display_name": "Python 3",
   "language": "python",
   "name": "python3"
  },
  "language_info": {
   "codemirror_mode": {
    "name": "ipython",
    "version": 2
   },
   "file_extension": ".py",
   "mimetype": "text/x-python",
   "name": "python",
   "nbconvert_exporter": "python",
   "pygments_lexer": "ipython2",
   "version": "2.7.6"
  }
 },
 "nbformat": 4,
 "nbformat_minor": 5
}
