{
 "cells": [
  {
   "cell_type": "markdown",
   "source": [
    "### Function and class"
   ],
   "metadata": {
    "collapsed": false
   },
   "id": "c05af6addcc7fb0b"
  },
  {
   "cell_type": "markdown",
   "source": [
    "#### Assignment 1.\n",
    "**Gordon의 기업 성장 모형**과 **자본자산가치결정모형(CAPM)** 에 따르면 투자자가 기업에 요구하는 요구 수익률은 다음과 같이 정의됩니다.\n",
    "\n",
    "$$k = r_f + \\beta(E(r_m) - r_f)$$\n",
    "\n",
    "여기서 $k$는 요구수익률, $r_f$는 무위험이자율, $r_m$는 기업 주식의 수익률, $\\beta$는 기업의 시장 프리미엄을 의미합니다\n",
    "\n",
    "- 위 산식을 함수로 작성하세요"
   ],
   "metadata": {
    "collapsed": false
   },
   "id": "db4856055dfb06e1"
  },
  {
   "cell_type": "code",
   "execution_count": null,
   "id": "initial_id",
   "metadata": {
    "collapsed": true
   },
   "outputs": [],
   "source": [
    "# write your code here"
   ]
  },
  {
   "cell_type": "markdown",
   "source": [
    "**Assignment 1-1.**\n",
    "\n",
    "- 한국 무위험지표금리(https://www.kofr.kr/main.jsp)에 따르면, 2024년 2월 12일 현재 한국의 30일 평균 무위험이자율은 3.616%입니다. 어느 기업 A의 30일 평균 주식 수익률이 7.4%였다고 할 때, 투자자가 이 기업 A에 기대하는 요구수익률은 얼마입니까?(베타는 1.2로 가정합니다)"
   ],
   "metadata": {
    "collapsed": false
   },
   "id": "f575d6a1012dee51"
  },
  {
   "cell_type": "code",
   "outputs": [],
   "source": [
    "# write your code here"
   ],
   "metadata": {
    "collapsed": false
   },
   "id": "616d34b955e311e"
  },
  {
   "cell_type": "markdown",
   "source": [
    "**Assignment 1-2.**\n",
    "\n",
    "- 위 기업의 경우에서 무위험이자율을 2.5%라고 가정할 때의 요구수익률을 계산하세요"
   ],
   "metadata": {
    "collapsed": false
   },
   "id": "f2575d1826f1bbe0"
  },
  {
   "cell_type": "code",
   "outputs": [],
   "source": [
    "# write your code here"
   ],
   "metadata": {
    "collapsed": false
   },
   "id": "8c1f3c38fca8e30e"
  },
  {
   "cell_type": "markdown",
   "source": [
    "#### Assignment 2. \n",
    "\n",
    "Gordon의 주식 가치 결정 모델에서 적정 주가는 다음과 같이 정의됩니다\n",
    "\n",
    "$$P = \\frac{D(1+g)}{k-g}$$\n",
    "\n",
    "여기서 $k$는 요구수익률, $D$는 배당금, $g$는 배당 증가율, $P$는 기업의 적정 주가를 의미합니다\n",
    "\n",
    "- 위 산식을 함수로 작성하세요"
   ],
   "metadata": {
    "collapsed": false
   },
   "id": "5b4153893f69bd1b"
  },
  {
   "cell_type": "code",
   "outputs": [],
   "source": [
    "# write your code here"
   ],
   "metadata": {
    "collapsed": false
   },
   "id": "66303aaf590bcdb5"
  },
  {
   "cell_type": "markdown",
   "source": [
    "- 과제 1번의 요구수익률을 가정하고, 기존의 기업 배당금은 1주당 1천원, 배당 증가율이 3%라면 이 기업의 적정 주가는 얼마입니까?"
   ],
   "metadata": {
    "collapsed": false
   },
   "id": "c074db538454e6b3"
  },
  {
   "cell_type": "code",
   "outputs": [],
   "source": [
    "# write your code here"
   ],
   "metadata": {
    "collapsed": false
   },
   "id": "79e6996eb418306a"
  },
  {
   "cell_type": "markdown",
   "source": [
    "#### Assignment 3.\n",
    "\n",
    "주어진 원금(principal), 연이율(annual_rate), 기간(time_in_years)을 입력 받아 단리와 복리로 계산된 미래 가치를 반환하는 함수를 작성하세요. 단리 공식과 복리 공식은 다음과 같습니다.\n",
    "\n",
    "$$\\mathrm{Future~Value} = \\mathrm{PV} \\times (1 + rt)$$\n",
    "$$\\mathrm{Future~Value} = \\mathrm{PV} \\times (1 + r)^t$$\n",
    "\n",
    "여기서 $\\mathrm{PV}$는 현재 가치, $r$은 연이율, $t$는 기간을 의미합니다"
   ],
   "metadata": {
    "collapsed": false
   },
   "id": "19c943b4715b824a"
  },
  {
   "cell_type": "code",
   "outputs": [],
   "source": [
    "# write your code here"
   ],
   "metadata": {
    "collapsed": false
   },
   "id": "ff25f30e8b78cbb7"
  },
  {
   "cell_type": "markdown",
   "source": [
    "- 원금이 1000만원, 연이율이 5%, 기간이 10년일 때 단리와 복리로 계산된 미래 가치를 계산하세요"
   ],
   "metadata": {
    "collapsed": false
   },
   "id": "c45039c77ae789c1"
  },
  {
   "cell_type": "code",
   "outputs": [],
   "source": [
    "# write your code here"
   ],
   "metadata": {
    "collapsed": false
   },
   "id": "98521eee0bbb7db3"
  },
  {
   "cell_type": "markdown",
   "source": [
    "- 원금이 1000만원, 연이율이 3.6%, 기간이 7년일 때 단리와 복리로 계산된 미래 가치를 계산하세요"
   ],
   "metadata": {
    "collapsed": false
   },
   "id": "98619ea9f053cca0"
  },
  {
   "cell_type": "code",
   "outputs": [],
   "source": [
    "# write your code here"
   ],
   "metadata": {
    "collapsed": false
   },
   "id": "bae8d0c7e8dad217"
  },
  {
   "cell_type": "markdown",
   "source": [
    "#### Assignment 4.\n",
    "\n",
    "주식을 여러 차례에 걸쳐 매입했을 때의 평균 매입 가격을 계산하는 함수를 작성하세요. 매입 가격(prices)과 매입 수량(quantities)이 리스트로 주어진다고 가정합니다. 함수는 총 매입 비용을 총 매입 수량으로 나눈 평균 매입 가격을 반환해야 합니다.\n",
    "\n",
    "예를 들어, 주식을 3번에 걸쳐 각각 1000원, 2000원, 3000원에 100주씩 매입했다면, 평균 매입 가격은 다음과 같이 계산됩니다.\n",
    "\n",
    "$$\\frac{1000 \\times 100 + 2000 \\times 100 + 3000 \\times 100}{100 + 100 + 100} = \\frac{100000 + 200000 + 300000}{300} = \\frac{600000}{300} = 2000$$\n",
    "\n",
    "따라서 평균 매입 가격은 2000원입니다.\n",
    "\n",
    "- 위 산식을 함수로 작성하세요"
   ],
   "metadata": {
    "collapsed": false
   },
   "id": "a48f6f12656903d9"
  },
  {
   "cell_type": "code",
   "outputs": [],
   "source": [
    "# write your code here"
   ],
   "metadata": {
    "collapsed": false
   },
   "id": "586847b11eff891f"
  },
  {
   "cell_type": "markdown",
   "source": [
    "- 주식을 3번에 걸쳐 각각 1500원, 1900원, 3100원에 100주씩 매입했을 때의 평균 매입 가격을 계산하세요"
   ],
   "metadata": {
    "collapsed": false
   },
   "id": "370c7cbd286555ec"
  },
  {
   "cell_type": "code",
   "outputs": [],
   "source": [
    "# write your code here"
   ],
   "metadata": {
    "collapsed": false
   },
   "id": "671f946d5e7163b6"
  },
  {
   "cell_type": "markdown",
   "source": [
    "#### Assignment 5.\n",
    "\n",
    "주식의 일일 종가 리스트를 입력 받아, 주어진 기간 동안 가능한 최대 손실(최대 낙폭)을 계산하는 함수`calculate_max_drawdown()`를 작성하세요. 최대 손실은 최고점에서 최저점까지의 가장 큰 가격 하락을 의미합니다."
   ],
   "metadata": {
    "collapsed": false
   },
   "id": "dccc1cad10be2705"
  },
  {
   "cell_type": "code",
   "outputs": [],
   "source": [
    "# write your code here"
   ],
   "metadata": {
    "collapsed": false
   },
   "id": "f827884d3e2c785"
  },
  {
   "cell_type": "markdown",
   "source": [
    "- 주식의 일일 종가가 다음과 같을 때, 최초 투자일부터 마지막날까지의 최대 손실을 계산하세요\n",
    "    - [7, 6, 5, 4, 3, 2, 1, 2]"
   ],
   "metadata": {
    "collapsed": false
   },
   "id": "edf633a086d266ed"
  },
  {
   "cell_type": "code",
   "outputs": [],
   "source": [
    "# write your code here"
   ],
   "metadata": {
    "collapsed": false
   },
   "id": "bfb57f7eec3f5a39"
  },
  {
   "cell_type": "markdown",
   "source": [
    "- 주식의 일일 종가가 다음과 같을 때, 최초 투자일부터 마지막날까지의 최대 손실을 계산하세요\n",
    "    - [10,4,2,5,7,8,3,6,2,1,6,5,7,8,9,10,11,5,4]"
   ],
   "metadata": {
    "collapsed": false
   },
   "id": "cfdaffeee002bd6a"
  },
  {
   "cell_type": "code",
   "outputs": [],
   "source": [
    "# write your code here"
   ],
   "metadata": {
    "collapsed": false
   },
   "id": "5cc4e4f905a4d95d"
  },
  {
   "cell_type": "markdown",
   "source": [
    "#### Assignment 6.\n",
    "\n",
    "거래의 매수 가격과 매도 가격을 입력받아, 해당 거래에서 발생한 수익률을 계산하는 함수를 작성하세요. 수익률은 다음과 같이 계산됩니다\n",
    "\n",
    "$$\\frac{\\mathrm{매도가격} - \\mathrm{매수가격}}{\\mathrm{매수가격}} \\times 100$$"
   ],
   "metadata": {
    "collapsed": false
   },
   "id": "294e72086f0537"
  },
  {
   "cell_type": "code",
   "outputs": [],
   "source": [
    "# write your code here"
   ],
   "metadata": {
    "collapsed": false
   },
   "id": "c123a43bf32d39f1"
  },
  {
   "cell_type": "markdown",
   "source": [
    "- 매수 가격이 1000원이고 매도 가격이 1500원일 때 수익률을 계산하세요"
   ],
   "metadata": {
    "collapsed": false
   },
   "id": "6717d3b8598f534c"
  },
  {
   "cell_type": "code",
   "outputs": [],
   "source": [
    "# write your code here"
   ],
   "metadata": {
    "collapsed": false
   },
   "id": "d663f3a8da3d2408"
  },
  {
   "cell_type": "markdown",
   "source": [
    "- 매수 가격이 3000원이고 매도 가격이 2000원일 때 수익률을 계산하세요"
   ],
   "metadata": {
    "collapsed": false
   },
   "id": "3ad20161615c352a"
  },
  {
   "cell_type": "code",
   "outputs": [],
   "source": [
    "# write your code here"
   ],
   "metadata": {
    "collapsed": false
   },
   "id": "fc95a2a8faa8827a"
  },
  {
   "cell_type": "markdown",
   "source": [
    "#### Assignment 7.\n",
    "포트폴리오의 성과평가에 사용되는 위험조정성과지표는 다음과 같은 것들이 존재한다\n",
    "\n",
    "**Sharpe Ratio (RVAR)**\n",
    "\n",
    "$$\\mathbf{SR_P} = \\frac{r_P-r_f}{\\sigma_P}$$\n",
    "\n",
    "**Sortino Ratio**\n",
    "\n",
    "$$\\mathbf{SOR_P} = \\frac{r_P - r_f}{\\sigma(\\epsilon_P)}$$\n",
    "\n",
    "**Treynor Ratio**\n",
    "\n",
    "$$\\mathbf{TR_P} = \\frac{r_P-r_F}{\\beta_P}$$\n",
    "\n",
    "**Jensen Ratio**\n",
    "\n",
    "$$\\alpha_P = (r_P - r_f) - \\beta_P (r_m - r_f)$$\n",
    "\n",
    "**Information Ratio**\n",
    "\n",
    "$$\\mathbf{IR_P} = \\frac{\\alpha_P}{\\sigma^2(r_t - E(r_t))}$$\n",
    "\n",
    "- 여기서 $r_P$는 포트폴리오 수익률, $r_f$는 무위험이자율, $r_m$는 시장수익률, $\\beta_P$는 포트폴리오의 베타, $\\sigma_P$는 리스크, $\\epsilon_P$는 하방 변동성을 나타낸다"
   ],
   "metadata": {
    "collapsed": false
   },
   "id": "ad20431bd30a083a"
  },
  {
   "cell_type": "markdown",
   "source": [
    "- 위 변수들을 입력하고 각자의 성과지표를 method를 통해 계산하는 Class를 만드세요"
   ],
   "metadata": {
    "collapsed": false
   },
   "id": "95a28082414d444"
  },
  {
   "cell_type": "code",
   "outputs": [],
   "source": [
    "# write your code here"
   ],
   "metadata": {
    "collapsed": false
   },
   "id": "e14b198cc163d34"
  },
  {
   "cell_type": "markdown",
   "source": [
    "**Assignment 7.1**\n",
    "- 포트폴리오 A와 포트폴리오 B의 수익률과 위험이 다음과 같습니다\n",
    "\n",
    "\n",
    "|**Portfolio**|$r_P$|$\\beta_P$|$\\sigma_P$|$\\sigma^2(r_t - E(r_t))$|$\\sigma(\\epsilon_P)$|\n",
    "|:---:|:---:|:---:|:---:|:---:|:---:|\n",
    "|A|9%|1.3|0.2|0.25|0.3|\n",
    "|B|11%|1.5|0.5|0.09|0.1|\n",
    "\n",
    "무위험수익률이 3.5%, 시장포트폴리오 수익률 ($r_m$)이 5.5%일 때, 두 포트폴리오의 성과 지표들을 계산하세요"
   ],
   "metadata": {
    "collapsed": false
   },
   "id": "87257015a9fd2587"
  },
  {
   "cell_type": "code",
   "outputs": [],
   "source": [
    "# write your code here"
   ],
   "metadata": {
    "collapsed": false
   },
   "id": "9a7e7aedd143e888"
  }
 ],
 "metadata": {
  "kernelspec": {
   "display_name": "Python 3",
   "language": "python",
   "name": "python3"
  },
  "language_info": {
   "codemirror_mode": {
    "name": "ipython",
    "version": 2
   },
   "file_extension": ".py",
   "mimetype": "text/x-python",
   "name": "python",
   "nbconvert_exporter": "python",
   "pygments_lexer": "ipython2",
   "version": "2.7.6"
  }
 },
 "nbformat": 4,
 "nbformat_minor": 5
}
