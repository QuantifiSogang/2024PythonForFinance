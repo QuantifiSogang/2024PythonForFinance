{
 "cells": [
  {
   "cell_type": "markdown",
   "source": [
    "### Control Statement"
   ],
   "metadata": {
    "collapsed": false
   },
   "id": "43c2f23ab07cf2a1"
  },
  {
   "cell_type": "markdown",
   "source": [
    "#### Assignment 1.\n",
    "\n",
    "아래 사전 데이터는 2023년 1월 2일부터 1월 20일까지의 코스피 주가지수입니다"
   ],
   "metadata": {
    "collapsed": false
   },
   "id": "fc1686aef2310dfb"
  },
  {
   "cell_type": "code",
   "execution_count": null,
   "id": "initial_id",
   "metadata": {
    "collapsed": true
   },
   "outputs": [],
   "source": [
    "kospi = {'2023-01-02' : '2225.67', '2023-01-03' : '2218.68', '2023-01-04' : '2255.98', '2023-01-05' : '2264.65',\n",
    "         '2023-01-06' : '2289.97', '2023-01-09' : '2350.19', '2023-01-10' : '2351.31', '2023-01-11' : '2359.53',\n",
    "         '2023-01-12' : '2365.10', '2023-01-13' : '2386.09', '2023-01-16' : '2399.86', '2023-01-17' : '2379.39',\n",
    "         '2023-01-18' : '2368.32', '2023-01-19' : '2380.34', '2023-01-20' : '2395.26'}"
   ]
  },
  {
   "cell_type": "markdown",
   "source": [
    "1월 2일부터 1월 20일까지의 주가지수의 5일 이동평균 값을 구하고 Stack에 저장하세요 (단, Queue를 응용하여 이동평균을 구하도록 한다)"
   ],
   "metadata": {
    "collapsed": false
   },
   "id": "b7688f9c5cc5aedd"
  },
  {
   "cell_type": "code",
   "outputs": [],
   "source": [
    "# write your code here"
   ],
   "metadata": {
    "collapsed": false
   },
   "id": "6937fecc6cc1f54c"
  },
  {
   "cell_type": "markdown",
   "source": [
    "#### Assignment 2.\n",
    "- 당신은 자산운용사입니다. 당신은 현재 KOSPI index를 추종하는 Passive Management를 하고 있습니다. 50일간의 투자 성과가 다음과 같다고 할 때, 이익을 본 날은 총 몇일인지 계산하세요\n",
    "- for loop, while loop 둘 다 사용이 가능합니다"
   ],
   "metadata": {
    "collapsed": false
   },
   "id": "d86dab305e7be27d"
  },
  {
   "cell_type": "code",
   "outputs": [],
   "source": [
    "profit = [\n",
    "    2, 4, 3, 5, -3, 3, 3, 0, -3, 5, 1, -2, -2, 2, -4, 2, \n",
    "    -2, 0, 1, 0, 3, 3, -1, 4, -1, -3, -1, 3, -1, -3, 1, \n",
    "    -3, -2, -2, 2, 1, -2, -2, 5, 0, -4, -4, 4, 5, -2, 5, \n",
    "    -1, -2, 1, 1] # 투자 성과"
   ],
   "metadata": {
    "collapsed": false
   },
   "id": "c54776cd8efb46d7"
  }
 ],
 "metadata": {
  "kernelspec": {
   "display_name": "Python 3",
   "language": "python",
   "name": "python3"
  },
  "language_info": {
   "codemirror_mode": {
    "name": "ipython",
    "version": 2
   },
   "file_extension": ".py",
   "mimetype": "text/x-python",
   "name": "python",
   "nbconvert_exporter": "python",
   "pygments_lexer": "ipython2",
   "version": "2.7.6"
  }
 },
 "nbformat": 4,
 "nbformat_minor": 5
}
